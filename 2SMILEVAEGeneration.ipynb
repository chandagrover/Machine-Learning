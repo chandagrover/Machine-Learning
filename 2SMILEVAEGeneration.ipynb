{
  "nbformat": 4,
  "nbformat_minor": 0,
  "metadata": {
    "colab": {
      "name": "2SMILEVAEGeneration.ipynb",
      "provenance": [],
      "authorship_tag": "ABX9TyOrrJEfLZ4JvtIQlFuswXRc",
      "include_colab_link": true
    },
    "kernelspec": {
      "name": "python3",
      "display_name": "Python 3"
    },
    "accelerator": "GPU"
  },
  "cells": [
    {
      "cell_type": "markdown",
      "metadata": {
        "id": "view-in-github",
        "colab_type": "text"
      },
      "source": [
        "<a href=\"https://colab.research.google.com/github/chandagrover/Machine-Learning/blob/master/2SMILEVAEGeneration.ipynb\" target=\"_parent\"><img src=\"https://colab.research.google.com/assets/colab-badge.svg\" alt=\"Open In Colab\"/></a>"
      ]
    },
    {
      "cell_type": "markdown",
      "metadata": {
        "id": "-Tjhur_CPO6B",
        "colab_type": "text"
      },
      "source": [
        "# **Basic Installs and**"
      ]
    },
    {
      "cell_type": "code",
      "metadata": {
        "id": "8CpP20jyRc3N",
        "colab_type": "code",
        "colab": {
          "base_uri": "https://localhost:8080/",
          "height": 1000
        },
        "outputId": "934bd881-b998-48ba-ba1b-e30a1f3aaee0"
      },
      "source": [
        "!wget -c https://repo.continuum.io/miniconda/Miniconda3-py37_4.8.3-Linux-x86_64.sh\n",
        "!chmod +x Miniconda3-py37_4.8.3-Linux-x86_64.sh\n",
        "!time bash ./Miniconda3-py37_4.8.3-Linux-x86_64.sh -b -f -p /usr/local\n",
        "!time conda install -q -y -c conda-forge rdkit\n",
        "import sys\n",
        "sys.path.append('/usr/local/lib/python3.7/site-packages/')"
      ],
      "execution_count": 1,
      "outputs": [
        {
          "output_type": "stream",
          "text": [
            "--2020-09-21 08:43:41--  https://repo.continuum.io/miniconda/Miniconda3-py37_4.8.3-Linux-x86_64.sh\n",
            "Resolving repo.continuum.io (repo.continuum.io)... 104.18.200.79, 104.18.201.79, 2606:4700::6812:c84f, ...\n",
            "Connecting to repo.continuum.io (repo.continuum.io)|104.18.200.79|:443... connected.\n",
            "HTTP request sent, awaiting response... 301 Moved Permanently\n",
            "Location: https://repo.anaconda.com/miniconda/Miniconda3-py37_4.8.3-Linux-x86_64.sh [following]\n",
            "--2020-09-21 08:43:41--  https://repo.anaconda.com/miniconda/Miniconda3-py37_4.8.3-Linux-x86_64.sh\n",
            "Resolving repo.anaconda.com (repo.anaconda.com)... 104.16.130.3, 104.16.131.3, 2606:4700::6810:8203, ...\n",
            "Connecting to repo.anaconda.com (repo.anaconda.com)|104.16.130.3|:443... connected.\n",
            "HTTP request sent, awaiting response... 200 OK\n",
            "Length: 88867207 (85M) [application/x-sh]\n",
            "Saving to: ‘Miniconda3-py37_4.8.3-Linux-x86_64.sh’\n",
            "\n",
            "Miniconda3-py37_4.8 100%[===================>]  84.75M   203MB/s    in 0.4s    \n",
            "\n",
            "2020-09-21 08:43:41 (203 MB/s) - ‘Miniconda3-py37_4.8.3-Linux-x86_64.sh’ saved [88867207/88867207]\n",
            "\n",
            "PREFIX=/usr/local\n",
            "Unpacking payload ...\n",
            "Collecting package metadata (current_repodata.json): - \b\b\\ \b\b| \b\bdone\n",
            "Solving environment: - \b\b\\ \b\bdone\n",
            "\n",
            "## Package Plan ##\n",
            "\n",
            "  environment location: /usr/local\n",
            "\n",
            "  added / updated specs:\n",
            "    - _libgcc_mutex==0.1=main\n",
            "    - ca-certificates==2020.1.1=0\n",
            "    - certifi==2020.4.5.1=py37_0\n",
            "    - cffi==1.14.0=py37he30daa8_1\n",
            "    - chardet==3.0.4=py37_1003\n",
            "    - conda-package-handling==1.6.1=py37h7b6447c_0\n",
            "    - conda==4.8.3=py37_0\n",
            "    - cryptography==2.9.2=py37h1ba5d50_0\n",
            "    - idna==2.9=py_1\n",
            "    - ld_impl_linux-64==2.33.1=h53a641e_7\n",
            "    - libedit==3.1.20181209=hc058e9b_0\n",
            "    - libffi==3.3=he6710b0_1\n",
            "    - libgcc-ng==9.1.0=hdf63c60_0\n",
            "    - libstdcxx-ng==9.1.0=hdf63c60_0\n",
            "    - ncurses==6.2=he6710b0_1\n",
            "    - openssl==1.1.1g=h7b6447c_0\n",
            "    - pip==20.0.2=py37_3\n",
            "    - pycosat==0.6.3=py37h7b6447c_0\n",
            "    - pycparser==2.20=py_0\n",
            "    - pyopenssl==19.1.0=py37_0\n",
            "    - pysocks==1.7.1=py37_0\n",
            "    - python==3.7.7=hcff3b4d_5\n",
            "    - readline==8.0=h7b6447c_0\n",
            "    - requests==2.23.0=py37_0\n",
            "    - ruamel_yaml==0.15.87=py37h7b6447c_0\n",
            "    - setuptools==46.4.0=py37_0\n",
            "    - six==1.14.0=py37_0\n",
            "    - sqlite==3.31.1=h62c20be_1\n",
            "    - tk==8.6.8=hbc83047_0\n",
            "    - tqdm==4.46.0=py_0\n",
            "    - urllib3==1.25.8=py37_0\n",
            "    - wheel==0.34.2=py37_0\n",
            "    - xz==5.2.5=h7b6447c_0\n",
            "    - yaml==0.1.7=had09818_2\n",
            "    - zlib==1.2.11=h7b6447c_3\n",
            "\n",
            "\n",
            "The following NEW packages will be INSTALLED:\n",
            "\n",
            "  _libgcc_mutex      pkgs/main/linux-64::_libgcc_mutex-0.1-main\n",
            "  ca-certificates    pkgs/main/linux-64::ca-certificates-2020.1.1-0\n",
            "  certifi            pkgs/main/linux-64::certifi-2020.4.5.1-py37_0\n",
            "  cffi               pkgs/main/linux-64::cffi-1.14.0-py37he30daa8_1\n",
            "  chardet            pkgs/main/linux-64::chardet-3.0.4-py37_1003\n",
            "  conda              pkgs/main/linux-64::conda-4.8.3-py37_0\n",
            "  conda-package-han~ pkgs/main/linux-64::conda-package-handling-1.6.1-py37h7b6447c_0\n",
            "  cryptography       pkgs/main/linux-64::cryptography-2.9.2-py37h1ba5d50_0\n",
            "  idna               pkgs/main/noarch::idna-2.9-py_1\n",
            "  ld_impl_linux-64   pkgs/main/linux-64::ld_impl_linux-64-2.33.1-h53a641e_7\n",
            "  libedit            pkgs/main/linux-64::libedit-3.1.20181209-hc058e9b_0\n",
            "  libffi             pkgs/main/linux-64::libffi-3.3-he6710b0_1\n",
            "  libgcc-ng          pkgs/main/linux-64::libgcc-ng-9.1.0-hdf63c60_0\n",
            "  libstdcxx-ng       pkgs/main/linux-64::libstdcxx-ng-9.1.0-hdf63c60_0\n",
            "  ncurses            pkgs/main/linux-64::ncurses-6.2-he6710b0_1\n",
            "  openssl            pkgs/main/linux-64::openssl-1.1.1g-h7b6447c_0\n",
            "  pip                pkgs/main/linux-64::pip-20.0.2-py37_3\n",
            "  pycosat            pkgs/main/linux-64::pycosat-0.6.3-py37h7b6447c_0\n",
            "  pycparser          pkgs/main/noarch::pycparser-2.20-py_0\n",
            "  pyopenssl          pkgs/main/linux-64::pyopenssl-19.1.0-py37_0\n",
            "  pysocks            pkgs/main/linux-64::pysocks-1.7.1-py37_0\n",
            "  python             pkgs/main/linux-64::python-3.7.7-hcff3b4d_5\n",
            "  readline           pkgs/main/linux-64::readline-8.0-h7b6447c_0\n",
            "  requests           pkgs/main/linux-64::requests-2.23.0-py37_0\n",
            "  ruamel_yaml        pkgs/main/linux-64::ruamel_yaml-0.15.87-py37h7b6447c_0\n",
            "  setuptools         pkgs/main/linux-64::setuptools-46.4.0-py37_0\n",
            "  six                pkgs/main/linux-64::six-1.14.0-py37_0\n",
            "  sqlite             pkgs/main/linux-64::sqlite-3.31.1-h62c20be_1\n",
            "  tk                 pkgs/main/linux-64::tk-8.6.8-hbc83047_0\n",
            "  tqdm               pkgs/main/noarch::tqdm-4.46.0-py_0\n",
            "  urllib3            pkgs/main/linux-64::urllib3-1.25.8-py37_0\n",
            "  wheel              pkgs/main/linux-64::wheel-0.34.2-py37_0\n",
            "  xz                 pkgs/main/linux-64::xz-5.2.5-h7b6447c_0\n",
            "  yaml               pkgs/main/linux-64::yaml-0.1.7-had09818_2\n",
            "  zlib               pkgs/main/linux-64::zlib-1.2.11-h7b6447c_3\n",
            "\n",
            "\n",
            "Preparing transaction: / \b\b- \b\b\\ \b\b| \b\bdone\n",
            "Executing transaction: - \b\b\\ \b\b| \b\b/ \b\b- \b\b\\ \b\b| \b\b/ \b\b- \b\b\\ \b\b| \b\b/ \b\b- \b\b\\ \b\bdone\n",
            "installation finished.\n",
            "WARNING:\n",
            "    You currently have a PYTHONPATH environment variable set. This may cause\n",
            "    unexpected behavior when running the Python interpreter in Miniconda3.\n",
            "    For best results, please verify that your PYTHONPATH only points to\n",
            "    directories of packages that are compatible with the Python interpreter\n",
            "    in Miniconda3: /usr/local\n",
            "\n",
            "real\t0m32.098s\n",
            "user\t0m14.236s\n",
            "sys\t0m4.765s\n",
            "Collecting package metadata (current_repodata.json): ...working... done\n",
            "Solving environment: ...working... done\n",
            "\n",
            "## Package Plan ##\n",
            "\n",
            "  environment location: /usr/local\n",
            "\n",
            "  added / updated specs:\n",
            "    - rdkit\n",
            "\n",
            "\n",
            "The following packages will be downloaded:\n",
            "\n",
            "    package                    |            build\n",
            "    ---------------------------|-----------------\n",
            "    boost-1.74.0               |   py37h429e714_0         335 KB  conda-forge\n",
            "    boost-cpp-1.74.0           |       h9359b55_0        16.4 MB  conda-forge\n",
            "    bzip2-1.0.8                |       h516909a_3         398 KB  conda-forge\n",
            "    ca-certificates-2020.6.20  |       hecda079_0         145 KB  conda-forge\n",
            "    cairo-1.16.0               |    h3fc0475_1005         1.5 MB  conda-forge\n",
            "    certifi-2020.6.20          |   py37hc8dfbb8_0         151 KB  conda-forge\n",
            "    conda-4.8.5                |   py37hc8dfbb8_1         3.0 MB  conda-forge\n",
            "    fontconfig-2.13.1          |    h1056068_1002         365 KB  conda-forge\n",
            "    freetype-2.10.2            |       he06d7ca_0         905 KB  conda-forge\n",
            "    glib-2.65.0                |       h3eb4bd4_0         2.9 MB\n",
            "    icu-67.1                   |       he1b5a44_0        12.9 MB  conda-forge\n",
            "    jpeg-9d                    |       h516909a_0         266 KB  conda-forge\n",
            "    lcms2-2.11                 |       hbd6801e_0         431 KB  conda-forge\n",
            "    libblas-3.8.0              |      17_openblas          11 KB  conda-forge\n",
            "    libcblas-3.8.0             |      17_openblas          11 KB  conda-forge\n",
            "    libgfortran-ng-7.5.0       |      hdf63c60_16         1.3 MB  conda-forge\n",
            "    libiconv-1.16              |       h516909a_0         1.4 MB  conda-forge\n",
            "    liblapack-3.8.0            |      17_openblas          11 KB  conda-forge\n",
            "    libopenblas-0.3.10         |pthreads_hb3c22a3_4         7.8 MB  conda-forge\n",
            "    libpng-1.6.37              |       hed695b0_2         359 KB  conda-forge\n",
            "    libtiff-4.1.0              |       hc7e4089_6         668 KB  conda-forge\n",
            "    libuuid-2.32.1             |    h14c3975_1000          26 KB  conda-forge\n",
            "    libwebp-base-1.1.0         |       h516909a_3         845 KB  conda-forge\n",
            "    libxcb-1.13                |    h14c3975_1002         396 KB  conda-forge\n",
            "    libxml2-2.9.10             |       h68273f3_2         1.3 MB  conda-forge\n",
            "    lz4-c-1.9.2                |       he1b5a44_3         203 KB  conda-forge\n",
            "    numpy-1.19.1               |   py37h7ea13bd_2         5.2 MB  conda-forge\n",
            "    olefile-0.46               |             py_0          31 KB  conda-forge\n",
            "    openssl-1.1.1g             |       h516909a_1         2.1 MB  conda-forge\n",
            "    pandas-1.1.2               |   py37h3340039_0        10.5 MB  conda-forge\n",
            "    pcre-8.44                  |       he1b5a44_0         261 KB  conda-forge\n",
            "    pillow-7.2.0               |   py37h718be6c_1         675 KB  conda-forge\n",
            "    pixman-0.38.0              |    h516909a_1003         594 KB  conda-forge\n",
            "    pthread-stubs-0.4          |    h14c3975_1001           5 KB  conda-forge\n",
            "    pycairo-1.19.1             |   py37h01af8b0_3          77 KB  conda-forge\n",
            "    python-dateutil-2.8.1      |             py_0         220 KB  conda-forge\n",
            "    python_abi-3.7             |          1_cp37m           4 KB  conda-forge\n",
            "    pytz-2020.1                |     pyh9f0ad1d_0         227 KB  conda-forge\n",
            "    rdkit-2020.03.5            |   py37h0c252aa_2        24.6 MB  conda-forge\n",
            "    tk-8.6.10                  |       hed695b0_0         3.2 MB  conda-forge\n",
            "    xorg-kbproto-1.0.7         |    h14c3975_1002          26 KB  conda-forge\n",
            "    xorg-libice-1.0.10         |       h516909a_0          57 KB  conda-forge\n",
            "    xorg-libsm-1.2.3           |    h84519dc_1000          25 KB  conda-forge\n",
            "    xorg-libx11-1.6.12         |       h516909a_0         917 KB  conda-forge\n",
            "    xorg-libxau-1.0.9          |       h14c3975_0          13 KB  conda-forge\n",
            "    xorg-libxdmcp-1.1.3        |       h516909a_0          18 KB  conda-forge\n",
            "    xorg-libxext-1.3.4         |       h516909a_0          51 KB  conda-forge\n",
            "    xorg-libxrender-0.9.10     |    h516909a_1002          31 KB  conda-forge\n",
            "    xorg-renderproto-0.11.1    |    h14c3975_1002           8 KB  conda-forge\n",
            "    xorg-xextproto-7.3.0       |    h14c3975_1002          27 KB  conda-forge\n",
            "    xorg-xproto-7.0.31         |    h14c3975_1007          72 KB  conda-forge\n",
            "    zstd-1.4.5                 |       h6597ccf_2         712 KB  conda-forge\n",
            "    ------------------------------------------------------------\n",
            "                                           Total:       103.3 MB\n",
            "\n",
            "The following NEW packages will be INSTALLED:\n",
            "\n",
            "  boost              conda-forge/linux-64::boost-1.74.0-py37h429e714_0\n",
            "  boost-cpp          conda-forge/linux-64::boost-cpp-1.74.0-h9359b55_0\n",
            "  bzip2              conda-forge/linux-64::bzip2-1.0.8-h516909a_3\n",
            "  cairo              conda-forge/linux-64::cairo-1.16.0-h3fc0475_1005\n",
            "  fontconfig         conda-forge/linux-64::fontconfig-2.13.1-h1056068_1002\n",
            "  freetype           conda-forge/linux-64::freetype-2.10.2-he06d7ca_0\n",
            "  glib               pkgs/main/linux-64::glib-2.65.0-h3eb4bd4_0\n",
            "  icu                conda-forge/linux-64::icu-67.1-he1b5a44_0\n",
            "  jpeg               conda-forge/linux-64::jpeg-9d-h516909a_0\n",
            "  lcms2              conda-forge/linux-64::lcms2-2.11-hbd6801e_0\n",
            "  libblas            conda-forge/linux-64::libblas-3.8.0-17_openblas\n",
            "  libcblas           conda-forge/linux-64::libcblas-3.8.0-17_openblas\n",
            "  libgfortran-ng     conda-forge/linux-64::libgfortran-ng-7.5.0-hdf63c60_16\n",
            "  libiconv           conda-forge/linux-64::libiconv-1.16-h516909a_0\n",
            "  liblapack          conda-forge/linux-64::liblapack-3.8.0-17_openblas\n",
            "  libopenblas        conda-forge/linux-64::libopenblas-0.3.10-pthreads_hb3c22a3_4\n",
            "  libpng             conda-forge/linux-64::libpng-1.6.37-hed695b0_2\n",
            "  libtiff            conda-forge/linux-64::libtiff-4.1.0-hc7e4089_6\n",
            "  libuuid            conda-forge/linux-64::libuuid-2.32.1-h14c3975_1000\n",
            "  libwebp-base       conda-forge/linux-64::libwebp-base-1.1.0-h516909a_3\n",
            "  libxcb             conda-forge/linux-64::libxcb-1.13-h14c3975_1002\n",
            "  libxml2            conda-forge/linux-64::libxml2-2.9.10-h68273f3_2\n",
            "  lz4-c              conda-forge/linux-64::lz4-c-1.9.2-he1b5a44_3\n",
            "  numpy              conda-forge/linux-64::numpy-1.19.1-py37h7ea13bd_2\n",
            "  olefile            conda-forge/noarch::olefile-0.46-py_0\n",
            "  pandas             conda-forge/linux-64::pandas-1.1.2-py37h3340039_0\n",
            "  pcre               conda-forge/linux-64::pcre-8.44-he1b5a44_0\n",
            "  pillow             conda-forge/linux-64::pillow-7.2.0-py37h718be6c_1\n",
            "  pixman             conda-forge/linux-64::pixman-0.38.0-h516909a_1003\n",
            "  pthread-stubs      conda-forge/linux-64::pthread-stubs-0.4-h14c3975_1001\n",
            "  pycairo            conda-forge/linux-64::pycairo-1.19.1-py37h01af8b0_3\n",
            "  python-dateutil    conda-forge/noarch::python-dateutil-2.8.1-py_0\n",
            "  python_abi         conda-forge/linux-64::python_abi-3.7-1_cp37m\n",
            "  pytz               conda-forge/noarch::pytz-2020.1-pyh9f0ad1d_0\n",
            "  rdkit              conda-forge/linux-64::rdkit-2020.03.5-py37h0c252aa_2\n",
            "  xorg-kbproto       conda-forge/linux-64::xorg-kbproto-1.0.7-h14c3975_1002\n",
            "  xorg-libice        conda-forge/linux-64::xorg-libice-1.0.10-h516909a_0\n",
            "  xorg-libsm         conda-forge/linux-64::xorg-libsm-1.2.3-h84519dc_1000\n",
            "  xorg-libx11        conda-forge/linux-64::xorg-libx11-1.6.12-h516909a_0\n",
            "  xorg-libxau        conda-forge/linux-64::xorg-libxau-1.0.9-h14c3975_0\n",
            "  xorg-libxdmcp      conda-forge/linux-64::xorg-libxdmcp-1.1.3-h516909a_0\n",
            "  xorg-libxext       conda-forge/linux-64::xorg-libxext-1.3.4-h516909a_0\n",
            "  xorg-libxrender    conda-forge/linux-64::xorg-libxrender-0.9.10-h516909a_1002\n",
            "  xorg-renderproto   conda-forge/linux-64::xorg-renderproto-0.11.1-h14c3975_1002\n",
            "  xorg-xextproto     conda-forge/linux-64::xorg-xextproto-7.3.0-h14c3975_1002\n",
            "  xorg-xproto        conda-forge/linux-64::xorg-xproto-7.0.31-h14c3975_1007\n",
            "  zstd               conda-forge/linux-64::zstd-1.4.5-h6597ccf_2\n",
            "\n",
            "The following packages will be UPDATED:\n",
            "\n",
            "  ca-certificates     pkgs/main::ca-certificates-2020.1.1-0 --> conda-forge::ca-certificates-2020.6.20-hecda079_0\n",
            "  certifi              pkgs/main::certifi-2020.4.5.1-py37_0 --> conda-forge::certifi-2020.6.20-py37hc8dfbb8_0\n",
            "  conda                       pkgs/main::conda-4.8.3-py37_0 --> conda-forge::conda-4.8.5-py37hc8dfbb8_1\n",
            "  openssl              pkgs/main::openssl-1.1.1g-h7b6447c_0 --> conda-forge::openssl-1.1.1g-h516909a_1\n",
            "  tk                         pkgs/main::tk-8.6.8-hbc83047_0 --> conda-forge::tk-8.6.10-hed695b0_0\n",
            "\n",
            "\n",
            "Preparing transaction: ...working... done\n",
            "Verifying transaction: ...working... done\n",
            "Executing transaction: ...working... done\n",
            "\n",
            "real\t0m46.868s\n",
            "user\t0m40.279s\n",
            "sys\t0m4.825s\n"
          ],
          "name": "stdout"
        }
      ]
    },
    {
      "cell_type": "code",
      "metadata": {
        "id": "z9VuZNocSNTN",
        "colab_type": "code",
        "colab": {}
      },
      "source": [
        "# General Imports\n",
        "import os\n",
        "import pandas as pd\n",
        "import numpy as np\n",
        "import sklearn\n",
        "from rdkit import Chem\n",
        "from rdkit.Chem import Draw, Descriptors\n",
        "from matplotlib import pyplot as plt\n",
        "import re"
      ],
      "execution_count": 2,
      "outputs": []
    },
    {
      "cell_type": "markdown",
      "metadata": {
        "id": "F010WmAsa1-D",
        "colab_type": "text"
      },
      "source": [
        "# **SMILES Data Fetching From Zinc Database**"
      ]
    },
    {
      "cell_type": "code",
      "metadata": {
        "id": "vMiCua6zSNb5",
        "colab_type": "code",
        "colab": {
          "base_uri": "https://localhost:8080/",
          "height": 119
        },
        "outputId": "31f8579a-dfa5-4d70-a04e-8a17fbf39920"
      },
      "source": [
        "WEIGHTS_FOLDER = 'sample_data/weights/'\n",
        "smifile = \"sample_data/AAAA.smi\"\n",
        "data = pd.read_csv(smifile, delimiter = \" \", names = [\"smiles\",\"zinc_id\"])\n",
        "NUM_SMILES = len(data)\n",
        "data[\"smiles\"].head()\n"
      ],
      "execution_count": 3,
      "outputs": [
        {
          "output_type": "execute_result",
          "data": {
            "text/plain": [
              "0                                     smiles\n",
              "1                 Cn1cnc2c1c(=O)n(C)c(=O)n2C\n",
              "2    O=C(O)[C@@H]1/C(=C/CO)O[C@@H]2CC(=O)N21\n",
              "3                   Cn1c2nncnc2c(=O)n(C)c1=O\n",
              "4                 Cn1cnc2c1c(=O)[nH]c(=O)n2C\n",
              "Name: smiles, dtype: object"
            ]
          },
          "metadata": {
            "tags": []
          },
          "execution_count": 3
        }
      ]
    },
    {
      "cell_type": "code",
      "metadata": {
        "id": "Jo88h-HPSNis",
        "colab_type": "code",
        "colab": {
          "base_uri": "https://localhost:8080/",
          "height": 68
        },
        "outputId": "5ca44dc4-f72b-4309-bc09-9f20b83c214a"
      },
      "source": [
        "from sklearn.model_selection import train_test_split\n",
        "smiles_train, smiles_test = train_test_split(data[\"smiles\"])\n",
        "print(smiles_train.shape)\n",
        "print(smiles_test.shape)\n",
        "print(NUM_SMILES)"
      ],
      "execution_count": 4,
      "outputs": [
        {
          "output_type": "stream",
          "text": [
            "(2844,)\n",
            "(948,)\n",
            "3792\n"
          ],
          "name": "stdout"
        }
      ]
    },
    {
      "cell_type": "code",
      "metadata": {
        "id": "Kdr17SCDSNo-",
        "colab_type": "code",
        "colab": {
          "base_uri": "https://localhost:8080/",
          "height": 88
        },
        "outputId": "6561be94-fc7a-4ba6-b7bb-338dbfdeaf00"
      },
      "source": [
        "charset = set(\"\".join(list(data.smiles))+\"!E\")\n",
        "char_to_int = dict((c,i) for i,c in enumerate(charset))\n",
        "int_to_char = dict((i,c) for i,c in enumerate(charset))\n",
        "# embed = max([len(smile) for smile in data.smiles]) + 5\n",
        "embed = max([len(smile) for smile in data.smiles])+2\n",
        "print(char_to_int)\n",
        "print(len(charset), embed)\n",
        "print(embed)"
      ],
      "execution_count": 5,
      "outputs": [
        {
          "output_type": "stream",
          "text": [
            "{'6': 0, '=': 1, 'F': 2, 'N': 3, '#': 4, 'm': 5, '[': 6, '!': 7, 'l': 8, '1': 9, ')': 10, 'o': 11, 'H': 12, '-': 13, '(': 14, '5': 15, 'B': 16, 'S': 17, 'P': 18, '+': 19, '/': 20, '3': 21, 'C': 22, '2': 23, 'c': 24, '4': 25, '\\\\': 26, ']': 27, 's': 28, 'n': 29, 'e': 30, 'i': 31, 'O': 32, '@': 33, 'E': 34}\n",
            "35 58\n",
            "58\n"
          ],
          "name": "stdout"
        }
      ]
    },
    {
      "cell_type": "code",
      "metadata": {
        "id": "6fltvqcWSNrm",
        "colab_type": "code",
        "colab": {
          "base_uri": "https://localhost:8080/",
          "height": 85
        },
        "outputId": "028b12ca-1c9a-40b1-87c5-427854af46b0"
      },
      "source": [
        "print(type(smiles_train))\n",
        "print(smiles_train.values[0])\n",
        "print(len(smiles_train.values[0]))\n",
        "print(type(smiles_train.values[0]))"
      ],
      "execution_count": 6,
      "outputs": [
        {
          "output_type": "stream",
          "text": [
            "<class 'pandas.core.series.Series'>\n",
            "C[C@H]1NC2(COC2)CNC1=O\n",
            "22\n",
            "<class 'str'>\n"
          ],
          "name": "stdout"
        }
      ]
    },
    {
      "cell_type": "code",
      "metadata": {
        "id": "H3ZJWr-pSNye",
        "colab_type": "code",
        "colab": {
          "base_uri": "https://localhost:8080/",
          "height": 167
        },
        "outputId": "397b66ff-92a3-4bd6-e811-c8a7cb799d6d"
      },
      "source": [
        "from rdkit.Chem.Draw import IPythonConsole\n",
        "m = Chem.MolFromSmiles(smiles_train.values[0])\n",
        "m"
      ],
      "execution_count": 7,
      "outputs": [
        {
          "output_type": "execute_result",
          "data": {
            "image/png": "[encoded data removed]",
            "text/plain": [
              "<rdkit.Chem.rdchem.Mol at 0x7fb324965300>"
            ]
          },
          "metadata": {
            "tags": []
          },
          "execution_count": 7
        }
      ]
    },
    {
      "cell_type": "code",
      "metadata": {
        "id": "TTJbCRMXSNwb",
        "colab_type": "code",
        "colab": {
          "base_uri": "https://localhost:8080/",
          "height": 51
        },
        "outputId": "d5785a18-818c-4d9f-d15e-1425b96b0a46"
      },
      "source": [
        "def vectorize(smiles):\n",
        "        onehot_flatList=[[]]\n",
        "        one_hot =  np.zeros((smiles.shape[0], embed , len(charset)),dtype=np.int8)\n",
        "        print(one_hot.shape)\n",
        "        for i,smile in enumerate(smiles):\n",
        "            #encode the startchar\n",
        "            one_hot[i,0,char_to_int[\"!\"]] = 1\n",
        "            #encode the rest of the chars\n",
        "            for j,c in enumerate(smile):\n",
        "                one_hot[i,j+1,char_to_int[c]] = 1\n",
        "            #Encode endchar\n",
        "            one_hot[i,len(smile)+1:,char_to_int[\"E\"]] = 1\n",
        "        #Return two, one for input and the other for output\n",
        "        return one_hot[:,:,:]\n",
        "\n",
        "X_train= vectorize(smiles_train.values)\n",
        "X_test = vectorize(smiles_test.values)"
      ],
      "execution_count": 8,
      "outputs": [
        {
          "output_type": "stream",
          "text": [
            "(2844, 58, 35)\n",
            "(948, 58, 35)\n"
          ],
          "name": "stdout"
        }
      ]
    },
    {
      "cell_type": "code",
      "metadata": {
        "id": "O7Odm7JGSNnK",
        "colab_type": "code",
        "colab": {
          "base_uri": "https://localhost:8080/",
          "height": 85
        },
        "outputId": "10384414-5490-4564-b642-dfe83b69a841"
      },
      "source": [
        "# Going back from vectorized form back to a readable string\n",
        "strr=\"\".join([int_to_char[idx] for idx in np.argmax(X_train[0,:,:], axis=1)])\n",
        "print(strr)\n",
        "print(len(strr))\n",
        "\n",
        "# String After Tructation of extra symbols\n",
        "\n",
        "line = re.sub('[!E]', '', strr)\n",
        "print(len(line))\n",
        "print(line)"
      ],
      "execution_count": 9,
      "outputs": [
        {
          "output_type": "stream",
          "text": [
            "!C[C@H]1NC2(COC2)CNC1=OEEEEEEEEEEEEEEEEEEEEEEEEEEEEEEEEEEE\n",
            "58\n",
            "22\n",
            "C[C@H]1NC2(COC2)CNC1=O\n"
          ],
          "name": "stdout"
        }
      ]
    },
    {
      "cell_type": "code",
      "metadata": {
        "id": "xKmoYbVRSNl6",
        "colab_type": "code",
        "colab": {
          "base_uri": "https://localhost:8080/",
          "height": 68
        },
        "outputId": "ccdb1292-28eb-4edb-f9c9-8a0c26caeafb"
      },
      "source": [
        "mol_size_x=X_train.shape[1]\n",
        "mol_size_y=X_train.shape[2]\n",
        "orig_dim = mol_size_x * mol_size_y\n",
        "print(mol_size_x)\n",
        "print(mol_size_y)\n",
        "print(orig_dim)"
      ],
      "execution_count": 10,
      "outputs": [
        {
          "output_type": "stream",
          "text": [
            "58\n",
            "35\n",
            "2030\n"
          ],
          "name": "stdout"
        }
      ]
    },
    {
      "cell_type": "code",
      "metadata": {
        "id": "6sgG1wMgSNgI",
        "colab_type": "code",
        "colab": {
          "base_uri": "https://localhost:8080/",
          "height": 68
        },
        "outputId": "830c97f2-240a-40f3-c70a-ee63863e07de"
      },
      "source": [
        "X_train = np.reshape(X_train, [-1, orig_dim])\n",
        "X_test = np.reshape(X_test, [-1, orig_dim])\n",
        "print(type(X_train))\n",
        "print(X_train.shape)\n",
        "print(X_train.shape[1])"
      ],
      "execution_count": 11,
      "outputs": [
        {
          "output_type": "stream",
          "text": [
            "<class 'numpy.ndarray'>\n",
            "(2844, 2030)\n",
            "2030\n"
          ],
          "name": "stdout"
        }
      ]
    },
    {
      "cell_type": "markdown",
      "metadata": {
        "id": "0rlT60U0aquM",
        "colab_type": "text"
      },
      "source": [
        "# **Building VAE Model Architecture**"
      ]
    },
    {
      "cell_type": "code",
      "metadata": {
        "id": "60soZM4MSNeG",
        "colab_type": "code",
        "colab": {}
      },
      "source": [
        "from keras.layers import Input, Conv2D, Flatten, Dense, Conv2DTranspose, Reshape, Lambda, Activation, BatchNormalization, LeakyReLU, Dropout\n",
        "from keras.models import Model\n",
        "from keras import backend as K\n",
        "from keras.optimizers import Adam\n",
        "from keras.callbacks import ModelCheckpoint \n",
        "from keras.utils import plot_model\n",
        "from keras.losses import mse, binary_crossentropy"
      ],
      "execution_count": 12,
      "outputs": []
    },
    {
      "cell_type": "code",
      "metadata": {
        "id": "SNCh2ujGTnNi",
        "colab_type": "code",
        "colab": {}
      },
      "source": [
        "# Network Parameters\n",
        "INPUT_DIM=(orig_dim,)   # SMILES dimension\n",
        "intermediate_dim=512\n",
        "BATCH_SIZE=5\n",
        "Z_DIM=20 # Dimension of the latent vector (z)\n",
        "epochs=50"
      ],
      "execution_count": 13,
      "outputs": []
    },
    {
      "cell_type": "markdown",
      "metadata": {
        "id": "0M2Dv8BTaWls",
        "colab_type": "text"
      },
      "source": [
        "### **Building the Encoder**"
      ]
    },
    {
      "cell_type": "code",
      "metadata": {
        "id": "2P9sF6tuVBzy",
        "colab_type": "code",
        "colab": {
          "base_uri": "https://localhost:8080/",
          "height": 745
        },
        "outputId": "35a5e533-e4df-4420-a90f-bfac6d3a23f8"
      },
      "source": [
        "# ENCODER\n",
        "def build_vae_encoder(input_dim, output_dim):\n",
        "  \n",
        "  # Clear tensorflow session to reset layer\n",
        "  global K\n",
        "  K.clear_session()\n",
        "  \n",
        "  # Define model input\n",
        "  encoder_input = Input(shape = input_dim, name = 'encoder_input')\n",
        "  \n",
        "  #Intermediate layer\n",
        "  x = Dense(intermediate_dim,activation='relu')(encoder_input)\n",
        " \n",
        "  #Model Output\n",
        "  mean_mu = Dense(output_dim, name = 'mu')(x)\n",
        "  log_var = Dense(output_dim, name = 'log_var')(x)\n",
        "\n",
        "  # Defining a function for sampling\n",
        "  def sampling(args):\n",
        "    mean_mu, log_var = args\n",
        "    epsilon = K.random_normal(shape=K.shape(mean_mu), mean=0., stddev=1.) \n",
        "    return mean_mu + K.exp(log_var/2)*epsilon   \n",
        "  \n",
        "  # Using a Keras Lambda Layer to include the sampling function as a layer \n",
        "  # in the model\n",
        "  encoder_output = Lambda(sampling, output_shape=(Z_DIM,), name='encoder_output')([mean_mu, log_var])\n",
        "\n",
        "  return encoder_input, encoder_output, mean_mu, log_var, Model(encoder_input, encoder_output)\n",
        "\n",
        "vae_encoder_input, vae_encoder_output,  mean_mu, log_var, vae_encoder  = build_vae_encoder(input_dim = INPUT_DIM,\n",
        "                                                                                            output_dim = Z_DIM)\n",
        "vae_encoder.summary()\n",
        "# Plot the Encoder Model\n",
        "plot_model(vae_encoder, to_file='smilesvae_encoder.png', show_shapes=True, show_layer_names=True, expand_nested=True)"
      ],
      "execution_count": 14,
      "outputs": [
        {
          "output_type": "stream",
          "text": [
            "Model: \"functional_1\"\n",
            "__________________________________________________________________________________________________\n",
            "Layer (type)                    Output Shape         Param #     Connected to                     \n",
            "==================================================================================================\n",
            "encoder_input (InputLayer)      [(None, 2030)]       0                                            \n",
            "__________________________________________________________________________________________________\n",
            "dense (Dense)                   (None, 512)          1039872     encoder_input[0][0]              \n",
            "__________________________________________________________________________________________________\n",
            "mu (Dense)                      (None, 20)           10260       dense[0][0]                      \n",
            "__________________________________________________________________________________________________\n",
            "log_var (Dense)                 (None, 20)           10260       dense[0][0]                      \n",
            "__________________________________________________________________________________________________\n",
            "encoder_output (Lambda)         (None, 20)           0           mu[0][0]                         \n",
            "                                                                 log_var[0][0]                    \n",
            "==================================================================================================\n",
            "Total params: 1,060,392\n",
            "Trainable params: 1,060,392\n",
            "Non-trainable params: 0\n",
            "__________________________________________________________________________________________________\n"
          ],
          "name": "stdout"
        },
        {
          "output_type": "execute_result",
          "data": {
            "image/png": "[encoded data removed]",
            "text/plain": [
              "<IPython.core.display.Image object>"
            ]
          },
          "metadata": {
            "tags": []
          },
          "execution_count": 14
        }
      ]
    },
    {
      "cell_type": "code",
      "metadata": {
        "id": "OVOnCYU6Hw5P",
        "colab_type": "code",
        "colab": {
          "base_uri": "https://localhost:8080/",
          "height": 68
        },
        "outputId": "4c985988-80cc-464f-d84e-b55071fd439e"
      },
      "source": [
        "print(type(vae_encoder_input))\n",
        "print(type(vae_encoder_output))\n",
        "print(type(vae_encoder))\n"
      ],
      "execution_count": 15,
      "outputs": [
        {
          "output_type": "stream",
          "text": [
            "<class 'tensorflow.python.framework.ops.Tensor'>\n",
            "<class 'tensorflow.python.framework.ops.Tensor'>\n",
            "<class 'tensorflow.python.keras.engine.functional.Functional'>\n"
          ],
          "name": "stdout"
        }
      ]
    },
    {
      "cell_type": "markdown",
      "metadata": {
        "id": "L_ZPu9AuaShh",
        "colab_type": "text"
      },
      "source": [
        "\n",
        "### **Building the Decoder**"
      ]
    },
    {
      "cell_type": "code",
      "metadata": {
        "id": "P-QrxZgqVCCI",
        "colab_type": "code",
        "colab": {
          "base_uri": "https://localhost:8080/",
          "height": 550
        },
        "outputId": "d717c90f-98f2-4cb4-c6f1-123127221794"
      },
      "source": [
        "\n",
        "# Decoder\n",
        "def build_decoder(input_dim, output_dim):\n",
        "\n",
        "  # Define model input\n",
        "  decoder_input = Input(shape = (input_dim,) , name = 'decoder_input')\n",
        "  \n",
        "  #Intermediate Layer\n",
        "  x = Dense(intermediate_dim, activation='relu')(decoder_input)\n",
        "\n",
        "    # Define model output\n",
        "  decoder_output = Dense(output_dim, activation='sigmoid')(x)\n",
        "\n",
        "\n",
        "  return decoder_input, decoder_output, Model(decoder_input, decoder_output)\n",
        "\n",
        "\n",
        "vae_decoder_input, vae_decoder_output, vae_decoder = build_decoder(input_dim = Z_DIM, output_dim=orig_dim)\n",
        "vae_decoder.summary()\n",
        "# Plot the Encoder Model\n",
        "plot_model(vae_decoder, to_file='smilesvae_decoder.png', show_shapes=True, show_layer_names=True, expand_nested=True)"
      ],
      "execution_count": 16,
      "outputs": [
        {
          "output_type": "stream",
          "text": [
            "Model: \"functional_3\"\n",
            "_________________________________________________________________\n",
            "Layer (type)                 Output Shape              Param #   \n",
            "=================================================================\n",
            "decoder_input (InputLayer)   [(None, 20)]              0         \n",
            "_________________________________________________________________\n",
            "dense_1 (Dense)              (None, 512)               10752     \n",
            "_________________________________________________________________\n",
            "dense_2 (Dense)              (None, 2030)              1041390   \n",
            "=================================================================\n",
            "Total params: 1,052,142\n",
            "Trainable params: 1,052,142\n",
            "Non-trainable params: 0\n",
            "_________________________________________________________________\n"
          ],
          "name": "stdout"
        },
        {
          "output_type": "execute_result",
          "data": {
            "image/png": "[encoded data removed]",
            "text/plain": [
              "<IPython.core.display.Image object>"
            ]
          },
          "metadata": {
            "tags": []
          },
          "execution_count": 16
        }
      ]
    },
    {
      "cell_type": "markdown",
      "metadata": {
        "id": "_fvFqp4GaeWS",
        "colab_type": "text"
      },
      "source": [
        "### **Attaching Decoder to the Encoder**"
      ]
    },
    {
      "cell_type": "code",
      "metadata": {
        "id": "NOgnA8RSVCEo",
        "colab_type": "code",
        "colab": {
          "base_uri": "https://localhost:8080/",
          "height": 780
        },
        "outputId": "8e917fea-916b-4f50-d1cd-105bc9d6364c"
      },
      "source": [
        "# The input to the model will be the smile string fed to the encoder.\n",
        "vae_input = vae_encoder_input\n",
        "\n",
        "# Output will be the output of the decoder. The term - decoder(encoder_output) \n",
        "# combines the model by passing the encoder output to the input of the decoder.\n",
        "vae_output = vae_decoder(vae_encoder_output)\n",
        "\n",
        "# Input to the combined model will be the input to the encoder.\n",
        "# Output of the combined model will be the output of the decoder.\n",
        "vae_model = Model(vae_input, vae_output)\n",
        "# Plot the Encoder Model\n",
        "plot_model(vae_model, to_file='smilesvae_model.png', show_shapes=True, show_layer_names=True, expand_nested=True)"
      ],
      "execution_count": 17,
      "outputs": [
        {
          "output_type": "execute_result",
          "data": {
            "image/png": "[encoded data removed]",
            "text/plain": [
              "<IPython.core.display.Image object>"
            ]
          },
          "metadata": {
            "tags": []
          },
          "execution_count": 17
        }
      ]
    },
    {
      "cell_type": "markdown",
      "metadata": {
        "id": "uxiTbVnlbIDa",
        "colab_type": "text"
      },
      "source": [
        "### **Compiling and Training**"
      ]
    },
    {
      "cell_type": "code",
      "metadata": {
        "id": "42szwpLpNTzP",
        "colab_type": "code",
        "colab": {
          "base_uri": "https://localhost:8080/",
          "height": 1000
        },
        "outputId": "b1e433e9-73af-49b8-f41c-7e66c96b1172"
      },
      "source": [
        "if __name__ == '__main__':\n",
        "    models=(vae_encoder, vae_decoder)\n",
        "    data=(X_test,X_test)\n",
        "\n",
        "    reconstruction_loss = binary_crossentropy(vae_input, vae_output)\n",
        "    reconstruction_loss = reconstruction_loss * orig_dim\n",
        "    \n",
        "    kl_loss = 1 + log_var - K.square(mean_mu) - K.exp(log_var)\n",
        "    kl_loss = K.sum(kl_loss, axis=-1)    \n",
        "    kl_loss = kl_loss * -0.5\n",
        "    \n",
        "    vae_loss = K.mean(reconstruction_loss + kl_loss)\n",
        "    vae_model.add_loss(vae_loss)\n",
        "    vae_model.compile(optimizer='adam')\n",
        "    \n",
        "    \n",
        "    \n",
        "#     Train the Variational AutoEncoder\n",
        "    vae_model.fit(X_train, epochs=epochs, batch_size=BATCH_SIZE, validation_data=(X_test, None))\n",
        "    vae_model.save_weights('vae_smiles.h5')\n",
        "    \n",
        "    "
      ],
      "execution_count": 18,
      "outputs": [
        {
          "output_type": "stream",
          "text": [
            "Epoch 1/50\n",
            "569/569 [==============================] - 3s 6ms/step - loss: 130.4784 - val_loss: 89.5785\n",
            "Epoch 2/50\n",
            "569/569 [==============================] - 3s 5ms/step - loss: 80.2456 - val_loss: 75.7372\n",
            "Epoch 3/50\n",
            "569/569 [==============================] - 3s 5ms/step - loss: 70.4209 - val_loss: 69.2195\n",
            "Epoch 4/50\n",
            "569/569 [==============================] - 3s 6ms/step - loss: 64.9165 - val_loss: 65.6237\n",
            "Epoch 5/50\n",
            "569/569 [==============================] - 3s 6ms/step - loss: 61.3248 - val_loss: 63.6396\n",
            "Epoch 6/50\n",
            "569/569 [==============================] - 3s 5ms/step - loss: 58.6611 - val_loss: 61.4037\n",
            "Epoch 7/50\n",
            "569/569 [==============================] - 3s 5ms/step - loss: 56.8514 - val_loss: 59.9326\n",
            "Epoch 8/50\n",
            "569/569 [==============================] - 3s 5ms/step - loss: 54.8130 - val_loss: 59.1201\n",
            "Epoch 9/50\n",
            "569/569 [==============================] - 3s 5ms/step - loss: 53.2334 - val_loss: 58.0391\n",
            "Epoch 10/50\n",
            "569/569 [==============================] - 3s 5ms/step - loss: 51.9701 - val_loss: 56.9549\n",
            "Epoch 11/50\n",
            "569/569 [==============================] - 3s 5ms/step - loss: 50.6816 - val_loss: 56.7994\n",
            "Epoch 12/50\n",
            "569/569 [==============================] - 3s 5ms/step - loss: 49.5073 - val_loss: 55.7655\n",
            "Epoch 13/50\n",
            "569/569 [==============================] - 3s 5ms/step - loss: 48.7049 - val_loss: 55.7619\n",
            "Epoch 14/50\n",
            "569/569 [==============================] - 3s 5ms/step - loss: 47.4861 - val_loss: 55.2256\n",
            "Epoch 15/50\n",
            "569/569 [==============================] - 3s 5ms/step - loss: 46.7378 - val_loss: 54.9473\n",
            "Epoch 16/50\n",
            "569/569 [==============================] - 3s 5ms/step - loss: 46.0155 - val_loss: 55.0147\n",
            "Epoch 17/50\n",
            "569/569 [==============================] - 3s 5ms/step - loss: 45.2358 - val_loss: 54.9392\n",
            "Epoch 18/50\n",
            "569/569 [==============================] - 3s 5ms/step - loss: 44.7175 - val_loss: 54.2442\n",
            "Epoch 19/50\n",
            "569/569 [==============================] - 3s 5ms/step - loss: 44.0087 - val_loss: 54.5669\n",
            "Epoch 20/50\n",
            "569/569 [==============================] - 3s 5ms/step - loss: 43.3803 - val_loss: 53.9011\n",
            "Epoch 21/50\n",
            "569/569 [==============================] - 3s 5ms/step - loss: 43.1162 - val_loss: 53.7353\n",
            "Epoch 22/50\n",
            "569/569 [==============================] - 3s 5ms/step - loss: 42.5208 - val_loss: 53.5010\n",
            "Epoch 23/50\n",
            "569/569 [==============================] - 3s 5ms/step - loss: 42.0317 - val_loss: 53.9910\n",
            "Epoch 24/50\n",
            "569/569 [==============================] - 3s 5ms/step - loss: 41.5116 - val_loss: 53.8755\n",
            "Epoch 25/50\n",
            "569/569 [==============================] - 3s 5ms/step - loss: 41.1195 - val_loss: 54.0856\n",
            "Epoch 26/50\n",
            "569/569 [==============================] - 3s 5ms/step - loss: 40.9792 - val_loss: 53.5120\n",
            "Epoch 27/50\n",
            "569/569 [==============================] - 3s 5ms/step - loss: 40.6065 - val_loss: 53.9608\n",
            "Epoch 28/50\n",
            "569/569 [==============================] - 3s 5ms/step - loss: 40.2488 - val_loss: 53.5412\n",
            "Epoch 29/50\n",
            "569/569 [==============================] - 3s 5ms/step - loss: 39.8438 - val_loss: 53.9991\n",
            "Epoch 30/50\n",
            "569/569 [==============================] - 3s 5ms/step - loss: 39.8274 - val_loss: 54.1965\n",
            "Epoch 31/50\n",
            "569/569 [==============================] - 3s 5ms/step - loss: 39.4951 - val_loss: 53.6437\n",
            "Epoch 32/50\n",
            "569/569 [==============================] - 3s 5ms/step - loss: 39.3537 - val_loss: 53.9622\n",
            "Epoch 33/50\n",
            "569/569 [==============================] - 3s 5ms/step - loss: 39.0953 - val_loss: 54.2923\n",
            "Epoch 34/50\n",
            "569/569 [==============================] - 3s 5ms/step - loss: 38.6324 - val_loss: 54.9768\n",
            "Epoch 35/50\n",
            "569/569 [==============================] - 3s 5ms/step - loss: 38.4220 - val_loss: 54.3039\n",
            "Epoch 36/50\n",
            "569/569 [==============================] - 3s 5ms/step - loss: 38.5733 - val_loss: 55.1330\n",
            "Epoch 37/50\n",
            "569/569 [==============================] - 3s 5ms/step - loss: 38.2793 - val_loss: 54.1940\n",
            "Epoch 38/50\n",
            "569/569 [==============================] - 3s 5ms/step - loss: 37.9162 - val_loss: 54.9755\n",
            "Epoch 39/50\n",
            "569/569 [==============================] - 3s 5ms/step - loss: 37.7092 - val_loss: 54.8335\n",
            "Epoch 40/50\n",
            "569/569 [==============================] - 3s 5ms/step - loss: 37.6797 - val_loss: 55.4003\n",
            "Epoch 41/50\n",
            "569/569 [==============================] - 3s 5ms/step - loss: 37.5819 - val_loss: 55.0453\n",
            "Epoch 42/50\n",
            "569/569 [==============================] - 3s 5ms/step - loss: 37.4139 - val_loss: 55.3036\n",
            "Epoch 43/50\n",
            "569/569 [==============================] - 3s 5ms/step - loss: 37.2984 - val_loss: 54.9899\n",
            "Epoch 44/50\n",
            "569/569 [==============================] - 3s 5ms/step - loss: 37.0716 - val_loss: 55.8633\n",
            "Epoch 45/50\n",
            "569/569 [==============================] - 3s 5ms/step - loss: 36.9040 - val_loss: 55.1476\n",
            "Epoch 46/50\n",
            "569/569 [==============================] - 3s 5ms/step - loss: 36.7808 - val_loss: 55.5927\n",
            "Epoch 47/50\n",
            "569/569 [==============================] - 3s 5ms/step - loss: 36.6200 - val_loss: 55.8098\n",
            "Epoch 48/50\n",
            "569/569 [==============================] - 3s 5ms/step - loss: 36.4497 - val_loss: 55.6003\n",
            "Epoch 49/50\n",
            "569/569 [==============================] - 3s 5ms/step - loss: 36.4039 - val_loss: 55.2331\n",
            "Epoch 50/50\n",
            "569/569 [==============================] - 3s 6ms/step - loss: 36.4952 - val_loss: 56.6583\n"
          ],
          "name": "stdout"
        }
      ]
    },
    {
      "cell_type": "code",
      "metadata": {
        "id": "XrcGoTCCVCLB",
        "colab_type": "code",
        "colab": {
          "base_uri": "https://localhost:8080/",
          "height": 34
        },
        "outputId": "54d4490c-cf1a-4222-f87b-0cf5baf41e24"
      },
      "source": [
        "reconst_Xtest = vae_model.predict(X_test, batch_size=BATCH_SIZE)\n",
        "print(type(reconst_Xtest))"
      ],
      "execution_count": 19,
      "outputs": [
        {
          "output_type": "stream",
          "text": [
            "<class 'numpy.ndarray'>\n"
          ],
          "name": "stdout"
        }
      ]
    },
    {
      "cell_type": "markdown",
      "metadata": {
        "id": "aKSu7r5gylRH",
        "colab_type": "text"
      },
      "source": [
        "### **Reconstructing Test Data Molecules**"
      ]
    },
    {
      "cell_type": "code",
      "metadata": {
        "id": "lPwn3fobGpOL",
        "colab_type": "code",
        "colab": {
          "base_uri": "https://localhost:8080/",
          "height": 102
        },
        "outputId": "9e738a9d-2d0e-4335-a3e0-7a11f345376e"
      },
      "source": [
        "reconst_Xtest = vae_model.predict(X_test, batch_size=BATCH_SIZE)\n",
        "print(type(reconst_Xtest))\n",
        "print(reconst_Xtest.shape)\n",
        "print(X_test.shape)\n",
        "reconst_test = reconst_Xtest.reshape(len(X_test), mol_size_x,mol_size_y)\n",
        "test=X_test.reshape(len(X_test), mol_size_x, mol_size_y)\n",
        "print(reconst_test.shape)\n",
        "print(test.shape)"
      ],
      "execution_count": 20,
      "outputs": [
        {
          "output_type": "stream",
          "text": [
            "<class 'numpy.ndarray'>\n",
            "(948, 2030)\n",
            "(948, 2030)\n",
            "(948, 58, 35)\n",
            "(948, 58, 35)\n"
          ],
          "name": "stdout"
        }
      ]
    },
    {
      "cell_type": "code",
      "metadata": {
        "id": "bPPpGJmWv2A_",
        "colab_type": "code",
        "colab": {
          "base_uri": "https://localhost:8080/",
          "height": 235
        },
        "outputId": "42138a1c-983e-4c3b-d60d-0adc4b45b8a4"
      },
      "source": [
        "# Going back from vectorized form back to a readable string\n",
        "idx=15\n",
        "temp_str=\"\".join([int_to_char[idx] for idx in np.argmax(test[idx,:,:], axis=1)])\n",
        "print(temp_str)\n",
        "print(len(temp_str))\n",
        "temp_str = re.sub('!|E',\"\", temp_str)\n",
        "print(temp_str)\n",
        "print(len(temp_str))\n",
        "\n",
        "m = Chem.MolFromSmiles(temp_str)\n",
        "m"
      ],
      "execution_count": 21,
      "outputs": [
        {
          "output_type": "stream",
          "text": [
            "!OCC(CO)COEEEEEEEEEEEEEEEEEEEEEEEEEEEEEEEEEEEEEEEEEEEEEEEE\n",
            "58\n",
            "OCC(CO)CO\n",
            "9\n"
          ],
          "name": "stdout"
        },
        {
          "output_type": "execute_result",
          "data": {
            "image/png": "[encoded data removed]",
            "text/plain": [
              "<rdkit.Chem.rdchem.Mol at 0x7fb29801c210>"
            ]
          },
          "metadata": {
            "tags": []
          },
          "execution_count": 21
        }
      ]
    },
    {
      "cell_type": "code",
      "metadata": {
        "id": "BY1__gN_vmEJ",
        "colab_type": "code",
        "colab": {
          "base_uri": "https://localhost:8080/",
          "height": 235
        },
        "outputId": "cc1fb5c4-2274-4c6e-975b-39181bd62208"
      },
      "source": [
        "# Going back from vectorized form back to a readable string\n",
        "temp_str=\"\".join([int_to_char[idx] for idx in np.argmax(reconst_test[idx,:,:], axis=1)])\n",
        "print(temp_str)\n",
        "print(len(temp_str))\n",
        "temp_str = re.sub('!|E',\"\", temp_str)\n",
        "print(temp_str)\n",
        "print(len(temp_str))\n",
        "\n",
        "m = Chem.MolFromSmiles(temp_str)\n",
        "m"
      ],
      "execution_count": 22,
      "outputs": [
        {
          "output_type": "stream",
          "text": [
            "!N=C(CN)COEEEEEEEEEEEEEEEEEEEEEEEEEEEEEEEEEEEEEEEEEEEEEEEE\n",
            "58\n",
            "N=C(CN)CO\n",
            "9\n"
          ],
          "name": "stdout"
        },
        {
          "output_type": "execute_result",
          "data": {
            "image/png": "[encoded data removed]",
            "text/plain": [
              "<rdkit.Chem.rdchem.Mol at 0x7fb2980344e0>"
            ]
          },
          "metadata": {
            "tags": []
          },
          "execution_count": 22
        }
      ]
    },
    {
      "cell_type": "markdown",
      "metadata": {
        "id": "Lg7jHH7FzCGa",
        "colab_type": "text"
      },
      "source": [
        "# **Generating new Molecules from random latent vector sampled from standard normal distribution**"
      ]
    },
    {
      "cell_type": "code",
      "metadata": {
        "id": "BB5q2VGdVCJ4",
        "colab_type": "code",
        "colab": {
          "base_uri": "https://localhost:8080/",
          "height": 1000
        },
        "outputId": "cfa270b9-bc6d-488a-b0d0-e399c792e8bd"
      },
      "source": [
        "# Generating new Smile Strings sampled from a standard normal distribution\n",
        "m=None\n",
        "while m is None:\n",
        "  reconst_strings = vae_decoder.predict(np.random.normal(0,1,size=(10,Z_DIM)))\n",
        "  reshaped_string=reconst_strings.reshape(10, mol_size_x, mol_size_y)\n",
        "\n",
        "  # Going back from vectorized form back to a readable string\n",
        "  temp_str=\"\".join([int_to_char[idx] for idx in np.argmax(reshaped_string[0,:,:], axis=1)])\n",
        "  temp_str = re.sub('!|E',\"\", temp_str)\n",
        "\n",
        "  m = Chem.MolFromSmiles(temp_str, sanitize=True)\n",
        "  if m is None:\n",
        "    print('') #invalid SMILES\n",
        "  else:\n",
        "    try:\n",
        "      Chem.SanitizeMol(m)\n",
        "    except:\n",
        "      print('') #invalid chemistry\n",
        "m\n",
        "\n"
      ],
      "execution_count": 44,
      "outputs": [
        {
          "output_type": "stream",
          "text": [
            "RDKit ERROR: [09:28:47] SMILES Parse Error: syntax error while parsing: O=C(CO@C(=O)CNO[C1\n",
            "RDKit ERROR: [09:28:47] SMILES Parse Error: Failed parsing SMILES 'O=C(CO@C(=O)CNO[C1' for input: 'O=C(CO@C(=O)CNO[C1'\n",
            "RDKit ERROR: [09:28:47] SMILES Parse Error: extra open parentheses for input: 'NC(=O)NCO(NCCC(C)CNC1=O'\n",
            "RDKit ERROR: [09:28:47] SMILES Parse Error: syntax error while parsing: N[C@@H](CC=NC(@]nn\n",
            "RDKit ERROR: [09:28:47] SMILES Parse Error: Failed parsing SMILES 'N[C@@H](CC=NC(@]nn' for input: 'N[C@@H](CC=NC(@]nn'\n",
            "RDKit ERROR: [09:28:47] SMILES Parse Error: syntax error while parsing: C[C@H](O)[C@H]2(CC(N@=O)C(CO)1\n",
            "RDKit ERROR: [09:28:47] SMILES Parse Error: Failed parsing SMILES 'C[C@H](O)[C@H]2(CC(N@=O)C(CO)1' for input: 'C[C@H](O)[C@H]2(CC(N@=O)C(CO)1'\n",
            "RDKit ERROR: [09:28:47] SMILES Parse Error: syntax error while parsing: CC(COC[C@@H](C)NH]@H)=O)\n",
            "RDKit ERROR: [09:28:47] SMILES Parse Error: Failed parsing SMILES 'CC(COC[C@@H](C)NH]@H)=O)' for input: 'CC(COC[C@@H](C)NH]@H)=O)'\n"
          ],
          "name": "stderr"
        },
        {
          "output_type": "stream",
          "text": [
            "\n",
            "\n",
            "\n",
            "\n",
            "\n"
          ],
          "name": "stdout"
        },
        {
          "output_type": "stream",
          "text": [
            "RDKit ERROR: [09:28:47] SMILES Parse Error: syntax error while parsing: O=N1[[HH]c(CO)H](O)[=@)H](O)OO@O\n",
            "RDKit ERROR: [09:28:47] SMILES Parse Error: Failed parsing SMILES 'O=N1[[HH]c(CO)H](O)[=@)H](O)OO@O' for input: 'O=N1[[HH]c(CO)H](O)[=@)H](O)OO@O'\n",
            "RDKit ERROR: [09:28:47] SMILES Parse Error: extra close parentheses while parsing: CN1Cnc(C)(=O)O)[)=O)C1\n",
            "RDKit ERROR: [09:28:47] SMILES Parse Error: Failed parsing SMILES 'CN1Cnc(C)(=O)O)[)=O)C1' for input: 'CN1Cnc(C)(=O)O)[)=O)C1'\n",
            "RDKit ERROR: [09:28:47] SMILES Parse Error: syntax error while parsing: N[C@@H]1CCS(O)[=O)](OO)OO\n",
            "RDKit ERROR: [09:28:47] SMILES Parse Error: Failed parsing SMILES 'N[C@@H]1CCS(O)[=O)](OO)OO' for input: 'N[C@@H]1CCS(O)[=O)](OO)OO'\n",
            "RDKit ERROR: [09:28:47] SMILES Parse Error: syntax error while parsing: CC(CO)CC@C[]H]c(=O)N1CO\n",
            "RDKit ERROR: [09:28:47] SMILES Parse Error: Failed parsing SMILES 'CC(CO)CC@C[]H]c(=O)N1CO' for input: 'CC(CO)CC@C[]H]c(=O)N1CO'\n",
            "RDKit ERROR: [09:28:47] SMILES Parse Error: syntax error while parsing: CNCCC@CHNCC(=)C1\n",
            "RDKit ERROR: [09:28:47] SMILES Parse Error: Failed parsing SMILES 'CNCCC@CHNCC(=)C1' for input: 'CNCCC@CHNCC(=)C1'\n"
          ],
          "name": "stderr"
        },
        {
          "output_type": "stream",
          "text": [
            "\n",
            "\n",
            "\n",
            "\n",
            "\n"
          ],
          "name": "stdout"
        },
        {
          "output_type": "stream",
          "text": [
            "RDKit ERROR: [09:28:47] SMILES Parse Error: syntax error while parsing: N[C@=](C[C@H](NNCC(N)=()O)=O\n",
            "RDKit ERROR: [09:28:47] SMILES Parse Error: Failed parsing SMILES 'N[C@=](C[C@H](NNCC(N)=()O)=O' for input: 'N[C@=](C[C@H](NNCC(N)=()O)=O'\n",
            "RDKit ERROR: [09:28:47] SMILES Parse Error: syntax error while parsing: NCCN[C@NC]1](C(=O)C=\n",
            "RDKit ERROR: [09:28:47] SMILES Parse Error: Failed parsing SMILES 'NCCN[C@NC]1](C(=O)C=' for input: 'NCCN[C@NC]1](C(=O)C='\n",
            "RDKit ERROR: [09:28:47] SMILES Parse Error: syntax error while parsing: O=C(C=C[C@H][C@=])N(=O)@@H]211O\n",
            "RDKit ERROR: [09:28:47] SMILES Parse Error: Failed parsing SMILES 'O=C(C=C[C@H][C@=])N(=O)@@H]211O' for input: 'O=C(C=C[C@H][C@=])N(=O)@@H]211O'\n",
            "RDKit ERROR: [09:28:47] SMILES Parse Error: syntax error while parsing: C[C@HH]CNC(=N)NNC(=O)NC(=O)(\n",
            "RDKit ERROR: [09:28:47] SMILES Parse Error: Failed parsing SMILES 'C[C@HH]CNC(=N)NNC(=O)NC(=O)(' for input: 'C[C@HH]CNC(=N)NNC(=O)NC(=O)('\n",
            "RDKit ERROR: [09:28:47] SMILES Parse Error: syntax error while parsing: NCCC[@H]1CN)C(=O)OC=O\n",
            "RDKit ERROR: [09:28:47] SMILES Parse Error: Failed parsing SMILES 'NCCC[@H]1CN)C(=O)OC=O' for input: 'NCCC[@H]1CN)C(=O)OC=O'\n"
          ],
          "name": "stderr"
        },
        {
          "output_type": "stream",
          "text": [
            "\n",
            "\n",
            "\n",
            "\n",
            "\n"
          ],
          "name": "stdout"
        },
        {
          "output_type": "stream",
          "text": [
            "RDKit ERROR: [09:28:48] SMILES Parse Error: syntax error while parsing: C=1c((N)c2H](HH](O)[nH][nc21\n",
            "RDKit ERROR: [09:28:48] SMILES Parse Error: Failed parsing SMILES 'C=1c((N)c2H](HH](O)[nH][nc21' for input: 'C=1c((N)c2H](HH](O)[nH][nc21'\n",
            "RDKit ERROR: [09:28:48] SMILES Parse Error: syntax error while parsing: NC(=O)CC[C@H]())CO)cC=O\n",
            "RDKit ERROR: [09:28:48] SMILES Parse Error: Failed parsing SMILES 'NC(=O)CC[C@H]())CO)cC=O' for input: 'NC(=O)CC[C@H]())CO)cC=O'\n",
            "RDKit ERROR: [09:28:48] SMILES Parse Error: syntax error while parsing: O1c1NnC@N)c2Cnn1Nn(CO)C\n",
            "RDKit ERROR: [09:28:48] SMILES Parse Error: Failed parsing SMILES 'O1c1NnC@N)c2Cnn1Nn(CO)C' for input: 'O1c1NnC@N)c2Cnn1Nn(CO)C'\n",
            "RDKit ERROR: [09:28:48] SMILES Parse Error: syntax error while parsing: O=(=O)CC1CH11CC1H]1=\n",
            "RDKit ERROR: [09:28:48] SMILES Parse Error: Failed parsing SMILES 'O=(=O)CC1CH11CC1H]1=' for input: 'O=(=O)CC1CH11CC1H]1='\n",
            "RDKit ERROR: [09:28:48] SMILES Parse Error: syntax error while parsing: O=C(O)[C@HH]1C[C[C@H])CC1\n",
            "RDKit ERROR: [09:28:48] SMILES Parse Error: Failed parsing SMILES 'O=C(O)[C@HH]1C[C[C@H])CC1' for input: 'O=C(O)[C@HH]1C[C[C@H])CC1'\n"
          ],
          "name": "stderr"
        },
        {
          "output_type": "stream",
          "text": [
            "\n",
            "\n",
            "\n",
            "\n",
            "\n"
          ],
          "name": "stdout"
        },
        {
          "output_type": "stream",
          "text": [
            "RDKit ERROR: [09:28:48] Explicit valence for atom # 8 C, 8, is greater than permitted\n",
            "RDKit ERROR: [09:28:48] SMILES Parse Error: syntax error while parsing: CN1c(NNC[H]]c((O)[@H@(O)N(=O)OO)O\n",
            "RDKit ERROR: [09:28:48] SMILES Parse Error: Failed parsing SMILES 'CN1c(NNC[H]]c((O)[@H@(O)N(=O)OO)O' for input: 'CN1c(NNC[H]]c((O)[@H@(O)N(=O)OO)O'\n",
            "RDKit ERROR: [09:28:48] SMILES Parse Error: syntax error while parsing: NC[C@H](CO)O(O)(OO]C@H](O)[C@@H]1O\n",
            "RDKit ERROR: [09:28:48] SMILES Parse Error: Failed parsing SMILES 'NC[C@H](CO)O(O)(OO]C@H](O)[C@@H]1O' for input: 'NC[C@H](CO)O(O)(OO]C@H](O)[C@@H]1O'\n",
            "RDKit ERROR: [09:28:48] SMILES Parse Error: syntax error while parsing: O=C1cc((O)[=O)n1nO[n1\n",
            "RDKit ERROR: [09:28:48] SMILES Parse Error: Failed parsing SMILES 'O=C1cc((O)[=O)n1nO[n1' for input: 'O=C1cc((O)[=O)n1nO[n1'\n",
            "RDKit ERROR: [09:28:48] SMILES Parse Error: syntax error while parsing: CN[NC](C)NO(C)C[C@)O)C(=O)O\n",
            "RDKit ERROR: [09:28:48] SMILES Parse Error: Failed parsing SMILES 'CN[NC](C)NO(C)C[C@)O)C(=O)O' for input: 'CN[NC](C)NO(C)C[C@)O)C(=O)O'\n"
          ],
          "name": "stderr"
        },
        {
          "output_type": "stream",
          "text": [
            "\n",
            "\n",
            "\n",
            "\n",
            "\n"
          ],
          "name": "stdout"
        },
        {
          "output_type": "stream",
          "text": [
            "RDKit ERROR: [09:28:48] SMILES Parse Error: syntax error while parsing: NCC(=@H]1]CCC(=O)C1\n",
            "RDKit ERROR: [09:28:48] SMILES Parse Error: Failed parsing SMILES 'NCC(=@H]1]CCC(=O)C1' for input: 'NCC(=@H]1]CCC(=O)C1'\n",
            "RDKit ERROR: [09:28:48] SMILES Parse Error: syntax error while parsing: N[C@](]C[C@H]=O)=C)](11OO1\n",
            "RDKit ERROR: [09:28:48] SMILES Parse Error: Failed parsing SMILES 'N[C@](]C[C@H]=O)=C)](11OO1' for input: 'N[C@](]C[C@H]=O)=C)](11OO1'\n",
            "RDKit ERROR: [09:28:48] SMILES Parse Error: syntax error while parsing: O=C(O)CN=H[C@@1CNNC1=O)CN1\n",
            "RDKit ERROR: [09:28:48] SMILES Parse Error: Failed parsing SMILES 'O=C(O)CN=H[C@@1CNNC1=O)CN1' for input: 'O=C(O)CN=H[C@@1CNNC1=O)CN1'\n",
            "RDKit ERROR: [09:28:48] SMILES Parse Error: extra open parentheses for input: 'N=C(O)CNCC(NO(N)c(=O=O)C'\n",
            "RDKit ERROR: [09:28:48] SMILES Parse Error: unclosed ring for input: 'O=C1OOCC1CCCN1'\n"
          ],
          "name": "stderr"
        },
        {
          "output_type": "stream",
          "text": [
            "\n",
            "\n",
            "\n",
            "\n",
            "\n"
          ],
          "name": "stdout"
        },
        {
          "output_type": "stream",
          "text": [
            "RDKit ERROR: [09:28:48] SMILES Parse Error: unclosed ring for input: 'OCCOC[C@H]OOOC1'\n",
            "RDKit ERROR: [09:28:48] SMILES Parse Error: unclosed ring for input: 'CC(=O)CC(N)cNNCCN1'\n",
            "RDKit ERROR: [09:28:48] SMILES Parse Error: syntax error while parsing: N[[C@H](O)CCNH]OOO\n",
            "RDKit ERROR: [09:28:48] SMILES Parse Error: Failed parsing SMILES 'N[[C@H](O)CCNH]OOO' for input: 'N[[C@H](O)CCNH]OOO'\n",
            "RDKit ERROR: [09:28:48] SMILES Parse Error: extra close parentheses while parsing: COC(=O)NN)[@H]((O)=O\n",
            "RDKit ERROR: [09:28:48] SMILES Parse Error: Failed parsing SMILES 'COC(=O)NN)[@H]((O)=O' for input: 'COC(=O)NN)[@H]((O)=O'\n",
            "RDKit ERROR: [09:28:48] SMILES Parse Error: extra open parentheses for input: 'CCCC(=NCC(C1)NCC(=O'\n"
          ],
          "name": "stderr"
        },
        {
          "output_type": "stream",
          "text": [
            "\n",
            "\n",
            "\n",
            "\n",
            "\n"
          ],
          "name": "stdout"
        },
        {
          "output_type": "stream",
          "text": [
            "RDKit ERROR: [09:28:48] SMILES Parse Error: syntax error while parsing: N[C@@)]C(COH](O)(O)C)](=O)[(@@H]1O)H\n",
            "RDKit ERROR: [09:28:48] SMILES Parse Error: Failed parsing SMILES 'N[C@@)]C(COH](O)(O)C)](=O)[(@@H]1O)H' for input: 'N[C@@)]C(COH](O)(O)C)](=O)[(@@H]1O)H'\n",
            "RDKit ERROR: [09:28:48] SMILES Parse Error: syntax error while parsing: Nc1nn(1(C(=O)N)CO)C(1OC1\n",
            "RDKit ERROR: [09:28:48] SMILES Parse Error: Failed parsing SMILES 'Nc1nn(1(C(=O)N)CO)C(1OC1' for input: 'Nc1nn(1(C(=O)N)CO)C(1OC1'\n",
            "RDKit ERROR: [09:28:49] SMILES Parse Error: syntax error while parsing: C[C@H](CC@@@]]CO)=O)N=O)OO\n",
            "RDKit ERROR: [09:28:49] SMILES Parse Error: Failed parsing SMILES 'C[C@H](CC@@@]]CO)=O)N=O)OO' for input: 'C[C@H](CC@@@]]CO)=O)N=O)OO'\n",
            "RDKit ERROR: [09:28:49] SMILES Parse Error: extra close parentheses while parsing: O=CC)[(=O)(C(C()O)NC1N\n",
            "RDKit ERROR: [09:28:49] SMILES Parse Error: Failed parsing SMILES 'O=CC)[(=O)(C(C()O)NC1N' for input: 'O=CC)[(=O)(C(C()O)NC1N'\n",
            "RDKit ERROR: [09:28:49] SMILES Parse Error: syntax error while parsing: N=C(O)C(=O)C(@O]C(H](O)C)=O)O\n",
            "RDKit ERROR: [09:28:49] SMILES Parse Error: Failed parsing SMILES 'N=C(O)C(=O)C(@O]C(H](O)C)=O)O' for input: 'N=C(O)C(=O)C(@O]C(H](O)C)=O)O'\n"
          ],
          "name": "stderr"
        },
        {
          "output_type": "stream",
          "text": [
            "\n",
            "\n",
            "\n",
            "\n",
            "\n"
          ],
          "name": "stdout"
        },
        {
          "output_type": "stream",
          "text": [
            "RDKit ERROR: [09:28:49] SMILES Parse Error: syntax error while parsing: N[C@]1N1C(N)](CO)CC@)N1\n",
            "RDKit ERROR: [09:28:49] SMILES Parse Error: Failed parsing SMILES 'N[C@]1N1C(N)](CO)CC@)N1' for input: 'N[C@]1N1C(N)](CO)CC@)N1'\n",
            "RDKit ERROR: [09:28:49] SMILES Parse Error: syntax error while parsing: NC(=O)Cc(n(OCO)cnH]n1\n",
            "RDKit ERROR: [09:28:49] SMILES Parse Error: Failed parsing SMILES 'NC(=O)Cc(n(OCO)cnH]n1' for input: 'NC(=O)Cc(n(OCO)cnH]n1'\n",
            "RDKit ERROR: [09:28:49] SMILES Parse Error: syntax error while parsing: NC(=O)CC(]1(N)(CCCC(C)CO\n",
            "RDKit ERROR: [09:28:49] SMILES Parse Error: Failed parsing SMILES 'NC(=O)CC(]1(N)(CCCC(C)CO' for input: 'NC(=O)CC(]1(N)(CCCC(C)CO'\n",
            "RDKit ERROR: [09:28:49] SMILES Parse Error: syntax error while parsing: N[C@H]1HC(=O)C11@@C2)[C@H](@@H]@OO\n",
            "RDKit ERROR: [09:28:49] SMILES Parse Error: Failed parsing SMILES 'N[C@H]1HC(=O)C11@@C2)[C@H](@@H]@OO' for input: 'N[C@H]1HC(=O)C11@@C2)[C@H](@@H]@OO'\n",
            "RDKit ERROR: [09:28:49] SMILES Parse Error: syntax error while parsing: NCCC]1([C@H](2CC=O(C)n1=O\n",
            "RDKit ERROR: [09:28:49] SMILES Parse Error: Failed parsing SMILES 'NCCC]1([C@H](2CC=O(C)n1=O' for input: 'NCCC]1([C@H](2CC=O(C)n1=O'\n"
          ],
          "name": "stderr"
        },
        {
          "output_type": "stream",
          "text": [
            "\n",
            "\n",
            "\n",
            "\n",
            "\n"
          ],
          "name": "stdout"
        },
        {
          "output_type": "stream",
          "text": [
            "RDKit ERROR: [09:28:49] SMILES Parse Error: syntax error while parsing: COC(=O)COC[@@H](N)C(NO)O\n",
            "RDKit ERROR: [09:28:49] SMILES Parse Error: Failed parsing SMILES 'COC(=O)COC[@@H](N)C(NO)O' for input: 'COC(=O)COC[@@H](N)C(NO)O'\n",
            "RDKit ERROR: [09:28:49] SMILES Parse Error: syntax error while parsing: N=C@N)1C[C@CH12O\n",
            "RDKit ERROR: [09:28:49] SMILES Parse Error: Failed parsing SMILES 'N=C@N)1C[C@CH12O' for input: 'N=C@N)1C[C@CH12O'\n",
            "RDKit ERROR: [09:28:49] SMILES Parse Error: syntax error while parsing: Cc1n[nH](O)O[nc+c(=O)n[C)H]cO\n",
            "RDKit ERROR: [09:28:49] SMILES Parse Error: Failed parsing SMILES 'Cc1n[nH](O)O[nc+c(=O)n[C)H]cO' for input: 'Cc1n[nH](O)O[nc+c(=O)n[C)H]cO'\n",
            "RDKit ERROR: [09:28:49] SMILES Parse Error: syntax error while parsing: O=C1N[C@[H]2c(=N)N(CNO)CC=O)C2\n",
            "RDKit ERROR: [09:28:49] SMILES Parse Error: Failed parsing SMILES 'O=C1N[C@[H]2c(=N)N(CNO)CC=O)C2' for input: 'O=C1N[C@[H]2c(=N)N(CNO)CC=O)C2'\n",
            "RDKit ERROR: [09:28:49] SMILES Parse Error: syntax error while parsing: NCC(C@H](C)COC1O\n",
            "RDKit ERROR: [09:28:49] SMILES Parse Error: Failed parsing SMILES 'NCC(C@H](C)COC1O' for input: 'NCC(C@H](C)COC1O'\n"
          ],
          "name": "stderr"
        },
        {
          "output_type": "stream",
          "text": [
            "\n",
            "\n",
            "\n",
            "\n",
            "\n"
          ],
          "name": "stdout"
        },
        {
          "output_type": "stream",
          "text": [
            "RDKit ERROR: [09:28:49] SMILES Parse Error: syntax error while parsing: NC(=O)[C@C@(C1CN)C(N)=O\n",
            "RDKit ERROR: [09:28:49] SMILES Parse Error: Failed parsing SMILES 'NC(=O)[C@C@(C1CN)C(N)=O' for input: 'NC(=O)[C@C@(C1CN)C(N)=O'\n",
            "RDKit ERROR: [09:28:49] SMILES Parse Error: syntax error while parsing: O[C@@H]1(O)[C@H]@O1(C[)O@H](O)[C1\n",
            "RDKit ERROR: [09:28:49] SMILES Parse Error: Failed parsing SMILES 'O[C@@H]1(O)[C@H]@O1(C[)O@H](O)[C1' for input: 'O[C@@H]1(O)[C@H]@O1(C[)O@H](O)[C1'\n",
            "RDKit ERROR: [09:28:49] SMILES Parse Error: syntax error while parsing: CNCC[C@C](OO)NCO)C1\n",
            "RDKit ERROR: [09:28:49] SMILES Parse Error: Failed parsing SMILES 'CNCC[C@C](OO)NCO)C1' for input: 'CNCC[C@C](OO)NCO)C1'\n",
            "RDKit ERROR: [09:28:49] SMILES Parse Error: syntax error while parsing: C=C(=OH]=O)[C@@]O\n",
            "RDKit ERROR: [09:28:49] SMILES Parse Error: Failed parsing SMILES 'C=C(=OH]=O)[C@@]O' for input: 'C=C(=OH]=O)[C@@]O'\n"
          ],
          "name": "stderr"
        },
        {
          "output_type": "stream",
          "text": [
            "\n",
            "\n",
            "\n",
            "\n"
          ],
          "name": "stdout"
        },
        {
          "output_type": "stream",
          "text": [
            "RDKit ERROR: [09:28:49] SMILES Parse Error: extra close parentheses while parsing: C=N1(=O)CCN)C(N)cC\n",
            "RDKit ERROR: [09:28:49] SMILES Parse Error: Failed parsing SMILES 'C=N1(=O)CCN)C(N)cC' for input: 'C=N1(=O)CCN)C(N)cC'\n",
            "RDKit ERROR: [09:28:49] SMILES Parse Error: syntax error while parsing: NCC(O)Cnc1cc(=)nnn1\n",
            "RDKit ERROR: [09:28:49] SMILES Parse Error: Failed parsing SMILES 'NCC(O)Cnc1cc(=)nnn1' for input: 'NCC(O)Cnc1cc(=)nnn1'\n",
            "RDKit ERROR: [09:28:49] SMILES Parse Error: syntax error while parsing: O=C@HC1[CC[C@C@@H]C@C]CO2H][[@H](1)O@@@\n",
            "RDKit ERROR: [09:28:49] SMILES Parse Error: Failed parsing SMILES 'O=C@HC1[CC[C@C@@H]C@C]CO2H][[@H](1)O@@@' for input: 'O=C@HC1[CC[C@C@@H]C@C]CO2H][[@H](1)O@@@'\n",
            "RDKit ERROR: [09:28:49] SMILES Parse Error: syntax error while parsing: O=C1CC(CONC(C)COC]=N1COH\n",
            "RDKit ERROR: [09:28:49] SMILES Parse Error: Failed parsing SMILES 'O=C1CC(CONC(C)COC]=N1COH' for input: 'O=C1CC(CONC(C)COC]=N1COH'\n",
            "RDKit ERROR: [09:28:49] SMILES Parse Error: syntax error while parsing: C1Cccc(CCCHc1)Cn)n1\n",
            "RDKit ERROR: [09:28:49] SMILES Parse Error: Failed parsing SMILES 'C1Cccc(CCCHc1)Cn)n1' for input: 'C1Cccc(CCCHc1)Cn)n1'\n",
            "RDKit ERROR: [09:28:50] SMILES Parse Error: syntax error while parsing: C[CC(]O)CO=C[nC1=O\n",
            "RDKit ERROR: [09:28:50] SMILES Parse Error: Failed parsing SMILES 'C[CC(]O)CO=C[nC1=O' for input: 'C[CC(]O)CO=C[nC1=O'\n"
          ],
          "name": "stderr"
        },
        {
          "output_type": "stream",
          "text": [
            "\n",
            "\n",
            "\n",
            "\n",
            "\n",
            "\n"
          ],
          "name": "stdout"
        },
        {
          "output_type": "stream",
          "text": [
            "RDKit ERROR: [09:28:50] SMILES Parse Error: unclosed ring for input: 'NC(=O)c1nc(CN)n=O'\n",
            "RDKit ERROR: [09:28:50] SMILES Parse Error: syntax error while parsing: C[C@H]1[n1])(O)[C@H][O)[1H)O[O))O\n",
            "RDKit ERROR: [09:28:50] SMILES Parse Error: Failed parsing SMILES 'C[C@H]1[n1])(O)[C@H][O)[1H)O[O))O' for input: 'C[C@H]1[n1])(O)[C@H][O)[1H)O[O))O'\n",
            "RDKit ERROR: [09:28:50] SMILES Parse Error: extra close parentheses while parsing: CCCCSCN)CCCCC1\n",
            "RDKit ERROR: [09:28:50] SMILES Parse Error: Failed parsing SMILES 'CCCCSCN)CCCCC1' for input: 'CCCCSCN)CCCCC1'\n",
            "RDKit ERROR: [09:28:50] SMILES Parse Error: extra close parentheses while parsing: O=CNO)COC=O)NC\n",
            "RDKit ERROR: [09:28:50] SMILES Parse Error: Failed parsing SMILES 'O=CNO)COC=O)NC' for input: 'O=CNO)COC=O)NC'\n",
            "RDKit ERROR: [09:28:50] SMILES Parse Error: syntax error while parsing: NC(C@H]1O)C(O)CO\n",
            "RDKit ERROR: [09:28:50] SMILES Parse Error: Failed parsing SMILES 'NC(C@H]1O)C(O)CO' for input: 'NC(C@H]1O)C(O)CO'\n"
          ],
          "name": "stderr"
        },
        {
          "output_type": "stream",
          "text": [
            "\n",
            "\n",
            "\n",
            "\n",
            "\n"
          ],
          "name": "stdout"
        },
        {
          "output_type": "stream",
          "text": [
            "RDKit ERROR: [09:28:50] SMILES Parse Error: syntax error while parsing: N[C@NCOC[C@H](=))n=\n",
            "RDKit ERROR: [09:28:50] SMILES Parse Error: Failed parsing SMILES 'N[C@NCOC[C@H](=))n=' for input: 'N[C@NCOC[C@H](=))n='\n",
            "RDKit ERROR: [09:28:50] SMILES Parse Error: extra close parentheses while parsing: O=C(=O)CNCC)C)C[C@=O)CO@@(()\n",
            "RDKit ERROR: [09:28:50] SMILES Parse Error: Failed parsing SMILES 'O=C(=O)CNCC)C)C[C@=O)CO@@(()' for input: 'O=C(=O)CNCC)C)C[C@=O)CO@@(()'\n",
            "RDKit ERROR: [09:28:50] non-ring atom 3 marked aromatic\n",
            "RDKit ERROR: [09:28:50] SMILES Parse Error: extra close parentheses while parsing: C[C@@H]CN)[C@1[@H](C(=O)O\n",
            "RDKit ERROR: [09:28:50] SMILES Parse Error: Failed parsing SMILES 'C[C@@H]CN)[C@1[@H](C(=O)O' for input: 'C[C@@H]CN)[C@1[@H](C(=O)O'\n",
            "RDKit ERROR: [09:28:50] SMILES Parse Error: extra close parentheses while parsing: COC(=O)[C@H](N)CCCCn)C1\n",
            "RDKit ERROR: [09:28:50] SMILES Parse Error: Failed parsing SMILES 'COC(=O)[C@H](N)CCCCn)C1' for input: 'COC(=O)[C@H](N)CCCCn)C1'\n"
          ],
          "name": "stderr"
        },
        {
          "output_type": "stream",
          "text": [
            "\n",
            "\n",
            "\n",
            "\n",
            "\n"
          ],
          "name": "stdout"
        },
        {
          "output_type": "stream",
          "text": [
            "RDKit ERROR: [09:28:50] SMILES Parse Error: syntax error while parsing: O[C@H]1(O[C@@H]2C@@H]COO[[C@HC(O)[C@11\n",
            "RDKit ERROR: [09:28:50] SMILES Parse Error: Failed parsing SMILES 'O[C@H]1(O[C@@H]2C@@H]COO[[C@HC(O)[C@11' for input: 'O[C@H]1(O[C@@H]2C@@H]COO[[C@HC(O)[C@11'\n",
            "RDKit ERROR: [09:28:50] SMILES Parse Error: syntax error while parsing: O=C(O)CC1C(c(=O)[(H]cO)C\n",
            "RDKit ERROR: [09:28:50] SMILES Parse Error: Failed parsing SMILES 'O=C(O)CC1C(c(=O)[(H]cO)C' for input: 'O=C(O)CC1C(c(=O)[(H]cO)C'\n",
            "RDKit ERROR: [09:28:50] SMILES Parse Error: extra close parentheses while parsing: COC=O)[C@@C(())CCC@H](H)=O)[C@H](O)[C@(])O\n",
            "RDKit ERROR: [09:28:50] SMILES Parse Error: Failed parsing SMILES 'COC=O)[C@@C(())CCC@H](H)=O)[C@H](O)[C@(])O' for input: 'COC=O)[C@@C(())CCC@H](H)=O)[C@H](O)[C@(])O'\n",
            "RDKit ERROR: [09:28:50] Can't kekulize mol.  Unkekulized atoms: 1 2 3 4 5\n",
            "RDKit ERROR: \n",
            "RDKit ERROR: [09:28:50] SMILES Parse Error: syntax error while parsing: CN1CCC(C(CO)CO)[C1=O\n",
            "RDKit ERROR: [09:28:50] SMILES Parse Error: Failed parsing SMILES 'CN1CCC(C(CO)CO)[C1=O' for input: 'CN1CCC(C(CO)CO)[C1=O'\n"
          ],
          "name": "stderr"
        },
        {
          "output_type": "stream",
          "text": [
            "\n",
            "\n",
            "\n",
            "\n",
            "\n"
          ],
          "name": "stdout"
        },
        {
          "output_type": "stream",
          "text": [
            "RDKit ERROR: [09:28:50] SMILES Parse Error: syntax error while parsing: CN1C(=O)C@@H]1(N)CCO1\n",
            "RDKit ERROR: [09:28:50] SMILES Parse Error: Failed parsing SMILES 'CN1C(=O)C@@H]1(N)CCO1' for input: 'CN1C(=O)C@@H]1(N)CCO1'\n",
            "RDKit ERROR: [09:28:50] SMILES Parse Error: syntax error while parsing: O=C1O[C@H]2N@C@H]((C@C[CC@H](@N)](@)]1O\n",
            "RDKit ERROR: [09:28:50] SMILES Parse Error: Failed parsing SMILES 'O=C1O[C@H]2N@C@H]((C@C[CC@H](@N)](@)]1O' for input: 'O=C1O[C@H]2N@C@H]((C@C[CC@H](@N)](@)]1O'\n",
            "RDKit ERROR: [09:28:50] SMILES Parse Error: syntax error while parsing: NS(=O)(=O)[c(=O)[n@Hc1=O=O\n",
            "RDKit ERROR: [09:28:50] SMILES Parse Error: Failed parsing SMILES 'NS(=O)(=O)[c(=O)[n@Hc1=O=O' for input: 'NS(=O)(=O)[c(=O)[n@Hc1=O=O'\n",
            "RDKit ERROR: [09:28:50] SMILES Parse Error: extra close parentheses while parsing: O=C1C)CCN1C2C[C@@H](C)C[C@@H](O1(O)\n",
            "RDKit ERROR: [09:28:50] SMILES Parse Error: Failed parsing SMILES 'O=C1C)CCN1C2C[C@@H](C)C[C@@H](O1(O)' for input: 'O=C1C)CCN1C2C[C@@H](C)C[C@@H](O1(O)'\n",
            "RDKit ERROR: [09:28:50] SMILES Parse Error: syntax error while parsing: C[(@)H]1NCS=H))(CO)NCC)H]1OO\n",
            "RDKit ERROR: [09:28:50] SMILES Parse Error: Failed parsing SMILES 'C[(@)H]1NCS=H))(CO)NCC)H]1OO' for input: 'C[(@)H]1NCS=H))(CO)NCC)H]1OO'\n"
          ],
          "name": "stderr"
        },
        {
          "output_type": "stream",
          "text": [
            "\n",
            "\n",
            "\n",
            "\n",
            "\n"
          ],
          "name": "stdout"
        },
        {
          "output_type": "stream",
          "text": [
            "RDKit ERROR: [09:28:51] SMILES Parse Error: syntax error while parsing: NC[C@@H]1C[C@H](O)[C@H]]OO[C@H]1O\n",
            "RDKit ERROR: [09:28:51] SMILES Parse Error: Failed parsing SMILES 'NC[C@@H]1C[C@H](O)[C@H]]OO[C@H]1O' for input: 'NC[C@@H]1C[C@H](O)[C@H]]OO[C@H]1O'\n",
            "RDKit ERROR: [09:28:51] SMILES Parse Error: extra close parentheses while parsing: Cn1c(O))[nH]nc(2)cOccc(nH]1\n",
            "RDKit ERROR: [09:28:51] SMILES Parse Error: Failed parsing SMILES 'Cn1c(O))[nH]nc(2)cOccc(nH]1' for input: 'Cn1c(O))[nH]nc(2)cOccc(nH]1'\n",
            "RDKit ERROR: [09:28:51] SMILES Parse Error: syntax error while parsing: NC[C@@H]1C@C(O))=(O)[C@@H](O)C(O)O\n",
            "RDKit ERROR: [09:28:51] SMILES Parse Error: Failed parsing SMILES 'NC[C@@H]1C@C(O))=(O)[C@@H](O)C(O)O' for input: 'NC[C@@H]1C@C(O))=(O)[C@@H](O)C(O)O'\n",
            "RDKit ERROR: [09:28:51] SMILES Parse Error: syntax error while parsing: CNC(=O)C1C(nH]1C(=O)NC1=\n",
            "RDKit ERROR: [09:28:51] SMILES Parse Error: Failed parsing SMILES 'CNC(=O)C1C(nH]1C(=O)NC1=' for input: 'CNC(=O)C1C(nH]1C(=O)NC1='\n",
            "RDKit ERROR: [09:28:51] SMILES Parse Error: extra close parentheses while parsing: N=C=O)NCC(N1CCO)=())C1\n",
            "RDKit ERROR: [09:28:51] SMILES Parse Error: Failed parsing SMILES 'N=C=O)NCC(N1CCO)=())C1' for input: 'N=C=O)NCC(N1CCO)=())C1'\n",
            "RDKit ERROR: [09:28:51] SMILES Parse Error: extra close parentheses while parsing: O=C1=O)CNC]@H](H](O)CO)[C1H]CC\n",
            "RDKit ERROR: [09:28:51] SMILES Parse Error: Failed parsing SMILES 'O=C1=O)CNC]@H](H](O)CO)[C1H]CC' for input: 'O=C1=O)CNC]@H](H](O)CO)[C1H]CC'\n"
          ],
          "name": "stderr"
        },
        {
          "output_type": "stream",
          "text": [
            "\n",
            "\n",
            "\n",
            "\n",
            "\n",
            "\n"
          ],
          "name": "stdout"
        },
        {
          "output_type": "stream",
          "text": [
            "RDKit ERROR: [09:28:51] SMILES Parse Error: syntax error while parsing: O=C(CO)[C@]1]C(N)[@@Nc2)N1\n",
            "RDKit ERROR: [09:28:51] SMILES Parse Error: Failed parsing SMILES 'O=C(CO)[C@]1]C(N)[@@Nc2)N1' for input: 'O=C(CO)[C@]1]C(N)[@@Nc2)N1'\n",
            "RDKit ERROR: [09:28:51] SMILES Parse Error: syntax error while parsing: O=C((OC)NCC@C\n",
            "RDKit ERROR: [09:28:51] SMILES Parse Error: Failed parsing SMILES 'O=C((OC)NCC@C' for input: 'O=C((OC)NCC@C'\n",
            "RDKit ERROR: [09:28:51] SMILES Parse Error: syntax error while parsing: O[C@H](CO[C@HC(O)C@1H]OO\n",
            "RDKit ERROR: [09:28:51] SMILES Parse Error: Failed parsing SMILES 'O[C@H](CO[C@HC(O)C@1H]OO' for input: 'O[C@H](CO[C@HC(O)C@1H]OO'\n",
            "RDKit ERROR: [09:28:51] SMILES Parse Error: extra close parentheses while parsing: CC1=C)NCCS(=O)(=O)CCCC1=O\n",
            "RDKit ERROR: [09:28:51] SMILES Parse Error: Failed parsing SMILES 'CC1=C)NCCS(=O)(=O)CCCC1=O' for input: 'CC1=C)NCCS(=O)(=O)CCCC1=O'\n",
            "RDKit ERROR: [09:28:51] SMILES Parse Error: syntax error while parsing: CN1C(=O)NC@CH]=O)C(=ON\n",
            "RDKit ERROR: [09:28:51] SMILES Parse Error: Failed parsing SMILES 'CN1C(=O)NC@CH]=O)C(=ON' for input: 'CN1C(=O)NC@CH]=O)C(=ON'\n"
          ],
          "name": "stderr"
        },
        {
          "output_type": "stream",
          "text": [
            "\n",
            "\n",
            "\n",
            "\n",
            "\n"
          ],
          "name": "stdout"
        },
        {
          "output_type": "stream",
          "text": [
            "RDKit ERROR: [09:28:51] SMILES Parse Error: syntax error while parsing: CCC(NC]CO)[C@H]CNCC(O)[CC@H]1OC()O1\n",
            "RDKit ERROR: [09:28:51] SMILES Parse Error: Failed parsing SMILES 'CCC(NC]CO)[C@H]CNCC(O)[CC@H]1OC()O1' for input: 'CCC(NC]CO)[C@H]CNCC(O)[CC@H]1OC()O1'\n",
            "RDKit ERROR: [09:28:51] SMILES Parse Error: unclosed ring for input: 'NCC1CNNCCONCCN'\n",
            "RDKit ERROR: [09:28:51] SMILES Parse Error: syntax error while parsing: O=C@C=OC[C(=O)O)CC@@H]OO)C1@\n",
            "RDKit ERROR: [09:28:51] SMILES Parse Error: Failed parsing SMILES 'O=C@C=OC[C(=O)O)CC@@H]OO)C1@' for input: 'O=C@C=OC[C(=O)O)CC@@H]OO)C1@'\n",
            "RDKit ERROR: [09:28:51] SMILES Parse Error: syntax error while parsing: N[C@]H]CNCc(O)[C@H](2)OO\n",
            "RDKit ERROR: [09:28:51] SMILES Parse Error: Failed parsing SMILES 'N[C@]H]CNCc(O)[C@H](2)OO' for input: 'N[C@]H]CNCc(O)[C@H](2)OO'\n",
            "RDKit ERROR: [09:28:51] SMILES Parse Error: syntax error while parsing: N[C@H)NCCCc[C@NH(CO)O\n",
            "RDKit ERROR: [09:28:51] SMILES Parse Error: Failed parsing SMILES 'N[C@H)NCCCc[C@NH(CO)O' for input: 'N[C@H)NCCCc[C@NH(CO)O'\n"
          ],
          "name": "stderr"
        },
        {
          "output_type": "stream",
          "text": [
            "\n",
            "\n",
            "\n",
            "\n",
            "\n"
          ],
          "name": "stdout"
        },
        {
          "output_type": "stream",
          "text": [
            "RDKit ERROR: [09:28:51] SMILES Parse Error: syntax error while parsing: N[C@H](CNCC@@H](C)C(=O)OO\n",
            "RDKit ERROR: [09:28:51] SMILES Parse Error: Failed parsing SMILES 'N[C@H](CNCC@@H](C)C(=O)OO' for input: 'N[C@H](CNCC@@H](C)C(=O)OO'\n",
            "RDKit ERROR: [09:28:51] SMILES Parse Error: syntax error while parsing: CNCNC@H](CCCCNCO\n",
            "RDKit ERROR: [09:28:51] SMILES Parse Error: Failed parsing SMILES 'CNCNC@H](CCCCNCO' for input: 'CNCNC@H](CCCCNCO'\n",
            "RDKit ERROR: [09:28:51] SMILES Parse Error: extra close parentheses while parsing: N[C@H]1C)C(=O)OOCCO\n",
            "RDKit ERROR: [09:28:51] SMILES Parse Error: Failed parsing SMILES 'N[C@H]1C)C(=O)OOCCO' for input: 'N[C@H]1C)C(=O)OOCCO'\n",
            "RDKit ERROR: [09:28:51] SMILES Parse Error: extra close parentheses while parsing: NC(=O)CCCNC(C[C@@H])O)C(C1\n",
            "RDKit ERROR: [09:28:51] SMILES Parse Error: Failed parsing SMILES 'NC(=O)CCCNC(C[C@@H])O)C(C1' for input: 'NC(=O)CCCNC(C[C@@H])O)C(C1'\n"
          ],
          "name": "stderr"
        },
        {
          "output_type": "stream",
          "text": [
            "\n",
            "\n",
            "\n",
            "\n"
          ],
          "name": "stdout"
        },
        {
          "output_type": "stream",
          "text": [
            "RDKit ERROR: [09:28:51] SMILES Parse Error: syntax error while parsing: C=c1==(=O)NC1CN2c1=\n",
            "RDKit ERROR: [09:28:51] SMILES Parse Error: Failed parsing SMILES 'C=c1==(=O)NC1CN2c1=' for input: 'C=c1==(=O)NC1CN2c1='\n",
            "RDKit ERROR: [09:28:51] SMILES Parse Error: syntax error while parsing: CNSC=C(=O)CC@H]1)CCC2)N\n",
            "RDKit ERROR: [09:28:51] SMILES Parse Error: Failed parsing SMILES 'CNSC=C(=O)CC@H]1)CCC2)N' for input: 'CNSC=C(=O)CC@H]1)CCC2)N'\n",
            "RDKit ERROR: [09:28:51] SMILES Parse Error: syntax error while parsing: N11(C)[C==O11\n",
            "RDKit ERROR: [09:28:51] SMILES Parse Error: Failed parsing SMILES 'N11(C)[C==O11' for input: 'N11(C)[C==O11'\n",
            "RDKit ERROR: [09:28:52] SMILES Parse Error: syntax error while parsing: O=C(CO([]@[C@CH]CN1CCO)[C@H]]=[CC@H]1O\n",
            "RDKit ERROR: [09:28:52] SMILES Parse Error: Failed parsing SMILES 'O=C(CO([]@[C@CH]CN1CCO)[C@H]]=[CC@H]1O' for input: 'O=C(CO([]@[C@CH]CN1CCO)[C@H]]=[CC@H]1O'\n",
            "RDKit ERROR: [09:28:52] SMILES Parse Error: syntax error while parsing: O[C@@H]1CCCC@@H]2N[C@H](C)CN1C1]21\n",
            "RDKit ERROR: [09:28:52] SMILES Parse Error: Failed parsing SMILES 'O[C@@H]1CCCC@@H]2N[C@H](C)CN1C1]21' for input: 'O[C@@H]1CCCC@@H]2N[C@H](C)CN1C1]21'\n"
          ],
          "name": "stderr"
        },
        {
          "output_type": "stream",
          "text": [
            "\n",
            "\n",
            "\n",
            "\n",
            "\n"
          ],
          "name": "stdout"
        },
        {
          "output_type": "stream",
          "text": [
            "RDKit ERROR: [09:28:52] SMILES Parse Error: syntax error while parsing: COC(=O)[[@@H](())CO@H](COO\n",
            "RDKit ERROR: [09:28:52] SMILES Parse Error: Failed parsing SMILES 'COC(=O)[[@@H](())CO@H](COO' for input: 'COC(=O)[[@@H](())CO@H](COO'\n",
            "RDKit ERROR: [09:28:52] SMILES Parse Error: syntax error while parsing: C[C@]1]CNC(=O)[C](H]CO\n",
            "RDKit ERROR: [09:28:52] SMILES Parse Error: Failed parsing SMILES 'C[C@]1]CNC(=O)[C](H]CO' for input: 'C[C@]1]CNC(=O)[C](H]CO'\n",
            "RDKit ERROR: [09:28:52] SMILES Parse Error: syntax error while parsing: O=c1C[nH]c(=C)Cn1Hc2c2=O)\n",
            "RDKit ERROR: [09:28:52] SMILES Parse Error: Failed parsing SMILES 'O=c1C[nH]c(=C)Cn1Hc2c2=O)' for input: 'O=c1C[nH]c(=C)Cn1Hc2c2=O)'\n",
            "RDKit ERROR: [09:28:52] SMILES Parse Error: extra close parentheses while parsing: O=C(O)N1CCNCCCO))C1\n",
            "RDKit ERROR: [09:28:52] SMILES Parse Error: Failed parsing SMILES 'O=C(O)N1CCNCCCO))C1' for input: 'O=C(O)N1CCNCCCO))C1'\n",
            "RDKit ERROR: [09:28:52] SMILES Parse Error: syntax error while parsing: CN1c(=@H]=C)O[C@1]C[C(@H](O)OC@H]1O\n",
            "RDKit ERROR: [09:28:52] SMILES Parse Error: Failed parsing SMILES 'CN1c(=@H]=C)O[C@1]C[C(@H](O)OC@H]1O' for input: 'CN1c(=@H]=C)O[C@1]C[C(@H](O)OC@H]1O'\n"
          ],
          "name": "stderr"
        },
        {
          "output_type": "stream",
          "text": [
            "\n",
            "\n",
            "\n",
            "\n",
            "\n"
          ],
          "name": "stdout"
        },
        {
          "output_type": "stream",
          "text": [
            "RDKit ERROR: [09:28:52] SMILES Parse Error: syntax error while parsing: O=C(C)[C@=]11C\n",
            "RDKit ERROR: [09:28:52] SMILES Parse Error: Failed parsing SMILES 'O=C(C)[C@=]11C' for input: 'O=C(C)[C@=]11C'\n",
            "RDKit ERROR: [09:28:52] SMILES Parse Error: syntax error while parsing: O=C(O@H]1CH](H)(C)C1\n",
            "RDKit ERROR: [09:28:52] SMILES Parse Error: Failed parsing SMILES 'O=C(O@H]1CH](H)(C)C1' for input: 'O=C(O@H]1CH](H)(C)C1'\n",
            "RDKit ERROR: [09:28:52] SMILES Parse Error: syntax error while parsing: NCC(O)[C[C@@O)[C@HC(OC(=O)]\n",
            "RDKit ERROR: [09:28:52] SMILES Parse Error: Failed parsing SMILES 'NCC(O)[C[C@@O)[C@HC(OC(=O)]' for input: 'NCC(O)[C[C@@O)[C@HC(OC(=O)]'\n",
            "RDKit ERROR: [09:28:52] SMILES Parse Error: extra close parentheses while parsing: O=C(OO)CO)CC@C]H]@O)(O)(CO)]2[C@H])O)\n",
            "RDKit ERROR: [09:28:52] SMILES Parse Error: Failed parsing SMILES 'O=C(OO)CO)CC@C]H]@O)(O)(CO)]2[C@H])O)' for input: 'O=C(OO)CO)CC@C]H]@O)(O)(CO)]2[C@H])O)'\n",
            "RDKit ERROR: [09:28:52] SMILES Parse Error: syntax error while parsing: O=C1N[CC@H](1C([(=O)(CO[C]@H]2C)@H]1O\n",
            "RDKit ERROR: [09:28:52] SMILES Parse Error: Failed parsing SMILES 'O=C1N[CC@H](1C([(=O)(CO[C]@H]2C)@H]1O' for input: 'O=C1N[CC@H](1C([(=O)(CO[C]@H]2C)@H]1O'\n"
          ],
          "name": "stderr"
        },
        {
          "output_type": "stream",
          "text": [
            "\n",
            "\n",
            "\n",
            "\n",
            "\n"
          ],
          "name": "stdout"
        },
        {
          "output_type": "stream",
          "text": [
            "RDKit ERROR: [09:28:52] SMILES Parse Error: extra close parentheses while parsing: O=C(O)CO)c(=OC(=O)O\n",
            "RDKit ERROR: [09:28:52] SMILES Parse Error: Failed parsing SMILES 'O=C(O)CO)c(=OC(=O)O' for input: 'O=C(O)CO)c(=OC(=O)O'\n",
            "RDKit ERROR: [09:28:52] SMILES Parse Error: syntax error while parsing: NC(=O)[C@@H]1NCC@H](N)Cn1\n",
            "RDKit ERROR: [09:28:52] SMILES Parse Error: Failed parsing SMILES 'NC(=O)[C@@H]1NCC@H](N)Cn1' for input: 'NC(=O)[C@@H]1NCC@H](N)Cn1'\n",
            "RDKit ERROR: [09:28:52] SMILES Parse Error: syntax error while parsing: COC(=O)cC[nc]C((O)CC=O)C\n",
            "RDKit ERROR: [09:28:52] SMILES Parse Error: Failed parsing SMILES 'COC(=O)cC[nc]C((O)CC=O)C' for input: 'COC(=O)cC[nc]C((O)CC=O)C'\n",
            "RDKit ERROR: [09:28:52] SMILES Parse Error: syntax error while parsing: O=C(O)C1CC[C@H]](\n",
            "RDKit ERROR: [09:28:52] SMILES Parse Error: Failed parsing SMILES 'O=C(O)C1CC[C@H]](' for input: 'O=C(O)C1CC[C@H]]('\n",
            "RDKit ERROR: [09:28:52] SMILES Parse Error: syntax error while parsing: O[C@[]@H](C2CNOCO)[C@H](=)[C@O]1O\n",
            "RDKit ERROR: [09:28:52] SMILES Parse Error: Failed parsing SMILES 'O[C@[]@H](C2CNOCO)[C@H](=)[C@O]1O' for input: 'O[C@[]@H](C2CNOCO)[C@H](=)[C@O]1O'\n"
          ],
          "name": "stderr"
        },
        {
          "output_type": "stream",
          "text": [
            "\n",
            "\n",
            "\n",
            "\n",
            "\n"
          ],
          "name": "stdout"
        },
        {
          "output_type": "stream",
          "text": [
            "RDKit ERROR: [09:28:52] SMILES Parse Error: syntax error while parsing: CC(((O)NC1=On(N)CNN\n",
            "RDKit ERROR: [09:28:52] SMILES Parse Error: Failed parsing SMILES 'CC(((O)NC1=On(N)CNN' for input: 'CC(((O)NC1=On(N)CNN'\n",
            "RDKit ERROR: [09:28:52] SMILES Parse Error: extra close parentheses while parsing: CNC(=O)CO)C1=)C((CONN1\n",
            "RDKit ERROR: [09:28:52] SMILES Parse Error: Failed parsing SMILES 'CNC(=O)CO)C1=)C((CONN1' for input: 'CNC(=O)CO)C1=)C((CONN1'\n",
            "RDKit ERROR: [09:28:52] SMILES Parse Error: syntax error while parsing: N[C@@H](Cc(=O)CnH]11C1\n",
            "RDKit ERROR: [09:28:52] SMILES Parse Error: Failed parsing SMILES 'N[C@@H](Cc(=O)CnH]11C1' for input: 'N[C@@H](Cc(=O)CnH]11C1'\n",
            "RDKit ERROR: [09:28:52] SMILES Parse Error: syntax error while parsing: O[C@H](CO)C1=OC(1O2O\n",
            "RDKit ERROR: [09:28:52] SMILES Parse Error: Failed parsing SMILES 'O[C@H](CO)C1=OC(1O2O' for input: 'O[C@H](CO)C1=OC(1O2O'\n",
            "RDKit ERROR: [09:28:52] SMILES Parse Error: syntax error while parsing: O=C(O)C1cC(CC[C=O)](O)C(n)O\n",
            "RDKit ERROR: [09:28:52] SMILES Parse Error: Failed parsing SMILES 'O=C(O)C1cC(CC[C=O)](O)C(n)O' for input: 'O=C(O)C1cC(CC[C=O)](O)C(n)O'\n"
          ],
          "name": "stderr"
        },
        {
          "output_type": "stream",
          "text": [
            "\n",
            "\n",
            "\n",
            "\n",
            "\n"
          ],
          "name": "stdout"
        },
        {
          "output_type": "stream",
          "text": [
            "RDKit ERROR: [09:28:53] SMILES Parse Error: syntax error while parsing: C[C@=O)C)C(@C((O)CNC=O\n",
            "RDKit ERROR: [09:28:53] SMILES Parse Error: Failed parsing SMILES 'C[C@=O)C)C(@C((O)CNC=O' for input: 'C[C@=O)C)C(@C((O)CNC=O'\n",
            "RDKit ERROR: [09:28:53] SMILES Parse Error: extra close parentheses while parsing: O=CN1)[C@H]1CC(=O](O)\n",
            "RDKit ERROR: [09:28:53] SMILES Parse Error: Failed parsing SMILES 'O=CN1)[C@H]1CC(=O](O)' for input: 'O=CN1)[C@H]1CC(=O](O)'\n",
            "RDKit ERROR: [09:28:53] SMILES Parse Error: syntax error while parsing: O=C(O)C1@H](C[C@H](=O)O\n",
            "RDKit ERROR: [09:28:53] SMILES Parse Error: Failed parsing SMILES 'O=C(O)C1@H](C[C@H](=O)O' for input: 'O=C(O)C1@H](C[C@H](=O)O'\n",
            "RDKit ERROR: [09:28:53] SMILES Parse Error: syntax error while parsing: O=C@1)C1CC(=O)COH]1\n",
            "RDKit ERROR: [09:28:53] SMILES Parse Error: Failed parsing SMILES 'O=C@1)C1CC(=O)COH]1' for input: 'O=C@1)C1CC(=O)COH]1'\n",
            "RDKit ERROR: [09:28:53] SMILES Parse Error: syntax error while parsing: NCCNC((C(=O)(N\n",
            "RDKit ERROR: [09:28:53] SMILES Parse Error: Failed parsing SMILES 'NCCNC((C(=O)(N' for input: 'NCCNC((C(=O)(N'\n"
          ],
          "name": "stderr"
        },
        {
          "output_type": "stream",
          "text": [
            "\n",
            "\n",
            "\n",
            "\n",
            "\n"
          ],
          "name": "stdout"
        },
        {
          "output_type": "stream",
          "text": [
            "RDKit ERROR: [09:28:53] SMILES Parse Error: extra close parentheses while parsing: COC(=O)[C@@H]1O)CCC(N)=O)O\n",
            "RDKit ERROR: [09:28:53] SMILES Parse Error: Failed parsing SMILES 'COC(=O)[C@@H]1O)CCC(N)=O)O' for input: 'COC(=O)[C@@H]1O)CCC(N)=O)O'\n",
            "RDKit ERROR: [09:28:53] SMILES Parse Error: syntax error while parsing: C[C@H]@H](O))N)CC@)](CS(C)COO)C1\n",
            "RDKit ERROR: [09:28:53] SMILES Parse Error: Failed parsing SMILES 'C[C@H]@H](O))N)CC@)](CS(C)COO)C1' for input: 'C[C@H]@H](O))N)CC@)](CS(C)COO)C1'\n",
            "RDKit ERROR: [09:28:53] SMILES Parse Error: duplicated ring closure 1 bonds atom 3 to itself for input: 'OOC(N11[C@@H]2C)CNCCNC1=O'\n",
            "RDKit ERROR: [09:28:53] SMILES Parse Error: syntax error while parsing: O[C@H]1NCCCNCC(O)[C1]C]2O[C@H]1\n",
            "RDKit ERROR: [09:28:53] SMILES Parse Error: Failed parsing SMILES 'O[C@H]1NCCCNCC(O)[C1]C]2O[C@H]1' for input: 'O[C@H]1NCCCNCC(O)[C1]C]2O[C@H]1'\n",
            "RDKit ERROR: [09:28:53] SMILES Parse Error: syntax error while parsing: N[C=O)NCCC[C@HO)OCC(=O)\n",
            "RDKit ERROR: [09:28:53] SMILES Parse Error: Failed parsing SMILES 'N[C=O)NCCC[C@HO)OCC(=O)' for input: 'N[C=O)NCCC[C@HO)OCC(=O)'\n"
          ],
          "name": "stderr"
        },
        {
          "output_type": "stream",
          "text": [
            "\n",
            "\n",
            "\n",
            "\n",
            "\n"
          ],
          "name": "stdout"
        },
        {
          "output_type": "stream",
          "text": [
            "RDKit ERROR: [09:28:53] SMILES Parse Error: syntax error while parsing: Nc1nc((C)(NN)c(N)nn1C1\n",
            "RDKit ERROR: [09:28:53] SMILES Parse Error: Failed parsing SMILES 'Nc1nc((C)(NN)c(N)nn1C1' for input: 'Nc1nc((C)(NN)c(N)nn1C1'\n",
            "RDKit ERROR: [09:28:53] SMILES Parse Error: syntax error while parsing: C[C@@H]1C[C@H](O)[C@@)]()O)O\n",
            "RDKit ERROR: [09:28:53] SMILES Parse Error: Failed parsing SMILES 'C[C@@H]1C[C@H](O)[C@@)]()O)O' for input: 'C[C@@H]1C[C@H](O)[C@@)]()O)O'\n",
            "RDKit ERROR: [09:28:53] SMILES Parse Error: extra close parentheses while parsing: O=CNC(=O)O=O)O)\n",
            "RDKit ERROR: [09:28:53] SMILES Parse Error: Failed parsing SMILES 'O=CNC(=O)O=O)O)' for input: 'O=CNC(=O)O=O)O)'\n",
            "RDKit ERROR: [09:28:53] SMILES Parse Error: extra open parentheses for input: 'O=C1NCN1C[C@H](=NC(=O)'\n",
            "RDKit ERROR: [09:28:53] SMILES Parse Error: syntax error while parsing: OCCCC(=O)N[C[C@@H])[C@@]O1\n",
            "RDKit ERROR: [09:28:53] SMILES Parse Error: Failed parsing SMILES 'OCCCC(=O)N[C[C@@H])[C@@]O1' for input: 'OCCCC(=O)N[C[C@@H])[C@@]O1'\n"
          ],
          "name": "stderr"
        },
        {
          "output_type": "stream",
          "text": [
            "\n",
            "\n",
            "\n",
            "\n",
            "\n"
          ],
          "name": "stdout"
        },
        {
          "output_type": "stream",
          "text": [
            "RDKit ERROR: [09:28:53] SMILES Parse Error: syntax error while parsing: O=C(CO)[(@H]2O[C@H](O)CO=O)\n",
            "RDKit ERROR: [09:28:53] SMILES Parse Error: Failed parsing SMILES 'O=C(CO)[(@H]2O[C@H](O)CO=O)' for input: 'O=C(CO)[(@H]2O[C@H](O)CO=O)'\n",
            "RDKit ERROR: [09:28:53] SMILES Parse Error: extra close parentheses while parsing: N[C@@H]1CCCCC1=O)O\n",
            "RDKit ERROR: [09:28:53] SMILES Parse Error: Failed parsing SMILES 'N[C@@H]1CCCCC1=O)O' for input: 'N[C@@H]1CCCCC1=O)O'\n",
            "RDKit ERROR: [09:28:53] SMILES Parse Error: syntax error while parsing: NCCC@]1[C@H](O)[OOO)CO[O[]@@H]@OH)1@HO\n",
            "RDKit ERROR: [09:28:53] SMILES Parse Error: Failed parsing SMILES 'NCCC@]1[C@H](O)[OOO)CO[O[]@@H]@OH)1@HO' for input: 'NCCC@]1[C@H](O)[OOO)CO[O[]@@H]@OH)1@HO'\n",
            "RDKit ERROR: [09:28:53] SMILES Parse Error: extra open parentheses for input: 'N[C@@H]CNC(=O'\n",
            "RDKit ERROR: [09:28:53] SMILES Parse Error: syntax error while parsing: O=C12CCC[C1(CCNC(CO)N1\n",
            "RDKit ERROR: [09:28:53] SMILES Parse Error: Failed parsing SMILES 'O=C12CCC[C1(CCNC(CO)N1' for input: 'O=C12CCC[C1(CCNC(CO)N1'\n"
          ],
          "name": "stderr"
        },
        {
          "output_type": "stream",
          "text": [
            "\n",
            "\n",
            "\n",
            "\n",
            "\n"
          ],
          "name": "stdout"
        },
        {
          "output_type": "stream",
          "text": [
            "RDKit ERROR: [09:28:53] SMILES Parse Error: syntax error while parsing: C[C@@H](CO)C@H](OCC@\n",
            "RDKit ERROR: [09:28:53] SMILES Parse Error: Failed parsing SMILES 'C[C@@H](CO)C@H](OCC@' for input: 'C[C@@H](CO)C@H](OCC@'\n",
            "RDKit ERROR: [09:28:53] SMILES Parse Error: syntax error while parsing: C[C@@H[CCC@(]))COCC@O)(CO[@([C@H]1O\n",
            "RDKit ERROR: [09:28:53] SMILES Parse Error: Failed parsing SMILES 'C[C@@H[CCC@(]))COCC@O)(CO[@([C@H]1O' for input: 'C[C@@H[CCC@(]))COCC@O)(CO[@([C@H]1O'\n",
            "RDKit ERROR: [09:28:54] SMILES Parse Error: extra close parentheses while parsing: CC(=O)(O))N[CC@H]1N)1O\n",
            "RDKit ERROR: [09:28:54] SMILES Parse Error: Failed parsing SMILES 'CC(=O)(O))N[CC@H]1N)1O' for input: 'CC(=O)(O))N[CC@H]1N)1O'\n",
            "RDKit ERROR: [09:28:54] SMILES Parse Error: extra open parentheses for input: 'NCCNO(NO)CC(=N=O'\n",
            "RDKit ERROR: [09:28:54] SMILES Parse Error: syntax error while parsing: C1C[CNcCN1CcC=O\n",
            "RDKit ERROR: [09:28:54] SMILES Parse Error: Failed parsing SMILES 'C1C[CNcCN1CcC=O' for input: 'C1C[CNcCN1CcC=O'\n",
            "RDKit ERROR: [09:28:54] SMILES Parse Error: syntax error while parsing: O[C@NCC[C@H]]C(COCN1)OO\n",
            "RDKit ERROR: [09:28:54] SMILES Parse Error: Failed parsing SMILES 'O[C@NCC[C@H]]C(COCN1)OO' for input: 'O[C@NCC[C@H]]C(COCN1)OO'\n"
          ],
          "name": "stderr"
        },
        {
          "output_type": "stream",
          "text": [
            "\n",
            "\n",
            "\n",
            "\n",
            "\n",
            "\n"
          ],
          "name": "stdout"
        },
        {
          "output_type": "stream",
          "text": [
            "RDKit ERROR: [09:28:54] SMILES Parse Error: extra close parentheses while parsing: O=c1[nH]ccnCC=C)=O[CnH])N1\n",
            "RDKit ERROR: [09:28:54] SMILES Parse Error: Failed parsing SMILES 'O=c1[nH]ccnCC=C)=O[CnH])N1' for input: 'O=c1[nH]ccnCC=C)=O[CnH])N1'\n",
            "RDKit ERROR: [09:28:54] SMILES Parse Error: syntax error while parsing: NCC@OH](Cc(=O\n",
            "RDKit ERROR: [09:28:54] SMILES Parse Error: Failed parsing SMILES 'NCC@OH](Cc(=O' for input: 'NCC@OH](Cc(=O'\n",
            "RDKit ERROR: [09:28:54] SMILES Parse Error: syntax error while parsing: CN1C(=O)[C@H](O)[C@@H](O)1C@@H]O\n",
            "RDKit ERROR: [09:28:54] SMILES Parse Error: Failed parsing SMILES 'CN1C(=O)[C@H](O)[C@@H](O)1C@@H]O' for input: 'CN1C(=O)[C@H](O)[C@@H](O)1C@@H]O'\n",
            "RDKit ERROR: [09:28:54] SMILES Parse Error: extra close parentheses while parsing: NNcCn[n@])(=O)(=O)]\n",
            "RDKit ERROR: [09:28:54] SMILES Parse Error: Failed parsing SMILES 'NNcCn[n@])(=O)(=O)]' for input: 'NNcCn[n@])(=O)(=O)]'\n",
            "RDKit ERROR: [09:28:54] SMILES Parse Error: syntax error while parsing: CC(=O)CC@H]@O]1CCCNNC21O\n",
            "RDKit ERROR: [09:28:54] SMILES Parse Error: Failed parsing SMILES 'CC(=O)CC@H]@O]1CCCNNC21O' for input: 'CC(=O)CC@H]@O]1CCCNNC21O'\n"
          ],
          "name": "stderr"
        },
        {
          "output_type": "stream",
          "text": [
            "\n",
            "\n",
            "\n",
            "\n",
            "\n"
          ],
          "name": "stdout"
        },
        {
          "output_type": "stream",
          "text": [
            "RDKit ERROR: [09:28:54] SMILES Parse Error: unclosed ring for input: 'O=C1NCN1CNCCO1'\n",
            "RDKit ERROR: [09:28:54] SMILES Parse Error: syntax error while parsing: CCCC(]O)NCCO@]O)[C@H]1OOC@O\n",
            "RDKit ERROR: [09:28:54] SMILES Parse Error: Failed parsing SMILES 'CCCC(]O)NCCO@]O)[C@H]1OOC@O' for input: 'CCCC(]O)NCCO@]O)[C@H]1OOC@O'\n",
            "RDKit ERROR: [09:28:54] Explicit valence for atom # 4 O, 3, is greater than permitted\n",
            "RDKit ERROR: [09:28:54] SMILES Parse Error: syntax error while parsing: OCc[[@H]((N[C1H]1CC[@H]1\n",
            "RDKit ERROR: [09:28:54] SMILES Parse Error: Failed parsing SMILES 'OCc[[@H]((N[C1H]1CC[@H]1' for input: 'OCc[[@H]((N[C1H]1CC[@H]1'\n",
            "RDKit ERROR: [09:28:54] SMILES Parse Error: ring closure 1 duplicates bond between atom 3 and atom 5 for input: 'CNC=N12(O)C1OCC1=C1=O'\n"
          ],
          "name": "stderr"
        },
        {
          "output_type": "stream",
          "text": [
            "\n",
            "\n",
            "\n",
            "\n",
            "\n"
          ],
          "name": "stdout"
        },
        {
          "output_type": "stream",
          "text": [
            "RDKit ERROR: [09:28:54] SMILES Parse Error: extra close parentheses while parsing: NC(=O)C1=O)CCC1\n",
            "RDKit ERROR: [09:28:54] SMILES Parse Error: Failed parsing SMILES 'NC(=O)C1=O)CCC1' for input: 'NC(=O)C1=O)CCC1'\n",
            "RDKit ERROR: [09:28:54] SMILES Parse Error: syntax error while parsing: O=C(=O)[n1nc]c))On\n",
            "RDKit ERROR: [09:28:54] SMILES Parse Error: Failed parsing SMILES 'O=C(=O)[n1nc]c))On' for input: 'O=C(=O)[n1nc]c))On'\n",
            "RDKit ERROR: [09:28:54] SMILES Parse Error: syntax error while parsing: CNC(=O)C@H]1CCNC1=O)NO1\n",
            "RDKit ERROR: [09:28:54] SMILES Parse Error: Failed parsing SMILES 'CNC(=O)C@H]1CCNC1=O)NO1' for input: 'CNC(=O)C@H]1CCNC1=O)NO1'\n",
            "RDKit ERROR: [09:28:54] SMILES Parse Error: extra close parentheses while parsing: O=C1ncCcCC)[C@H]2c=O)[1CH]O\n",
            "RDKit ERROR: [09:28:54] SMILES Parse Error: Failed parsing SMILES 'O=C1ncCcCC)[C@H]2c=O)[1CH]O' for input: 'O=C1ncCcCC)[C@H]2c=O)[1CH]O'\n",
            "RDKit ERROR: [09:28:54] SMILES Parse Error: syntax error while parsing: O[C@@H]1O[C(C](OCCO[(@OH]1\n",
            "RDKit ERROR: [09:28:54] SMILES Parse Error: Failed parsing SMILES 'O[C@@H]1O[C(C](OCCO[(@OH]1' for input: 'O[C@@H]1O[C(C](OCCO[(@OH]1'\n"
          ],
          "name": "stderr"
        },
        {
          "output_type": "stream",
          "text": [
            "\n",
            "\n",
            "\n",
            "\n",
            "\n"
          ],
          "name": "stdout"
        },
        {
          "output_type": "stream",
          "text": [
            "RDKit ERROR: [09:28:54] SMILES Parse Error: syntax error while parsing: CN(C@CS(O)C(NC)SNC(=OO\n",
            "RDKit ERROR: [09:28:54] SMILES Parse Error: Failed parsing SMILES 'CN(C@CS(O)C(NC)SNC(=OO' for input: 'CN(C@CS(O)C(NC)SNC(=OO'\n",
            "RDKit ERROR: [09:28:54] SMILES Parse Error: syntax error while parsing: NC1=c=c=Oc[nO]c2=CCNC11\n",
            "RDKit ERROR: [09:28:54] SMILES Parse Error: Failed parsing SMILES 'NC1=c=c=Oc[nO]c2=CCNC11' for input: 'NC1=c=c=Oc[nO]c2=CCNC11'\n",
            "RDKit ERROR: [09:28:55] SMILES Parse Error: extra close parentheses while parsing: NCC=O)O)NC@HH]1=\n",
            "RDKit ERROR: [09:28:55] SMILES Parse Error: Failed parsing SMILES 'NCC=O)O)NC@HH]1=' for input: 'NCC=O)O)NC@HH]1='\n",
            "RDKit ERROR: [09:28:55] SMILES Parse Error: syntax error while parsing: O[C@C=NC(=O)OC)[C@H](O\n",
            "RDKit ERROR: [09:28:55] SMILES Parse Error: Failed parsing SMILES 'O[C@C=NC(=O)OC)[C@H](O' for input: 'O[C@C=NC(=O)OC)[C@H](O'\n",
            "RDKit ERROR: [09:28:55] SMILES Parse Error: extra open parentheses for input: 'NC(CO)CCN[C@H](NC(=O)C1'\n"
          ],
          "name": "stderr"
        },
        {
          "output_type": "stream",
          "text": [
            "\n",
            "\n",
            "\n",
            "\n",
            "\n"
          ],
          "name": "stdout"
        },
        {
          "output_type": "stream",
          "text": [
            "RDKit ERROR: [09:28:55] SMILES Parse Error: syntax error while parsing: O=C1+]([)O[C@@H][O)[H]1C((C2N=[C@)]1\n",
            "RDKit ERROR: [09:28:55] SMILES Parse Error: Failed parsing SMILES 'O=C1+]([)O[C@@H][O)[H]1C((C2N=[C@)]1' for input: 'O=C1+]([)O[C@@H][O)[H]1C((C2N=[C@)]1'\n",
            "RDKit ERROR: [09:28:55] SMILES Parse Error: syntax error while parsing: OC[C@=](O)C(=O)NO\n",
            "RDKit ERROR: [09:28:55] SMILES Parse Error: Failed parsing SMILES 'OC[C@=](O)C(=O)NO' for input: 'OC[C@=](O)C(=O)NO'\n",
            "RDKit ERROR: [09:28:55] SMILES Parse Error: extra open parentheses for input: 'OCCC1CC(=O)C(CCCNCC1'\n",
            "RDKit ERROR: [09:28:55] SMILES Parse Error: syntax error while parsing: O=C1NNCC(1c=O)n1=O[nH\n",
            "RDKit ERROR: [09:28:55] SMILES Parse Error: Failed parsing SMILES 'O=C1NNCC(1c=O)n1=O[nH' for input: 'O=C1NNCC(1c=O)n1=O[nH'\n",
            "RDKit ERROR: [09:28:55] SMILES Parse Error: syntax error while parsing: CC(=O)[C@@]](O)CO\n",
            "RDKit ERROR: [09:28:55] SMILES Parse Error: Failed parsing SMILES 'CC(=O)[C@@]](O)CO' for input: 'CC(=O)[C@@]](O)CO'\n"
          ],
          "name": "stderr"
        },
        {
          "output_type": "stream",
          "text": [
            "\n",
            "\n",
            "\n",
            "\n",
            "\n"
          ],
          "name": "stdout"
        },
        {
          "output_type": "stream",
          "text": [
            "RDKit ERROR: [09:28:55] SMILES Parse Error: extra open parentheses for input: 'CNC(=O)C(=CO/NCS(C(=O)O)'\n",
            "RDKit ERROR: [09:28:55] SMILES Parse Error: syntax error while parsing: CS(=O)(=)[C@@1(C(CO(OO)C\n",
            "RDKit ERROR: [09:28:55] SMILES Parse Error: Failed parsing SMILES 'CS(=O)(=)[C@@1(C(CO(OO)C' for input: 'CS(=O)(=)[C@@1(C(CO(OO)C'\n",
            "RDKit ERROR: [09:28:55] SMILES Parse Error: syntax error while parsing: COC(=O)C[C@@H](O)CC(H])C=C1H\n",
            "RDKit ERROR: [09:28:55] SMILES Parse Error: Failed parsing SMILES 'COC(=O)C[C@@H](O)CC(H])C=C1H' for input: 'COC(=O)C[C@@H](O)CC(H])C=C1H'\n",
            "RDKit ERROR: [09:28:55] SMILES Parse Error: syntax error while parsing: C=c1[nH]c(NCCOnHc(CO[[@H]]1O\n",
            "RDKit ERROR: [09:28:55] SMILES Parse Error: Failed parsing SMILES 'C=c1[nH]c(NCCOnHc(CO[[@H]]1O' for input: 'C=c1[nH]c(NCCOnHc(CO[[@H]]1O'\n",
            "RDKit ERROR: [09:28:55] SMILES Parse Error: syntax error while parsing: COC@H]1[[@@H](O)[C@c1(O)[CC@@H](O)[C@@]]()[C@H]1O\n",
            "RDKit ERROR: [09:28:55] SMILES Parse Error: Failed parsing SMILES 'COC@H]1[[@@H](O)[C@c1(O)[CC@@H](O)[C@@]]()[C@H]1O' for input: 'COC@H]1[[@@H](O)[C@c1(O)[CC@@H](O)[C@@]]()[C@H]1O'\n"
          ],
          "name": "stderr"
        },
        {
          "output_type": "stream",
          "text": [
            "\n",
            "\n",
            "\n",
            "\n",
            "\n"
          ],
          "name": "stdout"
        },
        {
          "output_type": "stream",
          "text": [
            "RDKit ERROR: [09:28:55] SMILES Parse Error: syntax error while parsing: N=C(N)CC[C@@=())CC\n",
            "RDKit ERROR: [09:28:55] SMILES Parse Error: Failed parsing SMILES 'N=C(N)CC[C@@=())CC' for input: 'N=C(N)CC[C@@=())CC'\n",
            "RDKit ERROR: [09:28:55] SMILES Parse Error: extra open parentheses for input: 'NN1CCC(=O)N(COCCO'\n",
            "RDKit ERROR: [09:28:55] SMILES Parse Error: syntax error while parsing: O=C1NC(CN1CCNC[C@)1OCOC[@@H]2CN\n",
            "RDKit ERROR: [09:28:55] SMILES Parse Error: Failed parsing SMILES 'O=C1NC(CN1CCNC[C@)1OCOC[@@H]2CN' for input: 'O=C1NC(CN1CCNC[C@)1OCOC[@@H]2CN'\n",
            "RDKit ERROR: [09:28:55] SMILES Parse Error: extra open parentheses for input: 'CN(C)C[C@H](N)(CO=ON1C1'\n",
            "RDKit ERROR: [09:28:55] SMILES Parse Error: syntax error while parsing: CB1C[(H]cB(O[C1c]2]\n",
            "RDKit ERROR: [09:28:55] SMILES Parse Error: Failed parsing SMILES 'CB1C[(H]cB(O[C1c]2]' for input: 'CB1C[(H]cB(O[C1c]2]'\n"
          ],
          "name": "stderr"
        },
        {
          "output_type": "stream",
          "text": [
            "\n",
            "\n",
            "\n",
            "\n",
            "\n"
          ],
          "name": "stdout"
        },
        {
          "output_type": "stream",
          "text": [
            "RDKit ERROR: [09:28:55] SMILES Parse Error: syntax error while parsing: O=C(O)[C@H](CO)=CCNC@=O(C)H]@H]1O\n",
            "RDKit ERROR: [09:28:55] SMILES Parse Error: Failed parsing SMILES 'O=C(O)[C@H](CO)=CCNC@=O(C)H]@H]1O' for input: 'O=C(O)[C@H](CO)=CCNC@=O(C)H]@H]1O'\n",
            "RDKit ERROR: [09:28:55] SMILES Parse Error: syntax error while parsing: OCCC@CN]1COCC\n",
            "RDKit ERROR: [09:28:55] SMILES Parse Error: Failed parsing SMILES 'OCCC@CN]1COCC' for input: 'OCCC@CN]1COCC'\n",
            "RDKit ERROR: [09:28:55] SMILES Parse Error: syntax error while parsing: O=C1@[C1O[C(H]([)[CO)CO)[C@@H](O)[C@@H]1O\n",
            "RDKit ERROR: [09:28:55] SMILES Parse Error: Failed parsing SMILES 'O=C1@[C1O[C(H]([)[CO)CO)[C@@H](O)[C@@H]1O' for input: 'O=C1@[C1O[C(H]([)[CO)CO)[C@@H](O)[C@@H]1O'\n",
            "RDKit ERROR: [09:28:55] SMILES Parse Error: syntax error while parsing: NCCC(=C(=O)N[[C@]C(OC1=O\n",
            "RDKit ERROR: [09:28:55] SMILES Parse Error: Failed parsing SMILES 'NCCC(=C(=O)N[[C@]C(OC1=O' for input: 'NCCC(=C(=O)N[[C@]C(OC1=O'\n",
            "RDKit ERROR: [09:28:56] SMILES Parse Error: syntax error while parsing: N[(=O)(C@@H]NCC(CO(O)C(C1)O\n",
            "RDKit ERROR: [09:28:56] SMILES Parse Error: Failed parsing SMILES 'N[(=O)(C@@H]NCC(CO(O)C(C1)O' for input: 'N[(=O)(C@@H]NCC(CO(O)C(C1)O'\n"
          ],
          "name": "stderr"
        },
        {
          "output_type": "stream",
          "text": [
            "\n",
            "\n",
            "\n",
            "\n",
            "\n"
          ],
          "name": "stdout"
        },
        {
          "output_type": "stream",
          "text": [
            "RDKit ERROR: [09:28:56] SMILES Parse Error: syntax error while parsing: Nc1cc(N)c(N)c(=)=O)c\n",
            "RDKit ERROR: [09:28:56] SMILES Parse Error: Failed parsing SMILES 'Nc1cc(N)c(N)c(=)=O)c' for input: 'Nc1cc(N)c(N)c(=)=O)c'\n",
            "RDKit ERROR: [09:28:56] SMILES Parse Error: unclosed ring for input: 'NCCC21CCNC(=O)N'\n",
            "RDKit ERROR: [09:28:56] SMILES Parse Error: syntax error while parsing: NC(=O)[C@@H]@CO2[C@CC(O)=O@\n",
            "RDKit ERROR: [09:28:56] SMILES Parse Error: Failed parsing SMILES 'NC(=O)[C@@H]@CO2[C@CC(O)=O@' for input: 'NC(=O)[C@@H]@CO2[C@CC(O)=O@'\n",
            "RDKit ERROR: [09:28:56] SMILES Parse Error: syntax error while parsing: CNCCOC(C@CC@H][(=CCNNC(C))C1O)1\n",
            "RDKit ERROR: [09:28:56] SMILES Parse Error: Failed parsing SMILES 'CNCCOC(C@CC@H][(=CCNNC(C))C1O)1' for input: 'CNCCOC(C@CC@H][(=CCNNC(C))C1O)1'\n",
            "RDKit ERROR: [09:28:56] SMILES Parse Error: extra close parentheses while parsing: NCC=O)C(1c((O)(=)H]nH])C(@H]1O\n",
            "RDKit ERROR: [09:28:56] SMILES Parse Error: Failed parsing SMILES 'NCC=O)C(1c((O)(=)H]nH])C(@H]1O' for input: 'NCC=O)C(1c((O)(=)H]nH])C(@H]1O'\n"
          ],
          "name": "stderr"
        },
        {
          "output_type": "stream",
          "text": [
            "\n",
            "\n",
            "\n",
            "\n",
            "\n"
          ],
          "name": "stdout"
        },
        {
          "output_type": "stream",
          "text": [
            "RDKit ERROR: [09:28:56] SMILES Parse Error: syntax error while parsing: COCcHc(CNCnH)N\n",
            "RDKit ERROR: [09:28:56] SMILES Parse Error: Failed parsing SMILES 'COCcHc(CNCnH)N' for input: 'COCcHc(CNCnH)N'\n",
            "RDKit ERROR: [09:28:56] SMILES Parse Error: syntax error while parsing: NCC(O)CC=OCnH\n",
            "RDKit ERROR: [09:28:56] SMILES Parse Error: Failed parsing SMILES 'NCC(O)CC=OCnH' for input: 'NCC(O)CC=OCnH'\n",
            "RDKit ERROR: [09:28:56] SMILES Parse Error: syntax error while parsing: CO[C@@H]1OO[C@O)]OO)(=O)O1\n",
            "RDKit ERROR: [09:28:56] SMILES Parse Error: Failed parsing SMILES 'CO[C@@H]1OO[C@O)]OO)(=O)O1' for input: 'CO[C@@H]1OO[C@O)]OO)(=O)O1'\n",
            "RDKit ERROR: [09:28:56] SMILES Parse Error: unclosed ring for input: 'CC(C)1(=O)COC'\n",
            "RDKit ERROR: [09:28:56] SMILES Parse Error: extra close parentheses while parsing: O=C1O)[C@HC(=O)C\n",
            "RDKit ERROR: [09:28:56] SMILES Parse Error: Failed parsing SMILES 'O=C1O)[C@HC(=O)C' for input: 'O=C1O)[C@HC(=O)C'\n"
          ],
          "name": "stderr"
        },
        {
          "output_type": "stream",
          "text": [
            "\n",
            "\n",
            "\n",
            "\n",
            "\n",
            "\n",
            "\n",
            "\n",
            "\n"
          ],
          "name": "stdout"
        },
        {
          "output_type": "stream",
          "text": [
            "RDKit ERROR: [09:28:56] SMILES Parse Error: extra close parentheses while parsing: CCCC)C1[C@@H]1COCNCCN=O)O)C\n",
            "RDKit ERROR: [09:28:56] SMILES Parse Error: Failed parsing SMILES 'CCCC)C1[C@@H]1COCNCCN=O)O)C' for input: 'CCCC)C1[C@@H]1COCNCCN=O)O)C'\n",
            "RDKit ERROR: [09:28:56] SMILES Parse Error: syntax error while parsing: CC(C)C]N1C[C@@H](O)C@HC(C)=O(O)\n",
            "RDKit ERROR: [09:28:56] SMILES Parse Error: Failed parsing SMILES 'CC(C)C]N1C[C@@H](O)C@HC(C)=O(O)' for input: 'CC(C)C]N1C[C@@H](O)C@HC(C)=O(O)'\n",
            "RDKit ERROR: [09:28:56] SMILES Parse Error: syntax error while parsing: C=CCCC((1O[C@H]2CCCC[C@H](COCCC\n",
            "RDKit ERROR: [09:28:56] SMILES Parse Error: Failed parsing SMILES 'C=CCCC((1O[C@H]2CCCC[C@H](COCCC' for input: 'C=CCCC((1O[C@H]2CCCC[C@H](COCCC'\n",
            "RDKit ERROR: [09:28:56] SMILES Parse Error: syntax error while parsing: N[C@]1(CCC@H](N)[C@H]1=N\n",
            "RDKit ERROR: [09:28:56] SMILES Parse Error: Failed parsing SMILES 'N[C@]1(CCC@H](N)[C@H]1=N' for input: 'N[C@]1(CCC@H](N)[C@H]1=N'\n"
          ],
          "name": "stderr"
        },
        {
          "output_type": "execute_result",
          "data": {
            "image/png": "[encoded data removed]",
            "text/plain": [
              "<rdkit.Chem.rdchem.Mol at 0x7fb291ab2da0>"
            ]
          },
          "metadata": {
            "tags": []
          },
          "execution_count": 44
        }
      ]
    },
    {
      "cell_type": "markdown",
      "metadata": {
        "id": "vNRxq1aZRnHx",
        "colab_type": "text"
      },
      "source": [
        "# **Visualizing Latent Space**"
      ]
    },
    {
      "cell_type": "code",
      "metadata": {
        "id": "pcCDxehnyA3f",
        "colab_type": "code",
        "colab": {
          "base_uri": "https://localhost:8080/",
          "height": 358
        },
        "outputId": "00673e6a-3f76-41a8-b391-be758103a769"
      },
      "source": [
        "from scipy.stats import norm\n",
        "\n",
        "z_test = vae_encoder.predict(X_test)\n",
        "\n",
        "x = np.linspace(-3, 3, 300)\n",
        "\n",
        "fig = plt.figure(figsize=(20, 20))\n",
        "fig.subplots_adjust(hspace=0.6, wspace=0.4)\n",
        "\n",
        "for i in range(20):\n",
        "    ax = fig.add_subplot(5, 10, i+1)\n",
        "    ax.hist(z_test[:,i], density=True, bins = 20)\n",
        "    ax.axis('on')\n",
        "    ax.text(0.5, -0.35, str(i), fontsize=10, ha='center', transform=ax.transAxes)\n",
        "    ax.plot(x,norm.pdf(x))\n",
        "\n",
        "plt.show()"
      ],
      "execution_count": 24,
      "outputs": [
        {
          "output_type": "display_data",
          "data": {
            "image/png": "[encoded data removed]",
            "text/plain": [
              "<Figure size 1440x1440 with 20 Axes>"
            ]
          },
          "metadata": {
            "tags": [],
            "needs_background": "light"
          }
        }
      ]
    },
    {
      "cell_type": "code",
      "metadata": {
        "id": "vqgaryEJyBAW",
        "colab_type": "code",
        "colab": {
          "base_uri": "https://localhost:8080/",
          "height": 667
        },
        "outputId": "d0d3e5e3-1159-4c17-a81e-6b49a0e74acd"
      },
      "source": [
        "from sklearn.manifold import TSNE\n",
        "z_mean = vae_encoder.predict(X_test)\n",
        "print(z_mean)\n",
        "model_name='VAESMILES_Latent'\n",
        "os.makedirs(model_name, exist_ok=True)\n",
        "filename = os.path.join(model_name, \"smilesvae_mean.png\")\n",
        "\n",
        "z_embedded = TSNE(n_components=2).fit_transform(z_mean)\n",
        "plt.figure(figsize=(7,7))\n",
        "plt.scatter(z_embedded[:, 0], z_embedded[:, 1])\n",
        "plt.colorbar()\n",
        "plt.xlabel(\"z[0]\")\n",
        "plt.ylabel(\"z[1]\")\n",
        "plt.savefig(filename)\n",
        "plt.show()"
      ],
      "execution_count": 25,
      "outputs": [
        {
          "output_type": "stream",
          "text": [
            "[[ 0.13326564  1.9844364  -0.21922754 ...  0.9696759   1.1072975\n",
            "   0.13467588]\n",
            " [-1.3844739  -1.9481816  -1.2939259  ... -0.664058    1.8515873\n",
            "   0.3635982 ]\n",
            " [-1.1578335   0.49883235 -0.06301127 ...  0.2617617  -0.59133947\n",
            "   0.8755739 ]\n",
            " ...\n",
            " [-1.3613272   0.3504571  -1.089019   ...  1.1404645   1.490412\n",
            "   0.7800407 ]\n",
            " [ 0.6352138   2.43427     0.21110402 ...  0.8287787   1.3367052\n",
            "   1.3963901 ]\n",
            " [ 1.1578147   0.04907709  0.80206585 ... -0.46916103 -0.5397355\n",
            "   0.90849006]]\n"
          ],
          "name": "stdout"
        },
        {
          "output_type": "display_data",
          "data": {
            "image/png": "[encoded data removed]",
            "text/plain": [
              "<Figure size 504x504 with 2 Axes>"
            ]
          },
          "metadata": {
            "tags": [],
            "needs_background": "light"
          }
        }
      ]
    },
    {
      "cell_type": "code",
      "metadata": {
        "id": "9XSErvzmNbVs",
        "colab_type": "code",
        "colab": {
          "base_uri": "https://localhost:8080/",
          "height": 51
        },
        "outputId": "de0826d9-17ee-4eb4-a6f3-09bd7f81735e"
      },
      "source": [
        "print(z_mean.shape)\n",
        "print(z_embedded.shape)"
      ],
      "execution_count": 26,
      "outputs": [
        {
          "output_type": "stream",
          "text": [
            "(948, 20)\n",
            "(948, 2)\n"
          ],
          "name": "stdout"
        }
      ]
    },
    {
      "cell_type": "code",
      "metadata": {
        "id": "O1N6mOGU_vvj",
        "colab_type": "code",
        "colab": {}
      },
      "source": [
        ""
      ],
      "execution_count": 26,
      "outputs": []
    }
  ]
}