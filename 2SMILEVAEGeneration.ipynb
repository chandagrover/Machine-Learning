{
  "nbformat": 4,
  "nbformat_minor": 0,
  "metadata": {
    "colab": {
      "name": "2SMILEVAEGeneration.ipynb",
      "provenance": [],
      "authorship_tag": "ABX9TyPDvujlhTVO0xpMugaPClJh",
      "include_colab_link": true
    },
    "kernelspec": {
      "name": "python3",
      "display_name": "Python 3"
    },
    "accelerator": "GPU"
  },
  "cells": [
    {
      "cell_type": "markdown",
      "metadata": {
        "id": "view-in-github",
        "colab_type": "text"
      },
      "source": [
        "<a href=\"https://colab.research.google.com/github/chandagrover/Machine-Learning/blob/master/2SMILEVAEGeneration.ipynb\" target=\"_parent\"><img src=\"https://colab.research.google.com/assets/colab-badge.svg\" alt=\"Open In Colab\"/></a>"
      ]
    },
    {
      "cell_type": "markdown",
      "metadata": {
        "id": "-Tjhur_CPO6B",
        "colab_type": "text"
      },
      "source": [
        "# **Basic Installs and Imports**"
      ]
    },
    {
      "cell_type": "code",
      "metadata": {
        "id": "8CpP20jyRc3N",
        "colab_type": "code",
        "colab": {
          "base_uri": "https://localhost:8080/",
          "height": 1000
        },
        "outputId": "3c82bf32-7c40-426d-a58c-4385b3d2e340"
      },
      "source": [
        "!wget -c https://repo.continuum.io/miniconda/Miniconda3-py37_4.8.3-Linux-x86_64.sh\n",
        "!chmod +x Miniconda3-py37_4.8.3-Linux-x86_64.sh\n",
        "!time bash ./Miniconda3-py37_4.8.3-Linux-x86_64.sh -b -f -p /usr/local\n",
        "!time conda install -q -y -c conda-forge rdkit\n",
        "import sys\n",
        "sys.path.append('/usr/local/lib/python3.7/site-packages/')"
      ],
      "execution_count": 1,
      "outputs": [
        {
          "output_type": "stream",
          "text": [
            "--2020-09-20 07:23:59--  https://repo.continuum.io/miniconda/Miniconda3-py37_4.8.3-Linux-x86_64.sh\n",
            "Resolving repo.continuum.io (repo.continuum.io)... 104.18.201.79, 104.18.200.79, 2606:4700::6812:c84f, ...\n",
            "Connecting to repo.continuum.io (repo.continuum.io)|104.18.201.79|:443... connected.\n",
            "HTTP request sent, awaiting response... 301 Moved Permanently\n",
            "Location: https://repo.anaconda.com/miniconda/Miniconda3-py37_4.8.3-Linux-x86_64.sh [following]\n",
            "--2020-09-20 07:23:59--  https://repo.anaconda.com/miniconda/Miniconda3-py37_4.8.3-Linux-x86_64.sh\n",
            "Resolving repo.anaconda.com (repo.anaconda.com)... 104.16.131.3, 104.16.130.3, 2606:4700::6810:8203, ...\n",
            "Connecting to repo.anaconda.com (repo.anaconda.com)|104.16.131.3|:443... connected.\n",
            "HTTP request sent, awaiting response... 416 Requested Range Not Satisfiable\n",
            "\n",
            "    The file is already fully retrieved; nothing to do.\n",
            "\n",
            "PREFIX=/usr/local\n",
            "Unpacking payload ...\n",
            "Collecting package metadata (current_repodata.json): - \b\b\\ \b\bdone\n",
            "Solving environment: / \b\b- \b\b\\ \b\b| \b\b/ \b\b- \b\b\\ \b\b| \b\b/ \b\b- \b\b\\ \b\b| \b\bfailed with initial frozen solve. Retrying with flexible solve.\n",
            "Solving environment: - \b\b\\ \b\b| \b\b/ \b\b- \b\b\\ \b\bfailed with repodata from current_repodata.json, will retry with next repodata source.\n",
            "Collecting package metadata (repodata.json): / \b\bdone\n",
            "Solving environment: \\ \b\b| \b\b/ \b\b- \b\b\\ \b\b| \b\b/ \b\b- \b\b\\ \b\b| \b\b/ \b\bfailed with initial frozen solve. Retrying with flexible solve.\n",
            "Solving environment: \\ \b\b| \b\b/ \b\b- \b\b\\ \b\b| \n",
            "Found conflicts! Looking for incompatible packages.\n",
            "This can take several minutes.  Press CTRL-C to abort.\n",
            "\b\bfailed\n",
            "\n",
            "UnsatisfiableError: The following specifications were found to be incompatible with each other:\n",
            "\n",
            "Output in format: Requested package -> Available versions\n",
            "\n",
            "Package libgcc-ng conflicts for:\n",
            "lcms2 -> libtiff[version='>=4.1.0,<5.0a0'] -> libgcc-ng[version='>=7.3.0']\n",
            "pycosat==0.6.3=py37h7b6447c_0 -> libgcc-ng[version='>=7.3.0']\n",
            "libopenblas -> libgcc-ng[version='>=7.5.0']\n",
            "numpy -> libgcc-ng[version='>=7.5.0']\n",
            "jpeg -> libgcc-ng[version='>=7.5.0']\n",
            "python==3.7.7=hcff3b4d_5 -> openssl[version='>=1.1.1g,<1.1.2a'] -> libgcc-ng[version='>=7.5.0']\n",
            "python-dateutil -> python -> libgcc-ng[version='>=7.3.0']\n",
            "pandas -> libgcc-ng[version='>=7.5.0']\n",
            "cairo -> fontconfig[version='>=2.13.1,<3.0a0'] -> libgcc-ng[version='>=7.3.0']\n",
            "ruamel_yaml==0.15.87=py37h7b6447c_0 -> libgcc-ng[version='>=7.3.0']\n",
            "boost-cpp -> libgcc-ng[version='>=7.5.0']\n",
            "xorg-libxext -> xorg-libx11=1.6 -> libgcc-ng[version='>=7.5.0']\n",
            "xorg-libx11 -> libgcc-ng[version='>=7.5.0']\n",
            "pandas -> python[version='>=3.7,<3.8.0a0'] -> libgcc-ng[version='>=7.3.0']\n",
            "pycairo -> libgcc-ng[version='>=7.3.0']\n",
            "lcms2 -> libgcc-ng[version='>=7.5.0']\n",
            "freetype -> libpng[version='>=1.6.37,<1.7.0a0'] -> libgcc-ng[version='>=7.5.0']\n",
            "libblas -> libopenblas[version='>=0.3.10,<0.3.11.0a0'] -> libgcc-ng[version='>=7.5.0']\n",
            "libffi==3.3=he6710b0_1 -> libgcc-ng[version='>=7.3.0']\n",
            "libxml2 -> libgcc-ng[version='>=7.5.0']\n",
            "xz==5.2.5=h7b6447c_0 -> libgcc-ng[version='>=7.3.0']\n",
            "requests==2.23.0=py37_0 -> python[version='>=3.7,<3.8.0a0'] -> libgcc-ng[version='>=7.3.0']\n",
            "libpng -> zlib[version='>=1.2.11,<1.3.0a0'] -> libgcc-ng[version='>=7.3.0']\n",
            "pillow -> freetype[version='>=2.9.1,<3.0a0'] -> libgcc-ng[version='>=7.3.0']\n",
            "rdkit -> freetype[version='>=2.9.1,<3.0a0'] -> libgcc-ng[version='>=7.3.0']\n",
            "xorg-libxext -> libgcc-ng[version='>=7.3.0']\n",
            "xorg-libice -> libgcc-ng[version='>=7.3.0']\n",
            "fontconfig -> libpng[version='>=1.6.37,<1.7.0a0'] -> libgcc-ng[version='>=7.5.0']\n",
            "pycparser==2.20=py_0 -> python -> libgcc-ng[version='>=7.3.0']\n",
            "python==3.7.7=hcff3b4d_5 -> libgcc-ng[version='>=7.3.0']\n",
            "rdkit -> libgcc-ng[version='>=7.5.0']\n",
            "idna==2.9=py_1 -> python -> libgcc-ng[version='>=7.3.0']\n",
            "pixman -> libgcc-ng[version='>=7.3.0']\n",
            "lz4-c -> libgcc-ng[version='>=7.5.0']\n",
            "ruamel_yaml==0.15.87=py37h7b6447c_0 -> yaml[version='>=0.1.7,<0.2.0a0'] -> libgcc-ng[version='>=7.2.0']\n",
            "xorg-libxrender -> xorg-libx11=1.6 -> libgcc-ng[version='>=7.5.0']\n",
            "xorg-libxrender -> libgcc-ng[version='>=7.3.0']\n",
            "libxcb -> libgcc-ng[version='>=7.3.0']\n",
            "chardet==3.0.4=py37_1003 -> python[version='>=3.7,<3.8.0a0'] -> libgcc-ng[version='>=7.3.0']\n",
            "cffi==1.14.0=py37he30daa8_1 -> libgcc-ng[version='>=7.3.0']\n",
            "sqlite==3.31.1=h62c20be_1 -> libgcc-ng[version='>=7.3.0']\n",
            "certifi==2020.4.5.1=py37_0 -> python[version='>=3.7,<3.8.0a0'] -> libgcc-ng[version='>=7.3.0']\n",
            "cryptography==2.9.2=py37h1ba5d50_0 -> libgcc-ng[version='>=7.3.0']\n",
            "libtiff -> jpeg[version='>=9c,<10a'] -> libgcc-ng[version='>=7.5.0']\n",
            "glib -> libgcc-ng[version='>=7.3.0']\n",
            "bzip2 -> libgcc-ng[version='>=7.5.0']\n",
            "pysocks==1.7.1=py37_0 -> python[version='>=3.7,<3.8.0a0'] -> libgcc-ng[version='>=7.3.0']\n",
            "tk==8.6.8=hbc83047_0 -> libgcc-ng[version='>=7.3.0']\n",
            "zstd -> xz[version='>=5.2.5,<5.3.0a0'] -> libgcc-ng[version='>=7.3.0']\n",
            "zlib==1.2.11=h7b6447c_3 -> libgcc-ng[version='>=7.3.0']\n",
            "icu -> libgcc-ng[version='>=7.3.0']\n",
            "freetype -> libgcc-ng[version='>=7.3.0']\n",
            "python_abi -> python=3.7 -> libgcc-ng[version='>=7.3.0']\n",
            "olefile -> python -> libgcc-ng[version='>=7.3.0']\n",
            "pcre -> libgcc-ng[version='>=7.3.0']\n",
            "libuuid -> libgcc-ng[version='>=7.3.0']\n",
            "tqdm==4.46.0=py_0 -> python -> libgcc-ng[version='>=7.3.0']\n",
            "libiconv -> libgcc-ng[version='>=7.5.0']\n",
            "ncurses==6.2=he6710b0_1 -> libgcc-ng[version='>=7.3.0']\n",
            "xorg-xextproto -> libgcc-ng[version='>=7.3.0']\n",
            "setuptools==46.4.0=py37_0 -> python[version='>=3.7,<3.8.0a0'] -> libgcc-ng[version='>=7.3.0']\n",
            "xorg-kbproto -> libgcc-ng[version='>=7.3.0']\n",
            "pyopenssl==19.1.0=py37_0 -> cryptography[version='>=2.8'] -> libgcc-ng[version='>=7.3.0']\n",
            "readline==8.0=h7b6447c_0 -> libgcc-ng[version='>=7.3.0']\n",
            "libpng -> libgcc-ng[version='>=7.5.0']\n",
            "libedit==3.1.20181209=hc058e9b_0 -> libgcc-ng[version='>=7.3.0']\n",
            "boost-cpp -> icu[version='>=67.1,<68.0a0'] -> libgcc-ng[version='>=7.3.0']\n",
            "libxml2 -> icu[version='>=67.1,<68.0a0'] -> libgcc-ng[version='>=7.3.0']\n",
            "xorg-libxau -> libgcc-ng[version='>=7.3.0']\n",
            "pytz -> python -> libgcc-ng[version='>=7.3.0']\n",
            "numpy -> python[version='>=3.7,<3.8.0a0'] -> libgcc-ng[version='>=7.3.0']\n",
            "openssl==1.1.1g=h7b6447c_0 -> libgcc-ng[version='>=7.3.0']\n",
            "pthread-stubs -> libgcc-ng[version='>=7.3.0']\n",
            "wheel==0.34.2=py37_0 -> python[version='>=3.7,<3.8.0a0'] -> libgcc-ng[version='>=7.3.0']\n",
            "cryptography==2.9.2=py37h1ba5d50_0 -> openssl[version='>=1.1.1g,<1.1.2a'] -> libgcc-ng[version='>=7.5.0']\n",
            "pip==20.0.2=py37_3 -> python[version='>=3.7,<3.8.0a0'] -> libgcc-ng[version='>=7.3.0']\n",
            "xorg-libsm -> libgcc-ng[version='>=7.3.0']\n",
            "xorg-renderproto -> libgcc-ng[version='>=7.3.0']\n",
            "zstd -> libgcc-ng[version='>=7.5.0']\n",
            "six==1.14.0=py37_0 -> python[version='>=3.7,<3.8.0a0'] -> libgcc-ng[version='>=7.3.0']\n",
            "cairo -> libgcc-ng[version='>=7.5.0']\n",
            "xorg-xproto -> libgcc-ng[version='>=7.3.0']\n",
            "conda-package-handling==1.6.1=py37h7b6447c_0 -> libgcc-ng[version='>=7.3.0']\n",
            "conda==4.8.3=py37_0 -> conda-package-handling[version='>=1.3.0'] -> libgcc-ng[version='>=7.3.0']\n",
            "urllib3==1.25.8=py37_0 -> cryptography[version='>=1.3.4'] -> libgcc-ng[version='>=7.3.0']\n",
            "yaml==0.1.7=had09818_2 -> libgcc-ng[version='>=7.2.0']\n",
            "fontconfig -> libgcc-ng[version='>=7.3.0']\n",
            "libwebp-base -> libgcc-ng[version='>=7.3.0']\n",
            "libtiff -> libgcc-ng[version='>=7.3.0']\n",
            "boost -> libgcc-ng[version='>=7.5.0']\n",
            "pillow -> libgcc-ng[version='>=7.5.0']\n",
            "xorg-libx11 -> libxcb=1 -> libgcc-ng[version='>=7.3.0']\n",
            "pycairo -> cairo[version='>=1.16.0,<1.17.0a0'] -> libgcc-ng[version='>=7.5.0']\n",
            "boost -> python[version='>=3.7,<3.8.0a0'] -> libgcc-ng[version='>=7.3.0']\n",
            "libgcc-ng==9.1.0=hdf63c60_0\n",
            "\n",
            "Package _libgcc_mutex conflicts for:\n",
            "tk==8.6.8=hbc83047_0 -> libgcc-ng[version='>=7.3.0'] -> _libgcc_mutex=[build=main]\n",
            "numpy -> libgcc-ng[version='>=7.5.0'] -> _libgcc_mutex=[build=main]\n",
            "icu -> libgcc-ng[version='>=7.3.0'] -> _libgcc_mutex=[build=main]\n",
            "libxcb -> libgcc-ng[version='>=7.3.0'] -> _libgcc_mutex=[build=main]\n",
            "bzip2 -> libgcc-ng[version='>=7.5.0'] -> _libgcc_mutex=[build=main]\n",
            "libpng -> libgcc-ng[version='>=7.5.0'] -> _libgcc_mutex=[build=main]\n",
            "xorg-libx11 -> libgcc-ng[version='>=7.5.0'] -> _libgcc_mutex=[build=main]\n",
            "ncurses==6.2=he6710b0_1 -> libgcc-ng[version='>=7.3.0'] -> _libgcc_mutex=[build=main]\n",
            "boost-cpp -> libgcc-ng[version='>=7.5.0'] -> _libgcc_mutex=[build=main]\n",
            "xorg-libxext -> libgcc-ng[version='>=7.3.0'] -> _libgcc_mutex=[build=main]\n",
            "lcms2 -> libgcc-ng[version='>=7.5.0'] -> _libgcc_mutex=[build=main]\n",
            "cairo -> libgcc-ng[version='>=7.5.0'] -> _libgcc_mutex=[build=main]\n",
            "xorg-xextproto -> libgcc-ng[version='>=7.3.0'] -> _libgcc_mutex=[build=main]\n",
            "libedit==3.1.20181209=hc058e9b_0 -> libgcc-ng[version='>=7.3.0'] -> _libgcc_mutex=[build=main]\n",
            "pillow -> libgcc-ng[version='>=7.5.0'] -> _libgcc_mutex=[build=main]\n",
            "pycairo -> libgcc-ng[version='>=7.3.0'] -> _libgcc_mutex=[build=main]\n",
            "lz4-c -> libgcc-ng[version='>=7.5.0'] -> _libgcc_mutex=[build=main]\n",
            "cffi==1.14.0=py37he30daa8_1 -> libgcc-ng[version='>=7.3.0'] -> _libgcc_mutex=[build=main]\n",
            "zstd -> libgcc-ng[version='>=7.5.0'] -> _libgcc_mutex=[build=main]\n",
            "_libgcc_mutex==0.1=main\n",
            "xorg-libxau -> libgcc-ng[version='>=7.3.0'] -> _libgcc_mutex=[build=main]\n",
            "xorg-kbproto -> libgcc-ng[version='>=7.3.0'] -> _libgcc_mutex=[build=main]\n",
            "xorg-libxrender -> libgcc-ng[version='>=7.3.0'] -> _libgcc_mutex=[build=main]\n",
            "libwebp-base -> libgcc-ng[version='>=7.3.0'] -> _libgcc_mutex=[build=main]\n",
            "libiconv -> libgcc-ng[version='>=7.5.0'] -> _libgcc_mutex=[build=main]\n",
            "sqlite==3.31.1=h62c20be_1 -> libgcc-ng[version='>=7.3.0'] -> _libgcc_mutex=[build=main]\n",
            "pcre -> libgcc-ng[version='>=7.3.0'] -> _libgcc_mutex=[build=main]\n",
            "openssl==1.1.1g=h7b6447c_0 -> libgcc-ng[version='>=7.3.0'] -> _libgcc_mutex=[build=main]\n",
            "python==3.7.7=hcff3b4d_5 -> libgcc-ng[version='>=7.3.0'] -> _libgcc_mutex=[build=main]\n",
            "libffi==3.3=he6710b0_1 -> libgcc-ng[version='>=7.3.0'] -> _libgcc_mutex=[build=main]\n",
            "libxml2 -> libgcc-ng[version='>=7.5.0'] -> _libgcc_mutex=[build=main]\n",
            "readline==8.0=h7b6447c_0 -> libgcc-ng[version='>=7.3.0'] -> _libgcc_mutex=[build=main]\n",
            "xorg-libsm -> libgcc-ng[version='>=7.3.0'] -> _libgcc_mutex=[build=main]\n",
            "glib -> libgcc-ng[version='>=7.3.0'] -> _libgcc_mutex=[build=main]\n",
            "pthread-stubs -> libgcc-ng[version='>=7.3.0'] -> _libgcc_mutex=[build=main]\n",
            "zlib==1.2.11=h7b6447c_3 -> libgcc-ng[version='>=7.3.0'] -> _libgcc_mutex=[build=main]\n",
            "boost -> libgcc-ng[version='>=7.5.0'] -> _libgcc_mutex=[build=main]\n",
            "xorg-renderproto -> libgcc-ng[version='>=7.3.0'] -> _libgcc_mutex=[build=main]\n",
            "rdkit -> libgcc-ng[version='>=7.5.0'] -> _libgcc_mutex=[build=main]\n",
            "ruamel_yaml==0.15.87=py37h7b6447c_0 -> libgcc-ng[version='>=7.3.0'] -> _libgcc_mutex=[build=main]\n",
            "xorg-xproto -> libgcc-ng[version='>=7.3.0'] -> _libgcc_mutex=[build=main]\n",
            "jpeg -> libgcc-ng[version='>=7.5.0'] -> _libgcc_mutex=[build=main]\n",
            "conda-package-handling==1.6.1=py37h7b6447c_0 -> libgcc-ng[version='>=7.3.0'] -> _libgcc_mutex=[build=main]\n",
            "yaml==0.1.7=had09818_2 -> libgcc-ng[version='>=7.2.0'] -> _libgcc_mutex=[build=main]\n",
            "pandas -> libgcc-ng[version='>=7.5.0'] -> _libgcc_mutex=[build=main]\n",
            "xorg-libice -> libgcc-ng[version='>=7.3.0'] -> _libgcc_mutex=[build=main]\n",
            "libgcc-ng==9.1.0=hdf63c60_0 -> _libgcc_mutex=[build=main]\n",
            "libuuid -> libgcc-ng[version='>=7.3.0'] -> _libgcc_mutex=[build=main]\n",
            "pixman -> libgcc-ng[version='>=7.3.0'] -> _libgcc_mutex=[build=main]\n",
            "libopenblas -> libgcc-ng[version='>=7.5.0'] -> _libgcc_mutex=[build=main]\n",
            "freetype -> libgcc-ng[version='>=7.3.0'] -> _libgcc_mutex=[build=main]\n",
            "xz==5.2.5=h7b6447c_0 -> libgcc-ng[version='>=7.3.0'] -> _libgcc_mutex=[build=main]\n",
            "fontconfig -> libgcc-ng[version='>=7.3.0'] -> _libgcc_mutex=[build=main]\n",
            "cryptography==2.9.2=py37h1ba5d50_0 -> libgcc-ng[version='>=7.3.0'] -> _libgcc_mutex=[build=main]\n",
            "pycosat==0.6.3=py37h7b6447c_0 -> libgcc-ng[version='>=7.3.0'] -> _libgcc_mutex=[build=main]\n",
            "libtiff -> libgcc-ng[version='>=7.3.0'] -> _libgcc_mutex=[build=main]\n",
            "\n",
            "Package pycosat conflicts for:\n",
            "pycosat==0.6.3=py37h7b6447c_0\n",
            "conda==4.8.3=py37_0 -> pycosat[version='>=0.6.3']\n",
            "\n",
            "Package zlib conflicts for:\n",
            "pycairo -> cairo[version='>=1.16.0,<1.17.0a0'] -> zlib[version='>=1.2.11,<1.3.0a0']\n",
            "lcms2 -> libtiff[version='>=4.1.0,<5.0a0'] -> zlib[version='>=1.2.11,<1.3.0a0']\n",
            "libpng -> zlib[version='>=1.2.11,<1.3.0a0']\n",
            "python==3.7.7=hcff3b4d_5 -> zlib[version='>=1.2.11,<1.3.0a0']\n",
            "requests==2.23.0=py37_0 -> python[version='>=3.7,<3.8.0a0'] -> zlib[version='>=1.2.11,<1.3.0a0']\n",
            "pyopenssl==19.1.0=py37_0 -> python[version='>=3.7,<3.8.0a0'] -> zlib[version='>=1.2.11,<1.3.0a0']\n",
            "certifi==2020.4.5.1=py37_0 -> python[version='>=3.7,<3.8.0a0'] -> zlib[version='>=1.2.11,<1.3.0a0']\n",
            "ruamel_yaml==0.15.87=py37h7b6447c_0 -> python[version='>=3.7,<3.8.0a0'] -> zlib[version='>=1.2.11,<1.3.0a0']\n",
            "urllib3==1.25.8=py37_0 -> python[version='>=3.7,<3.8.0a0'] -> zlib[version='>=1.2.11,<1.3.0a0']\n",
            "pandas -> python[version='>=3.7,<3.8.0a0'] -> zlib[version='>=1.2.11,<1.3.0a0']\n",
            "pillow -> zlib[version='>=1.2.11,<1.3.0a0']\n",
            "glib -> zlib[version='>=1.2.11,<1.3.0a0']\n",
            "pysocks==1.7.1=py37_0 -> python[version='>=3.7,<3.8.0a0'] -> zlib[version='>=1.2.11,<1.3.0a0']\n",
            "conda-package-handling==1.6.1=py37h7b6447c_0 -> python[version='>=3.7,<3.8.0a0'] -> zlib[version='>=1.2.11,<1.3.0a0']\n",
            "cairo -> zlib[version='>=1.2.11,<1.3.0a0']\n",
            "zlib==1.2.11=h7b6447c_3\n",
            "fontconfig -> freetype[version='>=2.9.1,<3.0a0'] -> zlib[version='>=1.2.11,<1.3.0a0']\n",
            "cryptography==2.9.2=py37h1ba5d50_0 -> python[version='>=3.7,<3.8.0a0'] -> zlib[version='>=1.2.11,<1.3.0a0']\n",
            "python-dateutil -> python -> zlib[version='>=1.2.11,<1.3.0a0']\n",
            "chardet==3.0.4=py37_1003 -> python[version='>=3.7,<3.8.0a0'] -> zlib[version='>=1.2.11,<1.3.0a0']\n",
            "idna==2.9=py_1 -> python -> zlib[version='>=1.2.11,<1.3.0a0']\n",
            "sqlite==3.31.1=h62c20be_1 -> zlib[version='>=1.2.11,<1.3.0a0']\n",
            "libxml2 -> zlib[version='>=1.2.11,<1.3.0a0']\n",
            "tk==8.6.8=hbc83047_0 -> zlib[version='>=1.2.11,<1.3.0a0']\n",
            "conda==4.8.3=py37_0 -> python[version='>=3.7,<3.8.0a0'] -> zlib[version='>=1.2.11,<1.3.0a0']\n",
            "python_abi -> python=3.7 -> zlib[version='>=1.2.11,<1.3.0a0']\n",
            "olefile -> python -> zlib[version='>=1.2.11,<1.3.0a0']\n",
            "pytz -> python -> zlib[version='>=1.2.11,<1.3.0a0']\n",
            "rdkit -> cairo[version='>=1.16.0,<1.17.0a0'] -> zlib[version='>=1.2.11,<1.3.0a0']\n",
            "freetype -> zlib[version='>=1.2.11,<1.3.0a0']\n",
            "pycparser==2.20=py_0 -> python -> zlib[version='>=1.2.11,<1.3.0a0']\n",
            "setuptools==46.4.0=py37_0 -> python[version='>=3.7,<3.8.0a0'] -> zlib[version='>=1.2.11,<1.3.0a0']\n",
            "libtiff -> zlib[version='>=1.2.11,<1.3.0a0']\n",
            "boost-cpp -> zstd[version='>=1.4.5,<1.5.0a0'] -> zlib[version='>=1.2.11,<1.3.0a0']\n",
            "numpy -> python[version='>=3.7,<3.8.0a0'] -> zlib[version='>=1.2.11,<1.3.0a0']\n",
            "boost -> python[version='>=3.7,<3.8.0a0'] -> zlib[version='>=1.2.11,<1.3.0a0']\n",
            "wheel==0.34.2=py37_0 -> python[version='>=3.7,<3.8.0a0'] -> zlib[version='>=1.2.11,<1.3.0a0']\n",
            "zstd -> zlib[version='>=1.2.11,<1.3.0a0']\n",
            "pycosat==0.6.3=py37h7b6447c_0 -> python[version='>=3.7,<3.8.0a0'] -> zlib[version='>=1.2.11,<1.3.0a0']\n",
            "pip==20.0.2=py37_3 -> python[version='>=3.7,<3.8.0a0'] -> zlib[version='>=1.2.11,<1.3.0a0']\n",
            "six==1.14.0=py37_0 -> python[version='>=3.7,<3.8.0a0'] -> zlib[version='>=1.2.11,<1.3.0a0']\n",
            "cffi==1.14.0=py37he30daa8_1 -> python[version='>=3.7,<3.8.0a0'] -> zlib[version='>=1.2.11,<1.3.0a0']\n",
            "tqdm==4.46.0=py_0 -> python -> zlib[version='>=1.2.11,<1.3.0a0']\n",
            "\n",
            "Package libstdcxx-ng conflicts for:\n",
            "libffi==3.3=he6710b0_1 -> libstdcxx-ng[version='>=7.3.0']\n",
            "icu -> libstdcxx-ng[version='>=7.3.0']\n",
            "libtiff -> libstdcxx-ng[version='>=7.3.0']\n",
            "ncurses==6.2=he6710b0_1 -> libstdcxx-ng[version='>=7.3.0']\n",
            "python==3.7.7=hcff3b4d_5 -> libffi[version='>=3.3,<3.4.0a0'] -> libstdcxx-ng[version='>=7.3.0']\n",
            "readline==8.0=h7b6447c_0 -> ncurses[version='>=6.1,<7.0a0'] -> libstdcxx-ng[version='>=7.3.0']\n",
            "cffi==1.14.0=py37he30daa8_1 -> libffi[version='>=3.3,<3.4.0a0'] -> libstdcxx-ng[version='>=7.3.0']\n",
            "libxml2 -> icu[version='>=67.1,<68.0a0'] -> libstdcxx-ng[version='>=7.3.0']\n",
            "libedit==3.1.20181209=hc058e9b_0 -> ncurses[version='>=6.1,<7.0a0'] -> libstdcxx-ng[version='>=7.3.0']\n",
            "cairo -> glib[version='>=2.58.3,<3.0a0'] -> libstdcxx-ng[version='>=7.3.0']\n",
            "rdkit -> libstdcxx-ng[version='>=7.5.0']\n",
            "boost-cpp -> icu[version='>=67.1,<68.0a0'] -> libstdcxx-ng[version='>=7.3.0']\n",
            "libstdcxx-ng==9.1.0=hdf63c60_0\n",
            "zstd -> libstdcxx-ng[version='>=7.5.0']\n",
            "fontconfig -> icu[version='>=67.1,<68.0a0'] -> libstdcxx-ng[version='>=7.3.0']\n",
            "pandas -> libstdcxx-ng[version='>=7.5.0']\n",
            "libtiff -> zstd[version='>=1.4.4,<1.5.0.0a0'] -> libstdcxx-ng[version='>=7.5.0']\n",
            "lcms2 -> libtiff[version='>=4.1.0,<5.0a0'] -> libstdcxx-ng[version='>=7.3.0']\n",
            "sqlite==3.31.1=h62c20be_1 -> ncurses[version='>=6.2,<7.0a0'] -> libstdcxx-ng[version='>=7.3.0']\n",
            "lz4-c -> libstdcxx-ng[version='>=7.5.0']\n",
            "pillow -> libtiff[version='>=4.1.0,<5.0a0'] -> libstdcxx-ng[version='>=7.3.0']\n",
            "boost-cpp -> libstdcxx-ng[version='>=7.5.0']\n",
            "boost -> libstdcxx-ng[version='>=7.5.0']\n",
            "pcre -> libstdcxx-ng[version='>=7.3.0']\n",
            "glib -> libstdcxx-ng[version='>=7.3.0']\n",
            "\n",
            "Package ld_impl_linux-64 conflicts for:\n",
            "pycairo -> python[version='>=3.7,<3.8.0a0'] -> ld_impl_linux-64\n",
            "pytz -> python -> ld_impl_linux-64\n",
            "numpy -> python[version='>=3.7,<3.8.0a0'] -> ld_impl_linux-64\n",
            "conda==4.8.3=py37_0 -> python[version='>=3.7,<3.8.0a0'] -> ld_impl_linux-64\n",
            "python_abi -> python=3.7 -> ld_impl_linux-64\n",
            "pip==20.0.2=py37_3 -> python[version='>=3.7,<3.8.0a0'] -> ld_impl_linux-64\n",
            "pycparser==2.20=py_0 -> python -> ld_impl_linux-64\n",
            "conda-package-handling==1.6.1=py37h7b6447c_0 -> python[version='>=3.7,<3.8.0a0'] -> ld_impl_linux-64\n",
            "wheel==0.34.2=py37_0 -> python[version='>=3.7,<3.8.0a0'] -> ld_impl_linux-64\n",
            "setuptools==46.4.0=py37_0 -> python[version='>=3.7,<3.8.0a0'] -> ld_impl_linux-64\n",
            "boost -> python[version='>=3.7,<3.8.0a0'] -> ld_impl_linux-64\n",
            "urllib3==1.25.8=py37_0 -> python[version='>=3.7,<3.8.0a0'] -> ld_impl_linux-64\n",
            "cffi==1.14.0=py37he30daa8_1 -> python[version='>=3.7,<3.8.0a0'] -> ld_impl_linux-64\n",
            "chardet==3.0.4=py37_1003 -> python[version='>=3.7,<3.8.0a0'] -> ld_impl_linux-64\n",
            "ld_impl_linux-64==2.33.1=h53a641e_7\n",
            "pycosat==0.6.3=py37h7b6447c_0 -> python[version='>=3.7,<3.8.0a0'] -> ld_impl_linux-64\n",
            "six==1.14.0=py37_0 -> python[version='>=3.7,<3.8.0a0'] -> ld_impl_linux-64\n",
            "requests==2.23.0=py37_0 -> python[version='>=3.7,<3.8.0a0'] -> ld_impl_linux-64\n",
            "python-dateutil -> python -> ld_impl_linux-64\n",
            "python==3.7.7=hcff3b4d_5 -> ld_impl_linux-64\n",
            "pyopenssl==19.1.0=py37_0 -> python[version='>=3.7,<3.8.0a0'] -> ld_impl_linux-64\n",
            "idna==2.9=py_1 -> python -> ld_impl_linux-64\n",
            "ruamel_yaml==0.15.87=py37h7b6447c_0 -> python[version='>=3.7,<3.8.0a0'] -> ld_impl_linux-64\n",
            "pillow -> python[version='>=3.7,<3.8.0a0'] -> ld_impl_linux-64\n",
            "pysocks==1.7.1=py37_0 -> python[version='>=3.7,<3.8.0a0'] -> ld_impl_linux-64\n",
            "certifi==2020.4.5.1=py37_0 -> python[version='>=3.7,<3.8.0a0'] -> ld_impl_linux-64\n",
            "pandas -> python[version='>=3.7,<3.8.0a0'] -> ld_impl_linux-64\n",
            "olefile -> python -> ld_impl_linux-64\n",
            "tqdm==4.46.0=py_0 -> python -> ld_impl_linux-64\n",
            "cryptography==2.9.2=py37h1ba5d50_0 -> python[version='>=3.7,<3.8.0a0'] -> ld_impl_linux-64\n",
            "rdkit -> python[version='>=3.7,<3.8.0a0'] -> ld_impl_linux-64\n",
            "\n",
            "Package setuptools conflicts for:\n",
            "pip==20.0.2=py37_3 -> setuptools\n",
            "setuptools==46.4.0=py37_0\n",
            "wheel==0.34.2=py37_0 -> setuptools\n",
            "conda==4.8.3=py37_0 -> setuptools[version='>=31.0.1']\n",
            "\n",
            "Package chardet conflicts for:\n",
            "conda==4.8.3=py37_0 -> requests[version='>=2.18.4,<3'] -> chardet[version='>=3.0.2,<4']\n",
            "chardet==3.0.4=py37_1003\n",
            "requests==2.23.0=py37_0 -> chardet[version='>=3.0.2,<4']\n",
            "\n",
            "Package xz conflicts for:\n",
            "python_abi -> python=3.7 -> xz[version='>=5.2.5,<6.0a0']\n",
            "boost -> boost-cpp=1.74.0 -> xz[version='>=5.2.5,<5.3.0a0|>=5.2.5,<6.0a0']\n",
            "fontconfig -> libxml2[version='>=2.9.10,<2.10.0a0'] -> xz[version='>=5.2.5,<5.3.0a0']\n",
            "libtiff -> xz[version='>=5.2.4,<5.3.0a0']\n",
            "pycparser==2.20=py_0 -> python -> xz[version='>=5.2.5,<6.0a0']\n",
            "conda-package-handling==1.6.1=py37h7b6447c_0 -> python[version='>=3.7,<3.8.0a0'] -> xz[version='>=5.2.5,<6.0a0']\n",
            "setuptools==46.4.0=py37_0 -> python[version='>=3.7,<3.8.0a0'] -> xz[version='>=5.2.5,<6.0a0']\n",
            "lcms2 -> libtiff[version='>=4.1.0,<5.0a0'] -> xz[version='>=5.2.4,<5.3.0a0']\n",
            "idna==2.9=py_1 -> python -> xz[version='>=5.2.5,<6.0a0']\n",
            "wheel==0.34.2=py37_0 -> python[version='>=3.7,<3.8.0a0'] -> xz[version='>=5.2.5,<6.0a0']\n",
            "pip==20.0.2=py37_3 -> python[version='>=3.7,<3.8.0a0'] -> xz[version='>=5.2.5,<6.0a0']\n",
            "cffi==1.14.0=py37he30daa8_1 -> python[version='>=3.7,<3.8.0a0'] -> xz[version='>=5.2.5,<6.0a0']\n",
            "six==1.14.0=py37_0 -> python[version='>=3.7,<3.8.0a0'] -> xz[version='>=5.2.5,<6.0a0']\n",
            "urllib3==1.25.8=py37_0 -> python[version='>=3.7,<3.8.0a0'] -> xz[version='>=5.2.5,<6.0a0']\n",
            "pycosat==0.6.3=py37h7b6447c_0 -> python[version='>=3.7,<3.8.0a0'] -> xz[version='>=5.2.5,<6.0a0']\n",
            "chardet==3.0.4=py37_1003 -> python[version='>=3.7,<3.8.0a0'] -> xz[version='>=5.2.5,<6.0a0']\n",
            "ruamel_yaml==0.15.87=py37h7b6447c_0 -> python[version='>=3.7,<3.8.0a0'] -> xz[version='>=5.2.5,<6.0a0']\n",
            "pysocks==1.7.1=py37_0 -> python[version='>=3.7,<3.8.0a0'] -> xz[version='>=5.2.5,<6.0a0']\n",
            "zstd -> xz[version='>=5.2.5,<5.3.0a0']\n",
            "requests==2.23.0=py37_0 -> python[version='>=3.7,<3.8.0a0'] -> xz[version='>=5.2.5,<6.0a0']\n",
            "python==3.7.7=hcff3b4d_5 -> xz[version='>=5.2.5,<6.0a0']\n",
            "pyopenssl==19.1.0=py37_0 -> python[version='>=3.7,<3.8.0a0'] -> xz[version='>=5.2.5,<6.0a0']\n",
            "python-dateutil -> python -> xz[version='>=5.2.5,<6.0a0']\n",
            "pandas -> python[version='>=3.7,<3.8.0a0'] -> xz[version='>=5.2.5,<6.0a0']\n",
            "certifi==2020.4.5.1=py37_0 -> python[version='>=3.7,<3.8.0a0'] -> xz[version='>=5.2.5,<6.0a0']\n",
            "pillow -> libtiff[version='>=4.1.0,<5.0a0'] -> xz[version='>=5.2.4,<5.3.0a0|>=5.2.5,<6.0a0']\n",
            "xz==5.2.5=h7b6447c_0\n",
            "conda==4.8.3=py37_0 -> python[version='>=3.7,<3.8.0a0'] -> xz[version='>=5.2.5,<6.0a0']\n",
            "olefile -> python -> xz[version='>=5.2.5,<6.0a0']\n",
            "libxml2 -> xz[version='>=5.2.5,<5.3.0a0']\n",
            "tqdm==4.46.0=py_0 -> python -> xz[version='>=5.2.5,<6.0a0']\n",
            "rdkit -> python[version='>=3.7,<3.8.0a0'] -> xz[version='>=5.2.5,<6.0a0']\n",
            "libtiff -> zstd[version='>=1.4.4,<1.5.0.0a0'] -> xz[version='>=5.2.5,<5.3.0a0']\n",
            "cryptography==2.9.2=py37h1ba5d50_0 -> python[version='>=3.7,<3.8.0a0'] -> xz[version='>=5.2.5,<6.0a0']\n",
            "numpy -> python[version='>=3.7,<3.8.0a0'] -> xz[version='>=5.2.5,<6.0a0']\n",
            "pycairo -> python[version='>=3.7,<3.8.0a0'] -> xz[version='>=5.2.5,<6.0a0']\n",
            "pytz -> python -> xz[version='>=5.2.5,<6.0a0']\n",
            "boost-cpp -> xz[version='>=5.2.5,<5.3.0a0']\n",
            "\n",
            "Package libffi conflicts for:\n",
            "idna==2.9=py_1 -> python -> libffi[version='>=3.3,<3.4.0a0']\n",
            "urllib3==1.25.8=py37_0 -> python[version='>=3.7,<3.8.0a0'] -> libffi[version='>=3.3,<3.4.0a0']\n",
            "pillow -> python[version='>=3.7,<3.8.0a0'] -> libffi[version='>=3.3,<3.4.0a0']\n",
            "python-dateutil -> python -> libffi[version='>=3.3,<3.4.0a0']\n",
            "chardet==3.0.4=py37_1003 -> python[version='>=3.7,<3.8.0a0'] -> libffi[version='>=3.3,<3.4.0a0']\n",
            "pyopenssl==19.1.0=py37_0 -> python[version='>=3.7,<3.8.0a0'] -> libffi[version='>=3.3,<3.4.0a0']\n",
            "pytz -> python -> libffi[version='>=3.3,<3.4.0a0']\n",
            "pandas -> python[version='>=3.7,<3.8.0a0'] -> libffi[version='>=3.3,<3.4.0a0']\n",
            "glib -> libffi[version='>=3.3,<3.4.0a0']\n",
            "conda==4.8.3=py37_0 -> python[version='>=3.7,<3.8.0a0'] -> libffi[version='>=3.3,<3.4.0a0']\n",
            "python==3.7.7=hcff3b4d_5 -> libffi[version='>=3.3,<3.4.0a0']\n",
            "requests==2.23.0=py37_0 -> python[version='>=3.7,<3.8.0a0'] -> libffi[version='>=3.3,<3.4.0a0']\n",
            "cairo -> glib[version='>=2.58.3,<3.0a0'] -> libffi[version='>=3.3,<3.4.0a0']\n",
            "pycparser==2.20=py_0 -> python -> libffi[version='>=3.3,<3.4.0a0']\n",
            "pycairo -> python[version='>=3.7,<3.8.0a0'] -> libffi[version='>=3.3,<3.4.0a0']\n",
            "cryptography==2.9.2=py37h1ba5d50_0 -> cffi -> libffi[version='>=3.3,<3.4.0a0']\n",
            "cffi==1.14.0=py37he30daa8_1 -> libffi[version='>=3.3,<3.4.0a0']\n",
            "pycosat==0.6.3=py37h7b6447c_0 -> python[version='>=3.7,<3.8.0a0'] -> libffi[version='>=3.3,<3.4.0a0']\n",
            "libffi==3.3=he6710b0_1\n",
            "six==1.14.0=py37_0 -> python[version='>=3.7,<3.8.0a0'] -> libffi[version='>=3.3,<3.4.0a0']\n",
            "python_abi -> python=3.7 -> libffi[version='>=3.3,<3.4.0a0']\n",
            "olefile -> python -> libffi[version='>=3.3,<3.4.0a0']\n",
            "tqdm==4.46.0=py_0 -> python -> libffi[version='>=3.3,<3.4.0a0']\n",
            "setuptools==46.4.0=py37_0 -> python[version='>=3.7,<3.8.0a0'] -> libffi[version='>=3.3,<3.4.0a0']\n",
            "wheel==0.34.2=py37_0 -> python[version='>=3.7,<3.8.0a0'] -> libffi[version='>=3.3,<3.4.0a0']\n",
            "rdkit -> python[version='>=3.7,<3.8.0a0'] -> libffi[version='>=3.3,<3.4.0a0']\n",
            "numpy -> python[version='>=3.7,<3.8.0a0'] -> libffi[version='>=3.3,<3.4.0a0']\n",
            "boost -> python[version='>=3.7,<3.8.0a0'] -> libffi[version='>=3.3,<3.4.0a0']\n",
            "pip==20.0.2=py37_3 -> python[version='>=3.7,<3.8.0a0'] -> libffi[version='>=3.3,<3.4.0a0']\n",
            "ruamel_yaml==0.15.87=py37h7b6447c_0 -> python[version='>=3.7,<3.8.0a0'] -> libffi[version='>=3.3,<3.4.0a0']\n",
            "certifi==2020.4.5.1=py37_0 -> python[version='>=3.7,<3.8.0a0'] -> libffi[version='>=3.3,<3.4.0a0']\n",
            "pysocks==1.7.1=py37_0 -> python[version='>=3.7,<3.8.0a0'] -> libffi[version='>=3.3,<3.4.0a0']\n",
            "conda-package-handling==1.6.1=py37h7b6447c_0 -> python[version='>=3.7,<3.8.0a0'] -> libffi[version='>=3.3,<3.4.0a0']\n",
            "\n",
            "Package tk conflicts for:\n",
            "pytz -> python -> tk[version='>=8.6.8,<8.7.0a0']\n",
            "python==3.7.7=hcff3b4d_5 -> tk[version='>=8.6.8,<8.7.0a0']\n",
            "requests==2.23.0=py37_0 -> python[version='>=3.7,<3.8.0a0'] -> tk[version='>=8.6.8,<8.7.0a0']\n",
            "pycparser==2.20=py_0 -> python -> tk[version='>=8.6.8,<8.7.0a0']\n",
            "boost -> python[version='>=3.7,<3.8.0a0'] -> tk[version='>=8.6.8,<8.7.0a0']\n",
            "cryptography==2.9.2=py37h1ba5d50_0 -> python[version='>=3.7,<3.8.0a0'] -> tk[version='>=8.6.8,<8.7.0a0']\n",
            "wheel==0.34.2=py37_0 -> python[version='>=3.7,<3.8.0a0'] -> tk[version='>=8.6.8,<8.7.0a0']\n",
            "pycairo -> python[version='>=3.7,<3.8.0a0'] -> tk[version='>=8.6.8,<8.7.0a0']\n",
            "olefile -> python -> tk[version='>=8.6.8,<8.7.0a0']\n",
            "pip==20.0.2=py37_3 -> python[version='>=3.7,<3.8.0a0'] -> tk[version='>=8.6.8,<8.7.0a0']\n",
            "six==1.14.0=py37_0 -> python[version='>=3.7,<3.8.0a0'] -> tk[version='>=8.6.8,<8.7.0a0']\n",
            "cffi==1.14.0=py37he30daa8_1 -> python[version='>=3.7,<3.8.0a0'] -> tk[version='>=8.6.8,<8.7.0a0']\n",
            "pillow -> tk[version='>=8.6.10,<8.7.0a0']\n",
            "tqdm==4.46.0=py_0 -> python -> tk[version='>=8.6.8,<8.7.0a0']\n",
            "setuptools==46.4.0=py37_0 -> python[version='>=3.7,<3.8.0a0'] -> tk[version='>=8.6.8,<8.7.0a0']\n",
            "pyopenssl==19.1.0=py37_0 -> python[version='>=3.7,<3.8.0a0'] -> tk[version='>=8.6.8,<8.7.0a0']\n",
            "numpy -> python[version='>=3.7,<3.8.0a0'] -> tk[version='>=8.6.8,<8.7.0a0']\n",
            "ruamel_yaml==0.15.87=py37h7b6447c_0 -> python[version='>=3.7,<3.8.0a0'] -> tk[version='>=8.6.8,<8.7.0a0']\n",
            "tk==8.6.8=hbc83047_0\n",
            "pycosat==0.6.3=py37h7b6447c_0 -> python[version='>=3.7,<3.8.0a0'] -> tk[version='>=8.6.8,<8.7.0a0']\n",
            "certifi==2020.4.5.1=py37_0 -> python[version='>=3.7,<3.8.0a0'] -> tk[version='>=8.6.8,<8.7.0a0']\n",
            "conda-package-handling==1.6.1=py37h7b6447c_0 -> python[version='>=3.7,<3.8.0a0'] -> tk[version='>=8.6.8,<8.7.0a0']\n",
            "idna==2.9=py_1 -> python -> tk[version='>=8.6.8,<8.7.0a0']\n",
            "urllib3==1.25.8=py37_0 -> python[version='>=3.7,<3.8.0a0'] -> tk[version='>=8.6.8,<8.7.0a0']\n",
            "pillow -> python[version='>=3.7,<3.8.0a0'] -> tk[version='>=8.6.8,<8.7.0a0']\n",
            "python-dateutil -> python -> tk[version='>=8.6.8,<8.7.0a0']\n",
            "chardet==3.0.4=py37_1003 -> python[version='>=3.7,<3.8.0a0'] -> tk[version='>=8.6.8,<8.7.0a0']\n",
            "pysocks==1.7.1=py37_0 -> python[version='>=3.7,<3.8.0a0'] -> tk[version='>=8.6.8,<8.7.0a0']\n",
            "rdkit -> pillow -> tk[version='>=8.6.10,<8.7.0a0|>=8.6.8,<8.7.0a0']\n",
            "pandas -> python[version='>=3.7,<3.8.0a0'] -> tk[version='>=8.6.8,<8.7.0a0']\n",
            "conda==4.8.3=py37_0 -> python[version='>=3.7,<3.8.0a0'] -> tk[version='>=8.6.8,<8.7.0a0']\n",
            "python_abi -> python=3.7 -> tk[version='>=8.6.8,<8.7.0a0']\n",
            "\n",
            "Package python conflicts for:\n",
            "pytz -> python\n",
            "urllib3==1.25.8=py37_0 -> python[version='>=3.7,<3.8.0a0']\n",
            "python-dateutil -> six -> python[version='>=3.7,<3.8.0a0']\n",
            "cryptography==2.9.2=py37h1ba5d50_0 -> idna -> python\n",
            "rdkit -> python[version='>=3.7,<3.8.0a0']\n",
            "pyopenssl==19.1.0=py37_0 -> python[version='>=3.7,<3.8.0a0']\n",
            "rdkit -> python_abi=3.7[build=*_cp37m] -> python=3.7\n",
            "requests==2.23.0=py37_0 -> python[version='>=3.7,<3.8.0a0']\n",
            "pillow -> python[version='>=3.7,<3.8.0a0']\n",
            "urllib3==1.25.8=py37_0 -> idna[version='>=2.0.0'] -> python\n",
            "numpy -> python[version='>=3.7,<3.8.0a0']\n",
            "numpy -> python_abi=3.7[build=*_cp37m] -> python=3.7\n",
            "pycairo -> python[version='>=3.7,<3.8.0a0']\n",
            "pysocks==1.7.1=py37_0 -> python[version='>=3.7,<3.8.0a0']\n",
            "python-dateutil -> python\n",
            "python==3.7.7=hcff3b4d_5\n",
            "certifi==2020.4.5.1=py37_0 -> python[version='>=3.7,<3.8.0a0']\n",
            "python_abi -> python=3.7\n",
            "ruamel_yaml==0.15.87=py37h7b6447c_0 -> python[version='>=3.7,<3.8.0a0']\n",
            "olefile -> python\n",
            "pandas -> python-dateutil[version='>=2.7.3'] -> python=3.7\n",
            "cryptography==2.9.2=py37h1ba5d50_0 -> python[version='>=3.7,<3.8.0a0']\n",
            "pandas -> python[version='>=3.7,<3.8.0a0']\n",
            "pillow -> olefile -> python=3.7\n",
            "chardet==3.0.4=py37_1003 -> python[version='>=3.7,<3.8.0a0']\n",
            "tqdm==4.46.0=py_0 -> python\n",
            "conda==4.8.3=py37_0 -> python[version='>=3.7,<3.8.0a0']\n",
            "conda-package-handling==1.6.1=py37h7b6447c_0 -> tqdm -> python\n",
            "setuptools==46.4.0=py37_0 -> python[version='>=3.7,<3.8.0a0']\n",
            "pip==20.0.2=py37_3 -> python[version='>=3.7,<3.8.0a0']\n",
            "conda-package-handling==1.6.1=py37h7b6447c_0 -> python[version='>=3.7,<3.8.0a0']\n",
            "idna==2.9=py_1 -> python\n",
            "wheel==0.34.2=py37_0 -> python[version='>=3.7,<3.8.0a0']\n",
            "boost -> python[version='>=3.7,<3.8.0a0']\n",
            "cffi==1.14.0=py37he30daa8_1 -> python[version='>=3.7,<3.8.0a0']\n",
            "pycparser==2.20=py_0 -> python\n",
            "six==1.14.0=py37_0 -> python[version='>=3.7,<3.8.0a0']\n",
            "boost -> python_abi=3.7[build=*_cp37m] -> python=3.7\n",
            "requests==2.23.0=py37_0 -> idna[version='>=2.5,<3'] -> python\n",
            "cffi==1.14.0=py37he30daa8_1 -> pycparser -> python\n",
            "pycosat==0.6.3=py37h7b6447c_0 -> python[version='>=3.7,<3.8.0a0']\n",
            "pycairo -> python_abi=3.7[build=*_cp37m] -> python=3.7\n",
            "\n",
            "Package sqlite conflicts for:\n",
            "sqlite==3.31.1=h62c20be_1\n",
            "python==3.7.7=hcff3b4d_5 -> sqlite[version='>=3.31.1,<4.0a0']\n",
            "requests==2.23.0=py37_0 -> python[version='>=3.7,<3.8.0a0'] -> sqlite[version='>=3.31.1,<4.0a0']\n",
            "pillow -> python[version='>=3.7,<3.8.0a0'] -> sqlite[version='>=3.31.1,<4.0a0']\n",
            "pyopenssl==19.1.0=py37_0 -> python[version='>=3.7,<3.8.0a0'] -> sqlite[version='>=3.31.1,<4.0a0']\n",
            "idna==2.9=py_1 -> python -> sqlite[version='>=3.31.1,<4.0a0']\n",
            "certifi==2020.4.5.1=py37_0 -> python[version='>=3.7,<3.8.0a0'] -> sqlite[version='>=3.31.1,<4.0a0']\n",
            "ruamel_yaml==0.15.87=py37h7b6447c_0 -> python[version='>=3.7,<3.8.0a0'] -> sqlite[version='>=3.31.1,<4.0a0']\n",
            "urllib3==1.25.8=py37_0 -> python[version='>=3.7,<3.8.0a0'] -> sqlite[version='>=3.31.1,<4.0a0']\n",
            "pandas -> python[version='>=3.7,<3.8.0a0'] -> sqlite[version='>=3.31.1,<4.0a0']\n",
            "chardet==3.0.4=py37_1003 -> python[version='>=3.7,<3.8.0a0'] -> sqlite[version='>=3.31.1,<4.0a0']\n",
            "pysocks==1.7.1=py37_0 -> python[version='>=3.7,<3.8.0a0'] -> sqlite[version='>=3.31.1,<4.0a0']\n",
            "olefile -> python -> sqlite[version='>=3.31.1,<4.0a0']\n",
            "python-dateutil -> python -> sqlite[version='>=3.31.1,<4.0a0']\n",
            "cryptography==2.9.2=py37h1ba5d50_0 -> python[version='>=3.7,<3.8.0a0'] -> sqlite[version='>=3.31.1,<4.0a0']\n",
            "pycairo -> python[version='>=3.7,<3.8.0a0'] -> sqlite[version='>=3.31.1,<4.0a0']\n",
            "conda==4.8.3=py37_0 -> python[version='>=3.7,<3.8.0a0'] -> sqlite[version='>=3.31.1,<4.0a0']\n",
            "python_abi -> python=3.7 -> sqlite[version='>=3.31.1,<4.0a0']\n",
            "pip==20.0.2=py37_3 -> python[version='>=3.7,<3.8.0a0'] -> sqlite[version='>=3.31.1,<4.0a0']\n",
            "pytz -> python -> sqlite[version='>=3.31.1,<4.0a0']\n",
            "numpy -> python[version='>=3.7,<3.8.0a0'] -> sqlite[version='>=3.31.1,<4.0a0']\n",
            "pycparser==2.20=py_0 -> python -> sqlite[version='>=3.31.1,<4.0a0']\n",
            "conda-package-handling==1.6.1=py37h7b6447c_0 -> python[version='>=3.7,<3.8.0a0'] -> sqlite[version='>=3.31.1,<4.0a0']\n",
            "setuptools==46.4.0=py37_0 -> python[version='>=3.7,<3.8.0a0'] -> sqlite[version='>=3.31.1,<4.0a0']\n",
            "tqdm==4.46.0=py_0 -> python -> sqlite[version='>=3.31.1,<4.0a0']\n",
            "boost -> python[version='>=3.7,<3.8.0a0'] -> sqlite[version='>=3.31.1,<4.0a0']\n",
            "wheel==0.34.2=py37_0 -> python[version='>=3.7,<3.8.0a0'] -> sqlite[version='>=3.31.1,<4.0a0']\n",
            "rdkit -> python[version='>=3.7,<3.8.0a0'] -> sqlite[version='>=3.31.1,<4.0a0']\n",
            "pycosat==0.6.3=py37h7b6447c_0 -> python[version='>=3.7,<3.8.0a0'] -> sqlite[version='>=3.31.1,<4.0a0']\n",
            "six==1.14.0=py37_0 -> python[version='>=3.7,<3.8.0a0'] -> sqlite[version='>=3.31.1,<4.0a0']\n",
            "cffi==1.14.0=py37he30daa8_1 -> python[version='>=3.7,<3.8.0a0'] -> sqlite[version='>=3.31.1,<4.0a0']\n",
            "\n",
            "Package ncurses conflicts for:\n",
            "readline==8.0=h7b6447c_0 -> ncurses[version='>=6.1,<7.0a0']\n",
            "cryptography==2.9.2=py37h1ba5d50_0 -> python[version='>=3.7,<3.8.0a0'] -> ncurses[version='>=6.2,<7.0a0']\n",
            "pycparser==2.20=py_0 -> python -> ncurses[version='>=6.2,<7.0a0']\n",
            "pycairo -> python[version='>=3.7,<3.8.0a0'] -> ncurses[version='>=6.2,<7.0a0']\n",
            "wheel==0.34.2=py37_0 -> python[version='>=3.7,<3.8.0a0'] -> ncurses[version='>=6.2,<7.0a0']\n",
            "cffi==1.14.0=py37he30daa8_1 -> python[version='>=3.7,<3.8.0a0'] -> ncurses[version='>=6.2,<7.0a0']\n",
            "numpy -> python[version='>=3.7,<3.8.0a0'] -> ncurses[version='>=6.2,<7.0a0']\n",
            "boost -> python[version='>=3.7,<3.8.0a0'] -> ncurses[version='>=6.2,<7.0a0']\n",
            "pycosat==0.6.3=py37h7b6447c_0 -> python[version='>=3.7,<3.8.0a0'] -> ncurses[version='>=6.2,<7.0a0']\n",
            "pip==20.0.2=py37_3 -> python[version='>=3.7,<3.8.0a0'] -> ncurses[version='>=6.2,<7.0a0']\n",
            "ncurses==6.2=he6710b0_1\n",
            "six==1.14.0=py37_0 -> python[version='>=3.7,<3.8.0a0'] -> ncurses[version='>=6.2,<7.0a0']\n",
            "olefile -> python -> ncurses[version='>=6.2,<7.0a0']\n",
            "python==3.7.7=hcff3b4d_5 -> readline[version='>=8.0,<9.0a0'] -> ncurses[version='>=6.1,<7.0a0']\n",
            "tqdm==4.46.0=py_0 -> python -> ncurses[version='>=6.2,<7.0a0']\n",
            "setuptools==46.4.0=py37_0 -> python[version='>=3.7,<3.8.0a0'] -> ncurses[version='>=6.2,<7.0a0']\n",
            "libedit==3.1.20181209=hc058e9b_0 -> ncurses[version='>=6.1,<7.0a0']\n",
            "rdkit -> python[version='>=3.7,<3.8.0a0'] -> ncurses[version='>=6.2,<7.0a0']\n",
            "pillow -> python[version='>=3.7,<3.8.0a0'] -> ncurses[version='>=6.2,<7.0a0']\n",
            "pandas -> python[version='>=3.7,<3.8.0a0'] -> ncurses[version='>=6.2,<7.0a0']\n",
            "sqlite==3.31.1=h62c20be_1 -> libedit[version='>=3.1.20181209,<3.2.0a0'] -> ncurses[version='>=6.1,<7.0a0']\n",
            "ruamel_yaml==0.15.87=py37h7b6447c_0 -> python[version='>=3.7,<3.8.0a0'] -> ncurses[version='>=6.2,<7.0a0']\n",
            "conda-package-handling==1.6.1=py37h7b6447c_0 -> python[version='>=3.7,<3.8.0a0'] -> ncurses[version='>=6.2,<7.0a0']\n",
            "python==3.7.7=hcff3b4d_5 -> ncurses[version='>=6.2,<7.0a0']\n",
            "requests==2.23.0=py37_0 -> python[version='>=3.7,<3.8.0a0'] -> ncurses[version='>=6.2,<7.0a0']\n",
            "idna==2.9=py_1 -> python -> ncurses[version='>=6.2,<7.0a0']\n",
            "pyopenssl==19.1.0=py37_0 -> python[version='>=3.7,<3.8.0a0'] -> ncurses[version='>=6.2,<7.0a0']\n",
            "urllib3==1.25.8=py37_0 -> python[version='>=3.7,<3.8.0a0'] -> ncurses[version='>=6.2,<7.0a0']\n",
            "sqlite==3.31.1=h62c20be_1 -> ncurses[version='>=6.2,<7.0a0']\n",
            "certifi==2020.4.5.1=py37_0 -> python[version='>=3.7,<3.8.0a0'] -> ncurses[version='>=6.2,<7.0a0']\n",
            "python-dateutil -> python -> ncurses[version='>=6.2,<7.0a0']\n",
            "chardet==3.0.4=py37_1003 -> python[version='>=3.7,<3.8.0a0'] -> ncurses[version='>=6.2,<7.0a0']\n",
            "pysocks==1.7.1=py37_0 -> python[version='>=3.7,<3.8.0a0'] -> ncurses[version='>=6.2,<7.0a0']\n",
            "conda==4.8.3=py37_0 -> python[version='>=3.7,<3.8.0a0'] -> ncurses[version='>=6.2,<7.0a0']\n",
            "pytz -> python -> ncurses[version='>=6.2,<7.0a0']\n",
            "python_abi -> python=3.7 -> ncurses[version='>=6.2,<7.0a0']\n",
            "\n",
            "Package openssl conflicts for:\n",
            "ruamel_yaml==0.15.87=py37h7b6447c_0 -> python[version='>=3.7,<3.8.0a0'] -> openssl[version='>=1.1.1g,<1.1.2a']\n",
            "pysocks==1.7.1=py37_0 -> python[version='>=3.7,<3.8.0a0'] -> openssl[version='>=1.1.1g,<1.1.2a']\n",
            "pycosat==0.6.3=py37h7b6447c_0 -> python[version='>=3.7,<3.8.0a0'] -> openssl[version='>=1.1.1g,<1.1.2a']\n",
            "conda-package-handling==1.6.1=py37h7b6447c_0 -> python[version='>=3.7,<3.8.0a0'] -> openssl[version='>=1.1.1g,<1.1.2a']\n",
            "idna==2.9=py_1 -> python -> openssl[version='>=1.1.1g,<1.1.2a']\n",
            "pillow -> python[version='>=3.7,<3.8.0a0'] -> openssl[version='>=1.1.1g,<1.1.2a']\n",
            "python-dateutil -> python -> openssl[version='>=1.1.1g,<1.1.2a']\n",
            "chardet==3.0.4=py37_1003 -> python[version='>=3.7,<3.8.0a0'] -> openssl[version='>=1.1.1g,<1.1.2a']\n",
            "conda==4.8.3=py37_0 -> python[version='>=3.7,<3.8.0a0'] -> openssl[version='>=1.1.1g,<1.1.2a']\n",
            "pycairo -> python[version='>=3.7,<3.8.0a0'] -> openssl[version='>=1.1.1g,<1.1.2a']\n",
            "cryptography==2.9.2=py37h1ba5d50_0 -> openssl[version='>=1.1.1g,<1.1.2a']\n",
            "pandas -> python[version='>=3.7,<3.8.0a0'] -> openssl[version='>=1.1.1g,<1.1.2a']\n",
            "python_abi -> python=3.7 -> openssl[version='>=1.1.1g,<1.1.2a']\n",
            "pyopenssl==19.1.0=py37_0 -> cryptography[version='>=2.8'] -> openssl[version='>=1.1.1g,<1.1.2a']\n",
            "python==3.7.7=hcff3b4d_5 -> openssl[version='>=1.1.1g,<1.1.2a']\n",
            "requests==2.23.0=py37_0 -> python[version='>=3.7,<3.8.0a0'] -> openssl[version='>=1.1.1g,<1.1.2a']\n",
            "pycparser==2.20=py_0 -> python -> openssl[version='>=1.1.1g,<1.1.2a']\n",
            "boost -> python[version='>=3.7,<3.8.0a0'] -> openssl[version='>=1.1.1g,<1.1.2a']\n",
            "urllib3==1.25.8=py37_0 -> cryptography[version='>=1.3.4'] -> openssl[version='>=1.1.1g,<1.1.2a']\n",
            "wheel==0.34.2=py37_0 -> python[version='>=3.7,<3.8.0a0'] -> openssl[version='>=1.1.1g,<1.1.2a']\n",
            "olefile -> python -> openssl[version='>=1.1.1g,<1.1.2a']\n",
            "pytz -> python -> openssl[version='>=1.1.1g,<1.1.2a']\n",
            "cffi==1.14.0=py37he30daa8_1 -> python[version='>=3.7,<3.8.0a0'] -> openssl[version='>=1.1.1g,<1.1.2a']\n",
            "six==1.14.0=py37_0 -> python[version='>=3.7,<3.8.0a0'] -> openssl[version='>=1.1.1g,<1.1.2a']\n",
            "tqdm==4.46.0=py_0 -> python -> openssl[version='>=1.1.1g,<1.1.2a']\n",
            "rdkit -> python[version='>=3.7,<3.8.0a0'] -> openssl[version='>=1.1.1g,<1.1.2a']\n",
            "setuptools==46.4.0=py37_0 -> python[version='>=3.7,<3.8.0a0'] -> openssl[version='>=1.1.1g,<1.1.2a']\n",
            "openssl==1.1.1g=h7b6447c_0\n",
            "pip==20.0.2=py37_3 -> python[version='>=3.7,<3.8.0a0'] -> openssl[version='>=1.1.1g,<1.1.2a']\n",
            "numpy -> python[version='>=3.7,<3.8.0a0'] -> openssl[version='>=1.1.1g,<1.1.2a']\n",
            "certifi==2020.4.5.1=py37_0 -> python[version='>=3.7,<3.8.0a0'] -> openssl[version='>=1.1.1g,<1.1.2a']\n",
            "\n",
            "Package pixman conflicts for:\n",
            "pixman\n",
            "pycairo -> cairo[version='>=1.16.0,<1.17.0a0'] -> pixman[version='>=0.38.0,<0.39.0a0']\n",
            "cairo -> pixman[version='>=0.38.0,<0.39.0a0']\n",
            "rdkit -> cairo[version='>=1.16.0,<1.17.0a0'] -> pixman[version='>=0.38.0,<0.39.0a0']\n",
            "\n",
            "Package python_abi conflicts for:\n",
            "pycairo -> python_abi=3.7[build=*_cp37m]\n",
            "boost -> python_abi=3.7[build=*_cp37m]\n",
            "numpy -> python_abi=3.7[build=*_cp37m]\n",
            "setuptools==46.4.0=py37_0 -> certifi[version='>=2016.9.26'] -> python_abi=3.7[build=*_cp37m]\n",
            "rdkit -> python_abi=3.7[build=*_cp37m]\n",
            "pandas -> python_abi=3.7[build=*_cp37m]\n",
            "urllib3==1.25.8=py37_0 -> certifi -> python_abi=3.7[build=*_cp37m]\n",
            "requests==2.23.0=py37_0 -> certifi[version='>=2017.4.17'] -> python_abi=3.7[build=*_cp37m]\n",
            "python_abi\n",
            "pillow -> python_abi=3.7[build=*_cp37m]\n",
            "\n",
            "Package icu conflicts for:\n",
            "pycairo -> cairo[version='>=1.16.0,<1.17.0a0'] -> icu[version='>=67.1,<68.0a0']\n",
            "cairo -> icu[version='>=67.1,<68.0a0']\n",
            "libxml2 -> icu[version='>=67.1,<68.0a0']\n",
            "boost -> boost-cpp=1.74.0 -> icu[version='>=67.1,<68.0a0']\n",
            "rdkit -> cairo[version='>=1.16.0,<1.17.0a0'] -> icu[version='>=67.1,<68.0a0']\n",
            "boost-cpp -> icu[version='>=67.1,<68.0a0']\n",
            "fontconfig -> icu[version='>=67.1,<68.0a0']\n",
            "icu\n",
            "\n",
            "Package certifi conflicts for:\n",
            "urllib3==1.25.8=py37_0 -> certifi\n",
            "pip==20.0.2=py37_3 -> setuptools -> certifi[version='>=2016.9.26']\n",
            "conda==4.8.3=py37_0 -> requests[version='>=2.18.4,<3'] -> certifi[version='>=2016.9.26|>=2017.4.17']\n",
            "certifi==2020.4.5.1=py37_0\n",
            "setuptools==46.4.0=py37_0 -> certifi[version='>=2016.9.26']\n",
            "requests==2.23.0=py37_0 -> certifi[version='>=2017.4.17']\n",
            "wheel==0.34.2=py37_0 -> setuptools -> certifi[version='>=2016.9.26']\n",
            "requests==2.23.0=py37_0 -> urllib3[version='>=1.21.1,<1.26,!=1.25.0,!=1.25.1'] -> certifi\n",
            "\n",
            "Package numpy conflicts for:\n",
            "numpy\n",
            "rdkit -> boost[version='>=1.74.0,<1.74.1.0a0'] -> numpy[version='>=1.14.6,<2.0a0|>=1.15.4,<2.0a0']\n",
            "rdkit -> numpy[version='>=1.16.5,<2.0a0']\n",
            "boost -> numpy[version='>=1.14.6,<2.0a0']\n",
            "pandas -> numpy[version='>=1.15.4,<2.0a0']\n",
            "\n",
            "Package urllib3 conflicts for:\n",
            "conda==4.8.3=py37_0 -> requests[version='>=2.18.4,<3'] -> urllib3[version='>=1.21.1,<1.26,!=1.25.0,!=1.25.1']\n",
            "requests==2.23.0=py37_0 -> urllib3[version='>=1.21.1,<1.26,!=1.25.0,!=1.25.1']\n",
            "urllib3==1.25.8=py37_0\n",
            "\n",
            "Package readline conflicts for:\n",
            "boost -> python[version='>=3.7,<3.8.0a0'] -> readline[version='>=8.0,<9.0a0']\n",
            "readline==8.0=h7b6447c_0\n",
            "setuptools==46.4.0=py37_0 -> python[version='>=3.7,<3.8.0a0'] -> readline[version='>=8.0,<9.0a0']\n",
            "tqdm==4.46.0=py_0 -> python -> readline[version='>=8.0,<9.0a0']\n",
            "wheel==0.34.2=py37_0 -> python[version='>=3.7,<3.8.0a0'] -> readline[version='>=8.0,<9.0a0']\n",
            "pip==20.0.2=py37_3 -> python[version='>=3.7,<3.8.0a0'] -> readline[version='>=8.0,<9.0a0']\n",
            "cffi==1.14.0=py37he30daa8_1 -> python[version='>=3.7,<3.8.0a0'] -> readline[version='>=8.0,<9.0a0']\n",
            "numpy -> python[version='>=3.7,<3.8.0a0'] -> readline[version='>=8.0,<9.0a0']\n",
            "pycosat==0.6.3=py37h7b6447c_0 -> python[version='>=3.7,<3.8.0a0'] -> readline[version='>=8.0,<9.0a0']\n",
            "six==1.14.0=py37_0 -> python[version='>=3.7,<3.8.0a0'] -> readline[version='>=8.0,<9.0a0']\n",
            "olefile -> python -> readline[version='>=8.0,<9.0a0']\n",
            "rdkit -> python[version='>=3.7,<3.8.0a0'] -> readline[version='>=8.0,<9.0a0']\n",
            "python==3.7.7=hcff3b4d_5 -> readline[version='>=8.0,<9.0a0']\n",
            "requests==2.23.0=py37_0 -> python[version='>=3.7,<3.8.0a0'] -> readline[version='>=8.0,<9.0a0']\n",
            "urllib3==1.25.8=py37_0 -> python[version='>=3.7,<3.8.0a0'] -> readline[version='>=8.0,<9.0a0']\n",
            "pandas -> python[version='>=3.7,<3.8.0a0'] -> readline[version='>=8.0,<9.0a0']\n",
            "pyopenssl==19.1.0=py37_0 -> python[version='>=3.7,<3.8.0a0'] -> readline[version='>=8.0,<9.0a0']\n",
            "chardet==3.0.4=py37_1003 -> python[version='>=3.7,<3.8.0a0'] -> readline[version='>=8.0,<9.0a0']\n",
            "ruamel_yaml==0.15.87=py37h7b6447c_0 -> python[version='>=3.7,<3.8.0a0'] -> readline[version='>=8.0,<9.0a0']\n",
            "certifi==2020.4.5.1=py37_0 -> python[version='>=3.7,<3.8.0a0'] -> readline[version='>=8.0,<9.0a0']\n",
            "pysocks==1.7.1=py37_0 -> python[version='>=3.7,<3.8.0a0'] -> readline[version='>=8.0,<9.0a0']\n",
            "conda-package-handling==1.6.1=py37h7b6447c_0 -> python[version='>=3.7,<3.8.0a0'] -> readline[version='>=8.0,<9.0a0']\n",
            "idna==2.9=py_1 -> python -> readline[version='>=8.0,<9.0a0']\n",
            "pillow -> python[version='>=3.7,<3.8.0a0'] -> readline[version='>=8.0,<9.0a0']\n",
            "pycairo -> python[version='>=3.7,<3.8.0a0'] -> readline[version='>=8.0,<9.0a0']\n",
            "cryptography==2.9.2=py37h1ba5d50_0 -> python[version='>=3.7,<3.8.0a0'] -> readline[version='>=8.0,<9.0a0']\n",
            "python-dateutil -> python -> readline[version='>=8.0,<9.0a0']\n",
            "pytz -> python -> readline[version='>=8.0,<9.0a0']\n",
            "conda==4.8.3=py37_0 -> python[version='>=3.7,<3.8.0a0'] -> readline[version='>=8.0,<9.0a0']\n",
            "python_abi -> python=3.7 -> readline[version='>=8.0,<9.0a0']\n",
            "pycparser==2.20=py_0 -> python -> readline[version='>=8.0,<9.0a0']\n",
            "\n",
            "Package cffi conflicts for:\n",
            "cryptography==2.9.2=py37h1ba5d50_0 -> cffi\n",
            "pyopenssl==19.1.0=py37_0 -> cryptography[version='>=2.8'] -> cffi\n",
            "cffi==1.14.0=py37he30daa8_1\n",
            "urllib3==1.25.8=py37_0 -> cryptography[version='>=1.3.4'] -> cffi\n",
            "\n",
            "Package libwebp-base conflicts for:\n",
            "lcms2 -> libtiff[version='>=4.1.0,<5.0a0'] -> libwebp-base[version='>=1.1.0,<1.2.0a0']\n",
            "pillow -> libtiff[version='>=4.1.0,<5.0a0'] -> libwebp-base[version='>=1.1.0,<1.2.0a0']\n",
            "libtiff -> libwebp-base[version='>=1.1.0,<1.2.0a0']\n",
            "libwebp-base\n",
            "\n",
            "Package lz4-c conflicts for:\n",
            "lz4-c\n",
            "boost-cpp -> zstd[version='>=1.4.5,<1.5.0a0'] -> lz4-c[version='>=1.9.2,<1.9.3.0a0']\n",
            "zstd -> lz4-c[version='>=1.9.2,<1.9.3.0a0']\n",
            "libtiff -> zstd[version='>=1.4.4,<1.5.0.0a0'] -> lz4-c[version='>=1.9.2,<1.9.3.0a0']\n",
            "\n",
            "Package jpeg conflicts for:\n",
            "lcms2 -> jpeg[version='>=9d,<10a']\n",
            "pillow -> jpeg[version='>=9d,<10a']\n",
            "libtiff -> jpeg[version='>=9c,<10a']\n",
            "rdkit -> pillow -> jpeg[version='>=9d,<10a']\n",
            "jpeg\n",
            "pillow -> libtiff[version='>=4.1.0,<5.0a0'] -> jpeg[version='>=9c,<10a']\n",
            "lcms2 -> libtiff[version='>=4.1.0,<5.0a0'] -> jpeg[version='>=9c,<10a']\n",
            "\n",
            "Package xorg-xextproto conflicts for:\n",
            "xorg-xextproto\n",
            "cairo -> xorg-libxext -> xorg-xextproto\n",
            "xorg-libxext -> xorg-xextproto\n",
            "\n",
            "Package idna conflicts for:\n",
            "pyopenssl==19.1.0=py37_0 -> cryptography[version='>=2.8'] -> idna\n",
            "cryptography==2.9.2=py37h1ba5d50_0 -> idna\n",
            "requests==2.23.0=py37_0 -> idna[version='>=2.5,<3']\n",
            "requests==2.23.0=py37_0 -> urllib3[version='>=1.21.1,<1.26,!=1.25.0,!=1.25.1'] -> idna[version='>=2.0.0']\n",
            "urllib3==1.25.8=py37_0 -> cryptography[version='>=1.3.4'] -> idna\n",
            "urllib3==1.25.8=py37_0 -> idna[version='>=2.0.0']\n",
            "conda==4.8.3=py37_0 -> requests[version='>=2.18.4,<3'] -> idna[version='>=2.5,<3']\n",
            "idna==2.9=py_1\n",
            "\n",
            "Package xorg-libxrender conflicts for:\n",
            "xorg-libxrender\n",
            "pycairo -> cairo[version='>=1.16.0,<1.17.0a0'] -> xorg-libxrender\n",
            "cairo -> xorg-libxrender\n",
            "rdkit -> cairo[version='>=1.16.0,<1.17.0a0'] -> xorg-libxrender\n",
            "\n",
            "Package yaml conflicts for:\n",
            "ruamel_yaml==0.15.87=py37h7b6447c_0 -> yaml[version='>=0.1.7,<0.2.0a0']\n",
            "yaml==0.1.7=had09818_2\n",
            "conda==4.8.3=py37_0 -> ruamel_yaml[version='>=0.11.14,<0.16'] -> yaml[version='>=0.1.7,<0.2.0a0']\n",
            "\n",
            "Package liblapack conflicts for:\n",
            "liblapack\n",
            "rdkit -> numpy[version='>=1.16.5,<2.0a0'] -> liblapack[version='>=3.8.0,<3.9.0a0']\n",
            "boost -> numpy[version='>=1.14.6,<2.0a0'] -> liblapack[version='>=3.8.0,<3.9.0a0']\n",
            "pandas -> numpy[version='>=1.15.4,<2.0a0'] -> liblapack[version='>=3.8.0,<3.9.0a0']\n",
            "numpy -> liblapack[version='>=3.8.0,<3.9.0a0']\n",
            "\n",
            "Package libopenblas conflicts for:\n",
            "libblas -> libopenblas[version='>=0.3.10,<0.3.11.0a0|>=0.3.10,<1.0a0']\n",
            "liblapack -> libblas==3.8.0=17_openblas -> libopenblas[version='>=0.3.10,<0.3.11.0a0|>=0.3.10,<1.0a0']\n",
            "numpy -> libblas[version='>=3.8.0,<4.0a0'] -> libopenblas[version='>=0.3.10,<0.3.11.0a0|>=0.3.10,<1.0a0']\n",
            "libopenblas\n",
            "libcblas -> libblas==3.8.0=17_openblas -> libopenblas[version='>=0.3.10,<0.3.11.0a0|>=0.3.10,<1.0a0']\n",
            "\n",
            "Package libxcb conflicts for:\n",
            "cairo -> libxcb\n",
            "cairo -> xorg-libx11 -> libxcb=1\n",
            "pycairo -> cairo[version='>=1.16.0,<1.17.0a0'] -> libxcb\n",
            "xorg-libxrender -> xorg-libx11=1.6 -> libxcb=1\n",
            "xorg-libx11 -> libxcb=1\n",
            "xorg-libxext -> xorg-libx11=1.6 -> libxcb=1\n",
            "libxcb\n",
            "rdkit -> cairo[version='>=1.16.0,<1.17.0a0'] -> libxcb\n",
            "\n",
            "Package libgfortran-ng conflicts for:\n",
            "libgfortran-ng\n",
            "libblas -> libopenblas[version='>=0.3.10,<0.3.11.0a0'] -> libgfortran-ng[version='>=7,<8.0a0']\n",
            "libopenblas -> libgfortran-ng[version='>=7,<8.0a0']\n",
            "\n",
            "Package xorg-libxau conflicts for:\n",
            "libxcb -> xorg-libxau\n",
            "cairo -> libxcb -> xorg-libxau\n",
            "xorg-libxau\n",
            "xorg-libx11 -> libxcb=1 -> xorg-libxau\n",
            "\n",
            "Package fontconfig conflicts for:\n",
            "rdkit -> cairo[version='>=1.16.0,<1.17.0a0'] -> fontconfig[version='>=2.13.1,<3.0a0']\n",
            "pycairo -> cairo[version='>=1.16.0,<1.17.0a0'] -> fontconfig[version='>=2.13.1,<3.0a0']\n",
            "cairo -> fontconfig[version='>=2.13.1,<3.0a0']\n",
            "fontconfig\n",
            "\n",
            "Package boost-cpp conflicts for:\n",
            "boost-cpp\n",
            "boost -> boost-cpp=1.74.0\n",
            "rdkit -> boost[version='>=1.74.0,<1.74.1.0a0'] -> boost-cpp=1.74.0\n",
            "\n",
            "Package libtiff conflicts for:\n",
            "pillow -> libtiff[version='>=4.1.0,<5.0a0']\n",
            "libtiff\n",
            "lcms2 -> libtiff[version='>=4.1.0,<5.0a0']\n",
            "rdkit -> pillow -> libtiff[version='>=4.1.0,<5.0a0']\n",
            "\n",
            "Package six conflicts for:\n",
            "six==1.14.0=py37_0\n",
            "cryptography==2.9.2=py37h1ba5d50_0 -> six\n",
            "conda-package-handling==1.6.1=py37h7b6447c_0 -> six\n",
            "pyopenssl==19.1.0=py37_0 -> six[version='>=1.5.2']\n",
            "pyopenssl==19.1.0=py37_0 -> cryptography[version='>=2.8'] -> six\n",
            "pandas -> python-dateutil[version='>=2.7.3'] -> six\n",
            "rdkit -> six\n",
            "python-dateutil -> six\n",
            "conda==4.8.3=py37_0 -> conda-package-handling[version='>=1.3.0'] -> six[version='>=1.5.2']\n",
            "urllib3==1.25.8=py37_0 -> cryptography[version='>=1.3.4'] -> six[version='>=1.5.2']\n",
            "\n",
            "Package ca-certificates conflicts for:\n",
            "ca-certificates==2020.1.1=0\n",
            "cryptography==2.9.2=py37h1ba5d50_0 -> openssl[version='>=1.1.1g,<1.1.2a'] -> ca-certificates\n",
            "openssl==1.1.1g=h7b6447c_0 -> ca-certificates\n",
            "python==3.7.7=hcff3b4d_5 -> openssl[version='>=1.1.1g,<1.1.2a'] -> ca-certificates\n",
            "\n",
            "Package xorg-kbproto conflicts for:\n",
            "cairo -> xorg-libx11 -> xorg-kbproto\n",
            "xorg-libxext -> xorg-libx11=1.6 -> xorg-kbproto\n",
            "xorg-libxrender -> xorg-libx11=1.6 -> xorg-kbproto\n",
            "xorg-kbproto\n",
            "xorg-libx11 -> xorg-kbproto\n",
            "\n",
            "Package olefile conflicts for:\n",
            "pillow -> olefile\n",
            "olefile\n",
            "rdkit -> pillow -> olefile\n",
            "\n",
            "Package libblas conflicts for:\n",
            "pandas -> numpy[version='>=1.15.4,<2.0a0'] -> libblas[version='>=3.8.0,<4.0a0']\n",
            "libcblas -> libblas==3.8.0=17_openblas\n",
            "numpy -> libblas[version='>=3.8.0,<4.0a0']\n",
            "rdkit -> numpy[version='>=1.16.5,<2.0a0'] -> libblas[version='>=3.8.0,<4.0a0']\n",
            "libblas\n",
            "boost -> numpy[version='>=1.14.6,<2.0a0'] -> libblas[version='>=3.8.0,<4.0a0']\n",
            "liblapack -> libblas==3.8.0=17_openblas\n",
            "numpy -> libcblas[version='>=3.8.0,<4.0a0'] -> libblas==3.8.0=17_openblas\n",
            "\n",
            "Package libcblas conflicts for:\n",
            "rdkit -> numpy[version='>=1.16.5,<2.0a0'] -> libcblas[version='>=3.8.0,<4.0a0']\n",
            "boost -> numpy[version='>=1.14.6,<2.0a0'] -> libcblas[version='>=3.8.0,<4.0a0']\n",
            "numpy -> libcblas[version='>=3.8.0,<4.0a0']\n",
            "pandas -> numpy[version='>=1.15.4,<2.0a0'] -> libcblas[version='>=3.8.0,<4.0a0']\n",
            "libcblas\n",
            "\n",
            "Package xorg-xproto conflicts for:\n",
            "xorg-libxrender -> xorg-libx11=1.6 -> xorg-xproto\n",
            "xorg-libxext -> xorg-libx11=1.6 -> xorg-xproto\n",
            "xorg-libx11 -> xorg-xproto\n",
            "cairo -> xorg-libx11 -> xorg-xproto\n",
            "xorg-xproto\n",
            "\n",
            "Package xorg-libx11 conflicts for:\n",
            "xorg-libxrender -> xorg-libx11=1.6\n",
            "cairo -> xorg-libxext -> xorg-libx11=1.6\n",
            "xorg-libxext -> xorg-libx11=1.6\n",
            "pycairo -> cairo[version='>=1.16.0,<1.17.0a0'] -> xorg-libx11\n",
            "cairo -> xorg-libx11\n",
            "xorg-libx11\n",
            "rdkit -> cairo[version='>=1.16.0,<1.17.0a0'] -> xorg-libx11\n",
            "\n",
            "Package freetype conflicts for:\n",
            "fontconfig -> freetype[version='>=2.9.1,<3.0a0']\n",
            "pycairo -> cairo[version='>=1.16.0,<1.17.0a0'] -> freetype[version='>=2.9.1,<3.0a0']\n",
            "rdkit -> freetype[version='>=2.9.1,<3.0a0']\n",
            "cairo -> freetype[version='>=2.9.1,<3.0a0']\n",
            "pillow -> freetype[version='>=2.9.1,<3.0a0']\n",
            "freetype\n",
            "\n",
            "Package libpng conflicts for:\n",
            "libpng\n",
            "pillow -> freetype[version='>=2.9.1,<3.0a0'] -> libpng[version='>=1.6.37,<1.7.0a0']\n",
            "cairo -> libpng[version='>=1.6.37,<1.7.0a0']\n",
            "pycairo -> cairo[version='>=1.16.0,<1.17.0a0'] -> libpng[version='>=1.6.37,<1.7.0a0']\n",
            "rdkit -> cairo[version='>=1.16.0,<1.17.0a0'] -> libpng[version='>=1.6.37,<1.7.0a0']\n",
            "freetype -> libpng[version='>=1.6.37,<1.7.0a0']\n",
            "fontconfig -> libpng[version='>=1.6.37,<1.7.0a0']\n",
            "\n",
            "Package bzip2 conflicts for:\n",
            "boost-cpp -> bzip2[version='>=1.0.8,<2.0a0']\n",
            "boost -> boost-cpp=1.74.0 -> bzip2[version='>=1.0.8,<2.0a0']\n",
            "bzip2\n",
            "\n",
            "Package pysocks conflicts for:\n",
            "urllib3==1.25.8=py37_0 -> pysocks[version='>=1.5.6,<2.0,!=1.5.7']\n",
            "pysocks==1.7.1=py37_0\n",
            "requests==2.23.0=py37_0 -> urllib3[version='>=1.21.1,<1.26,!=1.25.0,!=1.25.1'] -> pysocks[version='>=1.5.6,<2.0,!=1.5.7']\n",
            "\n",
            "Package xorg-libsm conflicts for:\n",
            "rdkit -> cairo[version='>=1.16.0,<1.17.0a0'] -> xorg-libsm\n",
            "pycairo -> cairo[version='>=1.16.0,<1.17.0a0'] -> xorg-libsm\n",
            "xorg-libsm\n",
            "cairo -> xorg-libsm\n",
            "\n",
            "Package requests conflicts for:\n",
            "conda==4.8.3=py37_0 -> requests[version='>=2.18.4,<3']\n",
            "requests==2.23.0=py37_0\n",
            "\n",
            "Package libiconv conflicts for:\n",
            "libxml2 -> libiconv[version='>=1.16,<1.17.0a0']\n",
            "fontconfig -> libxml2[version='>=2.9.10,<2.10.0a0'] -> libiconv[version='>=1.16,<1.17.0a0']\n",
            "libiconv\n",
            "\n",
            "Package xorg-renderproto conflicts for:\n",
            "xorg-renderproto\n",
            "cairo -> xorg-libxrender -> xorg-renderproto\n",
            "xorg-libxrender -> xorg-renderproto\n",
            "\n",
            "Package cryptography conflicts for:\n",
            "pyopenssl==19.1.0=py37_0 -> cryptography[version='>=2.8']\n",
            "requests==2.23.0=py37_0 -> urllib3[version='>=1.21.1,<1.26,!=1.25.0,!=1.25.1'] -> cryptography[version='>=1.3.4']\n",
            "urllib3==1.25.8=py37_0 -> cryptography[version='>=1.3.4']\n",
            "cryptography==2.9.2=py37h1ba5d50_0\n",
            "urllib3==1.25.8=py37_0 -> pyopenssl[version='>=0.14'] -> cryptography[version='>=2.8']\n",
            "conda==4.8.3=py37_0 -> pyopenssl[version='>=16.2.0'] -> cryptography[version='>=2.8']\n",
            "\n",
            "Package glib conflicts for:\n",
            "cairo -> glib[version='>=2.58.3,<3.0a0']\n",
            "glib\n",
            "rdkit -> cairo[version='>=1.16.0,<1.17.0a0'] -> glib[version='>=2.58.3,<3.0a0']\n",
            "pycairo -> cairo[version='>=1.16.0,<1.17.0a0'] -> glib[version='>=2.58.3,<3.0a0']\n",
            "\n",
            "Package xorg-libice conflicts for:\n",
            "pycairo -> cairo[version='>=1.16.0,<1.17.0a0'] -> xorg-libice\n",
            "cairo -> xorg-libice\n",
            "cairo -> xorg-libsm -> xorg-libice=1.0\n",
            "rdkit -> cairo[version='>=1.16.0,<1.17.0a0'] -> xorg-libice\n",
            "xorg-libsm -> xorg-libice=1.0\n",
            "xorg-libice\n",
            "\n",
            "Package pillow conflicts for:\n",
            "pillow\n",
            "rdkit -> pillow\n",
            "\n",
            "Package tqdm conflicts for:\n",
            "conda-package-handling==1.6.1=py37h7b6447c_0 -> tqdm\n",
            "conda==4.8.3=py37_0 -> conda-package-handling[version='>=1.3.0'] -> tqdm\n",
            "tqdm==4.46.0=py_0\n",
            "\n",
            "Package pthread-stubs conflicts for:\n",
            "xorg-libx11 -> libxcb=1 -> pthread-stubs\n",
            "libxcb -> pthread-stubs\n",
            "cairo -> libxcb -> pthread-stubs\n",
            "pthread-stubs\n",
            "\n",
            "Package zstd conflicts for:\n",
            "libtiff -> zstd[version='>=1.4.4,<1.5.0.0a0']\n",
            "pillow -> libtiff[version='>=4.1.0,<5.0a0'] -> zstd[version='>=1.4.4,<1.5.0.0a0']\n",
            "lcms2 -> libtiff[version='>=4.1.0,<5.0a0'] -> zstd[version='>=1.4.4,<1.5.0.0a0']\n",
            "boost-cpp -> zstd[version='>=1.4.5,<1.5.0a0']\n",
            "boost -> boost-cpp=1.74.0 -> zstd[version='>=1.4.5,<1.5.0a0']\n",
            "zstd\n",
            "\n",
            "Package xorg-libxdmcp conflicts for:\n",
            "xorg-libxdmcp\n",
            "xorg-libx11 -> libxcb=1 -> xorg-libxdmcp\n",
            "cairo -> libxcb -> xorg-libxdmcp\n",
            "libxcb -> xorg-libxdmcp\n",
            "\n",
            "Package xorg-libxext conflicts for:\n",
            "xorg-libxext\n",
            "pycairo -> cairo[version='>=1.16.0,<1.17.0a0'] -> xorg-libxext\n",
            "cairo -> xorg-libxext\n",
            "rdkit -> cairo[version='>=1.16.0,<1.17.0a0'] -> xorg-libxext\n",
            "\n",
            "Package libuuid conflicts for:\n",
            "xorg-libsm -> libuuid[version='>=2.32.1,<3.0a0']\n",
            "fontconfig -> libuuid[version='>=2.32.1,<3.0a0']\n",
            "libuuid\n",
            "cairo -> fontconfig[version='>=2.13.1,<3.0a0'] -> libuuid[version='>=2.32.1,<3.0a0']\n",
            "\n",
            "Package libxml2 conflicts for:\n",
            "fontconfig -> libxml2[version='>=2.9.10,<2.10.0a0']\n",
            "libxml2\n",
            "cairo -> fontconfig[version='>=2.13.1,<3.0a0'] -> libxml2[version='>=2.9.10,<2.10.0a0']\n",
            "\n",
            "Package ruamel_yaml conflicts for:\n",
            "conda==4.8.3=py37_0 -> ruamel_yaml[version='>=0.11.14,<0.16']\n",
            "ruamel_yaml==0.15.87=py37h7b6447c_0\n",
            "\n",
            "Package pycparser conflicts for:\n",
            "cryptography==2.9.2=py37h1ba5d50_0 -> cffi -> pycparser\n",
            "cffi==1.14.0=py37he30daa8_1 -> pycparser\n",
            "pycparser==2.20=py_0\n",
            "\n",
            "Package boost conflicts for:\n",
            "boost\n",
            "rdkit -> boost[version='>=1.74.0,<1.74.1.0a0']\n",
            "\n",
            "Package cairo conflicts for:\n",
            "pycairo -> cairo[version='>=1.16.0,<1.17.0a0']\n",
            "cairo\n",
            "rdkit -> cairo[version='>=1.16.0,<1.17.0a0']\n",
            "\n",
            "Package libedit conflicts for:\n",
            "python==3.7.7=hcff3b4d_5 -> sqlite[version='>=3.31.1,<4.0a0'] -> libedit[version='>=3.1.20181209,<3.2.0a0']\n",
            "libedit==3.1.20181209=hc058e9b_0\n",
            "sqlite==3.31.1=h62c20be_1 -> libedit[version='>=3.1.20181209,<3.2.0a0']\n",
            "\n",
            "Package lcms2 conflicts for:\n",
            "rdkit -> pillow -> lcms2[version='>=2.11,<3.0a0']\n",
            "lcms2\n",
            "pillow -> lcms2[version='>=2.11,<3.0a0']\n",
            "\n",
            "Package pyopenssl conflicts for:\n",
            "conda==4.8.3=py37_0 -> pyopenssl[version='>=16.2.0']\n",
            "requests==2.23.0=py37_0 -> urllib3[version='>=1.21.1,<1.26,!=1.25.0,!=1.25.1'] -> pyopenssl[version='>=0.14']\n",
            "urllib3==1.25.8=py37_0 -> pyopenssl[version='>=0.14']\n",
            "pyopenssl==19.1.0=py37_0\n",
            "\n",
            "Package conda-package-handling conflicts for:\n",
            "conda==4.8.3=py37_0 -> conda-package-handling[version='>=1.3.0']\n",
            "conda-package-handling==1.6.1=py37h7b6447c_0\n",
            "\n",
            "Package pytz conflicts for:\n",
            "pytz\n",
            "rdkit -> pandas -> pytz[version='>=2017.2']\n",
            "pandas -> pytz[version='>=2017.2']\n",
            "\n",
            "Package pycairo conflicts for:\n",
            "pycairo\n",
            "rdkit -> pycairo\n",
            "\n",
            "Package python-dateutil conflicts for:\n",
            "rdkit -> pandas -> python-dateutil[version='>=2.7.3']\n",
            "pandas -> python-dateutil[version='>=2.7.3']\n",
            "python-dateutil\n",
            "\n",
            "Package wheel conflicts for:\n",
            "wheel==0.34.2=py37_0\n",
            "pip==20.0.2=py37_3 -> wheel\n",
            "\n",
            "Package pandas conflicts for:\n",
            "rdkit -> pandas\n",
            "pandas\n",
            "\n",
            "Package pcre conflicts for:\n",
            "pcre\n",
            "cairo -> glib[version='>=2.58.3,<3.0a0'] -> pcre[version='>=8.44,<9.0a0']\n",
            "glib -> pcre[version='>=8.44,<9.0a0']The following specifications were found to be incompatible with your CUDA driver:\n",
            "\n",
            "  - feature:/linux-64::__cuda==11.0=0\n",
            "  - feature:|@/linux-64::__cuda==11.0=0\n",
            "\n",
            "Your installed CUDA driver is: 11.0\n",
            "\n",
            "\n",
            "\n",
            "real\t0m28.380s\n",
            "user\t0m34.025s\n",
            "sys\t0m5.335s\n",
            "Collecting package metadata (current_repodata.json): ...working... done\n",
            "Solving environment: ...working... done\n",
            "\n",
            "# All requested packages already installed.\n",
            "\n",
            "\n",
            "real\t0m7.316s\n",
            "user\t0m6.574s\n",
            "sys\t0m0.742s\n"
          ],
          "name": "stdout"
        }
      ]
    },
    {
      "cell_type": "code",
      "metadata": {
        "id": "z9VuZNocSNTN",
        "colab_type": "code",
        "colab": {}
      },
      "source": [
        "# General Imports\n",
        "import os\n",
        "import pandas as pd\n",
        "import numpy as np\n",
        "import sklearn\n",
        "from rdkit import Chem\n",
        "from rdkit.Chem import Draw, Descriptors\n",
        "from matplotlib import pyplot as plt\n",
        "import re"
      ],
      "execution_count": 2,
      "outputs": []
    },
    {
      "cell_type": "markdown",
      "metadata": {
        "id": "F010WmAsa1-D",
        "colab_type": "text"
      },
      "source": [
        "# **SMILES Data Fetching From Zinc Database**"
      ]
    },
    {
      "cell_type": "code",
      "metadata": {
        "id": "vMiCua6zSNb5",
        "colab_type": "code",
        "colab": {
          "base_uri": "https://localhost:8080/",
          "height": 119
        },
        "outputId": "32ca16df-48f6-45f5-c393-e24e8debe7af"
      },
      "source": [
        "WEIGHTS_FOLDER = 'sample_data/weights/'\n",
        "smifile = \"sample_data/AAAA.smi\"\n",
        "data = pd.read_csv(smifile, delimiter = \" \", names = [\"smiles\",\"zinc_id\"])\n",
        "NUM_SMILES = len(data)\n",
        "data[\"smiles\"].head()\n"
      ],
      "execution_count": 3,
      "outputs": [
        {
          "output_type": "execute_result",
          "data": {
            "text/plain": [
              "0                                     smiles\n",
              "1                 Cn1cnc2c1c(=O)n(C)c(=O)n2C\n",
              "2    O=C(O)[C@@H]1/C(=C/CO)O[C@@H]2CC(=O)N21\n",
              "3                   Cn1c2nncnc2c(=O)n(C)c1=O\n",
              "4                 Cn1cnc2c1c(=O)[nH]c(=O)n2C\n",
              "Name: smiles, dtype: object"
            ]
          },
          "metadata": {
            "tags": []
          },
          "execution_count": 3
        }
      ]
    },
    {
      "cell_type": "code",
      "metadata": {
        "id": "Jo88h-HPSNis",
        "colab_type": "code",
        "colab": {
          "base_uri": "https://localhost:8080/",
          "height": 68
        },
        "outputId": "b0027338-63f2-4518-d0eb-41713eebd1c3"
      },
      "source": [
        "from sklearn.model_selection import train_test_split\n",
        "smiles_train, smiles_test = train_test_split(data[\"smiles\"])\n",
        "print(smiles_train.shape)\n",
        "print(smiles_test.shape)\n",
        "print(NUM_SMILES)"
      ],
      "execution_count": 4,
      "outputs": [
        {
          "output_type": "stream",
          "text": [
            "(2844,)\n",
            "(948,)\n",
            "3792\n"
          ],
          "name": "stdout"
        }
      ]
    },
    {
      "cell_type": "code",
      "metadata": {
        "id": "Kdr17SCDSNo-",
        "colab_type": "code",
        "colab": {
          "base_uri": "https://localhost:8080/",
          "height": 88
        },
        "outputId": "6f840a69-2555-4d30-c511-344489c0c75a"
      },
      "source": [
        "charset = set(\"\".join(list(data.smiles))+\"!E\")\n",
        "char_to_int = dict((c,i) for i,c in enumerate(charset))\n",
        "int_to_char = dict((i,c) for i,c in enumerate(charset))\n",
        "# embed = max([len(smile) for smile in data.smiles]) + 5\n",
        "embed = max([len(smile) for smile in data.smiles])+2\n",
        "print(char_to_int)\n",
        "print(len(charset), embed)\n",
        "print(embed)"
      ],
      "execution_count": 5,
      "outputs": [
        {
          "output_type": "stream",
          "text": [
            "{'o': 0, 'l': 1, '+': 2, '-': 3, '\\\\': 4, 'P': 5, '2': 6, 'c': 7, 'm': 8, '/': 9, '4': 10, ')': 11, ']': 12, '6': 13, '5': 14, '@': 15, '1': 16, 'S': 17, 'e': 18, 'N': 19, '=': 20, '3': 21, 's': 22, '(': 23, 'B': 24, '!': 25, '[': 26, 'i': 27, 'E': 28, '#': 29, 'H': 30, 'C': 31, 'n': 32, 'O': 33, 'F': 34}\n",
            "35 58\n",
            "58\n"
          ],
          "name": "stdout"
        }
      ]
    },
    {
      "cell_type": "code",
      "metadata": {
        "id": "6fltvqcWSNrm",
        "colab_type": "code",
        "colab": {
          "base_uri": "https://localhost:8080/",
          "height": 85
        },
        "outputId": "2aaa4d75-7de0-45e5-d9ed-378329244912"
      },
      "source": [
        "print(type(smiles_train))\n",
        "print(smiles_train.values[0])\n",
        "print(len(smiles_train.values[0]))\n",
        "print(type(smiles_train.values[0]))"
      ],
      "execution_count": 6,
      "outputs": [
        {
          "output_type": "stream",
          "text": [
            "<class 'pandas.core.series.Series'>\n",
            "Cn1c2ncc(=O)[nH]c2c(=O)[nH]c1=O\n",
            "31\n",
            "<class 'str'>\n"
          ],
          "name": "stdout"
        }
      ]
    },
    {
      "cell_type": "code",
      "metadata": {
        "id": "H3ZJWr-pSNye",
        "colab_type": "code",
        "colab": {
          "base_uri": "https://localhost:8080/",
          "height": 167
        },
        "outputId": "b0aa3be1-39f8-4f10-a9c2-450d26a295b1"
      },
      "source": [
        "from rdkit.Chem.Draw import IPythonConsole\n",
        "m = Chem.MolFromSmiles(smiles_train.values[0])\n",
        "m"
      ],
      "execution_count": 7,
      "outputs": [
        {
          "output_type": "execute_result",
          "data": {
            "image/png": "[encoded data removed]",
            "text/plain": [
              "<rdkit.Chem.rdchem.Mol at 0x7f823f62b030>"
            ]
          },
          "metadata": {
            "tags": []
          },
          "execution_count": 7
        }
      ]
    },
    {
      "cell_type": "code",
      "metadata": {
        "id": "TTJbCRMXSNwb",
        "colab_type": "code",
        "colab": {
          "base_uri": "https://localhost:8080/",
          "height": 51
        },
        "outputId": "57710f49-05ae-475c-c268-d95176d2a53e"
      },
      "source": [
        "def vectorize(smiles):\n",
        "        onehot_flatList=[[]]\n",
        "        one_hot =  np.zeros((smiles.shape[0], embed , len(charset)),dtype=np.int8)\n",
        "        print(one_hot.shape)\n",
        "        for i,smile in enumerate(smiles):\n",
        "            #encode the startchar\n",
        "            one_hot[i,0,char_to_int[\"!\"]] = 1\n",
        "            #encode the rest of the chars\n",
        "            for j,c in enumerate(smile):\n",
        "                one_hot[i,j+1,char_to_int[c]] = 1\n",
        "            #Encode endchar\n",
        "            one_hot[i,len(smile)+1:,char_to_int[\"E\"]] = 1\n",
        "        #Return two, one for input and the other for output\n",
        "        return one_hot[:,:,:]\n",
        "\n",
        "X_train= vectorize(smiles_train.values)\n",
        "X_test = vectorize(smiles_test.values)"
      ],
      "execution_count": 8,
      "outputs": [
        {
          "output_type": "stream",
          "text": [
            "(2844, 58, 35)\n",
            "(948, 58, 35)\n"
          ],
          "name": "stdout"
        }
      ]
    },
    {
      "cell_type": "code",
      "metadata": {
        "id": "O7Odm7JGSNnK",
        "colab_type": "code",
        "colab": {
          "base_uri": "https://localhost:8080/",
          "height": 85
        },
        "outputId": "2e1b03da-d881-43bd-f1b5-7c5f583d222c"
      },
      "source": [
        "# Going back from vectorized form back to a readable string\n",
        "strr=\"\".join([int_to_char[idx] for idx in np.argmax(X_train[0,:,:], axis=1)])\n",
        "print(strr)\n",
        "print(len(strr))\n",
        "\n",
        "# String After Tructation of extra symbols\n",
        "\n",
        "line = re.sub('[!E]', '', strr)\n",
        "print(len(line))\n",
        "print(line)"
      ],
      "execution_count": 9,
      "outputs": [
        {
          "output_type": "stream",
          "text": [
            "!Cn1c2ncc(=O)[nH]c2c(=O)[nH]c1=OEEEEEEEEEEEEEEEEEEEEEEEEEE\n",
            "58\n",
            "31\n",
            "Cn1c2ncc(=O)[nH]c2c(=O)[nH]c1=O\n"
          ],
          "name": "stdout"
        }
      ]
    },
    {
      "cell_type": "code",
      "metadata": {
        "id": "xKmoYbVRSNl6",
        "colab_type": "code",
        "colab": {
          "base_uri": "https://localhost:8080/",
          "height": 68
        },
        "outputId": "e7e309ee-9b09-464e-9ddc-e71fecdf9888"
      },
      "source": [
        "mol_size_x=X_train.shape[1]\n",
        "mol_size_y=X_train.shape[2]\n",
        "orig_dim = mol_size_x * mol_size_y\n",
        "print(mol_size_x)\n",
        "print(mol_size_y)\n",
        "print(orig_dim)"
      ],
      "execution_count": 10,
      "outputs": [
        {
          "output_type": "stream",
          "text": [
            "58\n",
            "35\n",
            "2030\n"
          ],
          "name": "stdout"
        }
      ]
    },
    {
      "cell_type": "code",
      "metadata": {
        "id": "6sgG1wMgSNgI",
        "colab_type": "code",
        "colab": {
          "base_uri": "https://localhost:8080/",
          "height": 68
        },
        "outputId": "5c928269-0e7f-4bb4-bffa-b6915da5fa6b"
      },
      "source": [
        "X_train = np.reshape(X_train, [-1, orig_dim])\n",
        "X_test = np.reshape(X_test, [-1, orig_dim])\n",
        "print(type(X_train))\n",
        "print(X_train.shape)\n",
        "print(X_train.shape[1])"
      ],
      "execution_count": 11,
      "outputs": [
        {
          "output_type": "stream",
          "text": [
            "<class 'numpy.ndarray'>\n",
            "(2844, 2030)\n",
            "2030\n"
          ],
          "name": "stdout"
        }
      ]
    },
    {
      "cell_type": "markdown",
      "metadata": {
        "id": "0rlT60U0aquM",
        "colab_type": "text"
      },
      "source": [
        "# **Building VAE Model Architecture**"
      ]
    },
    {
      "cell_type": "code",
      "metadata": {
        "id": "60soZM4MSNeG",
        "colab_type": "code",
        "colab": {}
      },
      "source": [
        "from keras.layers import Input, Conv2D, Flatten, Dense, Conv2DTranspose, Reshape, Lambda, Activation, BatchNormalization, LeakyReLU, Dropout\n",
        "from keras.models import Model\n",
        "from keras import backend as K\n",
        "from keras.optimizers import Adam\n",
        "from keras.callbacks import ModelCheckpoint \n",
        "from keras.utils import plot_model\n",
        "from keras.losses import mse, binary_crossentropy"
      ],
      "execution_count": 12,
      "outputs": []
    },
    {
      "cell_type": "code",
      "metadata": {
        "id": "SNCh2ujGTnNi",
        "colab_type": "code",
        "colab": {}
      },
      "source": [
        "# Network Parameters\n",
        "INPUT_DIM=(orig_dim,)   # SMILES dimension\n",
        "intermediate_dim=512\n",
        "BATCH_SIZE=5\n",
        "Z_DIM=20 # Dimension of the latent vector (z)\n",
        "epochs=50"
      ],
      "execution_count": 13,
      "outputs": []
    },
    {
      "cell_type": "markdown",
      "metadata": {
        "id": "0M2Dv8BTaWls",
        "colab_type": "text"
      },
      "source": [
        "### **Building the Encoder**"
      ]
    },
    {
      "cell_type": "code",
      "metadata": {
        "id": "2P9sF6tuVBzy",
        "colab_type": "code",
        "colab": {
          "base_uri": "https://localhost:8080/",
          "height": 745
        },
        "outputId": "e43e80e9-df4b-49fa-a11a-8607f664d70f"
      },
      "source": [
        "# ENCODER\n",
        "def build_vae_encoder(input_dim, output_dim):\n",
        "  \n",
        "  # Clear tensorflow session to reset layer\n",
        "  global K\n",
        "  K.clear_session()\n",
        "  \n",
        "  # Define model input\n",
        "  encoder_input = Input(shape = input_dim, name = 'encoder_input')\n",
        "  \n",
        "  #Intermediate layer\n",
        "  x = Dense(intermediate_dim,activation='relu')(encoder_input)\n",
        " \n",
        "  #Model Output\n",
        "  mean_mu = Dense(output_dim, name = 'mu')(x)\n",
        "  log_var = Dense(output_dim, name = 'log_var')(x)\n",
        "\n",
        "  # Defining a function for sampling\n",
        "  def sampling(args):\n",
        "    mean_mu, log_var = args\n",
        "    epsilon = K.random_normal(shape=K.shape(mean_mu), mean=0., stddev=1.) \n",
        "    return mean_mu + K.exp(log_var/2)*epsilon   \n",
        "  \n",
        "  # Using a Keras Lambda Layer to include the sampling function as a layer \n",
        "  # in the model\n",
        "  encoder_output = Lambda(sampling, output_shape=(Z_DIM,), name='encoder_output')([mean_mu, log_var])\n",
        "\n",
        "  return encoder_input, encoder_output, mean_mu, log_var, Model(encoder_input, encoder_output)\n",
        "\n",
        "vae_encoder_input, vae_encoder_output,  mean_mu, log_var, vae_encoder  = build_vae_encoder(input_dim = INPUT_DIM,\n",
        "                                                                                            output_dim = Z_DIM)\n",
        "vae_encoder.summary()\n",
        "# Plot the Encoder Model\n",
        "plot_model(vae_encoder, to_file='smilesvae_encoder.png', show_shapes=True, show_layer_names=True, expand_nested=True)"
      ],
      "execution_count": 14,
      "outputs": [
        {
          "output_type": "stream",
          "text": [
            "Model: \"functional_1\"\n",
            "__________________________________________________________________________________________________\n",
            "Layer (type)                    Output Shape         Param #     Connected to                     \n",
            "==================================================================================================\n",
            "encoder_input (InputLayer)      [(None, 2030)]       0                                            \n",
            "__________________________________________________________________________________________________\n",
            "dense (Dense)                   (None, 512)          1039872     encoder_input[0][0]              \n",
            "__________________________________________________________________________________________________\n",
            "mu (Dense)                      (None, 20)           10260       dense[0][0]                      \n",
            "__________________________________________________________________________________________________\n",
            "log_var (Dense)                 (None, 20)           10260       dense[0][0]                      \n",
            "__________________________________________________________________________________________________\n",
            "encoder_output (Lambda)         (None, 20)           0           mu[0][0]                         \n",
            "                                                                 log_var[0][0]                    \n",
            "==================================================================================================\n",
            "Total params: 1,060,392\n",
            "Trainable params: 1,060,392\n",
            "Non-trainable params: 0\n",
            "__________________________________________________________________________________________________\n"
          ],
          "name": "stdout"
        },
        {
          "output_type": "execute_result",
          "data": {
            "image/png": "[encoded data removed]",
            "text/plain": [
              "<IPython.core.display.Image object>"
            ]
          },
          "metadata": {
            "tags": []
          },
          "execution_count": 14
        }
      ]
    },
    {
      "cell_type": "code",
      "metadata": {
        "id": "OVOnCYU6Hw5P",
        "colab_type": "code",
        "colab": {
          "base_uri": "https://localhost:8080/",
          "height": 68
        },
        "outputId": "2485c8ae-53dd-4024-cbe1-71ef1cfc07c5"
      },
      "source": [
        "print(type(vae_encoder_input))\n",
        "print(type(vae_encoder_output))\n",
        "print(type(vae_encoder))\n"
      ],
      "execution_count": 15,
      "outputs": [
        {
          "output_type": "stream",
          "text": [
            "<class 'tensorflow.python.framework.ops.Tensor'>\n",
            "<class 'tensorflow.python.framework.ops.Tensor'>\n",
            "<class 'tensorflow.python.keras.engine.functional.Functional'>\n"
          ],
          "name": "stdout"
        }
      ]
    },
    {
      "cell_type": "markdown",
      "metadata": {
        "id": "L_ZPu9AuaShh",
        "colab_type": "text"
      },
      "source": [
        "\n",
        "### **Building the Decoder**"
      ]
    },
    {
      "cell_type": "code",
      "metadata": {
        "id": "P-QrxZgqVCCI",
        "colab_type": "code",
        "colab": {
          "base_uri": "https://localhost:8080/",
          "height": 550
        },
        "outputId": "da9b63b1-daaf-46ec-f49f-1244aaf7ae5e"
      },
      "source": [
        "\n",
        "# Decoder\n",
        "def build_decoder(input_dim, output_dim):\n",
        "\n",
        "  # Define model input\n",
        "  decoder_input = Input(shape = (input_dim,) , name = 'decoder_input')\n",
        "  \n",
        "  #Intermediate Layer\n",
        "  x = Dense(intermediate_dim, activation='relu')(decoder_input)\n",
        "\n",
        "    # Define model output\n",
        "  decoder_output = Dense(output_dim, activation='sigmoid')(x)\n",
        "\n",
        "\n",
        "  return decoder_input, decoder_output, Model(decoder_input, decoder_output)\n",
        "\n",
        "\n",
        "vae_decoder_input, vae_decoder_output, vae_decoder = build_decoder(input_dim = Z_DIM, output_dim=orig_dim)\n",
        "vae_decoder.summary()\n",
        "# Plot the Encoder Model\n",
        "plot_model(vae_decoder, to_file='smilesvae_decoder.png', show_shapes=True, show_layer_names=True, expand_nested=True)"
      ],
      "execution_count": 16,
      "outputs": [
        {
          "output_type": "stream",
          "text": [
            "Model: \"functional_3\"\n",
            "_________________________________________________________________\n",
            "Layer (type)                 Output Shape              Param #   \n",
            "=================================================================\n",
            "decoder_input (InputLayer)   [(None, 20)]              0         \n",
            "_________________________________________________________________\n",
            "dense_1 (Dense)              (None, 512)               10752     \n",
            "_________________________________________________________________\n",
            "dense_2 (Dense)              (None, 2030)              1041390   \n",
            "=================================================================\n",
            "Total params: 1,052,142\n",
            "Trainable params: 1,052,142\n",
            "Non-trainable params: 0\n",
            "_________________________________________________________________\n"
          ],
          "name": "stdout"
        },
        {
          "output_type": "execute_result",
          "data": {
            "image/png": "[encoded data removed]",
            "text/plain": [
              "<IPython.core.display.Image object>"
            ]
          },
          "metadata": {
            "tags": []
          },
          "execution_count": 16
        }
      ]
    },
    {
      "cell_type": "markdown",
      "metadata": {
        "id": "_fvFqp4GaeWS",
        "colab_type": "text"
      },
      "source": [
        "### **Attaching Decoder to the Encoder**"
      ]
    },
    {
      "cell_type": "code",
      "metadata": {
        "id": "NOgnA8RSVCEo",
        "colab_type": "code",
        "colab": {
          "base_uri": "https://localhost:8080/",
          "height": 780
        },
        "outputId": "b87e2b4f-1c8e-4bc3-f6d1-035f9e8326e4"
      },
      "source": [
        "# The input to the model will be the smile string fed to the encoder.\n",
        "vae_input = vae_encoder_input\n",
        "\n",
        "# Output will be the output of the decoder. The term - decoder(encoder_output) \n",
        "# combines the model by passing the encoder output to the input of the decoder.\n",
        "vae_output = vae_decoder(vae_encoder_output)\n",
        "\n",
        "# Input to the combined model will be the input to the encoder.\n",
        "# Output of the combined model will be the output of the decoder.\n",
        "vae_model = Model(vae_input, vae_output)\n",
        "# Plot the Encoder Model\n",
        "plot_model(vae_model, to_file='smilesvae_model.png', show_shapes=True, show_layer_names=True, expand_nested=True)"
      ],
      "execution_count": 17,
      "outputs": [
        {
          "output_type": "execute_result",
          "data": {
            "image/png": "[encoded data removed]",
            "text/plain": [
              "<IPython.core.display.Image object>"
            ]
          },
          "metadata": {
            "tags": []
          },
          "execution_count": 17
        }
      ]
    },
    {
      "cell_type": "markdown",
      "metadata": {
        "id": "uxiTbVnlbIDa",
        "colab_type": "text"
      },
      "source": [
        "### **Compiling and Training**"
      ]
    },
    {
      "cell_type": "code",
      "metadata": {
        "id": "42szwpLpNTzP",
        "colab_type": "code",
        "colab": {
          "base_uri": "https://localhost:8080/",
          "height": 1000
        },
        "outputId": "cfee6d7d-ffa9-48d2-b23c-e575050cf2dc"
      },
      "source": [
        "if __name__ == '__main__':\n",
        "    models=(vae_encoder, vae_decoder)\n",
        "    data=(X_test,X_test)\n",
        "\n",
        "    reconstruction_loss = binary_crossentropy(vae_input, vae_output)\n",
        "    reconstruction_loss = reconstruction_loss * orig_dim\n",
        "    \n",
        "    kl_loss = 1 + log_var - K.square(mean_mu) - K.exp(log_var)\n",
        "    kl_loss = K.sum(kl_loss, axis=-1)    \n",
        "    kl_loss = kl_loss * -0.5\n",
        "    \n",
        "    vae_loss = K.mean(reconstruction_loss + kl_loss)\n",
        "    vae_model.add_loss(vae_loss)\n",
        "    vae_model.compile(optimizer='adam')\n",
        "    \n",
        "    \n",
        "    \n",
        "#     Train the Variational AutoEncoder\n",
        "    vae_model.fit(X_train, epochs=epochs, batch_size=BATCH_SIZE, validation_data=(X_test, None))\n",
        "    vae_model.save_weights('vae_smiles.h5')\n",
        "    \n",
        "    "
      ],
      "execution_count": 18,
      "outputs": [
        {
          "output_type": "stream",
          "text": [
            "Epoch 1/50\n",
            "569/569 [==============================] - 2s 3ms/step - loss: 128.8884 - val_loss: 88.1248\n",
            "Epoch 2/50\n",
            "569/569 [==============================] - 2s 3ms/step - loss: 80.5749 - val_loss: 74.7663\n",
            "Epoch 3/50\n",
            "569/569 [==============================] - 1s 3ms/step - loss: 70.4645 - val_loss: 68.7780\n",
            "Epoch 4/50\n",
            "569/569 [==============================] - 1s 3ms/step - loss: 64.6935 - val_loss: 64.8392\n",
            "Epoch 5/50\n",
            "569/569 [==============================] - 1s 3ms/step - loss: 61.2018 - val_loss: 62.7986\n",
            "Epoch 6/50\n",
            "569/569 [==============================] - 1s 3ms/step - loss: 58.6287 - val_loss: 61.3196\n",
            "Epoch 7/50\n",
            "569/569 [==============================] - 1s 3ms/step - loss: 56.5612 - val_loss: 59.4786\n",
            "Epoch 8/50\n",
            "569/569 [==============================] - 2s 3ms/step - loss: 54.6400 - val_loss: 58.8029\n",
            "Epoch 9/50\n",
            "569/569 [==============================] - 1s 3ms/step - loss: 53.1679 - val_loss: 57.6136\n",
            "Epoch 10/50\n",
            "569/569 [==============================] - 1s 3ms/step - loss: 51.6696 - val_loss: 57.2291\n",
            "Epoch 11/50\n",
            "569/569 [==============================] - 1s 3ms/step - loss: 50.5335 - val_loss: 56.7582\n",
            "Epoch 12/50\n",
            "569/569 [==============================] - 1s 3ms/step - loss: 49.5155 - val_loss: 55.6863\n",
            "Epoch 13/50\n",
            "569/569 [==============================] - 1s 3ms/step - loss: 48.4196 - val_loss: 55.7081\n",
            "Epoch 14/50\n",
            "569/569 [==============================] - 1s 3ms/step - loss: 47.7563 - val_loss: 54.9199\n",
            "Epoch 15/50\n",
            "569/569 [==============================] - 1s 3ms/step - loss: 46.5469 - val_loss: 54.6577\n",
            "Epoch 16/50\n",
            "569/569 [==============================] - 1s 3ms/step - loss: 45.8481 - val_loss: 54.5883\n",
            "Epoch 17/50\n",
            "569/569 [==============================] - 1s 3ms/step - loss: 45.2063 - val_loss: 54.7005\n",
            "Epoch 18/50\n",
            "569/569 [==============================] - 1s 3ms/step - loss: 44.6407 - val_loss: 54.4138\n",
            "Epoch 19/50\n",
            "569/569 [==============================] - 1s 3ms/step - loss: 43.7772 - val_loss: 53.8884\n",
            "Epoch 20/50\n",
            "569/569 [==============================] - 1s 3ms/step - loss: 43.5363 - val_loss: 53.7296\n",
            "Epoch 21/50\n",
            "569/569 [==============================] - 1s 3ms/step - loss: 42.6690 - val_loss: 53.7625\n",
            "Epoch 22/50\n",
            "569/569 [==============================] - 1s 3ms/step - loss: 42.4602 - val_loss: 53.5923\n",
            "Epoch 23/50\n",
            "569/569 [==============================] - 2s 3ms/step - loss: 42.3212 - val_loss: 54.0853\n",
            "Epoch 24/50\n",
            "569/569 [==============================] - 1s 3ms/step - loss: 41.5439 - val_loss: 53.8293\n",
            "Epoch 25/50\n",
            "569/569 [==============================] - 1s 3ms/step - loss: 41.2936 - val_loss: 53.8243\n",
            "Epoch 26/50\n",
            "569/569 [==============================] - 1s 3ms/step - loss: 40.7908 - val_loss: 53.5512\n",
            "Epoch 27/50\n",
            "569/569 [==============================] - 1s 3ms/step - loss: 40.7641 - val_loss: 54.2093\n",
            "Epoch 28/50\n",
            "569/569 [==============================] - 1s 3ms/step - loss: 40.1866 - val_loss: 53.5896\n",
            "Epoch 29/50\n",
            "569/569 [==============================] - 1s 3ms/step - loss: 39.9667 - val_loss: 53.9889\n",
            "Epoch 30/50\n",
            "569/569 [==============================] - 1s 3ms/step - loss: 39.6923 - val_loss: 54.1737\n",
            "Epoch 31/50\n",
            "569/569 [==============================] - 1s 3ms/step - loss: 39.2679 - val_loss: 54.0787\n",
            "Epoch 32/50\n",
            "569/569 [==============================] - 1s 3ms/step - loss: 39.0533 - val_loss: 54.7091\n",
            "Epoch 33/50\n",
            "569/569 [==============================] - 1s 3ms/step - loss: 38.7219 - val_loss: 54.4039\n",
            "Epoch 34/50\n",
            "569/569 [==============================] - 1s 3ms/step - loss: 38.4305 - val_loss: 54.7586\n",
            "Epoch 35/50\n",
            "569/569 [==============================] - 1s 3ms/step - loss: 38.4555 - val_loss: 54.6957\n",
            "Epoch 36/50\n",
            "569/569 [==============================] - 1s 3ms/step - loss: 38.3817 - val_loss: 54.6768\n",
            "Epoch 37/50\n",
            "569/569 [==============================] - 1s 3ms/step - loss: 38.1244 - val_loss: 54.5566\n",
            "Epoch 38/50\n",
            "569/569 [==============================] - 1s 3ms/step - loss: 37.9000 - val_loss: 54.7941\n",
            "Epoch 39/50\n",
            "569/569 [==============================] - 1s 3ms/step - loss: 37.7314 - val_loss: 54.5460\n",
            "Epoch 40/50\n",
            "569/569 [==============================] - 1s 3ms/step - loss: 37.5618 - val_loss: 54.6890\n",
            "Epoch 41/50\n",
            "569/569 [==============================] - 1s 3ms/step - loss: 37.2878 - val_loss: 54.6459\n",
            "Epoch 42/50\n",
            "569/569 [==============================] - 1s 3ms/step - loss: 37.1889 - val_loss: 55.8433\n",
            "Epoch 43/50\n",
            "569/569 [==============================] - 1s 3ms/step - loss: 36.9564 - val_loss: 54.5873\n",
            "Epoch 44/50\n",
            "569/569 [==============================] - 1s 3ms/step - loss: 36.9133 - val_loss: 55.4691\n",
            "Epoch 45/50\n",
            "569/569 [==============================] - 2s 3ms/step - loss: 36.7551 - val_loss: 55.2552\n",
            "Epoch 46/50\n",
            "569/569 [==============================] - 1s 3ms/step - loss: 36.7190 - val_loss: 55.7597\n",
            "Epoch 47/50\n",
            "569/569 [==============================] - 1s 3ms/step - loss: 36.4567 - val_loss: 56.0977\n",
            "Epoch 48/50\n",
            "569/569 [==============================] - 1s 3ms/step - loss: 36.3045 - val_loss: 55.6036\n",
            "Epoch 49/50\n",
            "569/569 [==============================] - 1s 3ms/step - loss: 36.1841 - val_loss: 55.7017\n",
            "Epoch 50/50\n",
            "569/569 [==============================] - 1s 3ms/step - loss: 36.0159 - val_loss: 55.2510\n"
          ],
          "name": "stdout"
        }
      ]
    },
    {
      "cell_type": "code",
      "metadata": {
        "id": "XrcGoTCCVCLB",
        "colab_type": "code",
        "colab": {
          "base_uri": "https://localhost:8080/",
          "height": 34
        },
        "outputId": "bc859e39-cd15-44ac-9b4a-0aca9d5b9181"
      },
      "source": [
        "reconst_Xtest = vae_model.predict(X_test, batch_size=BATCH_SIZE)\n",
        "print(type(reconst_Xtest))"
      ],
      "execution_count": 19,
      "outputs": [
        {
          "output_type": "stream",
          "text": [
            "<class 'numpy.ndarray'>\n"
          ],
          "name": "stdout"
        }
      ]
    },
    {
      "cell_type": "markdown",
      "metadata": {
        "id": "aKSu7r5gylRH",
        "colab_type": "text"
      },
      "source": [
        "### **Reconstructing Test Data Molecules**"
      ]
    },
    {
      "cell_type": "code",
      "metadata": {
        "id": "lPwn3fobGpOL",
        "colab_type": "code",
        "colab": {
          "base_uri": "https://localhost:8080/",
          "height": 102
        },
        "outputId": "cfcfd199-44df-4e2e-94ae-8e6eed953bd4"
      },
      "source": [
        "reconst_Xtest = vae_model.predict(X_test, batch_size=BATCH_SIZE)\n",
        "print(type(reconst_Xtest))\n",
        "print(reconst_Xtest.shape)\n",
        "print(X_test.shape)\n",
        "reconst_test = reconst_Xtest.reshape(len(X_test), mol_size_x,mol_size_y)\n",
        "test=X_test.reshape(len(X_test), mol_size_x, mol_size_y)\n",
        "print(reconst_test.shape)\n",
        "print(test.shape)"
      ],
      "execution_count": 20,
      "outputs": [
        {
          "output_type": "stream",
          "text": [
            "<class 'numpy.ndarray'>\n",
            "(948, 2030)\n",
            "(948, 2030)\n",
            "(948, 58, 35)\n",
            "(948, 58, 35)\n"
          ],
          "name": "stdout"
        }
      ]
    },
    {
      "cell_type": "code",
      "metadata": {
        "id": "bPPpGJmWv2A_",
        "colab_type": "code",
        "colab": {
          "base_uri": "https://localhost:8080/",
          "height": 235
        },
        "outputId": "d61ea5fe-c32b-46cb-95f8-aa025d9c5427"
      },
      "source": [
        "# Going back from vectorized form back to a readable string\n",
        "idx=15\n",
        "temp_str=\"\".join([int_to_char[idx] for idx in np.argmax(test[idx,:,:], axis=1)])\n",
        "print(temp_str)\n",
        "print(len(temp_str))\n",
        "temp_str = re.sub('!|E',\"\", temp_str)\n",
        "print(temp_str)\n",
        "print(len(temp_str))\n",
        "\n",
        "m = Chem.MolFromSmiles(temp_str)\n",
        "m"
      ],
      "execution_count": 21,
      "outputs": [
        {
          "output_type": "stream",
          "text": [
            "!OC[C@H]1O[C@H](O)[C@H](O)[C@H](O)[C@@H]1OEEEEEEEEEEEEEEEE\n",
            "58\n",
            "OC[C@H]1O[C@H](O)[C@H](O)[C@H](O)[C@@H]1O\n",
            "41\n"
          ],
          "name": "stdout"
        },
        {
          "output_type": "execute_result",
          "data": {
            "image/png": "[encoded data removed]",
            "text/plain": [
              "<rdkit.Chem.rdchem.Mol at 0x7f8197d866c0>"
            ]
          },
          "metadata": {
            "tags": []
          },
          "execution_count": 21
        }
      ]
    },
    {
      "cell_type": "code",
      "metadata": {
        "id": "BY1__gN_vmEJ",
        "colab_type": "code",
        "colab": {
          "base_uri": "https://localhost:8080/",
          "height": 235
        },
        "outputId": "03533b98-063c-401c-ce48-57bb8fd9aa0e"
      },
      "source": [
        "# Going back from vectorized form back to a readable string\n",
        "temp_str=\"\".join([int_to_char[idx] for idx in np.argmax(reconst_test[idx,:,:], axis=1)])\n",
        "print(temp_str)\n",
        "print(len(temp_str))\n",
        "temp_str = re.sub('!|E',\"\", temp_str)\n",
        "print(temp_str)\n",
        "print(len(temp_str))\n",
        "\n",
        "m = Chem.MolFromSmiles(temp_str)\n",
        "m"
      ],
      "execution_count": 22,
      "outputs": [
        {
          "output_type": "stream",
          "text": [
            "!OC[C@H]1O[C@H](O)[C@H](O)[C@H](O)[C@@H]1EEEEEEEEEEEEEEEEE\n",
            "58\n",
            "OC[C@H]1O[C@H](O)[C@H](O)[C@H](O)[C@@H]1\n",
            "40\n"
          ],
          "name": "stdout"
        },
        {
          "output_type": "execute_result",
          "data": {
            "image/png": "[encoded data removed]",
            "text/plain": [
              "<rdkit.Chem.rdchem.Mol at 0x7f8197d86530>"
            ]
          },
          "metadata": {
            "tags": []
          },
          "execution_count": 22
        }
      ]
    },
    {
      "cell_type": "markdown",
      "metadata": {
        "id": "Lg7jHH7FzCGa",
        "colab_type": "text"
      },
      "source": [
        "# **Generating new Molecules from random latent vector sampled from standard normal distribution**"
      ]
    },
    {
      "cell_type": "code",
      "metadata": {
        "id": "BB5q2VGdVCJ4",
        "colab_type": "code",
        "colab": {
          "base_uri": "https://localhost:8080/",
          "height": 139
        },
        "outputId": "9da5d1fe-168d-4074-87de-538e2c7a8ecc"
      },
      "source": [
        "# Generating new Smile Strings sampled from a standard normal distribution\n",
        "reconst_strings = vae_decoder.predict(np.random.normal(0,1,size=(10,Z_DIM)))\n",
        "# print(type(reconst_strings))\n",
        "# print(reconst_strings.shape)\n",
        "reshaped_string=reconst_strings.reshape(10, mol_size_x, mol_size_y)\n",
        "# print(reshaped_string.shape)\n",
        "\n",
        "# Going back from vectorized form back to a readable string\n",
        "\n",
        "temp_str=\"\".join([int_to_char[idx] for idx in np.argmax(reshaped_string[0,:,:], axis=1)])\n",
        "print(temp_str)\n",
        "print(len(temp_str))\n",
        "temp_str = re.sub('!|E',\"\", temp_str)\n",
        "print(temp_str)\n",
        "print(len(temp_str))\n",
        "\n",
        "m = Chem.MolFromSmiles(temp_str)\n",
        "m\n",
        "m = Chem.MolFromSmiles(smi,sanitize=False)\n",
        "if m is None:\n",
        "  print('invalid SMILES')\n",
        "else:\n",
        "  try:\n",
        "    Chem.SanitizeMol(m)\n",
        "  except:\n",
        "    print('invalid chemistry')"
      ],
      "execution_count": 27,
      "outputs": [
        {
          "output_type": "stream",
          "text": [
            "!CN(C@H]S(C(=)=O)C=OO)EEEEEEEEEEEEEEEEEEEEEEEEEEEEEEEEEEEE\n",
            "58\n",
            "CN(C@H]S(C(=)=O)C=OO)\n",
            "21\n"
          ],
          "name": "stdout"
        },
        {
          "output_type": "stream",
          "text": [
            "RDKit ERROR: [07:26:59] SMILES Parse Error: syntax error while parsing: CN(C@H]S(C(=)=O)C=OO)\n",
            "RDKit ERROR: [07:26:59] SMILES Parse Error: Failed parsing SMILES 'CN(C@H]S(C(=)=O)C=OO)' for input: 'CN(C@H]S(C(=)=O)C=OO)'\n"
          ],
          "name": "stderr"
        }
      ]
    },
    {
      "cell_type": "markdown",
      "metadata": {
        "id": "vNRxq1aZRnHx",
        "colab_type": "text"
      },
      "source": [
        "# **Visualizing Latent Space**"
      ]
    },
    {
      "cell_type": "code",
      "metadata": {
        "id": "pcCDxehnyA3f",
        "colab_type": "code",
        "colab": {
          "base_uri": "https://localhost:8080/",
          "height": 358
        },
        "outputId": "9451500d-50b9-40df-d3bc-3783d3b4f7a7"
      },
      "source": [
        "from scipy.stats import norm\n",
        "\n",
        "z_test = vae_encoder.predict(X_test)\n",
        "\n",
        "x = np.linspace(-3, 3, 300)\n",
        "\n",
        "fig = plt.figure(figsize=(20, 20))\n",
        "fig.subplots_adjust(hspace=0.6, wspace=0.4)\n",
        "\n",
        "for i in range(20):\n",
        "    ax = fig.add_subplot(5, 10, i+1)\n",
        "    ax.hist(z_test[:,i], density=True, bins = 20)\n",
        "    ax.axis('on')\n",
        "    ax.text(0.5, -0.35, str(i), fontsize=10, ha='center', transform=ax.transAxes)\n",
        "    ax.plot(x,norm.pdf(x))\n",
        "\n",
        "plt.show()"
      ],
      "execution_count": 24,
      "outputs": [
        {
          "output_type": "display_data",
          "data": {
            "image/png": "[encoded data removed]",
            "text/plain": [
              "<Figure size 1440x1440 with 20 Axes>"
            ]
          },
          "metadata": {
            "tags": [],
            "needs_background": "light"
          }
        }
      ]
    },
    {
      "cell_type": "code",
      "metadata": {
        "id": "vqgaryEJyBAW",
        "colab_type": "code",
        "colab": {
          "base_uri": "https://localhost:8080/",
          "height": 667
        },
        "outputId": "7a30c13e-13c1-49ab-ccd4-e5f11d95478a"
      },
      "source": [
        "from sklearn.manifold import TSNE\n",
        "z_mean = vae_encoder.predict(X_test)\n",
        "print(z_mean)\n",
        "model_name='VAESMILES_Latent'\n",
        "os.makedirs(model_name, exist_ok=True)\n",
        "filename = os.path.join(model_name, \"smilesvae_mean.png\")\n",
        "\n",
        "z_embedded = TSNE(n_components=2).fit_transform(z_mean)\n",
        "plt.figure(figsize=(7,7))\n",
        "plt.scatter(z_embedded[:, 0], z_embedded[:, 1])\n",
        "plt.colorbar()\n",
        "plt.xlabel(\"z[0]\")\n",
        "plt.ylabel(\"z[1]\")\n",
        "plt.savefig(filename)\n",
        "plt.show()"
      ],
      "execution_count": 25,
      "outputs": [
        {
          "output_type": "stream",
          "text": [
            "[[-1.2718631   2.272187   -0.706343   ... -0.91911423 -0.77411675\n",
            "   0.86471117]\n",
            " [-0.53419065 -0.2156051  -1.5876743  ...  0.40503296  0.18513417\n",
            "  -1.2182038 ]\n",
            " [-0.00961024 -1.8303593  -0.84326863 ...  0.08297409 -0.4254319\n",
            "  -1.7774081 ]\n",
            " ...\n",
            " [ 1.6899164   0.4868828   2.2638342  ... -0.22185612  1.4506726\n",
            "  -0.20377019]\n",
            " [-0.4371035  -0.16705242 -0.51895577 ...  0.45264748 -0.08606002\n",
            "  -1.1775583 ]\n",
            " [ 1.2655423  -1.0578771  -0.22845602 ... -0.35760415 -1.6777179\n",
            "  -0.48118278]]\n"
          ],
          "name": "stdout"
        },
        {
          "output_type": "display_data",
          "data": {
            "image/png": "[encoded data removed]",
            "text/plain": [
              "<Figure size 504x504 with 2 Axes>"
            ]
          },
          "metadata": {
            "tags": [],
            "needs_background": "light"
          }
        }
      ]
    },
    {
      "cell_type": "code",
      "metadata": {
        "id": "9XSErvzmNbVs",
        "colab_type": "code",
        "colab": {
          "base_uri": "https://localhost:8080/",
          "height": 51
        },
        "outputId": "8dbbe541-070d-4ec6-e86b-bc93065dbfd3"
      },
      "source": [
        "print(z_mean.shape)\n",
        "print(z_embedded.shape)"
      ],
      "execution_count": 26,
      "outputs": [
        {
          "output_type": "stream",
          "text": [
            "(948, 20)\n",
            "(948, 2)\n"
          ],
          "name": "stdout"
        }
      ]
    }
  ]
}