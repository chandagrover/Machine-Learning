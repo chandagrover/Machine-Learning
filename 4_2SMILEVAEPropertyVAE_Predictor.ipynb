{
  "nbformat": 4,
  "nbformat_minor": 0,
  "metadata": {
    "accelerator": "GPU",
    "colab": {
      "name": "4_2SMILEVAEPropertyVAE-Predictor.ipynb",
      "provenance": [],
      "collapsed_sections": [],
      "toc_visible": true,
      "include_colab_link": true
    },
    "kernelspec": {
      "display_name": "Python 3",
      "name": "python3"
    }
  },
  "cells": [
    {
      "cell_type": "markdown",
      "metadata": {
        "id": "view-in-github",
        "colab_type": "text"
      },
      "source": [
        "<a href=\"https://colab.research.google.com/github/chandagrover/Machine-Learning/blob/master/4_2SMILEVAEPropertyVAE_Predictor.ipynb\" target=\"_parent\"><img src=\"https://colab.research.google.com/assets/colab-badge.svg\" alt=\"Open In Colab\"/></a>"
      ]
    },
    {
      "cell_type": "markdown",
      "metadata": {
        "id": "IqbVf3cCn7Hz"
      },
      "source": [
        "# **Basic Installs and Imports**"
      ]
    },
    {
      "cell_type": "code",
      "metadata": {
        "colab": {
          "base_uri": "https://localhost:8080/"
        },
        "id": "xBWk-2to-U0V",
        "outputId": "6a9bcccb-66d1-4486-9a8c-a9ef25be5f71"
      },
      "source": [
        "!pip install tensorflow==1.12\n",
        "!pip install keras==2.2.4\n",
        "!pip install h5py"
      ],
      "execution_count": 1,
      "outputs": [
        {
          "output_type": "stream",
          "text": [
            "Collecting tensorflow==1.12\n",
            "\u001b[?25l  Downloading https://files.pythonhosted.org/packages/22/cc/ca70b78087015d21c5f3f93694107f34ebccb3be9624385a911d4b52ecef/tensorflow-1.12.0-cp36-cp36m-manylinux1_x86_64.whl (83.1MB)\n",
            "\u001b[K     |████████████████████████████████| 83.1MB 60kB/s \n",
            "\u001b[?25hRequirement already satisfied: keras-preprocessing>=1.0.5 in /usr/local/lib/python3.6/dist-packages (from tensorflow==1.12) (1.1.2)\n",
            "Requirement already satisfied: absl-py>=0.1.6 in /usr/local/lib/python3.6/dist-packages (from tensorflow==1.12) (0.10.0)\n",
            "Requirement already satisfied: protobuf>=3.6.1 in /usr/local/lib/python3.6/dist-packages (from tensorflow==1.12) (3.12.4)\n",
            "Collecting tensorboard<1.13.0,>=1.12.0\n",
            "\u001b[?25l  Downloading https://files.pythonhosted.org/packages/07/53/8d32ce9471c18f8d99028b7cef2e5b39ea8765bd7ef250ca05b490880971/tensorboard-1.12.2-py3-none-any.whl (3.0MB)\n",
            "\u001b[K     |████████████████████████████████| 3.1MB 55.9MB/s \n",
            "\u001b[?25hRequirement already satisfied: termcolor>=1.1.0 in /usr/local/lib/python3.6/dist-packages (from tensorflow==1.12) (1.1.0)\n",
            "Requirement already satisfied: gast>=0.2.0 in /usr/local/lib/python3.6/dist-packages (from tensorflow==1.12) (0.3.3)\n",
            "Requirement already satisfied: grpcio>=1.8.6 in /usr/local/lib/python3.6/dist-packages (from tensorflow==1.12) (1.33.2)\n",
            "Collecting keras-applications>=1.0.6\n",
            "\u001b[?25l  Downloading https://files.pythonhosted.org/packages/71/e3/19762fdfc62877ae9102edf6342d71b28fbfd9dea3d2f96a882ce099b03f/Keras_Applications-1.0.8-py3-none-any.whl (50kB)\n",
            "\u001b[K     |████████████████████████████████| 51kB 9.0MB/s \n",
            "\u001b[?25hRequirement already satisfied: six>=1.10.0 in /usr/local/lib/python3.6/dist-packages (from tensorflow==1.12) (1.15.0)\n",
            "Requirement already satisfied: astor>=0.6.0 in /usr/local/lib/python3.6/dist-packages (from tensorflow==1.12) (0.8.1)\n",
            "Requirement already satisfied: numpy>=1.13.3 in /usr/local/lib/python3.6/dist-packages (from tensorflow==1.12) (1.18.5)\n",
            "Requirement already satisfied: wheel>=0.26 in /usr/local/lib/python3.6/dist-packages (from tensorflow==1.12) (0.35.1)\n",
            "Requirement already satisfied: setuptools in /usr/local/lib/python3.6/dist-packages (from protobuf>=3.6.1->tensorflow==1.12) (50.3.2)\n",
            "Requirement already satisfied: werkzeug>=0.11.10 in /usr/local/lib/python3.6/dist-packages (from tensorboard<1.13.0,>=1.12.0->tensorflow==1.12) (1.0.1)\n",
            "Requirement already satisfied: markdown>=2.6.8 in /usr/local/lib/python3.6/dist-packages (from tensorboard<1.13.0,>=1.12.0->tensorflow==1.12) (3.3.3)\n",
            "Requirement already satisfied: h5py in /usr/local/lib/python3.6/dist-packages (from keras-applications>=1.0.6->tensorflow==1.12) (2.10.0)\n",
            "Requirement already satisfied: importlib-metadata; python_version < \"3.8\" in /usr/local/lib/python3.6/dist-packages (from markdown>=2.6.8->tensorboard<1.13.0,>=1.12.0->tensorflow==1.12) (2.0.0)\n",
            "Requirement already satisfied: zipp>=0.5 in /usr/local/lib/python3.6/dist-packages (from importlib-metadata; python_version < \"3.8\"->markdown>=2.6.8->tensorboard<1.13.0,>=1.12.0->tensorflow==1.12) (3.4.0)\n",
            "Installing collected packages: tensorboard, keras-applications, tensorflow\n",
            "  Found existing installation: tensorboard 2.3.0\n",
            "    Uninstalling tensorboard-2.3.0:\n",
            "      Successfully uninstalled tensorboard-2.3.0\n",
            "  Found existing installation: tensorflow 2.3.0\n",
            "    Uninstalling tensorflow-2.3.0:\n",
            "      Successfully uninstalled tensorflow-2.3.0\n",
            "Successfully installed keras-applications-1.0.8 tensorboard-1.12.2 tensorflow-1.12.0\n",
            "Collecting keras==2.2.4\n",
            "\u001b[?25l  Downloading https://files.pythonhosted.org/packages/5e/10/aa32dad071ce52b5502266b5c659451cfd6ffcbf14e6c8c4f16c0ff5aaab/Keras-2.2.4-py2.py3-none-any.whl (312kB)\n",
            "\u001b[K     |████████████████████████████████| 317kB 8.4MB/s \n",
            "\u001b[?25hRequirement already satisfied: pyyaml in /usr/local/lib/python3.6/dist-packages (from keras==2.2.4) (3.13)\n",
            "Requirement already satisfied: keras-preprocessing>=1.0.5 in /usr/local/lib/python3.6/dist-packages (from keras==2.2.4) (1.1.2)\n",
            "Requirement already satisfied: h5py in /usr/local/lib/python3.6/dist-packages (from keras==2.2.4) (2.10.0)\n",
            "Requirement already satisfied: six>=1.9.0 in /usr/local/lib/python3.6/dist-packages (from keras==2.2.4) (1.15.0)\n",
            "Requirement already satisfied: numpy>=1.9.1 in /usr/local/lib/python3.6/dist-packages (from keras==2.2.4) (1.18.5)\n",
            "Requirement already satisfied: keras-applications>=1.0.6 in /usr/local/lib/python3.6/dist-packages (from keras==2.2.4) (1.0.8)\n",
            "Requirement already satisfied: scipy>=0.14 in /usr/local/lib/python3.6/dist-packages (from keras==2.2.4) (1.4.1)\n",
            "Installing collected packages: keras\n",
            "  Found existing installation: Keras 2.4.3\n",
            "    Uninstalling Keras-2.4.3:\n",
            "      Successfully uninstalled Keras-2.4.3\n",
            "Successfully installed keras-2.2.4\n",
            "Requirement already satisfied: h5py in /usr/local/lib/python3.6/dist-packages (2.10.0)\n",
            "Requirement already satisfied: six in /usr/local/lib/python3.6/dist-packages (from h5py) (1.15.0)\n",
            "Requirement already satisfied: numpy>=1.7 in /usr/local/lib/python3.6/dist-packages (from h5py) (1.18.5)\n"
          ],
          "name": "stdout"
        }
      ]
    },
    {
      "cell_type": "code",
      "metadata": {
        "colab": {
          "base_uri": "https://localhost:8080/"
        },
        "id": "2A6L-NOWC3jn",
        "outputId": "8f86f1c5-6a7d-41ff-85f8-17ae658d22d4"
      },
      "source": [
        "!wget -c https://repo.continuum.io/miniconda/Miniconda3-py37_4.8.3-Linux-x86_64.sh\n",
        "!chmod +x Miniconda3-py37_4.8.3-Linux-x86_64.sh\n",
        "!time bash ./Miniconda3-py37_4.8.3-Linux-x86_64.sh -b -f -p /usr/local\n",
        "!time conda install -q -y -c conda-forge rdkit\n",
        "import sys\n",
        "sys.path.append('/usr/local/lib/python3.7/site-packages/')\n"
      ],
      "execution_count": 2,
      "outputs": [
        {
          "output_type": "stream",
          "text": [
            "--2020-11-25 12:10:43--  https://repo.continuum.io/miniconda/Miniconda3-py37_4.8.3-Linux-x86_64.sh\n",
            "Resolving repo.continuum.io (repo.continuum.io)... 104.18.200.79, 104.18.201.79, 2606:4700::6812:c84f, ...\n",
            "Connecting to repo.continuum.io (repo.continuum.io)|104.18.200.79|:443... connected.\n",
            "HTTP request sent, awaiting response... 301 Moved Permanently\n",
            "Location: https://repo.anaconda.com/miniconda/Miniconda3-py37_4.8.3-Linux-x86_64.sh [following]\n",
            "--2020-11-25 12:10:43--  https://repo.anaconda.com/miniconda/Miniconda3-py37_4.8.3-Linux-x86_64.sh\n",
            "Resolving repo.anaconda.com (repo.anaconda.com)... 104.16.130.3, 104.16.131.3, 2606:4700::6810:8303, ...\n",
            "Connecting to repo.anaconda.com (repo.anaconda.com)|104.16.130.3|:443... connected.\n",
            "HTTP request sent, awaiting response... 200 OK\n",
            "Length: 88867207 (85M) [application/x-sh]\n",
            "Saving to: ‘Miniconda3-py37_4.8.3-Linux-x86_64.sh’\n",
            "\n",
            "Miniconda3-py37_4.8 100%[===================>]  84.75M   224MB/s    in 0.4s    \n",
            "\n",
            "2020-11-25 12:10:43 (224 MB/s) - ‘Miniconda3-py37_4.8.3-Linux-x86_64.sh’ saved [88867207/88867207]\n",
            "\n",
            "PREFIX=/usr/local\n",
            "Unpacking payload ...\n",
            "Collecting package metadata (current_repodata.json): - \b\b\\ \b\b| \b\bdone\n",
            "Solving environment: - \b\b\\ \b\bdone\n",
            "\n",
            "## Package Plan ##\n",
            "\n",
            "  environment location: /usr/local\n",
            "\n",
            "  added / updated specs:\n",
            "    - _libgcc_mutex==0.1=main\n",
            "    - ca-certificates==2020.1.1=0\n",
            "    - certifi==2020.4.5.1=py37_0\n",
            "    - cffi==1.14.0=py37he30daa8_1\n",
            "    - chardet==3.0.4=py37_1003\n",
            "    - conda-package-handling==1.6.1=py37h7b6447c_0\n",
            "    - conda==4.8.3=py37_0\n",
            "    - cryptography==2.9.2=py37h1ba5d50_0\n",
            "    - idna==2.9=py_1\n",
            "    - ld_impl_linux-64==2.33.1=h53a641e_7\n",
            "    - libedit==3.1.20181209=hc058e9b_0\n",
            "    - libffi==3.3=he6710b0_1\n",
            "    - libgcc-ng==9.1.0=hdf63c60_0\n",
            "    - libstdcxx-ng==9.1.0=hdf63c60_0\n",
            "    - ncurses==6.2=he6710b0_1\n",
            "    - openssl==1.1.1g=h7b6447c_0\n",
            "    - pip==20.0.2=py37_3\n",
            "    - pycosat==0.6.3=py37h7b6447c_0\n",
            "    - pycparser==2.20=py_0\n",
            "    - pyopenssl==19.1.0=py37_0\n",
            "    - pysocks==1.7.1=py37_0\n",
            "    - python==3.7.7=hcff3b4d_5\n",
            "    - readline==8.0=h7b6447c_0\n",
            "    - requests==2.23.0=py37_0\n",
            "    - ruamel_yaml==0.15.87=py37h7b6447c_0\n",
            "    - setuptools==46.4.0=py37_0\n",
            "    - six==1.14.0=py37_0\n",
            "    - sqlite==3.31.1=h62c20be_1\n",
            "    - tk==8.6.8=hbc83047_0\n",
            "    - tqdm==4.46.0=py_0\n",
            "    - urllib3==1.25.8=py37_0\n",
            "    - wheel==0.34.2=py37_0\n",
            "    - xz==5.2.5=h7b6447c_0\n",
            "    - yaml==0.1.7=had09818_2\n",
            "    - zlib==1.2.11=h7b6447c_3\n",
            "\n",
            "\n",
            "The following NEW packages will be INSTALLED:\n",
            "\n",
            "  _libgcc_mutex      pkgs/main/linux-64::_libgcc_mutex-0.1-main\n",
            "  ca-certificates    pkgs/main/linux-64::ca-certificates-2020.1.1-0\n",
            "  certifi            pkgs/main/linux-64::certifi-2020.4.5.1-py37_0\n",
            "  cffi               pkgs/main/linux-64::cffi-1.14.0-py37he30daa8_1\n",
            "  chardet            pkgs/main/linux-64::chardet-3.0.4-py37_1003\n",
            "  conda              pkgs/main/linux-64::conda-4.8.3-py37_0\n",
            "  conda-package-han~ pkgs/main/linux-64::conda-package-handling-1.6.1-py37h7b6447c_0\n",
            "  cryptography       pkgs/main/linux-64::cryptography-2.9.2-py37h1ba5d50_0\n",
            "  idna               pkgs/main/noarch::idna-2.9-py_1\n",
            "  ld_impl_linux-64   pkgs/main/linux-64::ld_impl_linux-64-2.33.1-h53a641e_7\n",
            "  libedit            pkgs/main/linux-64::libedit-3.1.20181209-hc058e9b_0\n",
            "  libffi             pkgs/main/linux-64::libffi-3.3-he6710b0_1\n",
            "  libgcc-ng          pkgs/main/linux-64::libgcc-ng-9.1.0-hdf63c60_0\n",
            "  libstdcxx-ng       pkgs/main/linux-64::libstdcxx-ng-9.1.0-hdf63c60_0\n",
            "  ncurses            pkgs/main/linux-64::ncurses-6.2-he6710b0_1\n",
            "  openssl            pkgs/main/linux-64::openssl-1.1.1g-h7b6447c_0\n",
            "  pip                pkgs/main/linux-64::pip-20.0.2-py37_3\n",
            "  pycosat            pkgs/main/linux-64::pycosat-0.6.3-py37h7b6447c_0\n",
            "  pycparser          pkgs/main/noarch::pycparser-2.20-py_0\n",
            "  pyopenssl          pkgs/main/linux-64::pyopenssl-19.1.0-py37_0\n",
            "  pysocks            pkgs/main/linux-64::pysocks-1.7.1-py37_0\n",
            "  python             pkgs/main/linux-64::python-3.7.7-hcff3b4d_5\n",
            "  readline           pkgs/main/linux-64::readline-8.0-h7b6447c_0\n",
            "  requests           pkgs/main/linux-64::requests-2.23.0-py37_0\n",
            "  ruamel_yaml        pkgs/main/linux-64::ruamel_yaml-0.15.87-py37h7b6447c_0\n",
            "  setuptools         pkgs/main/linux-64::setuptools-46.4.0-py37_0\n",
            "  six                pkgs/main/linux-64::six-1.14.0-py37_0\n",
            "  sqlite             pkgs/main/linux-64::sqlite-3.31.1-h62c20be_1\n",
            "  tk                 pkgs/main/linux-64::tk-8.6.8-hbc83047_0\n",
            "  tqdm               pkgs/main/noarch::tqdm-4.46.0-py_0\n",
            "  urllib3            pkgs/main/linux-64::urllib3-1.25.8-py37_0\n",
            "  wheel              pkgs/main/linux-64::wheel-0.34.2-py37_0\n",
            "  xz                 pkgs/main/linux-64::xz-5.2.5-h7b6447c_0\n",
            "  yaml               pkgs/main/linux-64::yaml-0.1.7-had09818_2\n",
            "  zlib               pkgs/main/linux-64::zlib-1.2.11-h7b6447c_3\n",
            "\n",
            "\n",
            "Preparing transaction: / \b\b- \b\b\\ \b\bdone\n",
            "Executing transaction: / \b\b- \b\b\\ \b\b| \b\b/ \b\b- \b\b\\ \b\b| \b\b/ \b\b- \b\b\\ \b\bdone\n",
            "installation finished.\n",
            "WARNING:\n",
            "    You currently have a PYTHONPATH environment variable set. This may cause\n",
            "    unexpected behavior when running the Python interpreter in Miniconda3.\n",
            "    For best results, please verify that your PYTHONPATH only points to\n",
            "    directories of packages that are compatible with the Python interpreter\n",
            "    in Miniconda3: /usr/local\n",
            "\n",
            "real\t0m28.749s\n",
            "user\t0m12.241s\n",
            "sys\t0m3.796s\n",
            "Collecting package metadata (current_repodata.json): ...working... done\n",
            "Solving environment: ...working... done\n",
            "\n",
            "## Package Plan ##\n",
            "\n",
            "  environment location: /usr/local\n",
            "\n",
            "  added / updated specs:\n",
            "    - rdkit\n",
            "\n",
            "\n",
            "The following packages will be downloaded:\n",
            "\n",
            "    package                    |            build\n",
            "    ---------------------------|-----------------\n",
            "    boost-1.74.0               |   py37he5a615d_2         335 KB  conda-forge\n",
            "    boost-cpp-1.74.0           |       h9359b55_0        16.4 MB  conda-forge\n",
            "    bzip2-1.0.8                |       h516909a_3         398 KB  conda-forge\n",
            "    ca-certificates-2020.11.8  |       ha878542_0         145 KB  conda-forge\n",
            "    cairo-1.16.0               |    h3fc0475_1005         1.5 MB  conda-forge\n",
            "    certifi-2020.11.8          |   py37h89c1867_0         150 KB  conda-forge\n",
            "    conda-4.9.2                |   py37h89c1867_0         3.0 MB  conda-forge\n",
            "    fontconfig-2.13.1          |    h7e3eb15_1002         324 KB  conda-forge\n",
            "    freetype-2.10.4            |       h7ca028e_0         912 KB  conda-forge\n",
            "    glib-2.66.1                |       h92f7085_0         2.9 MB\n",
            "    icu-67.1                   |       he1b5a44_0        12.9 MB  conda-forge\n",
            "    jpeg-9d                    |       h36c2ea0_0         264 KB  conda-forge\n",
            "    lcms2-2.11                 |       hcbb858e_1         434 KB  conda-forge\n",
            "    libblas-3.9.0              |       3_openblas          11 KB  conda-forge\n",
            "    libcblas-3.9.0             |       3_openblas          11 KB  conda-forge\n",
            "    libgfortran-ng-7.5.0       |      hae1eefd_17          22 KB  conda-forge\n",
            "    libgfortran4-7.5.0         |      hae1eefd_17         1.3 MB  conda-forge\n",
            "    libiconv-1.16              |       h516909a_0         1.4 MB  conda-forge\n",
            "    liblapack-3.9.0            |       3_openblas          11 KB  conda-forge\n",
            "    libopenblas-0.3.12         |pthreads_hb3c22a3_1         8.2 MB  conda-forge\n",
            "    libpng-1.6.37              |       h21135ba_2         306 KB  conda-forge\n",
            "    libtiff-4.1.0              |       h4f3a223_6         618 KB  conda-forge\n",
            "    libuuid-2.32.1             |    h14c3975_1000          26 KB  conda-forge\n",
            "    libwebp-base-1.1.0         |       h36c2ea0_3         864 KB  conda-forge\n",
            "    libxcb-1.13                |    h14c3975_1002         396 KB  conda-forge\n",
            "    libxml2-2.9.10             |       h68273f3_2         1.3 MB  conda-forge\n",
            "    lz4-c-1.9.2                |       he1b5a44_3         203 KB  conda-forge\n",
            "    numpy-1.19.4               |   py37h7e9df27_1         5.2 MB  conda-forge\n",
            "    olefile-0.46               |     pyh9f0ad1d_1          32 KB  conda-forge\n",
            "    openssl-1.1.1h             |       h516909a_0         2.1 MB  conda-forge\n",
            "    pandas-1.1.4               |   py37h10a2094_0        10.5 MB  conda-forge\n",
            "    pcre-8.44                  |       he1b5a44_0         261 KB  conda-forge\n",
            "    pillow-8.0.1               |   py37he98fc37_0         619 KB\n",
            "    pixman-0.38.0              |    h516909a_1003         594 KB  conda-forge\n",
            "    pthread-stubs-0.4          |    h36c2ea0_1001           5 KB  conda-forge\n",
            "    pycairo-1.20.0             |   py37h01af8b0_1          77 KB  conda-forge\n",
            "    python-dateutil-2.8.1      |             py_0         220 KB  conda-forge\n",
            "    python_abi-3.7             |          1_cp37m           4 KB  conda-forge\n",
            "    pytz-2020.4                |     pyhd8ed1ab_0         229 KB  conda-forge\n",
            "    rdkit-2020.09.1            |   py37h0c252aa_0        25.8 MB  conda-forge\n",
            "    xorg-kbproto-1.0.7         |    h14c3975_1002          26 KB  conda-forge\n",
            "    xorg-libice-1.0.10         |       h516909a_0          57 KB  conda-forge\n",
            "    xorg-libsm-1.2.3           |    h84519dc_1000          25 KB  conda-forge\n",
            "    xorg-libx11-1.6.12         |       h516909a_0         917 KB  conda-forge\n",
            "    xorg-libxau-1.0.9          |       h14c3975_0          13 KB  conda-forge\n",
            "    xorg-libxdmcp-1.1.3        |       h516909a_0          18 KB  conda-forge\n",
            "    xorg-libxext-1.3.4         |       h516909a_0          51 KB  conda-forge\n",
            "    xorg-libxrender-0.9.10     |    h516909a_1002          31 KB  conda-forge\n",
            "    xorg-renderproto-0.11.1    |    h14c3975_1002           8 KB  conda-forge\n",
            "    xorg-xextproto-7.3.0       |    h14c3975_1002          27 KB  conda-forge\n",
            "    xorg-xproto-7.0.31         |    h14c3975_1007          72 KB  conda-forge\n",
            "    zstd-1.4.5                 |       h6597ccf_2         712 KB  conda-forge\n",
            "    ------------------------------------------------------------\n",
            "                                           Total:       101.6 MB\n",
            "\n",
            "The following NEW packages will be INSTALLED:\n",
            "\n",
            "  boost              conda-forge/linux-64::boost-1.74.0-py37he5a615d_2\n",
            "  boost-cpp          conda-forge/linux-64::boost-cpp-1.74.0-h9359b55_0\n",
            "  bzip2              conda-forge/linux-64::bzip2-1.0.8-h516909a_3\n",
            "  cairo              conda-forge/linux-64::cairo-1.16.0-h3fc0475_1005\n",
            "  fontconfig         conda-forge/linux-64::fontconfig-2.13.1-h7e3eb15_1002\n",
            "  freetype           conda-forge/linux-64::freetype-2.10.4-h7ca028e_0\n",
            "  glib               pkgs/main/linux-64::glib-2.66.1-h92f7085_0\n",
            "  icu                conda-forge/linux-64::icu-67.1-he1b5a44_0\n",
            "  jpeg               conda-forge/linux-64::jpeg-9d-h36c2ea0_0\n",
            "  lcms2              conda-forge/linux-64::lcms2-2.11-hcbb858e_1\n",
            "  libblas            conda-forge/linux-64::libblas-3.9.0-3_openblas\n",
            "  libcblas           conda-forge/linux-64::libcblas-3.9.0-3_openblas\n",
            "  libgfortran-ng     conda-forge/linux-64::libgfortran-ng-7.5.0-hae1eefd_17\n",
            "  libgfortran4       conda-forge/linux-64::libgfortran4-7.5.0-hae1eefd_17\n",
            "  libiconv           conda-forge/linux-64::libiconv-1.16-h516909a_0\n",
            "  liblapack          conda-forge/linux-64::liblapack-3.9.0-3_openblas\n",
            "  libopenblas        conda-forge/linux-64::libopenblas-0.3.12-pthreads_hb3c22a3_1\n",
            "  libpng             conda-forge/linux-64::libpng-1.6.37-h21135ba_2\n",
            "  libtiff            conda-forge/linux-64::libtiff-4.1.0-h4f3a223_6\n",
            "  libuuid            conda-forge/linux-64::libuuid-2.32.1-h14c3975_1000\n",
            "  libwebp-base       conda-forge/linux-64::libwebp-base-1.1.0-h36c2ea0_3\n",
            "  libxcb             conda-forge/linux-64::libxcb-1.13-h14c3975_1002\n",
            "  libxml2            conda-forge/linux-64::libxml2-2.9.10-h68273f3_2\n",
            "  lz4-c              conda-forge/linux-64::lz4-c-1.9.2-he1b5a44_3\n",
            "  numpy              conda-forge/linux-64::numpy-1.19.4-py37h7e9df27_1\n",
            "  olefile            conda-forge/noarch::olefile-0.46-pyh9f0ad1d_1\n",
            "  pandas             conda-forge/linux-64::pandas-1.1.4-py37h10a2094_0\n",
            "  pcre               conda-forge/linux-64::pcre-8.44-he1b5a44_0\n",
            "  pillow             pkgs/main/linux-64::pillow-8.0.1-py37he98fc37_0\n",
            "  pixman             conda-forge/linux-64::pixman-0.38.0-h516909a_1003\n",
            "  pthread-stubs      conda-forge/linux-64::pthread-stubs-0.4-h36c2ea0_1001\n",
            "  pycairo            conda-forge/linux-64::pycairo-1.20.0-py37h01af8b0_1\n",
            "  python-dateutil    conda-forge/noarch::python-dateutil-2.8.1-py_0\n",
            "  python_abi         conda-forge/linux-64::python_abi-3.7-1_cp37m\n",
            "  pytz               conda-forge/noarch::pytz-2020.4-pyhd8ed1ab_0\n",
            "  rdkit              conda-forge/linux-64::rdkit-2020.09.1-py37h0c252aa_0\n",
            "  xorg-kbproto       conda-forge/linux-64::xorg-kbproto-1.0.7-h14c3975_1002\n",
            "  xorg-libice        conda-forge/linux-64::xorg-libice-1.0.10-h516909a_0\n",
            "  xorg-libsm         conda-forge/linux-64::xorg-libsm-1.2.3-h84519dc_1000\n",
            "  xorg-libx11        conda-forge/linux-64::xorg-libx11-1.6.12-h516909a_0\n",
            "  xorg-libxau        conda-forge/linux-64::xorg-libxau-1.0.9-h14c3975_0\n",
            "  xorg-libxdmcp      conda-forge/linux-64::xorg-libxdmcp-1.1.3-h516909a_0\n",
            "  xorg-libxext       conda-forge/linux-64::xorg-libxext-1.3.4-h516909a_0\n",
            "  xorg-libxrender    conda-forge/linux-64::xorg-libxrender-0.9.10-h516909a_1002\n",
            "  xorg-renderproto   conda-forge/linux-64::xorg-renderproto-0.11.1-h14c3975_1002\n",
            "  xorg-xextproto     conda-forge/linux-64::xorg-xextproto-7.3.0-h14c3975_1002\n",
            "  xorg-xproto        conda-forge/linux-64::xorg-xproto-7.0.31-h14c3975_1007\n",
            "  zstd               conda-forge/linux-64::zstd-1.4.5-h6597ccf_2\n",
            "\n",
            "The following packages will be UPDATED:\n",
            "\n",
            "  ca-certificates     pkgs/main::ca-certificates-2020.1.1-0 --> conda-forge::ca-certificates-2020.11.8-ha878542_0\n",
            "  certifi              pkgs/main::certifi-2020.4.5.1-py37_0 --> conda-forge::certifi-2020.11.8-py37h89c1867_0\n",
            "  conda                       pkgs/main::conda-4.8.3-py37_0 --> conda-forge::conda-4.9.2-py37h89c1867_0\n",
            "  openssl              pkgs/main::openssl-1.1.1g-h7b6447c_0 --> conda-forge::openssl-1.1.1h-h516909a_0\n",
            "\n",
            "\n",
            "Preparing transaction: ...working... done\n",
            "Verifying transaction: ...working... done\n",
            "Executing transaction: ...working... done\n",
            "\n",
            "real\t0m38.110s\n",
            "user\t0m32.698s\n",
            "sys\t0m3.638s\n"
          ],
          "name": "stdout"
        }
      ]
    },
    {
      "cell_type": "code",
      "metadata": {
        "id": "xIkkjr7wBIM_",
        "colab": {
          "base_uri": "https://localhost:8080/"
        },
        "outputId": "434f184e-e6fe-4e26-a30e-4327a5b120e8"
      },
      "source": [
        "# General Imports\n",
        "import os\n",
        "import pandas as pd\n",
        "import numpy as np\n",
        "import sklearn\n",
        "from rdkit import Chem\n",
        "from rdkit.Chem import Draw, Descriptors\n",
        "from matplotlib import pyplot as plt\n",
        "import re\n",
        "\n",
        "# FOR VAE Architecture \n",
        "from keras.layers import Input, Dense, Lambda\n",
        "from keras.models import Model\n",
        "from keras import backend as K\n",
        "from keras.optimizers import Adam\n",
        "from keras.callbacks import ModelCheckpoint \n",
        "from keras.utils import plot_model\n",
        "from keras.losses import mse, binary_crossentropy\n",
        "import keras\n",
        "from keras import layers\n",
        "import tensorflow as tf\n",
        "from keras.models import load_model"
      ],
      "execution_count": 3,
      "outputs": [
        {
          "output_type": "stream",
          "text": [
            "Using TensorFlow backend.\n",
            "/usr/local/lib/python3.6/dist-packages/tensorflow/python/framework/dtypes.py:523: FutureWarning: Passing (type, 1) or '1type' as a synonym of type is deprecated; in a future version of numpy, it will be understood as (type, (1,)) / '(1,)type'.\n",
            "  _np_qint8 = np.dtype([(\"qint8\", np.int8, 1)])\n",
            "/usr/local/lib/python3.6/dist-packages/tensorflow/python/framework/dtypes.py:524: FutureWarning: Passing (type, 1) or '1type' as a synonym of type is deprecated; in a future version of numpy, it will be understood as (type, (1,)) / '(1,)type'.\n",
            "  _np_quint8 = np.dtype([(\"quint8\", np.uint8, 1)])\n",
            "/usr/local/lib/python3.6/dist-packages/tensorflow/python/framework/dtypes.py:525: FutureWarning: Passing (type, 1) or '1type' as a synonym of type is deprecated; in a future version of numpy, it will be understood as (type, (1,)) / '(1,)type'.\n",
            "  _np_qint16 = np.dtype([(\"qint16\", np.int16, 1)])\n",
            "/usr/local/lib/python3.6/dist-packages/tensorflow/python/framework/dtypes.py:526: FutureWarning: Passing (type, 1) or '1type' as a synonym of type is deprecated; in a future version of numpy, it will be understood as (type, (1,)) / '(1,)type'.\n",
            "  _np_quint16 = np.dtype([(\"quint16\", np.uint16, 1)])\n",
            "/usr/local/lib/python3.6/dist-packages/tensorflow/python/framework/dtypes.py:527: FutureWarning: Passing (type, 1) or '1type' as a synonym of type is deprecated; in a future version of numpy, it will be understood as (type, (1,)) / '(1,)type'.\n",
            "  _np_qint32 = np.dtype([(\"qint32\", np.int32, 1)])\n",
            "/usr/local/lib/python3.6/dist-packages/tensorflow/python/framework/dtypes.py:532: FutureWarning: Passing (type, 1) or '1type' as a synonym of type is deprecated; in a future version of numpy, it will be understood as (type, (1,)) / '(1,)type'.\n",
            "  np_resource = np.dtype([(\"resource\", np.ubyte, 1)])\n"
          ],
          "name": "stderr"
        }
      ]
    },
    {
      "cell_type": "code",
      "metadata": {
        "colab": {
          "base_uri": "https://localhost:8080/"
        },
        "id": "nSxeU5f5Q_yi",
        "outputId": "f282baf4-94da-412d-fd71-974bde1a287d"
      },
      "source": [
        "import rdkit\n",
        "print(\"RDKit: %s\"%rdkit.__version__)\n",
        "print(\"Keras: %s\"%keras.__version__)"
      ],
      "execution_count": 4,
      "outputs": [
        {
          "output_type": "stream",
          "text": [
            "RDKit: 2020.09.1\n",
            "Keras: 2.2.4\n"
          ],
          "name": "stdout"
        }
      ]
    },
    {
      "cell_type": "markdown",
      "metadata": {
        "id": "bRZHo5U9oC04"
      },
      "source": [
        "# **Data Fetching**"
      ]
    },
    {
      "cell_type": "code",
      "metadata": {
        "colab": {
          "base_uri": "https://localhost:8080/",
          "height": 204
        },
        "id": "2DHyjFjJBIPk",
        "outputId": "8ded392e-5cbe-4bba-9f54-740090122132"
      },
      "source": [
        "WEIGHTS_FOLDER = 'sample_data/weights/'\n",
        "smifile = \"sample_data/SMILEWithProp.csv\"\n",
        "data = pd.read_csv(smifile, delimiter = \",\", header='infer')\n",
        "NUM_SMILES = len(data)\n",
        "data.head()"
      ],
      "execution_count": 6,
      "outputs": [
        {
          "output_type": "execute_result",
          "data": {
            "text/html": [
              "<div>\n",
              "<style scoped>\n",
              "    .dataframe tbody tr th:only-of-type {\n",
              "        vertical-align: middle;\n",
              "    }\n",
              "\n",
              "    .dataframe tbody tr th {\n",
              "        vertical-align: top;\n",
              "    }\n",
              "\n",
              "    .dataframe thead th {\n",
              "        text-align: right;\n",
              "    }\n",
              "</style>\n",
              "<table border=\"1\" class=\"dataframe\">\n",
              "  <thead>\n",
              "    <tr style=\"text-align: right;\">\n",
              "      <th></th>\n",
              "      <th>smiles</th>\n",
              "      <th>logP</th>\n",
              "      <th>qed</th>\n",
              "      <th>SAS</th>\n",
              "    </tr>\n",
              "  </thead>\n",
              "  <tbody>\n",
              "    <tr>\n",
              "      <th>0</th>\n",
              "      <td>CC(C)(C)c1ccc2occ(CC(=O)Nc3ccccc3F)c2c1\\n</td>\n",
              "      <td>5.05060</td>\n",
              "      <td>0.702012</td>\n",
              "      <td>2.084095</td>\n",
              "    </tr>\n",
              "    <tr>\n",
              "      <th>1</th>\n",
              "      <td>C[C@@H]1CC(Nc2cncc(-c3nncn3C)c2)C[C@@H](C)C1\\n</td>\n",
              "      <td>3.11370</td>\n",
              "      <td>0.928975</td>\n",
              "      <td>3.432004</td>\n",
              "    </tr>\n",
              "    <tr>\n",
              "      <th>2</th>\n",
              "      <td>N#Cc1ccc(-c2ccc(O[C@@H](C(=O)N3CCCC3)c3ccccc3)...</td>\n",
              "      <td>4.96778</td>\n",
              "      <td>0.599682</td>\n",
              "      <td>2.470633</td>\n",
              "    </tr>\n",
              "    <tr>\n",
              "      <th>3</th>\n",
              "      <td>CCOC(=O)[C@@H]1CCCN(C(=O)c2nc(-c3ccc(C)cc3)n3c...</td>\n",
              "      <td>4.00022</td>\n",
              "      <td>0.690944</td>\n",
              "      <td>2.822753</td>\n",
              "    </tr>\n",
              "    <tr>\n",
              "      <th>4</th>\n",
              "      <td>N#CC1=C(SCC(=O)Nc2cccc(Cl)c2)N=C([O-])[C@H](C#...</td>\n",
              "      <td>3.60956</td>\n",
              "      <td>0.789027</td>\n",
              "      <td>4.035182</td>\n",
              "    </tr>\n",
              "  </tbody>\n",
              "</table>\n",
              "</div>"
            ],
            "text/plain": [
              "                                              smiles  ...       SAS\n",
              "0          CC(C)(C)c1ccc2occ(CC(=O)Nc3ccccc3F)c2c1\\n  ...  2.084095\n",
              "1     C[C@@H]1CC(Nc2cncc(-c3nncn3C)c2)C[C@@H](C)C1\\n  ...  3.432004\n",
              "2  N#Cc1ccc(-c2ccc(O[C@@H](C(=O)N3CCCC3)c3ccccc3)...  ...  2.470633\n",
              "3  CCOC(=O)[C@@H]1CCCN(C(=O)c2nc(-c3ccc(C)cc3)n3c...  ...  2.822753\n",
              "4  N#CC1=C(SCC(=O)Nc2cccc(Cl)c2)N=C([O-])[C@H](C#...  ...  4.035182\n",
              "\n",
              "[5 rows x 4 columns]"
            ]
          },
          "metadata": {
            "tags": []
          },
          "execution_count": 6
        }
      ]
    },
    {
      "cell_type": "code",
      "metadata": {
        "colab": {
          "base_uri": "https://localhost:8080/"
        },
        "id": "8SzuXVPdBIT9",
        "outputId": "846ad619-1bc0-4643-f705-06abf24e6e93"
      },
      "source": [
        "from sklearn.model_selection import train_test_split\n",
        "smiles_train, smiles_test = train_test_split(data, test_size=0.2, shuffle=False)\n",
        "print(smiles_train.shape)\n",
        "print(smiles_test.shape)\n",
        "print(NUM_SMILES)"
      ],
      "execution_count": 7,
      "outputs": [
        {
          "output_type": "stream",
          "text": [
            "(1207, 4)\n",
            "(302, 4)\n",
            "1509\n"
          ],
          "name": "stdout"
        }
      ]
    },
    {
      "cell_type": "code",
      "metadata": {
        "id": "ykQpir166HnH"
      },
      "source": [
        "logP_train = smiles_train['logP']\n",
        "logP_test = smiles_test['logP']\n",
        "\n",
        "qed_train=smiles_train['qed']\n",
        "qed_test=smiles_test['qed']\n",
        "\n",
        "SAS_train=smiles_train['SAS']\n",
        "SAS_test=smiles_test['SAS']\n",
        "\n",
        "train=np.array([logP_train, qed_train, SAS_train])\n",
        "test= np.array([logP_test, qed_test, SAS_test])\n",
        "y_train_property=train.transpose()\n",
        "y_test_property=test.transpose()"
      ],
      "execution_count": 8,
      "outputs": []
    },
    {
      "cell_type": "code",
      "metadata": {
        "colab": {
          "base_uri": "https://localhost:8080/"
        },
        "id": "BywtnPMTeJOJ",
        "outputId": "eecb9a64-260e-4508-addf-2a0d578d680f"
      },
      "source": [
        "#Labels for the Smiles String. We will deal with three properties values.\n",
        "print(type(y_train_property))\n",
        "print(type(y_test_property))\n",
        "print(y_train_property.shape)\n",
        "print(y_test_property.shape)"
      ],
      "execution_count": 9,
      "outputs": [
        {
          "output_type": "stream",
          "text": [
            "<class 'numpy.ndarray'>\n",
            "<class 'numpy.ndarray'>\n",
            "(1207, 3)\n",
            "(302, 3)\n"
          ],
          "name": "stdout"
        }
      ]
    },
    {
      "cell_type": "markdown",
      "metadata": {
        "id": "dyKD-M0KoUMU"
      },
      "source": [
        "### **Vector Representation of Data**"
      ]
    },
    {
      "cell_type": "code",
      "metadata": {
        "colab": {
          "base_uri": "https://localhost:8080/"
        },
        "id": "dObMxirLBIYD",
        "outputId": "6087e80c-b98a-4c07-f6ef-0264f8d8f405"
      },
      "source": [
        "charset = set(\"\".join(list(data.smiles))+\"!E\")\n",
        "char_to_int = dict((c,i) for i,c in enumerate(charset))\n",
        "int_to_char = dict((i,c) for i,c in enumerate(charset))\n",
        "# embed = max([len(smile) for smile in data.smiles]) + 5\n",
        "embed = max([len(smile) for smile in data.smiles])+2\n",
        "# print(char_to_int)\n",
        "print(len(charset), embed)\n",
        "# print(embed)"
      ],
      "execution_count": 10,
      "outputs": [
        {
          "output_type": "stream",
          "text": [
            "40 108\n"
          ],
          "name": "stdout"
        }
      ]
    },
    {
      "cell_type": "code",
      "metadata": {
        "colab": {
          "base_uri": "https://localhost:8080/"
        },
        "id": "jJh9uNg4BIew",
        "outputId": "7f1a9d2e-1306-411f-c984-6c6f3db3fda6"
      },
      "source": [
        "def vectorize(smiles):\n",
        "        onehot_flatList=[[]]\n",
        "        one_hot =  np.zeros((smiles.shape[0], embed , len(charset)),dtype=np.int8)\n",
        "        print(one_hot.shape)\n",
        "        for i,smile in enumerate(smiles):\n",
        "            #encode the startchar\n",
        "            one_hot[i,0,char_to_int[\"!\"]] = 1\n",
        "            #encode the rest of the chars\n",
        "            for j,c in enumerate(smile):\n",
        "                one_hot[i,j+1,char_to_int[c]] = 1\n",
        "            #Encode endchar\n",
        "            one_hot[i,len(smile)+1:,char_to_int[\"E\"]] = 1\n",
        "        #Return two, one for input and the other for output\n",
        "        return one_hot[:,:,:]\n",
        "\n",
        "X_train= vectorize(smiles_train['smiles'].values)\n",
        "X_test = vectorize(smiles_test['smiles'].values)"
      ],
      "execution_count": 11,
      "outputs": [
        {
          "output_type": "stream",
          "text": [
            "(1207, 108, 40)\n",
            "(302, 108, 40)\n"
          ],
          "name": "stdout"
        }
      ]
    },
    {
      "cell_type": "markdown",
      "metadata": {
        "id": "2ZwqpslRrkyR"
      },
      "source": [
        "### **Checking if Vectorization works!!**"
      ]
    },
    {
      "cell_type": "code",
      "metadata": {
        "colab": {
          "base_uri": "https://localhost:8080/",
          "height": 201
        },
        "id": "WoE9xP_mBIcD",
        "outputId": "fe00dada-f158-4732-9987-cc060e428fb0"
      },
      "source": [
        "idx=281\n",
        "print(smiles_train['smiles'][idx])\n",
        "from rdkit.Chem.Draw import IPythonConsole\n",
        "m = Chem.MolFromSmiles(smiles_train['smiles'][idx])\n",
        "m"
      ],
      "execution_count": 12,
      "outputs": [
        {
          "output_type": "stream",
          "text": [
            "Cc1ccc(NC(=S)NC(C)C)cc1C\n",
            "\n"
          ],
          "name": "stdout"
        },
        {
          "output_type": "execute_result",
          "data": {
            "image/png": "[encoded data removed]",
            "text/plain": [
              "<rdkit.Chem.rdchem.Mol at 0x7fd735215670>"
            ]
          },
          "metadata": {
            "tags": []
          },
          "execution_count": 12
        }
      ]
    },
    {
      "cell_type": "code",
      "metadata": {
        "colab": {
          "base_uri": "https://localhost:8080/",
          "height": 218
        },
        "id": "kU8xNpj3BIkd",
        "outputId": "f063d70f-83a1-46fe-e80f-6be4e5c3c383"
      },
      "source": [
        "# Going back from vectorized form back to a readable string\n",
        "strr=\"\".join([int_to_char[idx] for idx in np.argmax(X_train[idx,:,:], axis=1)])\n",
        "# String After Tructation of extra symbols\n",
        "line = re.sub('[!E]', '', strr)\n",
        "print(len(line))\n",
        "print(line)\n",
        "m = Chem.MolFromSmiles(line)\n",
        "m"
      ],
      "execution_count": 13,
      "outputs": [
        {
          "output_type": "stream",
          "text": [
            "25\n",
            "Cc1ccc(NC(=S)NC(C)C)cc1C\n",
            "\n"
          ],
          "name": "stdout"
        },
        {
          "output_type": "execute_result",
          "data": {
            "image/png": "[encoded data removed]",
            "text/plain": [
              "<rdkit.Chem.rdchem.Mol at 0x7fd735246990>"
            ]
          },
          "metadata": {
            "tags": []
          },
          "execution_count": 13
        }
      ]
    },
    {
      "cell_type": "code",
      "metadata": {
        "id": "kOydPvGTV49-",
        "colab": {
          "base_uri": "https://localhost:8080/"
        },
        "outputId": "f0ff3e4b-f4ac-4e7e-d3f9-eeb6946a1d1d"
      },
      "source": [
        "mol_size_x=X_train.shape[1]\n",
        "mol_size_y=X_train.shape[2]\n",
        "orig_dim = mol_size_x * mol_size_y\n",
        "# print(mol_size_x)\n",
        "# print(mol_size_y)\n",
        "print(orig_dim)\n",
        "X_train = np.reshape(X_train, [-1, orig_dim])\n",
        "X_test = np.reshape(X_test, [-1, orig_dim])\n",
        "# print(type(X_train))\n",
        "# print(X_train.shape)\n",
        "# print(X_train.shape[1])"
      ],
      "execution_count": 14,
      "outputs": [
        {
          "output_type": "stream",
          "text": [
            "4320\n"
          ],
          "name": "stdout"
        }
      ]
    },
    {
      "cell_type": "markdown",
      "metadata": {
        "id": "JhUZktBzodDW"
      },
      "source": [
        "# **VAE with Predictor**"
      ]
    },
    {
      "cell_type": "code",
      "metadata": {
        "id": "-3WrJsaDBISY"
      },
      "source": [
        "# Network Parameters\n",
        "INPUT_DIM=(orig_dim,)   # SMILES dimension\n",
        "intermediate_dim=512\n",
        "BATCH_SIZE=5\n",
        "Z_DIM=20 # Dimension of the latent vector (z)\n",
        "epochs=50\n",
        "pre_trained=False"
      ],
      "execution_count": 15,
      "outputs": []
    },
    {
      "cell_type": "markdown",
      "metadata": {
        "id": "YJ7l4aouojqL"
      },
      "source": [
        "### **Encoder**"
      ]
    },
    {
      "cell_type": "code",
      "metadata": {
        "id": "hrJpoVMIDgPo"
      },
      "source": [
        "# ENCODER\n",
        "def build_vae_encoder(input_dim, output_dim):\n",
        "  \n",
        "  # Clear tensorflow session to reset layer\n",
        "  global K\n",
        "  K.clear_session()\n",
        "  \n",
        "  # Define model input\n",
        "  encoder_input = Input(shape = input_dim, name = 'encoder_input')\n",
        "  \n",
        "  #Intermediate layer\n",
        "  x = Dense(intermediate_dim,activation='relu', name='hidden')(encoder_input)\n",
        " \n",
        "  #Model Output\n",
        "  mean_mu = Dense(output_dim, name = 'mu')(x)\n",
        "  log_var = Dense(output_dim, name = 'log_var')(x)\n",
        "\n",
        "  # Defining a function for sampling\n",
        "  def sampling(args):\n",
        "    mean_mu, log_var = args\n",
        "    epsilon = K.random_normal(shape=K.shape(mean_mu), mean=0., stddev=1.) \n",
        "    return mean_mu + K.exp(log_var/2)*epsilon   \n",
        "  \n",
        "  # Using a Keras Lambda Layer to include the sampling function as a layer in the model\n",
        "  encoder_output = Lambda(sampling, output_shape=(2,), name='encoder_output')([mean_mu, log_var])\n",
        "\n",
        "  return encoder_input, encoder_output, mean_mu, log_var, Model(encoder_input, encoder_output, name='encoder')\n",
        "\n"
      ],
      "execution_count": 16,
      "outputs": []
    },
    {
      "cell_type": "markdown",
      "metadata": {
        "id": "TV-NztWyom_s"
      },
      "source": [
        "### **Decoder**"
      ]
    },
    {
      "cell_type": "code",
      "metadata": {
        "id": "n3nfQ9MpDgSc"
      },
      "source": [
        "# Decoder\n",
        "def build_decoder(input_dim, output_dim):\n",
        "\n",
        "  # Define model input\n",
        "  decoder_input = Input(shape = (input_dim,) , name = 'decoder_input')\n",
        "  \n",
        "  #Intermediate Layer\n",
        "  x = Dense(intermediate_dim, activation='relu', name='hidden')(decoder_input)\n",
        "\n",
        "    # Define model output\n",
        "  decoder_output = Dense(output_dim, activation='sigmoid', name='decoder_lastlayer')(x)\n",
        "\n",
        "\n",
        "  return decoder_input, decoder_output, Model(decoder_input, decoder_output, name='decoder')\n",
        "\n",
        "\n"
      ],
      "execution_count": 17,
      "outputs": []
    },
    {
      "cell_type": "markdown",
      "metadata": {
        "id": "uF79dlzdopgT"
      },
      "source": [
        "### **Predictor**"
      ]
    },
    {
      "cell_type": "code",
      "metadata": {
        "id": "KV-S5dfSDgYC"
      },
      "source": [
        "def create_predictor_linear():\n",
        "    '''\n",
        "    Creates a regressor that estimates property values \n",
        "    from latent variables.\n",
        "    '''\n",
        "    predictor_input = layers.Input(shape=(Z_DIM,), name='predictor_input', dtype='float32')\n",
        "    \n",
        "    x = layers.Dense(10, activation='relu', name='hidden')(predictor_input)\n",
        "    x = layers.Dense(3, activation='linear', name='predictor_lastlayer', dtype='float32')(x)\n",
        "    return Model(predictor_input, x, name='predictor')\n"
      ],
      "execution_count": 18,
      "outputs": []
    },
    {
      "cell_type": "markdown",
      "metadata": {
        "id": "QKEuYLHYotRr"
      },
      "source": [
        "### **Creating the OverAll Model**"
      ]
    },
    {
      "cell_type": "code",
      "metadata": {
        "id": "2gbzF6O5DgeM"
      },
      "source": [
        "# Model Creation \n",
        "def create_model():\n",
        "\n",
        "  #Creating Encoder\n",
        "  vae_encoder_input, vae_encoder_output,  mean_mu, log_var, vae_encoder  = build_vae_encoder(input_dim = INPUT_DIM,                                                                                         output_dim = Z_DIM)\n",
        "# vae_encoder.summary()\n",
        "  \n",
        "  \n",
        "  #Creating Decoder\n",
        "  vae_decoder_input, vae_decoder_output, vae_decoder = build_decoder(input_dim = Z_DIM, output_dim=orig_dim)\n",
        "# vae_decoder.summary()\n",
        "\n",
        "  #Creating the Predictor\n",
        "  predictor = create_predictor_linear()\n",
        "  t_predicted = predictor(mean_mu)\n",
        "  \n",
        "\n",
        "\n",
        "  #Creating the VAE Model \n",
        "  vae_input = vae_encoder_input\n",
        "\n",
        "  # Output will be the output of the decoder. The term - decoder(encoder_output) \n",
        "  vae_output = vae_decoder(vae_encoder_output)\n",
        "\n",
        "  # VAE Model with Predictor\n",
        "  vae_predictor = Model(vae_input, [vae_output,t_predicted], name='VAE with Predictor')\n",
        "\n",
        "  return vae_encoder_input, vae_encoder_output,  mean_mu, log_var, vae_encoder, vae_decoder_input, vae_decoder_output, vae_decoder,predictor, vae_input, vae_output, vae_predictor\n",
        "\n",
        "#Creating the overall Model\n",
        "encoder_input, encoder_output,  mean_mu, log_var, encoder, decoder_input, decoder_output, decoder, predictor, vae_input, vae_output, vae_predictor = create_model()\n",
        "\n"
      ],
      "execution_count": 19,
      "outputs": []
    },
    {
      "cell_type": "markdown",
      "metadata": {
        "id": "JAhUpi1_rIDY"
      },
      "source": [
        "### **VAE Loss Function**"
      ]
    },
    {
      "cell_type": "code",
      "metadata": {
        "id": "Bqrn9GMNDggs"
      },
      "source": [
        "#VAE Loss Function\n",
        "def vae_loss(vae_input, vae_output):\n",
        "  reconstruction_loss = binary_crossentropy(vae_input, vae_output)\n",
        "  reconstruction_loss = reconstruction_loss * orig_dim\n",
        "    \n",
        "  kl_loss = 1 + log_var - K.square(mean_mu) - K.exp(log_var)\n",
        "  kl_loss = K.sum(kl_loss, axis=-1)    \n",
        "  kl_loss = kl_loss * -0.5\n",
        "    \n",
        "  vae_loss_val = K.mean(reconstruction_loss + kl_loss)\n",
        "  return vae_loss_val\n"
      ],
      "execution_count": 20,
      "outputs": []
    },
    {
      "cell_type": "markdown",
      "metadata": {
        "id": "JwKeeuLQN90y"
      },
      "source": [
        "**Plotting all models**"
      ]
    },
    {
      "cell_type": "code",
      "metadata": {
        "id": "gpxuDLPtN9Wg"
      },
      "source": [
        "# Plot the VAE-Predictor Model\n",
        "plot_model(vae_predictor, to_file='smilesvae_predictor.png', show_shapes=True, show_layer_names=True)   #, expand_nested=False\n",
        "\n",
        "\n",
        "# Plot the Encoder Model\n",
        "plot_model(encoder, to_file='only_encoder.png', show_shapes=True, show_layer_names=True)  #, expand_nested=True\n",
        "\n",
        "# Plot the Decoder Model\n",
        "plot_model(decoder, to_file='only_decoder.png', show_shapes=True, show_layer_names=True)    #, expand_nested=True\n",
        "\n",
        "#Plot the Predictor Model\n",
        "plot_model(predictor, to_file='only_predictor.png', show_shapes=True, show_layer_names=True)    #, expand_nested=True\n",
        "\n",
        "# plot_model(vae_model, to_file='smilesvae_model.png', show_shapes=True, show_layer_names=True)   #, expand_nested=False"
      ],
      "execution_count": 21,
      "outputs": []
    },
    {
      "cell_type": "markdown",
      "metadata": {
        "id": "JwjR7JRMo5Ii"
      },
      "source": [
        "**Checkpoint**"
      ]
    },
    {
      "cell_type": "code",
      "metadata": {
        "id": "J8ke5D10o4PR"
      },
      "source": [
        "# Creating Model Checkpoint for training...\n",
        "\n",
        "checkpoint_path = \"sample_data/train_ckpt/cp.ckpt\"\n",
        "new_check_path='VAE_Predictor{epoch:02d}.h5'            #'VAE_Predictor{epoch:02d}.h5'\n",
        "# Create a callback that saves the model's weights every 5 epochs\n",
        "cp_callback = tf.keras.callbacks.ModelCheckpoint(filepath=new_check_path, verbose=1, save_weights_only=False, save_best_only=True)   #, save_freq=5\n",
        "\n",
        "# Loading weights from the latest checkpoints\n",
        "#get the latest checkpoint file\n",
        "checkpoint_dir = os.path.dirname(new_check_path)\n",
        "latest = tf.train.latest_checkpoint(checkpoint_dir)"
      ],
      "execution_count": 22,
      "outputs": []
    },
    {
      "cell_type": "markdown",
      "metadata": {
        "id": "0hMrUollbLcG"
      },
      "source": [
        "### **Training or Loading the VAE-Predictor Model**"
      ]
    },
    {
      "cell_type": "code",
      "metadata": {
        "colab": {
          "base_uri": "https://localhost:8080/"
        },
        "id": "1TkUNqeSbIVv",
        "outputId": "8ab8475a-15fb-4c59-de74-d86ee7f5298e"
      },
      "source": [
        "pre_trained=True\n",
        "epochs=200\n",
        "if __name__ == '__main__':          \n",
        "#     Train the Variational AutoEncoder\n",
        "    if pre_trained==False:\n",
        "      vae_predictor.compile(optimizer='adam', \n",
        "                      loss=[vae_loss, 'mean_squared_error'], \n",
        "                      loss_weights=[1.0, 0.5]     \n",
        "                      ) \n",
        "      history = vae_predictor.fit(x=X_train,\n",
        "                            y=[X_train,y_train_property], \n",
        "                            epochs=epochs,\n",
        "                            validation_data=(X_test, [X_test, y_test_property]),\n",
        "                            verbose=2,\n",
        "                            callbacks=[cp_callback] )   \n",
        "      vae_predictor.save(new_check_path)\n",
        "    else:\n",
        "      vae_predictor.load_weights(new_check_path)\n",
        "      history = vae_predictor.fit(x=X_train,\n",
        "                            y=[X_train,y_train_property], \n",
        "                            epochs=epochs,\n",
        "                            validation_data=(X_test, [X_test, y_test_property]),\n",
        "                            verbose=2,\n",
        "                            callbacks=[cp_callback]) \n",
        "      vae_predictor.save(new_check_path)\n",
        "    "
      ],
      "execution_count": 62,
      "outputs": [
        {
          "output_type": "stream",
          "text": [
            "Train on 1207 samples, validate on 302 samples\n",
            "Epoch 1/200\n",
            " - 3s - loss: 30.4047 - decoder_loss: 30.2725 - predictor_loss: 0.2645 - val_loss: 34.1481 - val_decoder_loss: 33.9550 - val_predictor_loss: 0.3861\n",
            "\n",
            "Epoch 00001: val_loss did not improve from 33.58383\n",
            "Epoch 2/200\n",
            " - 3s - loss: 30.4771 - decoder_loss: 30.3435 - predictor_loss: 0.2672 - val_loss: 33.8344 - val_decoder_loss: 33.6476 - val_predictor_loss: 0.3736\n",
            "\n",
            "Epoch 00002: val_loss did not improve from 33.58383\n",
            "Epoch 3/200\n",
            " - 3s - loss: 30.5572 - decoder_loss: 30.4229 - predictor_loss: 0.2687 - val_loss: 33.8133 - val_decoder_loss: 33.6226 - val_predictor_loss: 0.3814\n",
            "\n",
            "Epoch 00003: val_loss did not improve from 33.58383\n",
            "Epoch 4/200\n",
            " - 3s - loss: 30.5972 - decoder_loss: 30.4655 - predictor_loss: 0.2636 - val_loss: 34.4787 - val_decoder_loss: 34.2859 - val_predictor_loss: 0.3856\n",
            "\n",
            "Epoch 00004: val_loss did not improve from 33.58383\n",
            "Epoch 5/200\n",
            " - 3s - loss: 30.4540 - decoder_loss: 30.3204 - predictor_loss: 0.2672 - val_loss: 34.4744 - val_decoder_loss: 34.2843 - val_predictor_loss: 0.3801\n",
            "\n",
            "Epoch 00005: val_loss did not improve from 33.58383\n",
            "Epoch 6/200\n",
            " - 3s - loss: 30.4723 - decoder_loss: 30.3411 - predictor_loss: 0.2623 - val_loss: 34.2558 - val_decoder_loss: 34.0707 - val_predictor_loss: 0.3702\n",
            "\n",
            "Epoch 00006: val_loss did not improve from 33.58383\n",
            "Epoch 7/200\n",
            " - 3s - loss: 30.6617 - decoder_loss: 30.5309 - predictor_loss: 0.2617 - val_loss: 34.6575 - val_decoder_loss: 34.4688 - val_predictor_loss: 0.3773\n",
            "\n",
            "Epoch 00007: val_loss did not improve from 33.58383\n",
            "Epoch 8/200\n",
            " - 3s - loss: 30.5075 - decoder_loss: 30.3768 - predictor_loss: 0.2614 - val_loss: 34.2530 - val_decoder_loss: 34.0704 - val_predictor_loss: 0.3652\n",
            "\n",
            "Epoch 00008: val_loss did not improve from 33.58383\n",
            "Epoch 9/200\n",
            " - 3s - loss: 30.4826 - decoder_loss: 30.3514 - predictor_loss: 0.2623 - val_loss: 34.2332 - val_decoder_loss: 34.0447 - val_predictor_loss: 0.3769\n",
            "\n",
            "Epoch 00009: val_loss did not improve from 33.58383\n",
            "Epoch 10/200\n",
            " - 3s - loss: 30.6063 - decoder_loss: 30.4735 - predictor_loss: 0.2657 - val_loss: 34.2490 - val_decoder_loss: 34.0650 - val_predictor_loss: 0.3681\n",
            "\n",
            "Epoch 00010: val_loss did not improve from 33.58383\n",
            "Epoch 11/200\n",
            " - 3s - loss: 30.5241 - decoder_loss: 30.3914 - predictor_loss: 0.2653 - val_loss: 34.2464 - val_decoder_loss: 34.0587 - val_predictor_loss: 0.3755\n",
            "\n",
            "Epoch 00011: val_loss did not improve from 33.58383\n",
            "Epoch 12/200\n",
            " - 3s - loss: 30.7235 - decoder_loss: 30.5897 - predictor_loss: 0.2677 - val_loss: 34.6694 - val_decoder_loss: 34.4814 - val_predictor_loss: 0.3761\n",
            "\n",
            "Epoch 00012: val_loss did not improve from 33.58383\n",
            "Epoch 13/200\n",
            " - 3s - loss: 30.6167 - decoder_loss: 30.4808 - predictor_loss: 0.2718 - val_loss: 33.5517 - val_decoder_loss: 33.3603 - val_predictor_loss: 0.3828\n",
            "\n",
            "Epoch 00013: val_loss improved from 33.58383 to 33.55172, saving model to VAE_Predictor13.h5\n",
            "Epoch 14/200\n",
            " - 3s - loss: 30.7047 - decoder_loss: 30.5681 - predictor_loss: 0.2732 - val_loss: 33.5384 - val_decoder_loss: 33.3489 - val_predictor_loss: 0.3791\n",
            "\n",
            "Epoch 00014: val_loss improved from 33.55172 to 33.53843, saving model to VAE_Predictor14.h5\n",
            "Epoch 15/200\n",
            " - 3s - loss: 30.3782 - decoder_loss: 30.2417 - predictor_loss: 0.2731 - val_loss: 34.3780 - val_decoder_loss: 34.1865 - val_predictor_loss: 0.3830\n",
            "\n",
            "Epoch 00015: val_loss did not improve from 33.53843\n",
            "Epoch 16/200\n",
            " - 3s - loss: 30.5820 - decoder_loss: 30.4462 - predictor_loss: 0.2715 - val_loss: 34.2474 - val_decoder_loss: 34.0579 - val_predictor_loss: 0.3791\n",
            "\n",
            "Epoch 00016: val_loss did not improve from 33.53843\n",
            "Epoch 17/200\n",
            " - 3s - loss: 30.3861 - decoder_loss: 30.2543 - predictor_loss: 0.2636 - val_loss: 34.1311 - val_decoder_loss: 33.9448 - val_predictor_loss: 0.3726\n",
            "\n",
            "Epoch 00017: val_loss did not improve from 33.53843\n",
            "Epoch 18/200\n",
            " - 3s - loss: 30.3591 - decoder_loss: 30.2286 - predictor_loss: 0.2610 - val_loss: 34.6203 - val_decoder_loss: 34.4283 - val_predictor_loss: 0.3840\n",
            "\n",
            "Epoch 00018: val_loss did not improve from 33.53843\n",
            "Epoch 19/200\n",
            " - 3s - loss: 30.4181 - decoder_loss: 30.2850 - predictor_loss: 0.2661 - val_loss: 34.4799 - val_decoder_loss: 34.2945 - val_predictor_loss: 0.3708\n",
            "\n",
            "Epoch 00019: val_loss did not improve from 33.53843\n",
            "Epoch 20/200\n",
            " - 3s - loss: 30.4905 - decoder_loss: 30.3575 - predictor_loss: 0.2660 - val_loss: 34.0261 - val_decoder_loss: 33.8412 - val_predictor_loss: 0.3697\n",
            "\n",
            "Epoch 00020: val_loss did not improve from 33.53843\n",
            "Epoch 21/200\n",
            " - 3s - loss: 30.4366 - decoder_loss: 30.3032 - predictor_loss: 0.2667 - val_loss: 34.2438 - val_decoder_loss: 34.0521 - val_predictor_loss: 0.3834\n",
            "\n",
            "Epoch 00021: val_loss did not improve from 33.53843\n",
            "Epoch 22/200\n",
            " - 3s - loss: 30.6040 - decoder_loss: 30.4712 - predictor_loss: 0.2656 - val_loss: 34.1712 - val_decoder_loss: 33.9861 - val_predictor_loss: 0.3704\n",
            "\n",
            "Epoch 00022: val_loss did not improve from 33.53843\n",
            "Epoch 23/200\n",
            " - 3s - loss: 30.6785 - decoder_loss: 30.5451 - predictor_loss: 0.2667 - val_loss: 34.4934 - val_decoder_loss: 34.3086 - val_predictor_loss: 0.3696\n",
            "\n",
            "Epoch 00023: val_loss did not improve from 33.53843\n",
            "Epoch 24/200\n",
            " - 3s - loss: 30.6814 - decoder_loss: 30.5491 - predictor_loss: 0.2646 - val_loss: 34.6388 - val_decoder_loss: 34.4543 - val_predictor_loss: 0.3690\n",
            "\n",
            "Epoch 00024: val_loss did not improve from 33.53843\n",
            "Epoch 25/200\n",
            " - 3s - loss: 30.9020 - decoder_loss: 30.7693 - predictor_loss: 0.2653 - val_loss: 34.5081 - val_decoder_loss: 34.3272 - val_predictor_loss: 0.3616\n",
            "\n",
            "Epoch 00025: val_loss did not improve from 33.53843\n",
            "Epoch 26/200\n",
            " - 3s - loss: 30.6888 - decoder_loss: 30.5569 - predictor_loss: 0.2637 - val_loss: 34.5135 - val_decoder_loss: 34.3270 - val_predictor_loss: 0.3729\n",
            "\n",
            "Epoch 00026: val_loss did not improve from 33.53843\n",
            "Epoch 27/200\n",
            " - 3s - loss: 30.4547 - decoder_loss: 30.3219 - predictor_loss: 0.2655 - val_loss: 34.2271 - val_decoder_loss: 34.0398 - val_predictor_loss: 0.3746\n",
            "\n",
            "Epoch 00027: val_loss did not improve from 33.53843\n",
            "Epoch 28/200\n",
            " - 3s - loss: 30.2726 - decoder_loss: 30.1380 - predictor_loss: 0.2693 - val_loss: 34.0893 - val_decoder_loss: 33.8954 - val_predictor_loss: 0.3879\n",
            "\n",
            "Epoch 00028: val_loss did not improve from 33.53843\n",
            "Epoch 29/200\n",
            " - 3s - loss: 30.6099 - decoder_loss: 30.4756 - predictor_loss: 0.2686 - val_loss: 33.9460 - val_decoder_loss: 33.7528 - val_predictor_loss: 0.3864\n",
            "\n",
            "Epoch 00029: val_loss did not improve from 33.53843\n",
            "Epoch 30/200\n",
            " - 3s - loss: 30.5780 - decoder_loss: 30.4438 - predictor_loss: 0.2682 - val_loss: 34.6683 - val_decoder_loss: 34.4759 - val_predictor_loss: 0.3848\n",
            "\n",
            "Epoch 00030: val_loss did not improve from 33.53843\n",
            "Epoch 31/200\n",
            " - 3s - loss: 30.5534 - decoder_loss: 30.4217 - predictor_loss: 0.2635 - val_loss: 34.3019 - val_decoder_loss: 34.1113 - val_predictor_loss: 0.3812\n",
            "\n",
            "Epoch 00031: val_loss did not improve from 33.53843\n",
            "Epoch 32/200\n",
            " - 3s - loss: 30.5809 - decoder_loss: 30.4492 - predictor_loss: 0.2635 - val_loss: 34.2545 - val_decoder_loss: 34.0693 - val_predictor_loss: 0.3702\n",
            "\n",
            "Epoch 00032: val_loss did not improve from 33.53843\n",
            "Epoch 33/200\n",
            " - 3s - loss: 30.7191 - decoder_loss: 30.5869 - predictor_loss: 0.2644 - val_loss: 33.8689 - val_decoder_loss: 33.6804 - val_predictor_loss: 0.3770\n",
            "\n",
            "Epoch 00033: val_loss did not improve from 33.53843\n",
            "Epoch 34/200\n",
            " - 3s - loss: 30.4389 - decoder_loss: 30.3047 - predictor_loss: 0.2683 - val_loss: 34.0382 - val_decoder_loss: 33.8466 - val_predictor_loss: 0.3832\n",
            "\n",
            "Epoch 00034: val_loss did not improve from 33.53843\n",
            "Epoch 35/200\n",
            " - 3s - loss: 30.4739 - decoder_loss: 30.3435 - predictor_loss: 0.2609 - val_loss: 34.2262 - val_decoder_loss: 34.0376 - val_predictor_loss: 0.3771\n",
            "\n",
            "Epoch 00035: val_loss did not improve from 33.53843\n",
            "Epoch 36/200\n",
            " - 3s - loss: 30.5376 - decoder_loss: 30.4073 - predictor_loss: 0.2605 - val_loss: 34.3819 - val_decoder_loss: 34.1868 - val_predictor_loss: 0.3903\n",
            "\n",
            "Epoch 00036: val_loss did not improve from 33.53843\n",
            "Epoch 37/200\n",
            " - 3s - loss: 30.5665 - decoder_loss: 30.4333 - predictor_loss: 0.2663 - val_loss: 33.8730 - val_decoder_loss: 33.6861 - val_predictor_loss: 0.3737\n",
            "\n",
            "Epoch 00037: val_loss did not improve from 33.53843\n",
            "Epoch 38/200\n",
            " - 3s - loss: 30.6613 - decoder_loss: 30.5309 - predictor_loss: 0.2608 - val_loss: 33.5602 - val_decoder_loss: 33.3718 - val_predictor_loss: 0.3770\n",
            "\n",
            "Epoch 00038: val_loss did not improve from 33.53843\n",
            "Epoch 39/200\n",
            " - 3s - loss: 30.4671 - decoder_loss: 30.3352 - predictor_loss: 0.2637 - val_loss: 33.9263 - val_decoder_loss: 33.7388 - val_predictor_loss: 0.3749\n",
            "\n",
            "Epoch 00039: val_loss did not improve from 33.53843\n",
            "Epoch 40/200\n",
            " - 3s - loss: 30.5369 - decoder_loss: 30.4071 - predictor_loss: 0.2595 - val_loss: 34.3105 - val_decoder_loss: 34.1273 - val_predictor_loss: 0.3663\n",
            "\n",
            "Epoch 00040: val_loss did not improve from 33.53843\n",
            "Epoch 41/200\n",
            " - 3s - loss: 30.3838 - decoder_loss: 30.2536 - predictor_loss: 0.2605 - val_loss: 33.8248 - val_decoder_loss: 33.6432 - val_predictor_loss: 0.3632\n",
            "\n",
            "Epoch 00041: val_loss did not improve from 33.53843\n",
            "Epoch 42/200\n",
            " - 3s - loss: 30.4045 - decoder_loss: 30.2755 - predictor_loss: 0.2580 - val_loss: 34.7104 - val_decoder_loss: 34.5320 - val_predictor_loss: 0.3567\n",
            "\n",
            "Epoch 00042: val_loss did not improve from 33.53843\n",
            "Epoch 43/200\n",
            " - 3s - loss: 30.7857 - decoder_loss: 30.6563 - predictor_loss: 0.2588 - val_loss: 34.6936 - val_decoder_loss: 34.5106 - val_predictor_loss: 0.3660\n",
            "\n",
            "Epoch 00043: val_loss did not improve from 33.53843\n",
            "Epoch 44/200\n",
            " - 3s - loss: 30.6597 - decoder_loss: 30.5322 - predictor_loss: 0.2551 - val_loss: 34.7924 - val_decoder_loss: 34.6135 - val_predictor_loss: 0.3577\n",
            "\n",
            "Epoch 00044: val_loss did not improve from 33.53843\n",
            "Epoch 45/200\n",
            " - 3s - loss: 30.6354 - decoder_loss: 30.5033 - predictor_loss: 0.2643 - val_loss: 34.4899 - val_decoder_loss: 34.3069 - val_predictor_loss: 0.3661\n",
            "\n",
            "Epoch 00045: val_loss did not improve from 33.53843\n",
            "Epoch 46/200\n",
            " - 3s - loss: 30.7079 - decoder_loss: 30.5798 - predictor_loss: 0.2561 - val_loss: 34.3112 - val_decoder_loss: 34.1255 - val_predictor_loss: 0.3714\n",
            "\n",
            "Epoch 00046: val_loss did not improve from 33.53843\n",
            "Epoch 47/200\n",
            " - 3s - loss: 30.7025 - decoder_loss: 30.5710 - predictor_loss: 0.2630 - val_loss: 34.1658 - val_decoder_loss: 33.9830 - val_predictor_loss: 0.3654\n",
            "\n",
            "Epoch 00047: val_loss did not improve from 33.53843\n",
            "Epoch 48/200\n",
            " - 3s - loss: 30.4602 - decoder_loss: 30.3303 - predictor_loss: 0.2599 - val_loss: 34.1529 - val_decoder_loss: 33.9687 - val_predictor_loss: 0.3685\n",
            "\n",
            "Epoch 00048: val_loss did not improve from 33.53843\n",
            "Epoch 49/200\n",
            " - 3s - loss: 30.6047 - decoder_loss: 30.4748 - predictor_loss: 0.2597 - val_loss: 34.1672 - val_decoder_loss: 33.9865 - val_predictor_loss: 0.3613\n",
            "\n",
            "Epoch 00049: val_loss did not improve from 33.53843\n",
            "Epoch 50/200\n",
            " - 3s - loss: 30.5208 - decoder_loss: 30.3914 - predictor_loss: 0.2589 - val_loss: 34.3792 - val_decoder_loss: 34.1969 - val_predictor_loss: 0.3646\n",
            "\n",
            "Epoch 00050: val_loss did not improve from 33.53843\n",
            "Epoch 51/200\n",
            " - 3s - loss: 30.4137 - decoder_loss: 30.2825 - predictor_loss: 0.2625 - val_loss: 34.4299 - val_decoder_loss: 34.2490 - val_predictor_loss: 0.3617\n",
            "\n",
            "Epoch 00051: val_loss did not improve from 33.53843\n",
            "Epoch 52/200\n",
            " - 3s - loss: 30.4399 - decoder_loss: 30.3106 - predictor_loss: 0.2585 - val_loss: 33.8896 - val_decoder_loss: 33.7090 - val_predictor_loss: 0.3612\n",
            "\n",
            "Epoch 00052: val_loss did not improve from 33.53843\n",
            "Epoch 53/200\n",
            " - 3s - loss: 30.7953 - decoder_loss: 30.6630 - predictor_loss: 0.2647 - val_loss: 34.2977 - val_decoder_loss: 34.1135 - val_predictor_loss: 0.3684\n",
            "\n",
            "Epoch 00053: val_loss did not improve from 33.53843\n",
            "Epoch 54/200\n",
            " - 3s - loss: 30.6818 - decoder_loss: 30.5497 - predictor_loss: 0.2641 - val_loss: 34.7327 - val_decoder_loss: 34.5427 - val_predictor_loss: 0.3799\n",
            "\n",
            "Epoch 00054: val_loss did not improve from 33.53843\n",
            "Epoch 55/200\n",
            " - 3s - loss: 30.8097 - decoder_loss: 30.6773 - predictor_loss: 0.2648 - val_loss: 34.5542 - val_decoder_loss: 34.3702 - val_predictor_loss: 0.3680\n",
            "\n",
            "Epoch 00055: val_loss did not improve from 33.53843\n",
            "Epoch 56/200\n",
            " - 3s - loss: 30.2374 - decoder_loss: 30.1073 - predictor_loss: 0.2603 - val_loss: 33.6891 - val_decoder_loss: 33.5049 - val_predictor_loss: 0.3684\n",
            "\n",
            "Epoch 00056: val_loss did not improve from 33.53843\n",
            "Epoch 57/200\n",
            " - 3s - loss: 30.5012 - decoder_loss: 30.3726 - predictor_loss: 0.2574 - val_loss: 34.8730 - val_decoder_loss: 34.6866 - val_predictor_loss: 0.3729\n",
            "\n",
            "Epoch 00057: val_loss did not improve from 33.53843\n",
            "Epoch 58/200\n",
            " - 3s - loss: 30.5258 - decoder_loss: 30.3958 - predictor_loss: 0.2601 - val_loss: 34.4831 - val_decoder_loss: 34.2959 - val_predictor_loss: 0.3744\n",
            "\n",
            "Epoch 00058: val_loss did not improve from 33.53843\n",
            "Epoch 59/200\n",
            " - 3s - loss: 30.7275 - decoder_loss: 30.5988 - predictor_loss: 0.2574 - val_loss: 34.5393 - val_decoder_loss: 34.3568 - val_predictor_loss: 0.3651\n",
            "\n",
            "Epoch 00059: val_loss did not improve from 33.53843\n",
            "Epoch 60/200\n",
            " - 3s - loss: 30.4837 - decoder_loss: 30.3546 - predictor_loss: 0.2581 - val_loss: 33.7935 - val_decoder_loss: 33.6099 - val_predictor_loss: 0.3673\n",
            "\n",
            "Epoch 00060: val_loss did not improve from 33.53843\n",
            "Epoch 61/200\n",
            " - 3s - loss: 30.6066 - decoder_loss: 30.4745 - predictor_loss: 0.2640 - val_loss: 33.8985 - val_decoder_loss: 33.7096 - val_predictor_loss: 0.3778\n",
            "\n",
            "Epoch 00061: val_loss did not improve from 33.53843\n",
            "Epoch 62/200\n",
            " - 3s - loss: 30.5921 - decoder_loss: 30.4606 - predictor_loss: 0.2630 - val_loss: 33.7338 - val_decoder_loss: 33.5528 - val_predictor_loss: 0.3620\n",
            "\n",
            "Epoch 00062: val_loss did not improve from 33.53843\n",
            "Epoch 63/200\n",
            " - 3s - loss: 30.3620 - decoder_loss: 30.2320 - predictor_loss: 0.2599 - val_loss: 34.2958 - val_decoder_loss: 34.1105 - val_predictor_loss: 0.3707\n",
            "\n",
            "Epoch 00063: val_loss did not improve from 33.53843\n",
            "Epoch 64/200\n",
            " - 3s - loss: 30.4396 - decoder_loss: 30.3081 - predictor_loss: 0.2631 - val_loss: 34.6337 - val_decoder_loss: 34.4511 - val_predictor_loss: 0.3652\n",
            "\n",
            "Epoch 00064: val_loss did not improve from 33.53843\n",
            "Epoch 65/200\n",
            " - 3s - loss: 30.2876 - decoder_loss: 30.1532 - predictor_loss: 0.2687 - val_loss: 33.8106 - val_decoder_loss: 33.6283 - val_predictor_loss: 0.3645\n",
            "\n",
            "Epoch 00065: val_loss did not improve from 33.53843\n",
            "Epoch 66/200\n",
            " - 3s - loss: 30.2920 - decoder_loss: 30.1607 - predictor_loss: 0.2626 - val_loss: 34.1085 - val_decoder_loss: 33.9237 - val_predictor_loss: 0.3697\n",
            "\n",
            "Epoch 00066: val_loss did not improve from 33.53843\n",
            "Epoch 67/200\n",
            " - 3s - loss: 30.5692 - decoder_loss: 30.4401 - predictor_loss: 0.2582 - val_loss: 34.3570 - val_decoder_loss: 34.1724 - val_predictor_loss: 0.3690\n",
            "\n",
            "Epoch 00067: val_loss did not improve from 33.53843\n",
            "Epoch 68/200\n",
            " - 3s - loss: 30.4694 - decoder_loss: 30.3415 - predictor_loss: 0.2558 - val_loss: 34.0876 - val_decoder_loss: 33.9029 - val_predictor_loss: 0.3695\n",
            "\n",
            "Epoch 00068: val_loss did not improve from 33.53843\n",
            "Epoch 69/200\n",
            " - 3s - loss: 30.4811 - decoder_loss: 30.3516 - predictor_loss: 0.2591 - val_loss: 34.2139 - val_decoder_loss: 34.0294 - val_predictor_loss: 0.3690\n",
            "\n",
            "Epoch 00069: val_loss did not improve from 33.53843\n",
            "Epoch 70/200\n",
            " - 3s - loss: 30.4709 - decoder_loss: 30.3428 - predictor_loss: 0.2561 - val_loss: 33.7875 - val_decoder_loss: 33.5981 - val_predictor_loss: 0.3788\n",
            "\n",
            "Epoch 00070: val_loss did not improve from 33.53843\n",
            "Epoch 71/200\n",
            " - 3s - loss: 30.2892 - decoder_loss: 30.1621 - predictor_loss: 0.2543 - val_loss: 34.3059 - val_decoder_loss: 34.1203 - val_predictor_loss: 0.3712\n",
            "\n",
            "Epoch 00071: val_loss did not improve from 33.53843\n",
            "Epoch 72/200\n",
            " - 3s - loss: 30.0838 - decoder_loss: 29.9559 - predictor_loss: 0.2558 - val_loss: 34.4125 - val_decoder_loss: 34.2277 - val_predictor_loss: 0.3695\n",
            "\n",
            "Epoch 00072: val_loss did not improve from 33.53843\n",
            "Epoch 73/200\n",
            " - 3s - loss: 30.1008 - decoder_loss: 29.9722 - predictor_loss: 0.2571 - val_loss: 34.0903 - val_decoder_loss: 33.9002 - val_predictor_loss: 0.3802\n",
            "\n",
            "Epoch 00073: val_loss did not improve from 33.53843\n",
            "Epoch 74/200\n",
            " - 3s - loss: 30.1081 - decoder_loss: 29.9794 - predictor_loss: 0.2573 - val_loss: 34.4257 - val_decoder_loss: 34.2388 - val_predictor_loss: 0.3737\n",
            "\n",
            "Epoch 00074: val_loss did not improve from 33.53843\n",
            "Epoch 75/200\n",
            " - 3s - loss: 30.5053 - decoder_loss: 30.3759 - predictor_loss: 0.2588 - val_loss: 34.5744 - val_decoder_loss: 34.3819 - val_predictor_loss: 0.3850\n",
            "\n",
            "Epoch 00075: val_loss did not improve from 33.53843\n",
            "Epoch 76/200\n",
            " - 3s - loss: 30.3071 - decoder_loss: 30.1740 - predictor_loss: 0.2663 - val_loss: 33.9181 - val_decoder_loss: 33.7359 - val_predictor_loss: 0.3642\n",
            "\n",
            "Epoch 00076: val_loss did not improve from 33.53843\n",
            "Epoch 77/200\n",
            " - 3s - loss: 30.4106 - decoder_loss: 30.2775 - predictor_loss: 0.2663 - val_loss: 34.5148 - val_decoder_loss: 34.3298 - val_predictor_loss: 0.3699\n",
            "\n",
            "Epoch 00077: val_loss did not improve from 33.53843\n",
            "Epoch 78/200\n",
            " - 3s - loss: 30.6388 - decoder_loss: 30.5080 - predictor_loss: 0.2616 - val_loss: 33.8910 - val_decoder_loss: 33.7096 - val_predictor_loss: 0.3629\n",
            "\n",
            "Epoch 00078: val_loss did not improve from 33.53843\n",
            "Epoch 79/200\n",
            " - 3s - loss: 30.1016 - decoder_loss: 29.9716 - predictor_loss: 0.2600 - val_loss: 33.9335 - val_decoder_loss: 33.7486 - val_predictor_loss: 0.3699\n",
            "\n",
            "Epoch 00079: val_loss did not improve from 33.53843\n",
            "Epoch 80/200\n",
            " - 3s - loss: 30.3721 - decoder_loss: 30.2441 - predictor_loss: 0.2559 - val_loss: 34.4605 - val_decoder_loss: 34.2763 - val_predictor_loss: 0.3684\n",
            "\n",
            "Epoch 00080: val_loss did not improve from 33.53843\n",
            "Epoch 81/200\n",
            " - 3s - loss: 30.2749 - decoder_loss: 30.1469 - predictor_loss: 0.2561 - val_loss: 34.0090 - val_decoder_loss: 33.8268 - val_predictor_loss: 0.3643\n",
            "\n",
            "Epoch 00081: val_loss did not improve from 33.53843\n",
            "Epoch 82/200\n",
            " - 3s - loss: 30.3043 - decoder_loss: 30.1729 - predictor_loss: 0.2627 - val_loss: 34.3782 - val_decoder_loss: 34.1893 - val_predictor_loss: 0.3779\n",
            "\n",
            "Epoch 00082: val_loss did not improve from 33.53843\n",
            "Epoch 83/200\n",
            " - 3s - loss: 30.4469 - decoder_loss: 30.3161 - predictor_loss: 0.2615 - val_loss: 33.8899 - val_decoder_loss: 33.7061 - val_predictor_loss: 0.3675\n",
            "\n",
            "Epoch 00083: val_loss did not improve from 33.53843\n",
            "Epoch 84/200\n",
            " - 3s - loss: 30.2797 - decoder_loss: 30.1474 - predictor_loss: 0.2647 - val_loss: 33.8852 - val_decoder_loss: 33.7029 - val_predictor_loss: 0.3648\n",
            "\n",
            "Epoch 00084: val_loss did not improve from 33.53843\n",
            "Epoch 85/200\n",
            " - 3s - loss: 30.5485 - decoder_loss: 30.4159 - predictor_loss: 0.2652 - val_loss: 34.5880 - val_decoder_loss: 34.3973 - val_predictor_loss: 0.3815\n",
            "\n",
            "Epoch 00085: val_loss did not improve from 33.53843\n",
            "Epoch 86/200\n",
            " - 3s - loss: 30.5905 - decoder_loss: 30.4595 - predictor_loss: 0.2619 - val_loss: 34.0413 - val_decoder_loss: 33.8547 - val_predictor_loss: 0.3731\n",
            "\n",
            "Epoch 00086: val_loss did not improve from 33.53843\n",
            "Epoch 87/200\n",
            " - 3s - loss: 30.5073 - decoder_loss: 30.3755 - predictor_loss: 0.2636 - val_loss: 33.3423 - val_decoder_loss: 33.1579 - val_predictor_loss: 0.3688\n",
            "\n",
            "Epoch 00087: val_loss improved from 33.53843 to 33.34233, saving model to VAE_Predictor87.h5\n",
            "Epoch 88/200\n",
            " - 3s - loss: 30.2177 - decoder_loss: 30.0886 - predictor_loss: 0.2582 - val_loss: 34.1609 - val_decoder_loss: 33.9737 - val_predictor_loss: 0.3744\n",
            "\n",
            "Epoch 00088: val_loss did not improve from 33.34233\n",
            "Epoch 89/200\n",
            " - 3s - loss: 30.4509 - decoder_loss: 30.3211 - predictor_loss: 0.2595 - val_loss: 33.8481 - val_decoder_loss: 33.6636 - val_predictor_loss: 0.3688\n",
            "\n",
            "Epoch 00089: val_loss did not improve from 33.34233\n",
            "Epoch 90/200\n",
            " - 3s - loss: 30.5702 - decoder_loss: 30.4379 - predictor_loss: 0.2647 - val_loss: 34.4797 - val_decoder_loss: 34.2855 - val_predictor_loss: 0.3883\n",
            "\n",
            "Epoch 00090: val_loss did not improve from 33.34233\n",
            "Epoch 91/200\n",
            " - 3s - loss: 30.3500 - decoder_loss: 30.2173 - predictor_loss: 0.2654 - val_loss: 34.4672 - val_decoder_loss: 34.2794 - val_predictor_loss: 0.3758\n",
            "\n",
            "Epoch 00091: val_loss did not improve from 33.34233\n",
            "Epoch 92/200\n",
            " - 3s - loss: 30.7384 - decoder_loss: 30.6052 - predictor_loss: 0.2664 - val_loss: 34.1659 - val_decoder_loss: 33.9843 - val_predictor_loss: 0.3631\n",
            "\n",
            "Epoch 00092: val_loss did not improve from 33.34233\n",
            "Epoch 93/200\n",
            " - 3s - loss: 30.4884 - decoder_loss: 30.3574 - predictor_loss: 0.2621 - val_loss: 34.2969 - val_decoder_loss: 34.1134 - val_predictor_loss: 0.3672\n",
            "\n",
            "Epoch 00093: val_loss did not improve from 33.34233\n",
            "Epoch 94/200\n",
            " - 3s - loss: 30.5021 - decoder_loss: 30.3740 - predictor_loss: 0.2561 - val_loss: 33.5734 - val_decoder_loss: 33.3910 - val_predictor_loss: 0.3648\n",
            "\n",
            "Epoch 00094: val_loss did not improve from 33.34233\n",
            "Epoch 95/200\n",
            " - 3s - loss: 30.1849 - decoder_loss: 30.0547 - predictor_loss: 0.2603 - val_loss: 34.1351 - val_decoder_loss: 33.9493 - val_predictor_loss: 0.3715\n",
            "\n",
            "Epoch 00095: val_loss did not improve from 33.34233\n",
            "Epoch 96/200\n",
            " - 3s - loss: 30.5052 - decoder_loss: 30.3741 - predictor_loss: 0.2622 - val_loss: 34.6561 - val_decoder_loss: 34.4662 - val_predictor_loss: 0.3797\n",
            "\n",
            "Epoch 00096: val_loss did not improve from 33.34233\n",
            "Epoch 97/200\n",
            " - 3s - loss: 30.6206 - decoder_loss: 30.4873 - predictor_loss: 0.2666 - val_loss: 33.8674 - val_decoder_loss: 33.6837 - val_predictor_loss: 0.3673\n",
            "\n",
            "Epoch 00097: val_loss did not improve from 33.34233\n",
            "Epoch 98/200\n",
            " - 3s - loss: 30.3806 - decoder_loss: 30.2471 - predictor_loss: 0.2670 - val_loss: 34.1850 - val_decoder_loss: 33.9927 - val_predictor_loss: 0.3845\n",
            "\n",
            "Epoch 00098: val_loss did not improve from 33.34233\n",
            "Epoch 99/200\n",
            " - 3s - loss: 30.1773 - decoder_loss: 30.0447 - predictor_loss: 0.2651 - val_loss: 33.9890 - val_decoder_loss: 33.7981 - val_predictor_loss: 0.3818\n",
            "\n",
            "Epoch 00099: val_loss did not improve from 33.34233\n",
            "Epoch 100/200\n",
            " - 3s - loss: 30.4229 - decoder_loss: 30.2915 - predictor_loss: 0.2629 - val_loss: 34.2611 - val_decoder_loss: 34.0714 - val_predictor_loss: 0.3794\n",
            "\n",
            "Epoch 00100: val_loss did not improve from 33.34233\n",
            "Epoch 101/200\n",
            " - 3s - loss: 30.1633 - decoder_loss: 30.0304 - predictor_loss: 0.2658 - val_loss: 34.1367 - val_decoder_loss: 33.9520 - val_predictor_loss: 0.3694\n",
            "\n",
            "Epoch 00101: val_loss did not improve from 33.34233\n",
            "Epoch 102/200\n",
            " - 3s - loss: 30.4163 - decoder_loss: 30.2853 - predictor_loss: 0.2619 - val_loss: 33.7729 - val_decoder_loss: 33.5862 - val_predictor_loss: 0.3735\n",
            "\n",
            "Epoch 00102: val_loss did not improve from 33.34233\n",
            "Epoch 103/200\n",
            " - 3s - loss: 30.1927 - decoder_loss: 30.0629 - predictor_loss: 0.2595 - val_loss: 33.9260 - val_decoder_loss: 33.7440 - val_predictor_loss: 0.3640\n",
            "\n",
            "Epoch 00103: val_loss did not improve from 33.34233\n",
            "Epoch 104/200\n",
            " - 3s - loss: 30.1089 - decoder_loss: 29.9809 - predictor_loss: 0.2559 - val_loss: 33.9663 - val_decoder_loss: 33.7850 - val_predictor_loss: 0.3626\n",
            "\n",
            "Epoch 00104: val_loss did not improve from 33.34233\n",
            "Epoch 105/200\n",
            " - 3s - loss: 30.3649 - decoder_loss: 30.2376 - predictor_loss: 0.2546 - val_loss: 34.0308 - val_decoder_loss: 33.8482 - val_predictor_loss: 0.3651\n",
            "\n",
            "Epoch 00105: val_loss did not improve from 33.34233\n",
            "Epoch 106/200\n",
            " - 3s - loss: 30.2319 - decoder_loss: 30.1018 - predictor_loss: 0.2603 - val_loss: 34.0823 - val_decoder_loss: 33.8979 - val_predictor_loss: 0.3688\n",
            "\n",
            "Epoch 00106: val_loss did not improve from 33.34233\n",
            "Epoch 107/200\n",
            " - 3s - loss: 30.3200 - decoder_loss: 30.1933 - predictor_loss: 0.2535 - val_loss: 34.1439 - val_decoder_loss: 33.9608 - val_predictor_loss: 0.3662\n",
            "\n",
            "Epoch 00107: val_loss did not improve from 33.34233\n",
            "Epoch 108/200\n",
            " - 3s - loss: 30.0832 - decoder_loss: 29.9563 - predictor_loss: 0.2537 - val_loss: 34.2994 - val_decoder_loss: 34.1202 - val_predictor_loss: 0.3584\n",
            "\n",
            "Epoch 00108: val_loss did not improve from 33.34233\n",
            "Epoch 109/200\n",
            " - 3s - loss: 30.2370 - decoder_loss: 30.1088 - predictor_loss: 0.2563 - val_loss: 33.4450 - val_decoder_loss: 33.2651 - val_predictor_loss: 0.3598\n",
            "\n",
            "Epoch 00109: val_loss did not improve from 33.34233\n",
            "Epoch 110/200\n",
            " - 3s - loss: 30.2300 - decoder_loss: 30.1000 - predictor_loss: 0.2600 - val_loss: 33.9672 - val_decoder_loss: 33.7816 - val_predictor_loss: 0.3712\n",
            "\n",
            "Epoch 00110: val_loss did not improve from 33.34233\n",
            "Epoch 111/200\n",
            " - 3s - loss: 30.3771 - decoder_loss: 30.2472 - predictor_loss: 0.2598 - val_loss: 34.4826 - val_decoder_loss: 34.2932 - val_predictor_loss: 0.3788\n",
            "\n",
            "Epoch 00111: val_loss did not improve from 33.34233\n",
            "Epoch 112/200\n",
            " - 3s - loss: 30.6113 - decoder_loss: 30.4815 - predictor_loss: 0.2595 - val_loss: 34.1904 - val_decoder_loss: 34.0061 - val_predictor_loss: 0.3686\n",
            "\n",
            "Epoch 00112: val_loss did not improve from 33.34233\n",
            "Epoch 113/200\n",
            " - 3s - loss: 30.4406 - decoder_loss: 30.3114 - predictor_loss: 0.2584 - val_loss: 34.1874 - val_decoder_loss: 34.0077 - val_predictor_loss: 0.3593\n",
            "\n",
            "Epoch 00113: val_loss did not improve from 33.34233\n",
            "Epoch 114/200\n",
            " - 3s - loss: 30.3895 - decoder_loss: 30.2569 - predictor_loss: 0.2652 - val_loss: 33.9655 - val_decoder_loss: 33.7796 - val_predictor_loss: 0.3717\n",
            "\n",
            "Epoch 00114: val_loss did not improve from 33.34233\n",
            "Epoch 115/200\n",
            " - 3s - loss: 30.3811 - decoder_loss: 30.2480 - predictor_loss: 0.2662 - val_loss: 33.9404 - val_decoder_loss: 33.7526 - val_predictor_loss: 0.3754\n",
            "\n",
            "Epoch 00115: val_loss did not improve from 33.34233\n",
            "Epoch 116/200\n",
            " - 3s - loss: 30.5672 - decoder_loss: 30.4380 - predictor_loss: 0.2585 - val_loss: 34.4839 - val_decoder_loss: 34.3014 - val_predictor_loss: 0.3650\n",
            "\n",
            "Epoch 00116: val_loss did not improve from 33.34233\n",
            "Epoch 117/200\n",
            " - 3s - loss: 30.6736 - decoder_loss: 30.5410 - predictor_loss: 0.2651 - val_loss: 34.0052 - val_decoder_loss: 33.8206 - val_predictor_loss: 0.3692\n",
            "\n",
            "Epoch 00117: val_loss did not improve from 33.34233\n",
            "Epoch 118/200\n",
            " - 3s - loss: 30.4716 - decoder_loss: 30.3397 - predictor_loss: 0.2637 - val_loss: 34.5149 - val_decoder_loss: 34.3319 - val_predictor_loss: 0.3659\n",
            "\n",
            "Epoch 00118: val_loss did not improve from 33.34233\n",
            "Epoch 119/200\n",
            " - 3s - loss: 30.8003 - decoder_loss: 30.6683 - predictor_loss: 0.2640 - val_loss: 34.7608 - val_decoder_loss: 34.5711 - val_predictor_loss: 0.3793\n",
            "\n",
            "Epoch 00119: val_loss did not improve from 33.34233\n",
            "Epoch 120/200\n",
            " - 3s - loss: 30.4697 - decoder_loss: 30.3377 - predictor_loss: 0.2639 - val_loss: 34.2955 - val_decoder_loss: 34.1130 - val_predictor_loss: 0.3651\n",
            "\n",
            "Epoch 00120: val_loss did not improve from 33.34233\n",
            "Epoch 121/200\n",
            " - 3s - loss: 30.2198 - decoder_loss: 30.0876 - predictor_loss: 0.2644 - val_loss: 34.3544 - val_decoder_loss: 34.1629 - val_predictor_loss: 0.3829\n",
            "\n",
            "Epoch 00121: val_loss did not improve from 33.34233\n",
            "Epoch 122/200\n",
            " - 3s - loss: 30.2072 - decoder_loss: 30.0755 - predictor_loss: 0.2633 - val_loss: 33.2960 - val_decoder_loss: 33.1113 - val_predictor_loss: 0.3695\n",
            "\n",
            "Epoch 00122: val_loss improved from 33.34233 to 33.29604, saving model to VAE_Predictor122.h5\n",
            "Epoch 123/200\n",
            " - 3s - loss: 30.3326 - decoder_loss: 30.2038 - predictor_loss: 0.2577 - val_loss: 34.0681 - val_decoder_loss: 33.8747 - val_predictor_loss: 0.3869\n",
            "\n",
            "Epoch 00123: val_loss did not improve from 33.29604\n",
            "Epoch 124/200\n",
            " - 3s - loss: 30.4530 - decoder_loss: 30.3191 - predictor_loss: 0.2676 - val_loss: 33.5209 - val_decoder_loss: 33.3377 - val_predictor_loss: 0.3664\n",
            "\n",
            "Epoch 00124: val_loss did not improve from 33.29604\n",
            "Epoch 125/200\n",
            " - 3s - loss: 30.4291 - decoder_loss: 30.3004 - predictor_loss: 0.2573 - val_loss: 33.7190 - val_decoder_loss: 33.5281 - val_predictor_loss: 0.3818\n",
            "\n",
            "Epoch 00125: val_loss did not improve from 33.29604\n",
            "Epoch 126/200\n",
            " - 3s - loss: 30.2700 - decoder_loss: 30.1395 - predictor_loss: 0.2610 - val_loss: 34.4521 - val_decoder_loss: 34.2661 - val_predictor_loss: 0.3720\n",
            "\n",
            "Epoch 00126: val_loss did not improve from 33.29604\n",
            "Epoch 127/200\n",
            " - 3s - loss: 30.2812 - decoder_loss: 30.1537 - predictor_loss: 0.2550 - val_loss: 33.9939 - val_decoder_loss: 33.8123 - val_predictor_loss: 0.3631\n",
            "\n",
            "Epoch 00127: val_loss did not improve from 33.29604\n",
            "Epoch 128/200\n",
            " - 3s - loss: 30.7104 - decoder_loss: 30.5830 - predictor_loss: 0.2547 - val_loss: 34.2968 - val_decoder_loss: 34.1097 - val_predictor_loss: 0.3743\n",
            "\n",
            "Epoch 00128: val_loss did not improve from 33.29604\n",
            "Epoch 129/200\n",
            " - 3s - loss: 30.6952 - decoder_loss: 30.5638 - predictor_loss: 0.2627 - val_loss: 34.3171 - val_decoder_loss: 34.1245 - val_predictor_loss: 0.3852\n",
            "\n",
            "Epoch 00129: val_loss did not improve from 33.29604\n",
            "Epoch 130/200\n",
            " - 3s - loss: 30.2781 - decoder_loss: 30.1475 - predictor_loss: 0.2612 - val_loss: 34.2476 - val_decoder_loss: 34.0637 - val_predictor_loss: 0.3679\n",
            "\n",
            "Epoch 00130: val_loss did not improve from 33.29604\n",
            "Epoch 131/200\n",
            " - 3s - loss: 30.3567 - decoder_loss: 30.2276 - predictor_loss: 0.2582 - val_loss: 34.7264 - val_decoder_loss: 34.5416 - val_predictor_loss: 0.3697\n",
            "\n",
            "Epoch 00131: val_loss did not improve from 33.29604\n",
            "Epoch 132/200\n",
            " - 3s - loss: 30.3919 - decoder_loss: 30.2628 - predictor_loss: 0.2583 - val_loss: 33.4638 - val_decoder_loss: 33.2806 - val_predictor_loss: 0.3663\n",
            "\n",
            "Epoch 00132: val_loss did not improve from 33.29604\n",
            "Epoch 133/200\n",
            " - 3s - loss: 30.2698 - decoder_loss: 30.1406 - predictor_loss: 0.2584 - val_loss: 33.9556 - val_decoder_loss: 33.7710 - val_predictor_loss: 0.3691\n",
            "\n",
            "Epoch 00133: val_loss did not improve from 33.29604\n",
            "Epoch 134/200\n",
            " - 3s - loss: 30.5012 - decoder_loss: 30.3724 - predictor_loss: 0.2577 - val_loss: 33.8974 - val_decoder_loss: 33.7112 - val_predictor_loss: 0.3724\n",
            "\n",
            "Epoch 00134: val_loss did not improve from 33.29604\n",
            "Epoch 135/200\n",
            " - 3s - loss: 30.3312 - decoder_loss: 30.2025 - predictor_loss: 0.2573 - val_loss: 34.6757 - val_decoder_loss: 34.4896 - val_predictor_loss: 0.3722\n",
            "\n",
            "Epoch 00135: val_loss did not improve from 33.29604\n",
            "Epoch 136/200\n",
            " - 3s - loss: 30.2071 - decoder_loss: 30.0791 - predictor_loss: 0.2561 - val_loss: 34.1918 - val_decoder_loss: 34.0121 - val_predictor_loss: 0.3594\n",
            "\n",
            "Epoch 00136: val_loss did not improve from 33.29604\n",
            "Epoch 137/200\n",
            " - 3s - loss: 29.9903 - decoder_loss: 29.8649 - predictor_loss: 0.2508 - val_loss: 33.3586 - val_decoder_loss: 33.1804 - val_predictor_loss: 0.3566\n",
            "\n",
            "Epoch 00137: val_loss did not improve from 33.29604\n",
            "Epoch 138/200\n",
            " - 3s - loss: 30.4350 - decoder_loss: 30.3098 - predictor_loss: 0.2504 - val_loss: 34.1576 - val_decoder_loss: 33.9773 - val_predictor_loss: 0.3605\n",
            "\n",
            "Epoch 00138: val_loss did not improve from 33.29604\n",
            "Epoch 139/200\n",
            " - 3s - loss: 30.0079 - decoder_loss: 29.8807 - predictor_loss: 0.2545 - val_loss: 33.8819 - val_decoder_loss: 33.7009 - val_predictor_loss: 0.3620\n",
            "\n",
            "Epoch 00139: val_loss did not improve from 33.29604\n",
            "Epoch 140/200\n",
            " - 3s - loss: 30.3422 - decoder_loss: 30.2168 - predictor_loss: 0.2508 - val_loss: 33.7210 - val_decoder_loss: 33.5374 - val_predictor_loss: 0.3672\n",
            "\n",
            "Epoch 00140: val_loss did not improve from 33.29604\n",
            "Epoch 141/200\n",
            " - 3s - loss: 30.2597 - decoder_loss: 30.1329 - predictor_loss: 0.2536 - val_loss: 34.0386 - val_decoder_loss: 33.8591 - val_predictor_loss: 0.3590\n",
            "\n",
            "Epoch 00141: val_loss did not improve from 33.29604\n",
            "Epoch 142/200\n",
            " - 3s - loss: 30.6941 - decoder_loss: 30.5660 - predictor_loss: 0.2563 - val_loss: 33.7134 - val_decoder_loss: 33.5360 - val_predictor_loss: 0.3547\n",
            "\n",
            "Epoch 00142: val_loss did not improve from 33.29604\n",
            "Epoch 143/200\n",
            " - 3s - loss: 30.3611 - decoder_loss: 30.2335 - predictor_loss: 0.2553 - val_loss: 32.9719 - val_decoder_loss: 32.7932 - val_predictor_loss: 0.3574\n",
            "\n",
            "Epoch 00143: val_loss improved from 33.29604 to 32.97192, saving model to VAE_Predictor143.h5\n",
            "Epoch 144/200\n",
            " - 3s - loss: 30.2311 - decoder_loss: 30.1035 - predictor_loss: 0.2551 - val_loss: 34.6004 - val_decoder_loss: 34.4199 - val_predictor_loss: 0.3609\n",
            "\n",
            "Epoch 00144: val_loss did not improve from 32.97192\n",
            "Epoch 145/200\n",
            " - 3s - loss: 30.2123 - decoder_loss: 30.0875 - predictor_loss: 0.2497 - val_loss: 33.7079 - val_decoder_loss: 33.5269 - val_predictor_loss: 0.3619\n",
            "\n",
            "Epoch 00145: val_loss did not improve from 32.97192\n",
            "Epoch 146/200\n",
            " - 3s - loss: 30.3271 - decoder_loss: 30.1974 - predictor_loss: 0.2594 - val_loss: 34.5514 - val_decoder_loss: 34.3721 - val_predictor_loss: 0.3586\n",
            "\n",
            "Epoch 00146: val_loss did not improve from 32.97192\n",
            "Epoch 147/200\n",
            " - 3s - loss: 30.2464 - decoder_loss: 30.1188 - predictor_loss: 0.2552 - val_loss: 34.9321 - val_decoder_loss: 34.7519 - val_predictor_loss: 0.3604\n",
            "\n",
            "Epoch 00147: val_loss did not improve from 32.97192\n",
            "Epoch 148/200\n",
            " - 3s - loss: 30.2520 - decoder_loss: 30.1267 - predictor_loss: 0.2506 - val_loss: 34.5068 - val_decoder_loss: 34.3268 - val_predictor_loss: 0.3601\n",
            "\n",
            "Epoch 00148: val_loss did not improve from 32.97192\n",
            "Epoch 149/200\n",
            " - 3s - loss: 30.3999 - decoder_loss: 30.2700 - predictor_loss: 0.2598 - val_loss: 33.7613 - val_decoder_loss: 33.5834 - val_predictor_loss: 0.3559\n",
            "\n",
            "Epoch 00149: val_loss did not improve from 32.97192\n",
            "Epoch 150/200\n",
            " - 3s - loss: 30.4075 - decoder_loss: 30.2785 - predictor_loss: 0.2581 - val_loss: 33.8885 - val_decoder_loss: 33.7096 - val_predictor_loss: 0.3579\n",
            "\n",
            "Epoch 00150: val_loss did not improve from 32.97192\n",
            "Epoch 151/200\n",
            " - 3s - loss: 30.3098 - decoder_loss: 30.1823 - predictor_loss: 0.2551 - val_loss: 34.6379 - val_decoder_loss: 34.4546 - val_predictor_loss: 0.3666\n",
            "\n",
            "Epoch 00151: val_loss did not improve from 32.97192\n",
            "Epoch 152/200\n",
            " - 3s - loss: 30.3291 - decoder_loss: 30.2027 - predictor_loss: 0.2530 - val_loss: 34.3687 - val_decoder_loss: 34.1882 - val_predictor_loss: 0.3608\n",
            "\n",
            "Epoch 00152: val_loss did not improve from 32.97192\n",
            "Epoch 153/200\n",
            " - 3s - loss: 30.3679 - decoder_loss: 30.2394 - predictor_loss: 0.2570 - val_loss: 34.1699 - val_decoder_loss: 33.9874 - val_predictor_loss: 0.3650\n",
            "\n",
            "Epoch 00153: val_loss did not improve from 32.97192\n",
            "Epoch 154/200\n",
            " - 3s - loss: 30.5051 - decoder_loss: 30.3771 - predictor_loss: 0.2559 - val_loss: 34.0421 - val_decoder_loss: 33.8610 - val_predictor_loss: 0.3623\n",
            "\n",
            "Epoch 00154: val_loss did not improve from 32.97192\n",
            "Epoch 155/200\n",
            " - 3s - loss: 30.2948 - decoder_loss: 30.1664 - predictor_loss: 0.2568 - val_loss: 34.0294 - val_decoder_loss: 33.8446 - val_predictor_loss: 0.3695\n",
            "\n",
            "Epoch 00155: val_loss did not improve from 32.97192\n",
            "Epoch 156/200\n",
            " - 3s - loss: 30.1859 - decoder_loss: 30.0576 - predictor_loss: 0.2566 - val_loss: 33.7524 - val_decoder_loss: 33.5711 - val_predictor_loss: 0.3625\n",
            "\n",
            "Epoch 00156: val_loss did not improve from 32.97192\n",
            "Epoch 157/200\n",
            " - 3s - loss: 30.2818 - decoder_loss: 30.1516 - predictor_loss: 0.2605 - val_loss: 33.9132 - val_decoder_loss: 33.7323 - val_predictor_loss: 0.3619\n",
            "\n",
            "Epoch 00157: val_loss did not improve from 32.97192\n",
            "Epoch 158/200\n",
            " - 3s - loss: 30.1050 - decoder_loss: 29.9776 - predictor_loss: 0.2548 - val_loss: 33.7171 - val_decoder_loss: 33.5390 - val_predictor_loss: 0.3562\n",
            "\n",
            "Epoch 00158: val_loss did not improve from 32.97192\n",
            "Epoch 159/200\n",
            " - 3s - loss: 30.3314 - decoder_loss: 30.2042 - predictor_loss: 0.2543 - val_loss: 33.5831 - val_decoder_loss: 33.4100 - val_predictor_loss: 0.3463\n",
            "\n",
            "Epoch 00159: val_loss did not improve from 32.97192\n",
            "Epoch 160/200\n",
            " - 3s - loss: 29.9369 - decoder_loss: 29.8107 - predictor_loss: 0.2525 - val_loss: 35.0380 - val_decoder_loss: 34.8609 - val_predictor_loss: 0.3543\n",
            "\n",
            "Epoch 00160: val_loss did not improve from 32.97192\n",
            "Epoch 161/200\n",
            " - 3s - loss: 30.3919 - decoder_loss: 30.2639 - predictor_loss: 0.2560 - val_loss: 33.8892 - val_decoder_loss: 33.7140 - val_predictor_loss: 0.3505\n",
            "\n",
            "Epoch 00161: val_loss did not improve from 32.97192\n",
            "Epoch 162/200\n",
            " - 3s - loss: 30.4984 - decoder_loss: 30.3731 - predictor_loss: 0.2506 - val_loss: 34.1258 - val_decoder_loss: 33.9464 - val_predictor_loss: 0.3589\n",
            "\n",
            "Epoch 00162: val_loss did not improve from 32.97192\n",
            "Epoch 163/200\n",
            " - 3s - loss: 30.4583 - decoder_loss: 30.3313 - predictor_loss: 0.2539 - val_loss: 33.7869 - val_decoder_loss: 33.6062 - val_predictor_loss: 0.3613\n",
            "\n",
            "Epoch 00163: val_loss did not improve from 32.97192\n",
            "Epoch 164/200\n",
            " - 3s - loss: 30.3786 - decoder_loss: 30.2513 - predictor_loss: 0.2546 - val_loss: 33.8428 - val_decoder_loss: 33.6561 - val_predictor_loss: 0.3735\n",
            "\n",
            "Epoch 00164: val_loss did not improve from 32.97192\n",
            "Epoch 165/200\n",
            " - 3s - loss: 30.3182 - decoder_loss: 30.1902 - predictor_loss: 0.2561 - val_loss: 33.7446 - val_decoder_loss: 33.5593 - val_predictor_loss: 0.3706\n",
            "\n",
            "Epoch 00165: val_loss did not improve from 32.97192\n",
            "Epoch 166/200\n",
            " - 3s - loss: 30.1595 - decoder_loss: 30.0322 - predictor_loss: 0.2545 - val_loss: 34.1960 - val_decoder_loss: 34.0134 - val_predictor_loss: 0.3653\n",
            "\n",
            "Epoch 00166: val_loss did not improve from 32.97192\n",
            "Epoch 167/200\n",
            " - 3s - loss: 30.0818 - decoder_loss: 29.9516 - predictor_loss: 0.2602 - val_loss: 34.6910 - val_decoder_loss: 34.5098 - val_predictor_loss: 0.3624\n",
            "\n",
            "Epoch 00167: val_loss did not improve from 32.97192\n",
            "Epoch 168/200\n",
            " - 3s - loss: 30.0888 - decoder_loss: 29.9590 - predictor_loss: 0.2596 - val_loss: 33.8221 - val_decoder_loss: 33.6471 - val_predictor_loss: 0.3498\n",
            "\n",
            "Epoch 00168: val_loss did not improve from 32.97192\n",
            "Epoch 169/200\n",
            " - 3s - loss: 30.0636 - decoder_loss: 29.9356 - predictor_loss: 0.2560 - val_loss: 33.9530 - val_decoder_loss: 33.7759 - val_predictor_loss: 0.3543\n",
            "\n",
            "Epoch 00169: val_loss did not improve from 32.97192\n",
            "Epoch 170/200\n",
            " - 3s - loss: 30.1114 - decoder_loss: 29.9845 - predictor_loss: 0.2539 - val_loss: 34.0545 - val_decoder_loss: 33.8756 - val_predictor_loss: 0.3578\n",
            "\n",
            "Epoch 00170: val_loss did not improve from 32.97192\n",
            "Epoch 171/200\n",
            " - 3s - loss: 30.2202 - decoder_loss: 30.0936 - predictor_loss: 0.2533 - val_loss: 34.0410 - val_decoder_loss: 33.8594 - val_predictor_loss: 0.3632\n",
            "\n",
            "Epoch 00171: val_loss did not improve from 32.97192\n",
            "Epoch 172/200\n",
            " - 3s - loss: 30.2716 - decoder_loss: 30.1435 - predictor_loss: 0.2562 - val_loss: 34.2931 - val_decoder_loss: 34.1155 - val_predictor_loss: 0.3553\n",
            "\n",
            "Epoch 00172: val_loss did not improve from 32.97192\n",
            "Epoch 173/200\n",
            " - 3s - loss: 30.3020 - decoder_loss: 30.1752 - predictor_loss: 0.2536 - val_loss: 33.7546 - val_decoder_loss: 33.5717 - val_predictor_loss: 0.3657\n",
            "\n",
            "Epoch 00173: val_loss did not improve from 32.97192\n",
            "Epoch 174/200\n",
            " - 3s - loss: 30.2198 - decoder_loss: 30.0941 - predictor_loss: 0.2514 - val_loss: 34.2301 - val_decoder_loss: 34.0478 - val_predictor_loss: 0.3645\n",
            "\n",
            "Epoch 00174: val_loss did not improve from 32.97192\n",
            "Epoch 175/200\n",
            " - 3s - loss: 30.5570 - decoder_loss: 30.4303 - predictor_loss: 0.2533 - val_loss: 33.8524 - val_decoder_loss: 33.6767 - val_predictor_loss: 0.3513\n",
            "\n",
            "Epoch 00175: val_loss did not improve from 32.97192\n",
            "Epoch 176/200\n",
            " - 3s - loss: 29.9444 - decoder_loss: 29.8200 - predictor_loss: 0.2488 - val_loss: 34.4534 - val_decoder_loss: 34.2752 - val_predictor_loss: 0.3565\n",
            "\n",
            "Epoch 00176: val_loss did not improve from 32.97192\n",
            "Epoch 177/200\n",
            " - 3s - loss: 30.1618 - decoder_loss: 30.0331 - predictor_loss: 0.2574 - val_loss: 33.9164 - val_decoder_loss: 33.7343 - val_predictor_loss: 0.3642\n",
            "\n",
            "Epoch 00177: val_loss did not improve from 32.97192\n",
            "Epoch 178/200\n",
            " - 3s - loss: 30.3142 - decoder_loss: 30.1870 - predictor_loss: 0.2544 - val_loss: 33.4358 - val_decoder_loss: 33.2562 - val_predictor_loss: 0.3591\n",
            "\n",
            "Epoch 00178: val_loss did not improve from 32.97192\n",
            "Epoch 179/200\n",
            " - 3s - loss: 30.2604 - decoder_loss: 30.1309 - predictor_loss: 0.2590 - val_loss: 34.4074 - val_decoder_loss: 34.2256 - val_predictor_loss: 0.3635\n",
            "\n",
            "Epoch 00179: val_loss did not improve from 32.97192\n",
            "Epoch 180/200\n",
            " - 3s - loss: 30.1151 - decoder_loss: 29.9859 - predictor_loss: 0.2583 - val_loss: 33.4189 - val_decoder_loss: 33.2375 - val_predictor_loss: 0.3630\n",
            "\n",
            "Epoch 00180: val_loss did not improve from 32.97192\n",
            "Epoch 181/200\n",
            " - 3s - loss: 30.2039 - decoder_loss: 30.0772 - predictor_loss: 0.2532 - val_loss: 34.1738 - val_decoder_loss: 33.9947 - val_predictor_loss: 0.3583\n",
            "\n",
            "Epoch 00181: val_loss did not improve from 32.97192\n",
            "Epoch 182/200\n",
            " - 3s - loss: 30.4217 - decoder_loss: 30.2953 - predictor_loss: 0.2526 - val_loss: 34.5764 - val_decoder_loss: 34.3943 - val_predictor_loss: 0.3642\n",
            "\n",
            "Epoch 00182: val_loss did not improve from 32.97192\n",
            "Epoch 183/200\n",
            " - 3s - loss: 30.3357 - decoder_loss: 30.2102 - predictor_loss: 0.2510 - val_loss: 33.6233 - val_decoder_loss: 33.4465 - val_predictor_loss: 0.3536\n",
            "\n",
            "Epoch 00183: val_loss did not improve from 32.97192\n",
            "Epoch 184/200\n",
            " - 3s - loss: 30.0829 - decoder_loss: 29.9568 - predictor_loss: 0.2522 - val_loss: 33.0667 - val_decoder_loss: 32.8876 - val_predictor_loss: 0.3582\n",
            "\n",
            "Epoch 00184: val_loss did not improve from 32.97192\n",
            "Epoch 185/200\n",
            " - 3s - loss: 29.8447 - decoder_loss: 29.7141 - predictor_loss: 0.2612 - val_loss: 34.4220 - val_decoder_loss: 34.2433 - val_predictor_loss: 0.3573\n",
            "\n",
            "Epoch 00185: val_loss did not improve from 32.97192\n",
            "Epoch 186/200\n",
            " - 3s - loss: 30.2638 - decoder_loss: 30.1346 - predictor_loss: 0.2583 - val_loss: 34.0578 - val_decoder_loss: 33.8802 - val_predictor_loss: 0.3551\n",
            "\n",
            "Epoch 00186: val_loss did not improve from 32.97192\n",
            "Epoch 187/200\n",
            " - 3s - loss: 30.2248 - decoder_loss: 30.0981 - predictor_loss: 0.2535 - val_loss: 33.5124 - val_decoder_loss: 33.3338 - val_predictor_loss: 0.3572\n",
            "\n",
            "Epoch 00187: val_loss did not improve from 32.97192\n",
            "Epoch 188/200\n",
            " - 3s - loss: 30.2068 - decoder_loss: 30.0787 - predictor_loss: 0.2563 - val_loss: 33.6036 - val_decoder_loss: 33.4243 - val_predictor_loss: 0.3587\n",
            "\n",
            "Epoch 00188: val_loss did not improve from 32.97192\n",
            "Epoch 189/200\n",
            " - 3s - loss: 30.1082 - decoder_loss: 29.9772 - predictor_loss: 0.2619 - val_loss: 34.1405 - val_decoder_loss: 33.9580 - val_predictor_loss: 0.3650\n",
            "\n",
            "Epoch 00189: val_loss did not improve from 32.97192\n",
            "Epoch 190/200\n",
            " - 3s - loss: 29.9773 - decoder_loss: 29.8476 - predictor_loss: 0.2594 - val_loss: 33.4387 - val_decoder_loss: 33.2561 - val_predictor_loss: 0.3653\n",
            "\n",
            "Epoch 00190: val_loss did not improve from 32.97192\n",
            "Epoch 191/200\n",
            " - 3s - loss: 30.6158 - decoder_loss: 30.4837 - predictor_loss: 0.2642 - val_loss: 33.2848 - val_decoder_loss: 33.1018 - val_predictor_loss: 0.3660\n",
            "\n",
            "Epoch 00191: val_loss did not improve from 32.97192\n",
            "Epoch 192/200\n",
            " - 3s - loss: 30.0205 - decoder_loss: 29.8918 - predictor_loss: 0.2574 - val_loss: 33.7626 - val_decoder_loss: 33.5808 - val_predictor_loss: 0.3637\n",
            "\n",
            "Epoch 00192: val_loss did not improve from 32.97192\n",
            "Epoch 193/200\n",
            " - 3s - loss: 30.1581 - decoder_loss: 30.0308 - predictor_loss: 0.2546 - val_loss: 34.9091 - val_decoder_loss: 34.7310 - val_predictor_loss: 0.3561\n",
            "\n",
            "Epoch 00193: val_loss did not improve from 32.97192\n",
            "Epoch 194/200\n",
            " - 3s - loss: 30.0374 - decoder_loss: 29.9096 - predictor_loss: 0.2556 - val_loss: 34.8474 - val_decoder_loss: 34.6575 - val_predictor_loss: 0.3796\n",
            "\n",
            "Epoch 00194: val_loss did not improve from 32.97192\n",
            "Epoch 195/200\n",
            " - 3s - loss: 30.2933 - decoder_loss: 30.1639 - predictor_loss: 0.2588 - val_loss: 33.8096 - val_decoder_loss: 33.6249 - val_predictor_loss: 0.3695\n",
            "\n",
            "Epoch 00195: val_loss did not improve from 32.97192\n",
            "Epoch 196/200\n",
            " - 3s - loss: 29.7969 - decoder_loss: 29.6689 - predictor_loss: 0.2559 - val_loss: 34.1283 - val_decoder_loss: 33.9429 - val_predictor_loss: 0.3708\n",
            "\n",
            "Epoch 00196: val_loss did not improve from 32.97192\n",
            "Epoch 197/200\n",
            " - 3s - loss: 30.1233 - decoder_loss: 29.9941 - predictor_loss: 0.2582 - val_loss: 33.6223 - val_decoder_loss: 33.4356 - val_predictor_loss: 0.3735\n",
            "\n",
            "Epoch 00197: val_loss did not improve from 32.97192\n",
            "Epoch 198/200\n",
            " - 3s - loss: 30.5440 - decoder_loss: 30.4137 - predictor_loss: 0.2607 - val_loss: 33.8591 - val_decoder_loss: 33.6751 - val_predictor_loss: 0.3680\n",
            "\n",
            "Epoch 00198: val_loss did not improve from 32.97192\n",
            "Epoch 199/200\n",
            " - 3s - loss: 30.1438 - decoder_loss: 30.0154 - predictor_loss: 0.2567 - val_loss: 33.9984 - val_decoder_loss: 33.8183 - val_predictor_loss: 0.3601\n",
            "\n",
            "Epoch 00199: val_loss did not improve from 32.97192\n",
            "Epoch 200/200\n",
            " - 3s - loss: 30.2984 - decoder_loss: 30.1696 - predictor_loss: 0.2576 - val_loss: 33.3981 - val_decoder_loss: 33.2155 - val_predictor_loss: 0.3652\n",
            "\n",
            "Epoch 00200: val_loss did not improve from 32.97192\n"
          ],
          "name": "stdout"
        }
      ]
    },
    {
      "cell_type": "code",
      "metadata": {
        "id": "21B_ggNuE82g"
      },
      "source": [
        "# vae_predictor.save('my_model.h5')\n",
        "# vae_predictor.save(checkpoint_path)\n",
        "\n"
      ],
      "execution_count": 24,
      "outputs": []
    },
    {
      "cell_type": "code",
      "metadata": {
        "id": "8uk1tTSeN5A0"
      },
      "source": [
        "# new_model = tf.keras.models.load_model('my_model.h5')\n",
        "# history = new_model.fit(x_train[:2000], y_train[:2000],\n",
        "#               batch_size=BATCH_SIZE,\n",
        "#               epochs=6,\n",
        "#               validation_data=(x_val[:100], y_val[:100]),\n",
        "#               shuffle=True)\n"
      ],
      "execution_count": 25,
      "outputs": []
    },
    {
      "cell_type": "markdown",
      "metadata": {
        "id": "2mdx0PFUo6zF"
      },
      "source": [
        "# **Latent Space Visualization**"
      ]
    },
    {
      "cell_type": "markdown",
      "metadata": {
        "id": "lfSmYNQyNw1h"
      },
      "source": [
        "### **Each Component of latent space**"
      ]
    },
    {
      "cell_type": "code",
      "metadata": {
        "id": "rLxFS7t8DgWh",
        "colab": {
          "base_uri": "https://localhost:8080/",
          "height": 358
        },
        "outputId": "3ba1fb09-2381-40f6-9cd7-5edb8cb4b6ef"
      },
      "source": [
        "from scipy.stats import norm\n",
        "# with graph.as_default():   # We are using this statement to reuse the last saved trained model\n",
        "z_test = encoder.predict(X_test)\n",
        "\n",
        "x = np.linspace(-3, 3, 300)\n",
        "\n",
        "fig = plt.figure(figsize=(20, 20))\n",
        "fig.subplots_adjust(hspace=0.6, wspace=0.4)\n",
        "\n",
        "for i in range(20):\n",
        "    ax = fig.add_subplot(5, 10, i+1)\n",
        "    ax.hist(z_test[:,i], density=True, bins = 20)\n",
        "    ax.axis('on')\n",
        "    ax.text(0.5, -0.35, str(i), fontsize=10, ha='center', transform=ax.transAxes)\n",
        "    ax.plot(x,norm.pdf(x))\n",
        "\n",
        "plt.show()"
      ],
      "execution_count": 26,
      "outputs": [
        {
          "output_type": "display_data",
          "data": {
            "image/png": "[encoded data removed]",
            "text/plain": [
              "<Figure size 1440x1440 with 20 Axes>"
            ]
          },
          "metadata": {
            "tags": [],
            "needs_background": "light"
          }
        }
      ]
    },
    {
      "cell_type": "markdown",
      "metadata": {
        "id": "qW7ankKjOIe3"
      },
      "source": [
        "### **logP Properties**"
      ]
    },
    {
      "cell_type": "code",
      "metadata": {
        "id": "KzIC2S-jDgVS",
        "colab": {
          "base_uri": "https://localhost:8080/",
          "height": 458
        },
        "outputId": "1ed40af0-7f08-466b-abef-969fb4ebd16e"
      },
      "source": [
        "from sklearn.manifold import TSNE\n",
        "z_mean = encoder.predict(X_test)\n",
        "# print(z_mean)\n",
        "model_name='VAESMILES_Latent'\n",
        "os.makedirs(model_name, exist_ok=True)\n",
        "filename = os.path.join(model_name, \"smilesvae_mean.png\")\n",
        "\n",
        "# z_embedded = TSNE(n_components=2).fit_transform(z_mean)\n",
        "plt.figure(figsize=(7,7))\n",
        "plt.scatter(z_mean[:, 0], z_mean[:, 1], c=logP_test)\n",
        "plt.colorbar()\n",
        "plt.xlabel(\"z[0]\")\n",
        "plt.ylabel(\"z[1]\")\n",
        "plt.title('logP on test data')\n",
        "plt.savefig(filename)\n",
        "plt.show()"
      ],
      "execution_count": 27,
      "outputs": [
        {
          "output_type": "display_data",
          "data": {
            "image/png": "[encoded data removed]",
            "text/plain": [
              "<Figure size 504x504 with 2 Axes>"
            ]
          },
          "metadata": {
            "tags": [],
            "needs_background": "light"
          }
        }
      ]
    },
    {
      "cell_type": "markdown",
      "metadata": {
        "id": "kp4-0dgJOPMn"
      },
      "source": [
        "### **qed Properties**"
      ]
    },
    {
      "cell_type": "code",
      "metadata": {
        "id": "rw4eYRFVionx",
        "colab": {
          "base_uri": "https://localhost:8080/",
          "height": 458
        },
        "outputId": "f8dee30e-2c70-4cf9-ed4a-ff4a1f011f10"
      },
      "source": [
        "from sklearn.manifold import TSNE\n",
        "z_mean = encoder.predict(X_test)\n",
        "# print(z_mean)\n",
        "model_name='VAESMILES_Latent'\n",
        "os.makedirs(model_name, exist_ok=True)\n",
        "filename = os.path.join(model_name, \"smilesvae_mean.png\")\n",
        "\n",
        "# z_embedded = TSNE(n_components=2).fit_transform(z_mean)\n",
        "plt.figure(figsize=(7,7))\n",
        "plt.scatter(z_mean[:, 0], z_mean[:, 1], c=qed_test)\n",
        "plt.colorbar()\n",
        "plt.xlabel(\"z[0]\")\n",
        "plt.ylabel(\"z[1]\")\n",
        "plt.title('qed on test data')\n",
        "plt.savefig(filename)\n",
        "plt.show()"
      ],
      "execution_count": 28,
      "outputs": [
        {
          "output_type": "display_data",
          "data": {
            "image/png": "[encoded data removed]",
            "text/plain": [
              "<Figure size 504x504 with 2 Axes>"
            ]
          },
          "metadata": {
            "tags": [],
            "needs_background": "light"
          }
        }
      ]
    },
    {
      "cell_type": "markdown",
      "metadata": {
        "id": "_dz9J_4yOV88"
      },
      "source": [
        "### **SAS Properties**"
      ]
    },
    {
      "cell_type": "code",
      "metadata": {
        "id": "Pd-3wQdNivzV",
        "colab": {
          "base_uri": "https://localhost:8080/",
          "height": 458
        },
        "outputId": "1e0a11e0-94ab-42e5-ca5a-7e286c6c80b2"
      },
      "source": [
        "from sklearn.manifold import TSNE\n",
        "z_mean = encoder.predict(X_test)\n",
        "# print(z_mean)\n",
        "model_name='VAESMILES_Latent'\n",
        "os.makedirs(model_name, exist_ok=True)\n",
        "filename = os.path.join(model_name, \"smilesvae_mean.png\")\n",
        "\n",
        "# z_embedded = TSNE(n_components=2).fit_transform(z_mean)\n",
        "plt.figure(figsize=(7,7))\n",
        "plt.scatter(z_mean[:, 0], z_mean[:, 1], c=SAS_test)\n",
        "plt.colorbar()\n",
        "plt.xlabel(\"z[0]\")\n",
        "plt.ylabel(\"z[1]\")\n",
        "plt.title('SAS on test data')\n",
        "plt.savefig(filename)\n",
        "plt.show()"
      ],
      "execution_count": 29,
      "outputs": [
        {
          "output_type": "display_data",
          "data": {
            "image/png": "[encoded data removed]",
            "text/plain": [
              "<Figure size 504x504 with 2 Axes>"
            ]
          },
          "metadata": {
            "tags": [],
            "needs_background": "light"
          }
        }
      ]
    },
    {
      "cell_type": "markdown",
      "metadata": {
        "id": "ZnrYtI8YD675"
      },
      "source": [
        "# **Reconstruction**\n"
      ]
    },
    {
      "cell_type": "code",
      "metadata": {
        "id": "YrDHxPxRRXF6"
      },
      "source": [
        "# Calculating mean and standard deviation of all property values on test data\n",
        "\n",
        "logp_mean_test, qed_mean_test,SAS_mean_test= np.mean(y_test_property, axis=0)\n",
        "logp_std_test, qed_std_test,SAS_std_test = np.std(y_test_property, axis=0)\n"
      ],
      "execution_count": 30,
      "outputs": []
    },
    {
      "cell_type": "code",
      "metadata": {
        "colab": {
          "base_uri": "https://localhost:8080/"
        },
        "id": "3HmFH1pTiXUG",
        "outputId": "bf4f327d-3ae5-460b-856e-89aa9945ed33"
      },
      "source": [
        "# encoded, decoded and predicted data on test dataset\n",
        "\n",
        "encoded_xtest=encoder.predict(X_test)\n",
        "predicted_xtest=predictor.predict(encoded_xtest)\n",
        "decoded_xtest=decoder.predict(encoded_xtest)\n",
        "print(encoded_xtest.shape)\n",
        "print(predicted_xtest.shape)\n",
        "print(decoded_xtest.shape)\n"
      ],
      "execution_count": 31,
      "outputs": [
        {
          "output_type": "stream",
          "text": [
            "(302, 20)\n",
            "(302, 3)\n",
            "(302, 4320)\n"
          ],
          "name": "stdout"
        }
      ]
    },
    {
      "cell_type": "code",
      "metadata": {
        "colab": {
          "base_uri": "https://localhost:8080/"
        },
        "id": "2vbFn6HciZPv",
        "outputId": "14fe4884-77e3-4d15-ad16-245e869f7a8b"
      },
      "source": [
        "# Reshaping the original and reconstructed test data\n",
        "orig_test=X_test.reshape(len(X_test), mol_size_x, mol_size_y)\n",
        "reconst_test = decoded_xtest.reshape(len(X_test), mol_size_x,mol_size_y)\n",
        "print(orig_test.shape)\n",
        "print(reconst_test.shape)"
      ],
      "execution_count": 32,
      "outputs": [
        {
          "output_type": "stream",
          "text": [
            "(302, 108, 40)\n",
            "(302, 108, 40)\n"
          ],
          "name": "stdout"
        }
      ]
    },
    {
      "cell_type": "markdown",
      "metadata": {
        "id": "UpIyDHDxUkp3"
      },
      "source": [
        "### **Reconstruction and Prediction on Original test data set**"
      ]
    },
    {
      "cell_type": "code",
      "metadata": {
        "id": "LCrwK782D9BE",
        "colab": {
          "base_uri": "https://localhost:8080/",
          "height": 286
        },
        "outputId": "8c971b45-b63a-4200-8f92-146698b0f82c"
      },
      "source": [
        "# Going back from vectorized form back to a readable string on original test data\n",
        "\n",
        "# Prediction \n",
        "idx=150\n",
        "print(predicted_xtest[idx])\n",
        "\n",
        "#Reconstruction\n",
        "\n",
        "mol=\"\".join([int_to_char[idx] for idx in np.argmax(orig_test[idx,:,:], axis=1)])\n",
        "print(mol)\n",
        "print(len(mol))\n",
        "mol = re.sub('!|E',\"\", mol)\n",
        "print(mol)\n",
        "print(len(mol))\n",
        "m = Chem.MolFromSmiles(mol)\n",
        "m"
      ],
      "execution_count": 70,
      "outputs": [
        {
          "output_type": "stream",
          "text": [
            "[2.8965893  0.28726587 2.2456582 ]\n",
            "!C[C@H]1CN(CC(=O)Nc2nc(-c3ccccc3Cl)cs2)CCO1\n",
            "EEEEEEEEEEEEEEEEEEEEEEEEEEEEEEEEEEEEEEEEEEEEEEEEEEEEEEEEEEEEEEEE\n",
            "108\n",
            "C[C@H]1CN(CC(=O)Nc2nc(-c3ccccc3Cl)cs2)CCO1\n",
            "\n",
            "43\n"
          ],
          "name": "stdout"
        },
        {
          "output_type": "execute_result",
          "data": {
            "image/png": "[encoded data removed]",
            "text/plain": [
              "<rdkit.Chem.rdchem.Mol at 0x7fd72a4e6f80>"
            ]
          },
          "metadata": {
            "tags": []
          },
          "execution_count": 70
        }
      ]
    },
    {
      "cell_type": "markdown",
      "metadata": {
        "id": "RBIqDeC3UrKN"
      },
      "source": [
        "### **Reconstruction and Prediction of property on reconstructed test data**"
      ]
    },
    {
      "cell_type": "code",
      "metadata": {
        "id": "utVR537JD9HR",
        "colab": {
          "base_uri": "https://localhost:8080/"
        },
        "outputId": "6ad85037-e234-44f0-a1b5-a5434256aedf"
      },
      "source": [
        "# Going back from vectorized form back to a readable string on original test data\n",
        "\n",
        "# Prediction \n",
        "print(predicted_xtest[idx])\n",
        "\n",
        "#Reconstruction\n",
        "mol=\"\".join([int_to_char[idx] for idx in np.argmax(reconst_test[idx,:,:], axis=1)])\n",
        "print(mol)\n",
        "print(len(mol))\n",
        "mol = re.sub('!|E',\"\", mol)\n",
        "print(mol)\n",
        "print(len(mol))\n",
        "m = Chem.MolFromSmiles(mol)\n",
        "m"
      ],
      "execution_count": 68,
      "outputs": [
        {
          "output_type": "stream",
          "text": [
            "[2.7067468 1.0106442 4.0982614]\n",
            "!COc1cccOC)cc([[@H+](CC[@@H]CCCC=CO(c2cccc)C)c2)C)c\n",
            "\n",
            "EEEEEEEEEEEEEEEEEEEEEEEEEEEEEEEEEEEEEEEEEEEEEEEEEEEEEEE\n",
            "108\n",
            "COc1cccOC)cc([[@H+](CC[@@H]CCCC=CO(c2cccc)C)c2)C)c\n",
            "\n",
            "\n",
            "52\n"
          ],
          "name": "stdout"
        },
        {
          "output_type": "stream",
          "text": [
            "RDKit ERROR: [13:24:18] SMILES Parse Error: extra close parentheses while parsing: COc1cccOC)cc([[@H+](CC[@@H]CCCC=CO(c2cccc)C)c2)C)c\n",
            "RDKit ERROR: \n",
            "RDKit ERROR: \n",
            "RDKit ERROR: [13:24:18] SMILES Parse Error: Failed parsing SMILES 'COc1cccOC)cc([[@H+](CC[@@H]CCCC=CO(c2cccc)C)c2)C)c\n",
            "RDKit ERROR: \n",
            "RDKit ERROR: ' for input: 'COc1cccOC)cc([[@H+](CC[@@H]CCCC=CO(c2cccc)C)c2)C)c\n",
            "RDKit ERROR: \n",
            "RDKit ERROR: '\n"
          ],
          "name": "stderr"
        }
      ]
    },
    {
      "cell_type": "markdown",
      "metadata": {
        "id": "KATYxrXGpKxJ"
      },
      "source": [
        "# **Generating New Samples from Normal Distribution**"
      ]
    },
    {
      "cell_type": "code",
      "metadata": {
        "colab": {
          "base_uri": "https://localhost:8080/"
        },
        "id": "Kf0ojm-Hl18j",
        "outputId": "65f500ed-f44d-475b-96d8-f8467fae8f5a"
      },
      "source": [
        "prop_val={}\n",
        "m=None\n",
        "n_mol=10\n",
        "i=0\n",
        "latent_samples= np.random.normal(0,1,size=(n_mol,Z_DIM))\n",
        "# print(latent_samples.shape)\n",
        "predicted_prop_samples=predictor.predict(latent_samples)\n",
        "# print(predicted_prop_samples.shape)\n",
        "print(\"mean of all properties on test data\")\n",
        "print(logp_mean_test, qed_mean_test,SAS_mean_test)\n",
        "print(\"satndard deviation of all properties on test data\")\n",
        "print(logp_std_test, qed_std_test,SAS_std_test)\n",
        "\n",
        "#Checking the property of molecule\n",
        "for id, latent_mol in enumerate(latent_samples):\n",
        "  a=predicted_prop_samples[id][0]<(logp_mean_test+logp_std_test)\n",
        "  b=predicted_prop_samples[id][0]>=(logp_mean_test-logp_std_test)\n",
        "  c=predicted_prop_samples[id][1]<(qed_mean_test+qed_std_test)\n",
        "  d=predicted_prop_samples[id][1]>=(qed_mean_test-qed_std_test)\n",
        "  e=predicted_prop_samples[id][2]<(SAS_mean_test+SAS_std_test)\n",
        "  f=predicted_prop_samples[id][2]>=(SAS_mean_test-SAS_std_test)\n",
        "  if ((a & b) & (c & d) & (e & f)):  #Checking if all of the property values matches\n",
        "    prop_val[i]=1\n",
        "    print(\"Mol {}, Property Validated\".format(id+1))\n",
        "    print(\"Predicted Properties=\")\n",
        "    print(predicted_prop_samples[id][0], predicted_prop_samples[id][1], predicted_prop_samples[id][2])\n",
        "\n",
        "    #Passing it to Decoder Now\n",
        "    reconst_sample = decoder.predict(latent_samples[id:id+1])\n",
        "    new_mol=reconst_sample.reshape(mol_size_x, mol_size_y) \n",
        "    mol=\"\".join([int_to_char[idx] for idx in np.argmax(new_mol[:,:], axis=1)])\n",
        "    mol = re.sub('!|E',\"\", mol)\n",
        "    m = Chem.MolFromSmiles(mol, sanitize=True)\n",
        "    if m is None:\n",
        "      print('Mol {} {}, invalid SMILES'.format(id+1,m))\n",
        "      continue                   \n",
        "    else:\n",
        "      try:\n",
        "        m = Chem.SanitizeMol(m)\n",
        "        print(m)\n",
        "      except:\n",
        "        print('Mol {}, invalid chemistry'.format(id+1)) \n",
        "    m\n",
        "  else:    #No decoding happens here\n",
        "    prop_val[i]=0\n",
        "    print(\"Mol {}, Property Invalidated\".format(id+1))  "
      ],
      "execution_count": 69,
      "outputs": [
        {
          "output_type": "stream",
          "text": [
            "mean of all properties on test data\n",
            "2.4771253642384106 0.7170151110408212 2.963516528736832\n",
            "satndard deviation of all properties on test data\n",
            "1.4639469841537798 0.14166403787323872 0.811183384998689\n",
            "Mol 1, Property Invalidated\n",
            "Mol 2, Property Validated\n",
            "Predicted Properties=\n",
            "1.9977878 0.7558948 3.133384\n",
            "Mol 2 None, invalid SMILES\n",
            "Mol 3, Property Validated\n",
            "Predicted Properties=\n",
            "1.8773962 0.7570058 2.8645325\n",
            "Mol 3 None, invalid SMILES\n",
            "Mol 4, Property Validated\n",
            "Predicted Properties=\n",
            "1.6899657 0.7680175 2.9008226\n",
            "Mol 4 None, invalid SMILES\n",
            "Mol 5, Property Validated\n",
            "Predicted Properties=\n",
            "2.5946624 0.718897 2.808948\n",
            "Mol 5 None, invalid SMILES\n",
            "Mol 6, Property Invalidated\n",
            "Mol 7, Property Validated\n",
            "Predicted Properties=\n",
            "2.9883692 0.7981153 2.6087403\n",
            "Mol 7 None, invalid SMILES\n",
            "Mol 8, Property Validated\n",
            "Predicted Properties=\n",
            "2.174882 0.7117455 3.600708\n",
            "Mol 8 None, invalid SMILES\n",
            "Mol 9, Property Validated\n",
            "Predicted Properties=\n",
            "1.7784011 0.78228354 3.243527\n",
            "Mol 9 None, invalid SMILES\n",
            "Mol 10, Property Invalidated\n"
          ],
          "name": "stdout"
        },
        {
          "output_type": "stream",
          "text": [
            "RDKit ERROR: [13:24:20] SMILES Parse Error: syntax error while parsing: CC(C)[CCN1(1NC(@@)c1Cc[(O)CC=O)21ccccc2)cc\n",
            "RDKit ERROR: 1C\n",
            "RDKit ERROR: [13:24:20] SMILES Parse Error: Failed parsing SMILES 'CC(C)[CCN1(1NC(@@)c1Cc[(O)CC=O)21ccccc2)cc\n",
            "RDKit ERROR: 1C' for input: 'CC(C)[CCN1(1NC(@@)c1Cc[(O)CC=O)21ccccc2)cc\n",
            "RDKit ERROR: 1C'\n",
            "RDKit ERROR: [13:24:20] SMILES Parse Error: syntax error while parsing: CCOc1(1Ccc(C(=O)NHc1ccc(ccCnCC)N)C1=C\n",
            "RDKit ERROR: 2\n",
            "RDKit ERROR: [13:24:20] SMILES Parse Error: Failed parsing SMILES 'CCOc1(1Ccc(C(=O)NHc1ccc(ccCnCC)N)C1=C\n",
            "RDKit ERROR: 2' for input: 'CCOc1(1Ccc(C(=O)NHc1ccc(ccCnCC)N)C1=C\n",
            "RDKit ERROR: 2'\n",
            "RDKit ERROR: [13:24:20] SMILES Parse Error: syntax error while parsing: CCC@O)([C@cc1NCC(=O)Nc1CCC(CC)CCc\n",
            "RDKit ERROR: \n",
            "RDKit ERROR: [13:24:20] SMILES Parse Error: Failed parsing SMILES 'CCC@O)([C@cc1NCC(=O)Nc1CCC(CC)CCc\n",
            "RDKit ERROR: ' for input: 'CCC@O)([C@cc1NCC(=O)Nc1CCC(CC)CCc\n",
            "RDKit ERROR: '\n",
            "RDKit ERROR: [13:24:20] SMILES Parse Error: extra close parentheses while parsing: Cc1c)(c)c1ccccCN(CO)NNC(=CCC@]]CC[41@](c()OCc(1\n",
            "RDKit ERROR: \n",
            "RDKit ERROR: [13:24:20] SMILES Parse Error: Failed parsing SMILES 'Cc1c)(c)c1ccccCN(CO)NNC(=CCC@]]CC[41@](c()OCc(1\n",
            "RDKit ERROR: ' for input: 'Cc1c)(c)c1ccccCN(CO)NNC(=CCC@]]CC[41@](c()OCc(1\n",
            "RDKit ERROR: '\n",
            "RDKit ERROR: [13:24:20] SMILES Parse Error: extra close parentheses while parsing: Cc1ccccc)1c1cccCccc3c1[C(C(()c3ccc3\n",
            "RDKit ERROR: [13:24:20] SMILES Parse Error: Failed parsing SMILES 'Cc1ccccc)1c1cccCccc3c1[C(C(()c3ccc3' for input: 'Cc1ccccc)1c1cccCccc3c1[C(C(()c3ccc3'\n",
            "RDKit ERROR: [13:24:20] SMILES Parse Error: syntax error while parsing: Cc1ccc(N(CCC@@(=O)NC[C@@H]3)Cc3ccc2)c1C\n",
            "RDKit ERROR: \n",
            "RDKit ERROR: [13:24:20] SMILES Parse Error: Failed parsing SMILES 'Cc1ccc(N(CCC@@(=O)NC[C@@H]3)Cc3ccc2)c1C\n",
            "RDKit ERROR: ' for input: 'Cc1ccc(N(CCC@@(=O)NC[C@@H]3)Cc3ccc2)c1C\n",
            "RDKit ERROR: '\n",
            "RDKit ERROR: [13:24:20] SMILES Parse Error: syntax error while parsing: COCC@@HC(2Cc(CNC(=O(NO)CCN(O((c)ccc1c)CnC)C21)\n",
            "RDKit ERROR: \n",
            "RDKit ERROR: [13:24:20] SMILES Parse Error: Failed parsing SMILES 'COCC@@HC(2Cc(CNC(=O(NO)CCN(O((c)ccc1c)CnC)C21)\n",
            "RDKit ERROR: ' for input: 'COCC@@HC(2Cc(CNC(=O(NO)CCN(O((c)ccc1c)CnC)C21)\n",
            "RDKit ERROR: '\n"
          ],
          "name": "stderr"
        }
      ]
    },
    {
      "cell_type": "code",
      "metadata": {
        "id": "x-z6JfLGXZ1F"
      },
      "source": [
        ""
      ],
      "execution_count": 35,
      "outputs": []
    },
    {
      "cell_type": "code",
      "metadata": {
        "id": "EdiDr0eRAVaZ"
      },
      "source": [
        ""
      ],
      "execution_count": 35,
      "outputs": []
    },
    {
      "cell_type": "code",
      "metadata": {
        "id": "oV5ydH61AVcv"
      },
      "source": [
        ""
      ],
      "execution_count": 35,
      "outputs": []
    },
    {
      "cell_type": "markdown",
      "metadata": {
        "id": "bq1PCcS6OClp"
      },
      "source": [
        ""
      ]
    }
  ]
}